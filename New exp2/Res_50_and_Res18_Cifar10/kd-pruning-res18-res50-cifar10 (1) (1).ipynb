{
 "cells": [
  {
   "cell_type": "code",
   "execution_count": 1,
   "metadata": {},
   "outputs": [
    {
     "name": "stdout",
     "output_type": "stream",
     "text": [
      "Collecting pandas\n",
      "  Downloading pandas-2.2.3-cp310-cp310-manylinux_2_17_x86_64.manylinux2014_x86_64.whl.metadata (89 kB)\n",
      "\u001b[2K     \u001b[90m━━━━━━━━━━━━━━━━━━━━━━━━━━━━━━━━━━━━━━━━\u001b[0m \u001b[32m89.9/89.9 kB\u001b[0m \u001b[31m4.3 MB/s\u001b[0m eta \u001b[36m0:00:00\u001b[0m\n",
      "\u001b[?25hRequirement already satisfied: numpy>=1.22.4 in /usr/local/lib/python3.10/dist-packages (from pandas) (1.24.1)\n",
      "Requirement already satisfied: python-dateutil>=2.8.2 in /usr/local/lib/python3.10/dist-packages (from pandas) (2.8.2)\n",
      "Collecting pytz>=2020.1 (from pandas)\n",
      "  Downloading pytz-2025.2-py2.py3-none-any.whl.metadata (22 kB)\n",
      "Collecting tzdata>=2022.7 (from pandas)\n",
      "  Downloading tzdata-2025.2-py2.py3-none-any.whl.metadata (1.4 kB)\n",
      "Requirement already satisfied: six>=1.5 in /usr/lib/python3/dist-packages (from python-dateutil>=2.8.2->pandas) (1.16.0)\n",
      "Downloading pandas-2.2.3-cp310-cp310-manylinux_2_17_x86_64.manylinux2014_x86_64.whl (13.1 MB)\n",
      "\u001b[2K   \u001b[90m━━━━━━━━━━━━━━━━━━━━━━━━━━━━━━━━━━━━━━━━\u001b[0m \u001b[32m13.1/13.1 MB\u001b[0m \u001b[31m226.9 MB/s\u001b[0m eta \u001b[36m0:00:00\u001b[0ma \u001b[36m0:00:01\u001b[0m\n",
      "\u001b[?25hDownloading pytz-2025.2-py2.py3-none-any.whl (509 kB)\n",
      "\u001b[2K   \u001b[90m━━━━━━━━━━━━━━━━━━━━━━━━━━━━━━━━━━━━━━━\u001b[0m \u001b[32m509.2/509.2 kB\u001b[0m \u001b[31m166.2 MB/s\u001b[0m eta \u001b[36m0:00:00\u001b[0m\n",
      "\u001b[?25hDownloading tzdata-2025.2-py2.py3-none-any.whl (347 kB)\n",
      "\u001b[2K   \u001b[90m━━━━━━━━━━━━━━━━━━━━━━━━━━━━━━━━━━━━━━━\u001b[0m \u001b[32m347.8/347.8 kB\u001b[0m \u001b[31m137.6 MB/s\u001b[0m eta \u001b[36m0:00:00\u001b[0m\n",
      "\u001b[?25hInstalling collected packages: pytz, tzdata, pandas\n",
      "Successfully installed pandas-2.2.3 pytz-2025.2 tzdata-2025.2\n",
      "\u001b[33mWARNING: Running pip as the 'root' user can result in broken permissions and conflicting behaviour with the system package manager. It is recommended to use a virtual environment instead: https://pip.pypa.io/warnings/venv\u001b[0m\u001b[33m\n",
      "\u001b[0m\n",
      "\u001b[1m[\u001b[0m\u001b[34;49mnotice\u001b[0m\u001b[1;39;49m]\u001b[0m\u001b[39;49m A new release of pip is available: \u001b[0m\u001b[31;49m23.3.1\u001b[0m\u001b[39;49m -> \u001b[0m\u001b[32;49m25.0.1\u001b[0m\n",
      "\u001b[1m[\u001b[0m\u001b[34;49mnotice\u001b[0m\u001b[1;39;49m]\u001b[0m\u001b[39;49m To update, run: \u001b[0m\u001b[32;49mpython -m pip install --upgrade pip\u001b[0m\n"
     ]
    }
   ],
   "source": [
    "!pip install pandas"
   ]
  },
  {
   "cell_type": "code",
   "execution_count": 2,
   "metadata": {},
   "outputs": [
    {
     "name": "stdout",
     "output_type": "stream",
     "text": [
      "PyTorch version: 2.1.0+cu118\n"
     ]
    }
   ],
   "source": [
    "import torch\n",
    "\n",
    "print(\"PyTorch version:\", torch.__version__)\n"
   ]
  },
  {
   "cell_type": "code",
   "execution_count": 3,
   "metadata": {
    "_cell_guid": "b1076dfc-b9ad-4769-8c92-a6c4dae69d19",
    "_uuid": "8f2839f25d086af736a60e9eeb907d3b93b6e0e5"
   },
   "outputs": [],
   "source": [
    "import numpy as np\n",
    "import pandas as pd\n",
    "import os\n",
    "import torch\n",
    "import torch.nn as nn\n",
    "import torch.optim as optim\n",
    "import torchvision.transforms as transforms\n",
    "import torchvision.datasets as datasets\n",
    "from torch.utils.data import DataLoader, random_split\n",
    "import torch.nn.functional as F\n",
    "import torchvision.models as models\n",
    "import time"
   ]
  },
  {
   "cell_type": "code",
   "execution_count": 4,
   "metadata": {},
   "outputs": [],
   "source": [
    "# Set device\n",
    "device = torch.device(\"cuda\" if torch.cuda.is_available() else \"cpu\")"
   ]
  },
  {
   "cell_type": "code",
   "execution_count": 5,
   "metadata": {},
   "outputs": [
    {
     "name": "stdout",
     "output_type": "stream",
     "text": [
      "cuda\n"
     ]
    }
   ],
   "source": [
    "print(device)"
   ]
  },
  {
   "cell_type": "code",
   "execution_count": 6,
   "metadata": {},
   "outputs": [
    {
     "name": "stdout",
     "output_type": "stream",
     "text": [
      "Downloading https://www.cs.toronto.edu/~kriz/cifar-10-python.tar.gz to ./data/cifar-10-python.tar.gz\n"
     ]
    },
    {
     "name": "stderr",
     "output_type": "stream",
     "text": [
      "100.0%\n"
     ]
    },
    {
     "name": "stdout",
     "output_type": "stream",
     "text": [
      "Extracting ./data/cifar-10-python.tar.gz to ./data\n",
      "Files already downloaded and verified\n"
     ]
    }
   ],
   "source": [
    "# Data augmentation for training\n",
    "train_transform = transforms.Compose([\n",
    "    transforms.RandomHorizontalFlip(),  # Randomly flip the image horizontally\n",
    "    transforms.RandomCrop(32, padding=4),  # Randomly crop the image\n",
    "    transforms.Resize(224),  # Resize to 224x224 for ResNet\n",
    "    transforms.ToTensor(),\n",
    "    transforms.Normalize(mean=[0.485, 0.456, 0.406], std=[0.229, 0.224, 0.225])\n",
    "])\n",
    "\n",
    "# No augmentation for validation and test\n",
    "val_test_transform = transforms.Compose([\n",
    "    transforms.Resize(224),  # Resize to 224x224 for ResNet\n",
    "    transforms.ToTensor(),\n",
    "    transforms.Normalize(mean=[0.485, 0.456, 0.406], std=[0.229, 0.224, 0.225])\n",
    "])\n",
    "\n",
    "# Load CIFAR-10 dataset\n",
    "train_val_dataset = datasets.CIFAR10(root='./data', train=True, download=True, transform=train_transform)\n",
    "test_dataset = datasets.CIFAR10(root='./data', train=False, download=True, transform=val_test_transform)\n",
    "\n",
    "# Split train_val_dataset into train and validation sets (80% train, 20% validation)\n",
    "train_size = int(0.8 * len(train_val_dataset))\n",
    "val_size = len(train_val_dataset) - train_size\n",
    "train_dataset, val_dataset = random_split(train_val_dataset, [train_size, val_size])\n",
    "\n",
    "# Apply val_test_transform to the validation set\n",
    "val_dataset.dataset.transform = val_test_transform\n",
    "\n",
    "# Create DataLoaders\n",
    "train_loader = DataLoader(train_dataset, batch_size=128, shuffle=True, num_workers=4)\n",
    "val_loader = DataLoader(val_dataset, batch_size=128, shuffle=False, num_workers=4)\n",
    "test_loader = DataLoader(test_dataset, batch_size=128, shuffle=False, num_workers=4)"
   ]
  },
  {
   "cell_type": "code",
   "execution_count": 7,
   "metadata": {},
   "outputs": [
    {
     "name": "stderr",
     "output_type": "stream",
     "text": [
      "/usr/local/lib/python3.10/dist-packages/torchvision/models/_utils.py:208: UserWarning: The parameter 'pretrained' is deprecated since 0.13 and may be removed in the future, please use 'weights' instead.\n",
      "  warnings.warn(\n",
      "/usr/local/lib/python3.10/dist-packages/torchvision/models/_utils.py:223: UserWarning: Arguments other than a weight enum or `None` for 'weights' are deprecated since 0.13 and may be removed in the future. The current behavior is equivalent to passing `weights=ResNet50_Weights.IMAGENET1K_V1`. You can also use `weights=ResNet50_Weights.DEFAULT` to get the most up-to-date weights.\n",
      "  warnings.warn(msg)\n",
      "Downloading: \"https://download.pytorch.org/models/resnet50-0676ba61.pth\" to /root/.cache/torch/hub/checkpoints/resnet50-0676ba61.pth\n",
      "24.0%IOPub message rate exceeded.\n",
      "The Jupyter server will temporarily stop sending output\n",
      "to the client in order to avoid crashing it.\n",
      "To change this limit, set the config variable\n",
      "`--ServerApp.iopub_msg_rate_limit`.\n",
      "\n",
      "Current values:\n",
      "ServerApp.iopub_msg_rate_limit=1000.0 (msgs/sec)\n",
      "ServerApp.rate_limit_window=3.0 (secs)\n",
      "\n",
      "100.0%\n"
     ]
    }
   ],
   "source": [
    "# Load pretrained ResNet-50 (Teacher Model)\n",
    "teacher = models.resnet50(pretrained=True)\n",
    "\n",
    "# Modify the final fully connected layer for 10 classes (CIFAR-10)\n",
    "teacher.fc = nn.Linear(teacher.fc.in_features, 10)\n",
    "# Move models to device\n",
    "teacher = teacher.to(device)"
   ]
  },
  {
   "cell_type": "code",
   "execution_count": 8,
   "metadata": {},
   "outputs": [
    {
     "data": {
      "text/plain": [
       "<All keys matched successfully>"
      ]
     },
     "execution_count": 8,
     "metadata": {},
     "output_type": "execute_result"
    }
   ],
   "source": [
    "\n",
    "model_path = 'Best_Teacher.pth'\n",
    "# Load the model weights\n",
    "teacher.load_state_dict(torch.load(model_path, map_location=torch.device('cpu')))"
   ]
  },
  {
   "cell_type": "code",
   "execution_count": 9,
   "metadata": {},
   "outputs": [
    {
     "name": "stderr",
     "output_type": "stream",
     "text": [
      "/usr/local/lib/python3.10/dist-packages/torchvision/models/_utils.py:223: UserWarning: Arguments other than a weight enum or `None` for 'weights' are deprecated since 0.13 and may be removed in the future. The current behavior is equivalent to passing `weights=ResNet18_Weights.IMAGENET1K_V1`. You can also use `weights=ResNet18_Weights.DEFAULT` to get the most up-to-date weights.\n",
      "  warnings.warn(msg)\n",
      "Downloading: \"https://download.pytorch.org/models/resnet18-f37072fd.pth\" to /root/.cache/torch/hub/checkpoints/resnet18-f37072fd.pth\n",
      "52.5%IOPub message rate exceeded.\n",
      "The Jupyter server will temporarily stop sending output\n",
      "to the client in order to avoid crashing it.\n",
      "To change this limit, set the config variable\n",
      "`--ServerApp.iopub_msg_rate_limit`.\n",
      "\n",
      "Current values:\n",
      "ServerApp.iopub_msg_rate_limit=1000.0 (msgs/sec)\n",
      "ServerApp.rate_limit_window=3.0 (secs)\n",
      "\n"
     ]
    }
   ],
   "source": [
    "# Load pretrained ResNet-18 (Student Model)\n",
    "student = models.resnet18(pretrained=True)\n",
    "# Modify the final fully connected layer for 10 classes (CIFAR-10)\n",
    "student.fc = nn.Linear(student.fc.in_features, 10)\n",
    "student = student.to(device)"
   ]
  },
  {
   "cell_type": "code",
   "execution_count": 10,
   "metadata": {},
   "outputs": [
    {
     "data": {
      "text/plain": [
       "<All keys matched successfully>"
      ]
     },
     "execution_count": 10,
     "metadata": {},
     "output_type": "execute_result"
    }
   ],
   "source": [
    "\n",
    "model_path = 'student_before_pruning.pth'\n",
    "# Load the model weights\n",
    "student.load_state_dict(torch.load(model_path, map_location=torch.device('cpu')))"
   ]
  },
  {
   "cell_type": "code",
   "execution_count": 11,
   "metadata": {},
   "outputs": [],
   "source": [
    "# Logits normalization function\n",
    "def normalize(logit):\n",
    "    mean = logit.mean(dim=-1, keepdim=True)\n",
    "    stdv = logit.std(dim=-1, keepdim=True)\n",
    "    return (logit - mean) / (1e-7 + stdv)\n"
   ]
  },
  {
   "cell_type": "code",
   "execution_count": 12,
   "metadata": {},
   "outputs": [],
   "source": [
    "# CA-KLD Loss for Classification\n",
    "def cakld_loss(student_logits, teacher_logits, beta_prob):\n",
    "    # Forward KL (student || teacher)\n",
    "    student_log_prob = F.log_softmax(student_logits, dim=1)\n",
    "    teacher_prob = F.softmax(teacher_logits, dim=1)\n",
    "    forward_kl = F.kl_div(student_log_prob, teacher_prob, reduction='batchmean')\n",
    "\n",
    "    # Reverse KL (teacher || student)\n",
    "    teacher_log_prob = F.log_softmax(teacher_logits, dim=1)\n",
    "    student_prob = F.softmax(student_logits, dim=1)\n",
    "    reverse_kl = F.kl_div(teacher_log_prob, student_prob, reduction='batchmean')\n",
    "\n",
    "    # Combined KL loss\n",
    "    kl_loss = beta_prob * reverse_kl + (1 - beta_prob) * forward_kl\n",
    "    return kl_loss\n"
   ]
  },
  {
   "cell_type": "code",
   "execution_count": 13,
   "metadata": {},
   "outputs": [],
   "source": [
    "def evaluate(model, test_loader, device):\n",
    "    model = model.to(device)  # Ensure model is on the correct device\n",
    "    model.eval()\n",
    "    correct = 0\n",
    "    total = 0\n",
    "    with torch.no_grad():\n",
    "        for inputs, labels in test_loader:\n",
    "            inputs, labels = inputs.to(device), labels.to(device)\n",
    "            outputs = model(inputs)\n",
    "            _, predicted = torch.max(outputs.data, 1)\n",
    "            total += labels.size(0)\n",
    "            correct += (predicted == labels).sum().item()\n",
    "    return 100 * correct / total\n"
   ]
  },
  {
   "cell_type": "code",
   "execution_count": 14,
   "metadata": {},
   "outputs": [],
   "source": [
    "def calculate_sparsity(model):\n",
    "    total_zeros = 0\n",
    "    total_params = 0\n",
    "    for name, param in model.named_parameters():\n",
    "        if 'weight' in name:\n",
    "            total_zeros += torch.sum(param == 0).item()\n",
    "            total_params += param.numel()\n",
    "    return total_zeros / total_params"
   ]
  },
  {
   "cell_type": "code",
   "execution_count": 15,
   "metadata": {},
   "outputs": [],
   "source": [
    "import torch\n",
    "import time\n",
    "def measure_inference_time(model, test_loader, num_runs=5):\n",
    "    device = torch.device('cpu')\n",
    "    model.eval()\n",
    "    model.to(device)\n",
    "\n",
    "    # Warm-up (one batch to avoid startup cost)\n",
    "    with torch.no_grad():\n",
    "        for inputs, _ in test_loader:\n",
    "            inputs = inputs.to(device)\n",
    "            _ = model(inputs)\n",
    "            break\n",
    "\n",
    "    total_time = 0\n",
    "    total_images = 0\n",
    "\n",
    "    with torch.no_grad():\n",
    "        for _ in range(num_runs):\n",
    "            for inputs, _ in test_loader:\n",
    "                inputs = inputs.to(device)\n",
    "                batch_size = inputs.size(0)\n",
    "                start_time = time.time()\n",
    "                _ = model(inputs)\n",
    "                end_time = time.time()\n",
    "\n",
    "                total_time += (end_time - start_time)\n",
    "                total_images += batch_size\n",
    "\n",
    "    avg_time_per_image = total_time / total_images\n",
    "    return avg_time_per_image\n"
   ]
  },
  {
   "cell_type": "code",
   "execution_count": 16,
   "metadata": {},
   "outputs": [],
   "source": [
    "def count_parameters(model):\n",
    "    return sum(p.numel() for p in model.parameters())\n",
    "\n",
    "def calculate_model_size(model, filename=\"temp.pth\"):\n",
    "    torch.save(model.state_dict(), filename)\n",
    "    size = os.path.getsize(filename) / (1024 * 1024)  # Size in MB\n",
    "    os.remove(filename)\n",
    "    return size\n",
    "\n",
    "def compare_model_sizes(teacher, student, pruned_student):\n",
    "    # Count parameters\n",
    "    teacher_params = count_parameters(teacher)\n",
    "    student_params = count_parameters(student)\n",
    "    pruned_params = count_parameters(pruned_student)\n",
    "    \n",
    "    # Calculate disk size\n",
    "    teacher_size = calculate_model_size(teacher, \"teacher.pth\")\n",
    "    student_size = calculate_model_size(student, \"student.pth\")\n",
    "    pruned_size = calculate_model_size(pruned_student, \"pruned_student.pth\")\n",
    "    \n",
    "    # Print comparison\n",
    "    print(\"\\n--- Model Size Comparison ---\")\n",
    "    print(f\"Teacher Model: {teacher_params} parameters, {teacher_size:.2f} MB\")\n",
    "    print(f\"Student Model (Before Pruning): {student_params} parameters, {student_size:.2f} MB\")\n",
    "    print(f\"Student Model (After Pruning): {pruned_params} parameters, {pruned_size:.2f} MB\")\n",
    "    \n",
    "    # Calculate compression ratio\n",
    "    compression_ratio = student_size / pruned_size\n",
    "    print(f\"\\nCompression Ratio: {compression_ratio:.2f}x\")"
   ]
  },
  {
   "cell_type": "code",
   "execution_count": 17,
   "metadata": {},
   "outputs": [],
   "source": [
    "def train_model(model, train_loader, val_loader, epochs=10, lr=0.001, patience=3):\n",
    "    criterion = nn.CrossEntropyLoss()\n",
    "    optimizer = optim.SGD(model.parameters(), lr=lr, momentum=0.9)\n",
    "    \n",
    "    best_val_accuracy = 0.0\n",
    "    best_model_state = None\n",
    "    patience_counter = 0  # Counter for early stopping\n",
    "    \n",
    "    for epoch in range(epochs):\n",
    "        print(epoch)\n",
    "        model.train()\n",
    "        running_loss = 0.0\n",
    "        for inputs, labels in train_loader:\n",
    "            inputs, labels = inputs.to(device), labels.to(device)\n",
    "            \n",
    "            optimizer.zero_grad()\n",
    "            outputs = model(inputs)\n",
    "            loss = criterion(outputs, labels)\n",
    "            loss.backward()\n",
    "            optimizer.step()\n",
    "            \n",
    "            running_loss += loss.item()\n",
    "        \n",
    "        # Evaluate on the validation set\n",
    "        val_accuracy = evaluate(model, val_loader, device)\n",
    "        print(f\"Epoch {epoch+1}/{epochs} | Loss: {running_loss/len(train_loader):.4f} | Val Accuracy: {val_accuracy:.2f}%\")\n",
    "        \n",
    "        # Early stopping logic\n",
    "        if val_accuracy > best_val_accuracy:\n",
    "            best_val_accuracy = val_accuracy\n",
    "            best_model_state = model.state_dict()\n",
    "            patience_counter = 0  # Reset patience counter\n",
    "            torch.save(model.state_dict(), 'best_teacher_model.pth')  # Save the best model\n",
    "            print(f\" New best model saved with validation accuracy: {best_val_accuracy:.2f}%\")\n",
    "        else:\n",
    "            patience_counter += 1\n",
    "            print(f\" No improvement in validation accuracy ({patience_counter}/{patience})\")\n",
    "            \n",
    "            # Stop training if no improvement for 'patience' epochs\n",
    "            if patience_counter >= patience:\n",
    "                print(f\"\\nEarly stopping triggered! No improvement for {patience} epochs.\")\n",
    "                break\n",
    "    \n",
    "    # Load the best model state\n",
    "    model.load_state_dict(torch.load('best_teacher_model.pth'))\n",
    "    print(\"\\nLoading the best model for final evaluation.\")\n",
    "    \n",
    "    # Evaluate on the test set\n",
    "    test_accuracy = evaluate(model, test_loader, device)\n",
    "    print(f\"Test Accuracy with Best Model: {test_accuracy:.2f}%\")\n",
    "    \n",
    "    return model\n",
    "\n"
   ]
  },
  {
   "cell_type": "code",
   "execution_count": 37,
   "metadata": {},
   "outputs": [],
   "source": [
    "def compute_gradient_importance(\n",
    "    teacher, student, data_loader, device, temperature=4.0, alpha=0.5, beta_prob=0.5, accumulation_epochs=3\n",
    "):\n",
    "    importance_scores = {}\n",
    "\n",
    "    # Initialize importance score storage for conv layer weights only\n",
    "    for name, param in student.named_parameters():\n",
    "        if 'weight' in name and len(param.shape) == 4:  # Conv weights only\n",
    "            importance_scores[name] = torch.zeros_like(param.data, device=device)\n",
    "\n",
    "    teacher.to(device).eval()\n",
    "    student.to(device).train()\n",
    "\n",
    "    # Add momentum for gradient accumulation smoothing\n",
    "    momentum = 0.9  # Controls exponential moving average\n",
    "    accumulated_batches = 0  # Track for bias correction\n",
    "\n",
    "    for epoch in range(accumulation_epochs):\n",
    "        print(f\"Accumulation Epoch {epoch+1}/{accumulation_epochs}\")\n",
    "        for inputs, labels in data_loader:\n",
    "            inputs, labels = inputs.to(device), labels.to(device)\n",
    "            student.zero_grad()\n",
    "\n",
    "            with torch.no_grad():\n",
    "                teacher_logits = teacher(inputs)\n",
    "\n",
    "            student_logits = student(inputs)\n",
    "\n",
    "            # Temperature scaling\n",
    "            student_logits_temp = student_logits / temperature\n",
    "            teacher_logits_temp = teacher_logits / temperature\n",
    "\n",
    "\n",
    "            # Compute losses\n",
    "            distillation_loss = cakld_loss(student_logits_temp, teacher_logits_temp, beta_prob) * (temperature ** 2)\n",
    "            ce_loss = F.cross_entropy(student_logits, labels)\n",
    "            loss = alpha * distillation_loss + (1 - alpha) * ce_loss\n",
    "\n",
    "            # Modified backward propagation\n",
    "            loss.backward()\n",
    "\n",
    "            # Accumulate importance scores with parameter-gradient product\n",
    "            accumulated_batches += 1\n",
    "            for name, param in student.named_parameters():\n",
    "                if name in importance_scores and param.grad is not None:\n",
    "                    # Key modification: Use parameter-gradient product magnitude\n",
    "                    grad_product = (param.data * param.grad).abs_()\n",
    "                    \n",
    "                    # Exponential moving average with bias correction\n",
    "                    if accumulated_batches == 1:\n",
    "                        importance_scores[name] = grad_product\n",
    "                    else:\n",
    "                        importance_scores[name] = momentum * importance_scores[name] + (1 - momentum) * grad_product\n",
    "\n",
    "    # Apply bias correction for EMA\n",
    "    for name in importance_scores:\n",
    "        importance_scores[name] /= (1 - momentum**accumulated_batches)\n",
    "\n",
    "    return importance_scores"
   ]
  },
  {
   "cell_type": "code",
   "execution_count": 19,
   "metadata": {},
   "outputs": [],
   "source": [
    "def gradient_based_global_prune(model, importance_scores, prune_ratio=0.95):\n",
    "    all_scores = torch.cat([score.flatten() for score in importance_scores.values()])\n",
    "    threshold = torch.topk(all_scores, k=int(prune_ratio * all_scores.numel()), largest=False)[0][-1]\n",
    "\n",
    "    for name, param in model.named_parameters():\n",
    "        if name in importance_scores:\n",
    "            mask = (importance_scores[name] > threshold).float()\n",
    "            param.data.mul_(mask)\n",
    "\n",
    "    return model\n"
   ]
  },
  {
   "cell_type": "code",
   "execution_count": 20,
   "metadata": {},
   "outputs": [],
   "source": [
    "import torch\n",
    "import torch.nn.functional as F\n",
    "import torch.optim as optim\n",
    "\n",
    "import torch\n",
    "import torch.nn as nn\n",
    "import torch.optim as optim\n",
    "import torch.nn.functional as F\n",
    "\n",
    "def retrain_with_sparsity(student, train_loader, val_loader, epochs=5, save_path=\"retrained_student_model.pt\", patience=3):\n",
    "    device = torch.device(\"cuda\" if torch.cuda.is_available() else \"cpu\")\n",
    "    optimizer = optim.SGD(student.parameters(), lr=0.01, momentum=0.9)\n",
    "\n",
    "    # 1. Store masks AND zero momentum buffers for pruned weights\n",
    "    masks = {}\n",
    "    for name, param in student.named_parameters():\n",
    "        if 'weight' in name and param.dim() == 4:  # Consider only conv layers\n",
    "            mask = (param != 0).float().to(device)\n",
    "            masks[name] = mask\n",
    "            # Zero momentum buffers for pruned weights\n",
    "            if optimizer.state.get(param, None) and 'momentum_buffer' in optimizer.state[param]:\n",
    "                optimizer.state[param]['momentum_buffer'] *= mask\n",
    "\n",
    "    student = student.to(device)\n",
    "    best_val_acc = 0.0\n",
    "    best_model = None\n",
    "    patience_counter = 0  # Counter for early stopping\n",
    "\n",
    "    # 2. Add gradient clipping to prevent NaN\n",
    "    max_grad_norm = 1.0\n",
    "\n",
    "    for epoch in range(epochs):\n",
    "        student.train()\n",
    "        total_loss = 0.0\n",
    "        correct, total = 0, 0\n",
    "\n",
    "        for inputs, labels in train_loader:\n",
    "            inputs, labels = inputs.to(device), labels.to(device)\n",
    "\n",
    "            optimizer.zero_grad()\n",
    "            outputs = student(inputs)\n",
    "            loss = F.cross_entropy(outputs, labels)\n",
    "            loss.backward()\n",
    "\n",
    "            # Apply masks to gradients\n",
    "            for name, param in student.named_parameters():\n",
    "                if name in masks:\n",
    "                    param.grad.data *= masks[name]\n",
    "\n",
    "            # Gradient clipping before optimizer step\n",
    "            torch.nn.utils.clip_grad_norm_(student.parameters(), max_grad_norm)\n",
    "\n",
    "            optimizer.step()\n",
    "\n",
    "            # Reapply masks and update momentum buffers\n",
    "            for name, param in student.named_parameters():\n",
    "                if name in masks:\n",
    "                    param.data *= masks[name]\n",
    "                    if optimizer.state.get(param, None) and 'momentum_buffer' in optimizer.state[param]:\n",
    "                        optimizer.state[param]['momentum_buffer'] *= masks[name]\n",
    "\n",
    "            total_loss += loss.item()\n",
    "            _, predicted = outputs.max(1)\n",
    "            correct += predicted.eq(labels).sum().item()\n",
    "            total += labels.size(0)\n",
    "\n",
    "        train_loss = total_loss / len(train_loader)\n",
    "        train_acc = 100.0 * correct / total\n",
    "\n",
    "        # Validation phase\n",
    "        student.eval()\n",
    "        val_loss, val_correct, val_total = 0.0, 0, 0\n",
    "\n",
    "        with torch.no_grad():\n",
    "            for inputs, labels in val_loader:\n",
    "                inputs, labels = inputs.to(device), labels.to(device)\n",
    "                outputs = student(inputs)\n",
    "                loss = F.cross_entropy(outputs, labels)\n",
    "\n",
    "                val_loss += loss.item()\n",
    "                _, predicted = outputs.max(1)\n",
    "                val_correct += predicted.eq(labels).sum().item()\n",
    "                val_total += labels.size(0)\n",
    "\n",
    "        val_loss /= len(val_loader)\n",
    "        val_acc = 100.0 * val_correct / val_total\n",
    "\n",
    "        # Track best model\n",
    "        if val_acc > best_val_acc:\n",
    "            best_val_acc = val_acc\n",
    "            best_model = student.state_dict()\n",
    "            torch.save(best_model, save_path)\n",
    "            patience_counter = 0  # Reset patience counter\n",
    "            print(f\"New best model saved with Val Accuracy: {best_val_acc:.2f}%\")\n",
    "        else:\n",
    "            patience_counter += 1\n",
    "            if patience_counter >= patience:\n",
    "                print(f\"Early stopping triggered at epoch {epoch+1}. No improvement for {patience} epochs.\")\n",
    "                break  # Stop training\n",
    "\n",
    "        # Print results\n",
    "        sparsity = calculate_sparsity(student)\n",
    "        print(f\"Epoch {epoch+1}/{epochs} | Train Loss: {train_loss:.4f} | Train Acc: {train_acc:.2f}%\")\n",
    "        print(f\"Validation Loss: {val_loss:.4f} | Validation Acc: {val_acc:.2f}% | Sparsity: {sparsity*100:.2f}%\\n\")\n",
    "\n",
    "    print(f\"Best Validation Accuracy: {best_val_acc:.2f}% | Best Model Saved at: {save_path}\")\n",
    "    return student"
   ]
  },
  {
   "cell_type": "code",
   "execution_count": 21,
   "metadata": {},
   "outputs": [],
   "source": [
    "import torch\n",
    "import torch.nn as nn\n",
    "import torch.optim as optim\n",
    "import torch.nn.functional as F\n",
    "import time\n",
    "\n",
    "# KD training with CA-KLD loss and mask-based momentum handling\n",
    "def retrain_with_KD(teacher, student, train_loader, val_loader, epochs=50,\n",
    "                    temperature=5.0, alpha=0.5, beta_prob=0.5, patience=5,\n",
    "                    save_path=\"student_before_pruning.pth\"):\n",
    "\n",
    "    device = torch.device(\"cuda\" if torch.cuda.is_available() else \"cpu\")\n",
    "    optimizer = optim.SGD(student.parameters(), lr=0.01, momentum=0.9)\n",
    "\n",
    "    # 1. Store masks and zero momentum buffers\n",
    "    masks = {}\n",
    "    for name, param in student.named_parameters():\n",
    "        if 'weight' in name and param.dim() == 4:\n",
    "            mask = (param != 0).float().to(device)\n",
    "            masks[name] = mask\n",
    "            if optimizer.state.get(param, None) and 'momentum_buffer' in optimizer.state[param]:\n",
    "                optimizer.state[param]['momentum_buffer'] *= mask\n",
    "\n",
    "    teacher = teacher.to(device).eval()\n",
    "    student = student.to(device)\n",
    "\n",
    "    best_val_acc = 0.0\n",
    "    best_model_state = None\n",
    "    patience_counter = 0\n",
    "    start_time = time.time()\n",
    "\n",
    "    for epoch in range(epochs):\n",
    "        student.train()\n",
    "        total_loss, correct, total = 0.0, 0, 0\n",
    "\n",
    "        for inputs, labels in train_loader:\n",
    "            inputs, labels = inputs.to(device), labels.to(device)\n",
    "            optimizer.zero_grad()\n",
    "\n",
    "            with torch.no_grad():\n",
    "                teacher_logits = teacher(inputs)\n",
    "\n",
    "            student_logits = student(inputs)\n",
    "\n",
    "            # Apply temperature\n",
    "            teacher_logits_temp = teacher_logits / temperature\n",
    "            student_logits_temp = student_logits / temperature\n",
    "\n",
    "            # Logits normalization\n",
    "            teacher_logits_temp = normalize(teacher_logits_temp)\n",
    "            student_logits_temp = normalize(student_logits_temp)\n",
    "\n",
    "\n",
    "            # CA-KLD loss\n",
    "            kd_loss = cakld_loss(student_logits_temp, teacher_logits_temp, beta_prob) * (temperature ** 2)\n",
    "            ce_loss = F.cross_entropy(student_logits, labels)\n",
    "\n",
    "            loss = alpha * kd_loss + (1 - alpha) * ce_loss\n",
    "            loss.backward()\n",
    "            optimizer.step()\n",
    "\n",
    "            # Reapply masks and update momentum\n",
    "            for name, param in student.named_parameters():\n",
    "                if name in masks:\n",
    "                    param.data *= masks[name]\n",
    "                    if optimizer.state.get(param, None) and 'momentum_buffer' in optimizer.state[param]:\n",
    "                        optimizer.state[param]['momentum_buffer'] *= masks[name]\n",
    "\n",
    "            total_loss += loss.item()\n",
    "            _, predicted = student_logits.max(1)\n",
    "            correct += predicted.eq(labels).sum().item()\n",
    "            total += labels.size(0)\n",
    "\n",
    "        train_loss = total_loss / len(train_loader)\n",
    "        train_acc = 100.0 * correct / total\n",
    "\n",
    "        # Validation\n",
    "        student.eval()\n",
    "        val_loss, val_correct, val_total = 0.0, 0, 0\n",
    "        with torch.no_grad():\n",
    "            for inputs, labels in val_loader:\n",
    "                inputs, labels = inputs.to(device), labels.to(device)\n",
    "                outputs = student(inputs)\n",
    "                loss = F.cross_entropy(outputs, labels)\n",
    "                val_loss += loss.item()\n",
    "                _, predicted = outputs.max(1)\n",
    "                val_correct += predicted.eq(labels).sum().item()\n",
    "                val_total += labels.size(0)\n",
    "\n",
    "        val_loss /= len(val_loader)\n",
    "        val_acc = 100.0 * val_correct / val_total\n",
    "        sparsity = calculate_sparsity(student) * 100.0  # Assuming this function is defined elsewhere\n",
    "\n",
    "        print(f\"Epoch {epoch+1}/{epochs} | Train Loss: {train_loss:.4f} | Train Acc: {train_acc:.2f}% | \"\n",
    "              f\"Val Loss: {val_loss:.4f} | Val Acc: {val_acc:.2f}% | Sparsity: {sparsity:.2f}%\")\n",
    "\n",
    "        # Early stopping logic\n",
    "        if val_acc > best_val_acc:\n",
    "            best_val_acc = val_acc\n",
    "            best_model_state = student.state_dict()\n",
    "            patience_counter = 0\n",
    "        else:\n",
    "            patience_counter += 1\n",
    "            if patience_counter >= patience:\n",
    "                print(f\"Early stopping triggered at epoch {epoch+1}. No improvement for {patience} epochs.\")\n",
    "                break\n",
    "\n",
    "    # Restore and save best model\n",
    "    student.load_state_dict(best_model_state)\n",
    "    torch.save(student.state_dict(), save_path)\n",
    "    print(f\"Student model saved before pruning at: {save_path}\")\n",
    "    total_time = time.time() - start_time\n",
    "    print(f\"Total Training Time: {total_time // 60:.0f}m {total_time % 60:.0f}s\")\n",
    "\n",
    "    return student"
   ]
  },
  {
   "cell_type": "code",
   "execution_count": 22,
   "metadata": {},
   "outputs": [],
   "source": [
    "import time\n",
    "import torch\n",
    "import torch.nn as nn\n",
    "import torch.optim as optim\n",
    "import torch.nn.functional as F\n",
    "from torch.utils.data import DataLoader\n",
    "\n",
    "# Training function with KD + CA-KLD and logits normalization\n",
    "def train_kd_pruning(teacher, student, train_loader, val_loader, epochs=50, temperature=5.0, alpha=0.5,\n",
    "                     beta_prob=0.5, patience=5, save_path=\"student_before_pruning.pth\"):\n",
    "    \n",
    "    device = torch.device(\"cuda\" if torch.cuda.is_available() else \"cpu\")\n",
    "    optimizer = optim.SGD(student.parameters(), lr=0.01, momentum=0.9)\n",
    "\n",
    "    teacher = teacher.to(device)\n",
    "    student = student.to(device)\n",
    "    teacher.eval()  # Freeze teacher\n",
    "\n",
    "    best_val_acc = 0.0\n",
    "    best_model_state = None\n",
    "    patience_counter = 0\n",
    "    start_time = time.time()\n",
    "\n",
    "    for epoch in range(epochs):\n",
    "        student.train()\n",
    "        total_loss = 0.0\n",
    "        correct, total = 0, 0\n",
    "\n",
    "        for inputs, labels in train_loader:\n",
    "            inputs, labels = inputs.to(device), labels.to(device)\n",
    "\n",
    "            with torch.no_grad():\n",
    "                teacher_logits = teacher(inputs)\n",
    "\n",
    "            student_logits = student(inputs)\n",
    "\n",
    "            # Temperature scaling\n",
    "            teacher_logits_temp = teacher_logits / temperature\n",
    "            student_logits_temp = student_logits / temperature\n",
    "\n",
    "            # Logits normalization\n",
    "            teacher_logits_temp = normalize(teacher_logits_temp)\n",
    "            student_logits_temp = normalize(student_logits_temp)\n",
    "\n",
    "            # CA-KLD loss (normalized logits)\n",
    "            distillation_loss = cakld_loss(student_logits_temp, teacher_logits_temp, beta_prob) * (temperature ** 2)\n",
    "\n",
    "            # Cross-entropy loss\n",
    "            ground_truth_loss = F.cross_entropy(student_logits, labels)\n",
    "\n",
    "            # Combined loss\n",
    "            loss = alpha * distillation_loss + (1 - alpha) * ground_truth_loss\n",
    "\n",
    "            optimizer.zero_grad()\n",
    "            loss.backward()\n",
    "            optimizer.step()\n",
    "\n",
    "            total_loss += loss.item()\n",
    "            _, predicted = student_logits.max(1)\n",
    "            correct += predicted.eq(labels).sum().item()\n",
    "            total += labels.size(0)\n",
    "\n",
    "        train_loss = total_loss / len(train_loader)\n",
    "        train_acc = 100.0 * correct / total\n",
    "\n",
    "        # Validation accuracy\n",
    "        val_acc = evaluate(student, val_loader, device)\n",
    "\n",
    "        print(f\"Epoch {epoch+1}/{epochs} | Train Loss: {train_loss:.4f} | \"\n",
    "              f\"Train Acc: {train_acc:.2f}% | Val Acc: {val_acc:.2f}%\")\n",
    "\n",
    "        # Early stopping\n",
    "        if val_acc > best_val_acc:\n",
    "            best_val_acc = val_acc\n",
    "            best_model_state = student.state_dict()\n",
    "            patience_counter = 0\n",
    "        else:\n",
    "            patience_counter += 1\n",
    "            if patience_counter >= patience:\n",
    "                print(f\"Early stopping triggered at epoch {epoch+1}. No improvement for {patience} epochs.\")\n",
    "                break\n",
    "\n",
    "    # Load best model state and save\n",
    "    student.load_state_dict(best_model_state)\n",
    "    torch.save(student.state_dict(), save_path)\n",
    "    print(f\"Student model saved before pruning at: {save_path}\")\n",
    "\n",
    "    total_time = time.time() - start_time\n",
    "    print(f\"Total Training Time: {total_time // 60:.0f}m {total_time % 60:.0f}s\")\n",
    "\n",
    "    return student"
   ]
  },
  {
   "cell_type": "code",
   "execution_count": 21,
   "metadata": {},
   "outputs": [
    {
     "name": "stdout",
     "output_type": "stream",
     "text": [
      "Epoch 1/50 | Train Loss: 2.6007 | Train Acc: 83.86% | Val Acc: 88.68%\n",
      "Epoch 2/50 | Train Loss: 0.8082 | Train Acc: 94.44% | Val Acc: 92.16%\n",
      "Epoch 3/50 | Train Loss: 0.4497 | Train Acc: 97.41% | Val Acc: 94.04%\n",
      "Epoch 4/50 | Train Loss: 0.2881 | Train Acc: 98.71% | Val Acc: 94.84%\n",
      "Epoch 5/50 | Train Loss: 0.2302 | Train Acc: 99.09% | Val Acc: 95.51%\n",
      "Epoch 6/50 | Train Loss: 0.1968 | Train Acc: 99.22% | Val Acc: 95.55%\n",
      "Epoch 7/50 | Train Loss: 0.1769 | Train Acc: 99.28% | Val Acc: 95.57%\n",
      "Epoch 8/50 | Train Loss: 0.1595 | Train Acc: 99.32% | Val Acc: 95.84%\n",
      "Epoch 9/50 | Train Loss: 0.1477 | Train Acc: 99.35% | Val Acc: 96.00%\n",
      "Epoch 10/50 | Train Loss: 0.1395 | Train Acc: 99.33% | Val Acc: 95.79%\n",
      "Epoch 11/50 | Train Loss: 0.1308 | Train Acc: 99.36% | Val Acc: 96.12%\n",
      "Epoch 12/50 | Train Loss: 0.1276 | Train Acc: 99.30% | Val Acc: 95.96%\n",
      "Epoch 13/50 | Train Loss: 0.1185 | Train Acc: 99.39% | Val Acc: 96.05%\n",
      "Epoch 14/50 | Train Loss: 0.1156 | Train Acc: 99.32% | Val Acc: 96.18%\n",
      "Epoch 15/50 | Train Loss: 0.1116 | Train Acc: 99.36% | Val Acc: 96.21%\n",
      "Epoch 16/50 | Train Loss: 0.1061 | Train Acc: 99.36% | Val Acc: 96.16%\n",
      "Epoch 17/50 | Train Loss: 0.1014 | Train Acc: 99.38% | Val Acc: 96.10%\n",
      "Epoch 18/50 | Train Loss: 0.0980 | Train Acc: 99.33% | Val Acc: 96.03%\n",
      "Epoch 19/50 | Train Loss: 0.0943 | Train Acc: 99.36% | Val Acc: 96.15%\n",
      "Epoch 20/50 | Train Loss: 0.0923 | Train Acc: 99.36% | Val Acc: 96.10%\n",
      "Early stopping triggered at epoch 20. No improvement for 5 epochs.\n",
      "Student model saved before pruning at: student_before_pruning.pth\n",
      "Total Training Time: 20m 31s\n"
     ]
    }
   ],
   "source": [
    "\n",
    "student = train_kd_pruning(\n",
    "    teacher, student, train_loader, val_loader,\n",
    "    epochs=50, temperature=5.0, alpha=0.5,beta_prob=0.5, patience=5,save_path=\"student_before_pruning.pth\"\n",
    ")\n"
   ]
  },
  {
   "cell_type": "code",
   "execution_count": 24,
   "metadata": {},
   "outputs": [
    {
     "name": "stdout",
     "output_type": "stream",
     "text": [
      "Sparsity Before Pruning: 0.00%\n",
      "Teacher Model Test Accuracy: 95.40%\n",
      "Student Model Test Accuracy Before Pruning: 95.92%\n"
     ]
    }
   ],
   "source": [
    "# Calculate sparsity\n",
    "sparsity = calculate_sparsity(student)\n",
    "print(f\"Sparsity Before Pruning: {sparsity * 100:.2f}%\")\n",
    "\n",
    "teacher_accuracy = evaluate(teacher, test_loader, device)\n",
    "student_accuracy = evaluate(student, test_loader, device)\n",
    "print(f\"Teacher Model Test Accuracy: {teacher_accuracy:.2f}%\")\n",
    "print(f\"Student Model Test Accuracy Before Pruning: {student_accuracy:.2f}%\")"
   ]
  },
  {
   "cell_type": "markdown",
   "metadata": {},
   "source": [
    "## 93% Sparsity"
   ]
  },
  {
   "cell_type": "code",
   "execution_count": 37,
   "metadata": {},
   "outputs": [
    {
     "data": {
      "text/plain": [
       "<All keys matched successfully>"
      ]
     },
     "execution_count": 37,
     "metadata": {},
     "output_type": "execute_result"
    }
   ],
   "source": [
    "\n",
    "model_path = 'student_before_pruning.pth'\n",
    "# Load the model weights\n",
    "student.load_state_dict(torch.load(model_path, map_location=torch.device('cpu')))"
   ]
  },
  {
   "cell_type": "code",
   "execution_count": 38,
   "metadata": {},
   "outputs": [
    {
     "name": "stdout",
     "output_type": "stream",
     "text": [
      "Calculating Important Scores\n",
      "Accumulation Epoch 1/3\n",
      "Accumulation Epoch 2/3\n",
      "Accumulation Epoch 3/3\n",
      "Total Time take to calculate Important scores: 2m 41s\n",
      "Pruning the model\n",
      "Total Time take to prune the model scores: 0m 0s\n"
     ]
    }
   ],
   "source": [
    "# Pruning\n",
    "print(\"Calculating Important Scores\")\n",
    "start_time = time.time()\n",
    "importance_scores = compute_gradient_importance(\n",
    "    teacher, student, train_loader, device, temperature=5.0, alpha=0.7,beta_prob=0.5, accumulation_epochs=3\n",
    ")\n",
    "total_time = time.time() - start_time\n",
    "print(f\"Total Time take to calculate Important scores: {total_time // 60:.0f}m {total_time % 60:.0f}s\")\n",
    "\n",
    "print(\"Pruning the model\")\n",
    "start_time = time.time()\n",
    "pruned_student = gradient_based_global_prune(student, importance_scores, prune_ratio=0.94)\n",
    "total_time = time.time() - start_time\n",
    "print(f\"Total Time take to prune the model scores: {total_time // 60:.0f}m {total_time % 60:.0f}s\")\n",
    "student = student.to(device)\n"
   ]
  },
  {
   "cell_type": "code",
   "execution_count": 39,
   "metadata": {},
   "outputs": [
    {
     "name": "stdout",
     "output_type": "stream",
     "text": [
      "Student Model Test Accuracy After Pruning: 10.01%\n"
     ]
    }
   ],
   "source": [
    "student_accuracy = evaluate(pruned_student, test_loader, device)\n",
    "print(f\"Student Model Test Accuracy After Pruning: {student_accuracy:.2f}%\")\n"
   ]
  },
  {
   "cell_type": "code",
   "execution_count": 40,
   "metadata": {},
   "outputs": [
    {
     "name": "stdout",
     "output_type": "stream",
     "text": [
      "New best model saved with Val Accuracy: 92.16%\n",
      "Epoch 1/200 | Train Loss: 0.3085 | Train Acc: 90.44%\n",
      "Validation Loss: 0.2557 | Validation Acc: 92.16% | Sparsity: 93.92%\n",
      "\n",
      "New best model saved with Val Accuracy: 92.25%\n",
      "Epoch 2/200 | Train Loss: 0.1190 | Train Acc: 96.02%\n",
      "Validation Loss: 0.2487 | Validation Acc: 92.25% | Sparsity: 93.92%\n",
      "\n",
      "New best model saved with Val Accuracy: 92.75%\n",
      "Epoch 3/200 | Train Loss: 0.0681 | Train Acc: 97.79%\n",
      "Validation Loss: 0.2521 | Validation Acc: 92.75% | Sparsity: 93.92%\n",
      "\n",
      "Epoch 4/200 | Train Loss: 0.0408 | Train Acc: 98.77%\n",
      "Validation Loss: 0.2707 | Validation Acc: 92.47% | Sparsity: 93.92%\n",
      "\n",
      "Epoch 5/200 | Train Loss: 0.0235 | Train Acc: 99.33%\n",
      "Validation Loss: 0.2756 | Validation Acc: 92.61% | Sparsity: 93.92%\n",
      "\n",
      "Epoch 6/200 | Train Loss: 0.0138 | Train Acc: 99.69%\n",
      "Validation Loss: 0.2987 | Validation Acc: 92.55% | Sparsity: 93.92%\n",
      "\n",
      "New best model saved with Val Accuracy: 92.83%\n",
      "Epoch 7/200 | Train Loss: 0.0099 | Train Acc: 99.78%\n",
      "Validation Loss: 0.3030 | Validation Acc: 92.83% | Sparsity: 93.92%\n",
      "\n",
      "New best model saved with Val Accuracy: 92.92%\n",
      "Epoch 8/200 | Train Loss: 0.0065 | Train Acc: 99.86%\n",
      "Validation Loss: 0.3038 | Validation Acc: 92.92% | Sparsity: 93.92%\n",
      "\n",
      "Epoch 9/200 | Train Loss: 0.0052 | Train Acc: 99.92%\n",
      "Validation Loss: 0.3088 | Validation Acc: 92.90% | Sparsity: 93.92%\n",
      "\n",
      "New best model saved with Val Accuracy: 93.04%\n",
      "Epoch 10/200 | Train Loss: 0.0029 | Train Acc: 99.98%\n",
      "Validation Loss: 0.3151 | Validation Acc: 93.04% | Sparsity: 93.92%\n",
      "\n",
      "Epoch 11/200 | Train Loss: 0.0028 | Train Acc: 99.96%\n",
      "Validation Loss: 0.3197 | Validation Acc: 92.88% | Sparsity: 93.92%\n",
      "\n",
      "Epoch 12/200 | Train Loss: 0.0022 | Train Acc: 99.98%\n",
      "Validation Loss: 0.3190 | Validation Acc: 93.03% | Sparsity: 93.92%\n",
      "\n",
      "Epoch 13/200 | Train Loss: 0.0019 | Train Acc: 99.97%\n",
      "Validation Loss: 0.3255 | Validation Acc: 92.96% | Sparsity: 93.92%\n",
      "\n",
      "Epoch 14/200 | Train Loss: 0.0020 | Train Acc: 99.97%\n",
      "Validation Loss: 0.3267 | Validation Acc: 92.86% | Sparsity: 93.92%\n",
      "\n",
      "Early stopping triggered at epoch 15. No improvement for 5 epochs.\n",
      "Best Validation Accuracy: 93.04% | Best Model Saved at: retrained_student_model.pt\n",
      "Retraining completed in 9.07 minutes (544.17 seconds)\n"
     ]
    }
   ],
   "source": [
    "start_time = time.time()\n",
    "retrained_student = retrain_with_sparsity(\n",
    "    pruned_student, train_loader, val_loader,\n",
    "    epochs=200,  save_path='retrained_student_model.pt',patience=5\n",
    ")\n",
    "end_time = time.time()\n",
    "elapsed_time = end_time - start_time\n",
    "\n",
    "print(f\"Retraining completed in {elapsed_time / 60:.2f} minutes ({elapsed_time:.2f} seconds)\")"
   ]
  },
  {
   "cell_type": "code",
   "execution_count": 41,
   "metadata": {},
   "outputs": [
    {
     "name": "stdout",
     "output_type": "stream",
     "text": [
      "Pruned Student Model Test Accuracy(After Retrain): 92.97%\n"
     ]
    }
   ],
   "source": [
    "student_accuracy = evaluate(retrained_student, test_loader, device)\n",
    "print(f\"Pruned Student Model Test Accuracy(After Retrain): {student_accuracy:.2f}%\")"
   ]
  },
  {
   "cell_type": "code",
   "execution_count": 109,
   "metadata": {},
   "outputs": [
    {
     "data": {
      "text/plain": [
       "<All keys matched successfully>"
      ]
     },
     "execution_count": 109,
     "metadata": {},
     "output_type": "execute_result"
    }
   ],
   "source": [
    "\n",
    "model_path = 'student_before_pruning.pth'\n",
    "# Load the model weights\n",
    "student.load_state_dict(torch.load(model_path, map_location=torch.device('cpu')))"
   ]
  },
  {
   "cell_type": "code",
   "execution_count": 110,
   "metadata": {},
   "outputs": [
    {
     "name": "stdout",
     "output_type": "stream",
     "text": [
      "Calculating Important Scores\n",
      "Accumulation Epoch 1/3\n",
      "Accumulation Epoch 2/3\n",
      "Accumulation Epoch 3/3\n",
      "Total Time take to calculate Important scores: 2m 36s\n",
      "Pruning the model\n",
      "Total Time take to prune the model scores: 0m 0s\n"
     ]
    }
   ],
   "source": [
    "# Pruning\n",
    "print(\"Calculating Important Scores\")\n",
    "start_time = time.time()\n",
    "importance_scores = compute_gradient_importance(\n",
    "    teacher, student, train_loader, device, temperature=3.0, alpha=0.7,beta_prob=0.5, accumulation_epochs=3\n",
    ")\n",
    "total_time = time.time() - start_time\n",
    "print(f\"Total Time take to calculate Important scores: {total_time // 60:.0f}m {total_time % 60:.0f}s\")\n",
    "\n",
    "print(\"Pruning the model\")\n",
    "start_time = time.time()\n",
    "pruned_student = gradient_based_global_prune(student, importance_scores, prune_ratio=0.94)\n",
    "total_time = time.time() - start_time\n",
    "print(f\"Total Time take to prune the model scores: {total_time // 60:.0f}m {total_time % 60:.0f}s\")\n",
    "student = student.to(device)\n"
   ]
  },
  {
   "cell_type": "code",
   "execution_count": 111,
   "metadata": {},
   "outputs": [
    {
     "name": "stdout",
     "output_type": "stream",
     "text": [
      "Epoch 1/50 | Train Loss: 0.5364 | Train Acc: 92.82% | Val Loss: 0.1733 | Val Acc: 94.47% | Sparsity: 93.92%\n",
      "Epoch 2/50 | Train Loss: 0.2549 | Train Acc: 96.94% | Val Loss: 0.1414 | Val Acc: 95.69% | Sparsity: 93.92%\n",
      "Epoch 3/50 | Train Loss: 0.1832 | Train Acc: 98.16% | Val Loss: 0.1529 | Val Acc: 95.37% | Sparsity: 93.92%\n",
      "Epoch 4/50 | Train Loss: 0.1452 | Train Acc: 98.83% | Val Loss: 0.1199 | Val Acc: 96.20% | Sparsity: 93.92%\n",
      "Epoch 5/50 | Train Loss: 0.1244 | Train Acc: 99.08% | Val Loss: 0.1234 | Val Acc: 96.14% | Sparsity: 93.92%\n",
      "Epoch 6/50 | Train Loss: 0.1141 | Train Acc: 99.14% | Val Loss: 0.1238 | Val Acc: 96.17% | Sparsity: 93.92%\n",
      "Epoch 7/50 | Train Loss: 0.1071 | Train Acc: 99.20% | Val Loss: 0.1167 | Val Acc: 96.38% | Sparsity: 93.92%\n",
      "Epoch 8/50 | Train Loss: 0.1016 | Train Acc: 99.27% | Val Loss: 0.1148 | Val Acc: 96.34% | Sparsity: 93.92%\n",
      "Epoch 9/50 | Train Loss: 0.0959 | Train Acc: 99.28% | Val Loss: 0.1198 | Val Acc: 96.16% | Sparsity: 93.92%\n",
      "Epoch 10/50 | Train Loss: 0.0920 | Train Acc: 99.29% | Val Loss: 0.1124 | Val Acc: 96.52% | Sparsity: 93.92%\n",
      "Epoch 11/50 | Train Loss: 0.0888 | Train Acc: 99.28% | Val Loss: 0.1151 | Val Acc: 96.53% | Sparsity: 93.92%\n",
      "Epoch 12/50 | Train Loss: 0.0852 | Train Acc: 99.37% | Val Loss: 0.1207 | Val Acc: 96.32% | Sparsity: 93.92%\n",
      "Epoch 13/50 | Train Loss: 0.0834 | Train Acc: 99.26% | Val Loss: 0.1140 | Val Acc: 96.57% | Sparsity: 93.92%\n",
      "Epoch 14/50 | Train Loss: 0.0812 | Train Acc: 99.30% | Val Loss: 0.1148 | Val Acc: 96.50% | Sparsity: 93.92%\n",
      "Epoch 15/50 | Train Loss: 0.0797 | Train Acc: 99.29% | Val Loss: 0.1141 | Val Acc: 96.47% | Sparsity: 93.92%\n",
      "Epoch 16/50 | Train Loss: 0.0770 | Train Acc: 99.33% | Val Loss: 0.1129 | Val Acc: 96.61% | Sparsity: 93.92%\n",
      "Epoch 17/50 | Train Loss: 0.0751 | Train Acc: 99.36% | Val Loss: 0.1108 | Val Acc: 96.62% | Sparsity: 93.92%\n",
      "Epoch 18/50 | Train Loss: 0.0749 | Train Acc: 99.34% | Val Loss: 0.1132 | Val Acc: 96.39% | Sparsity: 93.92%\n",
      "Epoch 19/50 | Train Loss: 0.0723 | Train Acc: 99.36% | Val Loss: 0.1154 | Val Acc: 96.34% | Sparsity: 93.92%\n",
      "Epoch 20/50 | Train Loss: 0.0715 | Train Acc: 99.31% | Val Loss: 0.1155 | Val Acc: 96.41% | Sparsity: 93.92%\n",
      "Epoch 21/50 | Train Loss: 0.0705 | Train Acc: 99.31% | Val Loss: 0.1138 | Val Acc: 96.65% | Sparsity: 93.92%\n",
      "Epoch 22/50 | Train Loss: 0.0690 | Train Acc: 99.34% | Val Loss: 0.1112 | Val Acc: 96.63% | Sparsity: 93.92%\n",
      "Epoch 23/50 | Train Loss: 0.0671 | Train Acc: 99.35% | Val Loss: 0.1127 | Val Acc: 96.51% | Sparsity: 93.92%\n",
      "Epoch 24/50 | Train Loss: 0.0652 | Train Acc: 99.35% | Val Loss: 0.1138 | Val Acc: 96.53% | Sparsity: 93.92%\n",
      "Epoch 25/50 | Train Loss: 0.0654 | Train Acc: 99.36% | Val Loss: 0.1105 | Val Acc: 96.73% | Sparsity: 93.92%\n",
      "Epoch 26/50 | Train Loss: 0.0648 | Train Acc: 99.33% | Val Loss: 0.1136 | Val Acc: 96.56% | Sparsity: 93.92%\n",
      "Epoch 27/50 | Train Loss: 0.0642 | Train Acc: 99.39% | Val Loss: 0.1138 | Val Acc: 96.49% | Sparsity: 93.92%\n",
      "Epoch 28/50 | Train Loss: 0.0641 | Train Acc: 99.35% | Val Loss: 0.1111 | Val Acc: 96.69% | Sparsity: 93.92%\n",
      "Epoch 29/50 | Train Loss: 0.0617 | Train Acc: 99.34% | Val Loss: 0.1134 | Val Acc: 96.59% | Sparsity: 93.92%\n",
      "Epoch 30/50 | Train Loss: 0.0615 | Train Acc: 99.34% | Val Loss: 0.1102 | Val Acc: 96.58% | Sparsity: 93.92%\n",
      "Early stopping triggered at epoch 30. No improvement for 5 epochs.\n",
      "Student model saved before pruning at: pruned_student_retrain_KD_90%.pth\n",
      "Total Training Time: 28m 57s\n",
      "Retraining completed in 28.95 minutes (1736.71 seconds)\n"
     ]
    }
   ],
   "source": [
    "\n",
    "start_time = time.time()\n",
    "pruned_student = retrain_with_KD(\n",
    "    teacher, pruned_student, train_loader, val_loader,\n",
    "    epochs=50, temperature=3.0, alpha=0.7, beta_prob=0.5,patience=5,save_path=\"pruned_student_retrain_KD_90%.pth\"\n",
    ")\n",
    "end_time = time.time()\n",
    "elapsed_time = end_time - start_time\n",
    "\n",
    "print(f\"Retraining completed in {elapsed_time / 60:.2f} minutes ({elapsed_time:.2f} seconds)\")"
   ]
  },
  {
   "cell_type": "code",
   "execution_count": 48,
   "metadata": {},
   "outputs": [
    {
     "name": "stdout",
     "output_type": "stream",
     "text": [
      "Pruned Student Model Test Accuracy(After Retrain): 94.28%\n"
     ]
    }
   ],
   "source": [
    "student_accuracy = evaluate(pruned_student, test_loader, device)\n",
    "print(f\"Pruned Student Model Test Accuracy(After Retrain): {student_accuracy:.2f}%\")"
   ]
  },
  {
   "cell_type": "code",
   "execution_count": 49,
   "metadata": {},
   "outputs": [
    {
     "data": {
      "text/plain": [
       "<All keys matched successfully>"
      ]
     },
     "execution_count": 49,
     "metadata": {},
     "output_type": "execute_result"
    }
   ],
   "source": [
    "\n",
    "model_path = 'student_before_pruning.pth'\n",
    "# Load the model weights\n",
    "student.load_state_dict(torch.load(model_path, map_location=torch.device('cpu')))"
   ]
  },
  {
   "cell_type": "code",
   "execution_count": 50,
   "metadata": {},
   "outputs": [
    {
     "name": "stdout",
     "output_type": "stream",
     "text": [
      "Calculating Important Scores\n",
      "Accumulation Epoch 1/3\n",
      "Accumulation Epoch 2/3\n",
      "Accumulation Epoch 3/3\n",
      "Total Time take to calculate Important scores: 2m 39s\n",
      "Pruning the model\n",
      "Total Time take to prune the model scores: 0m 0s\n"
     ]
    }
   ],
   "source": [
    "# Pruning\n",
    "print(\"Calculating Important Scores\")\n",
    "start_time = time.time()\n",
    "importance_scores = compute_gradient_importance(\n",
    "    teacher, student, train_loader, device, temperature=5.0, alpha=0.7,beta_prob=0.5, accumulation_epochs=3\n",
    ")\n",
    "total_time = time.time() - start_time\n",
    "print(f\"Total Time take to calculate Important scores: {total_time // 60:.0f}m {total_time % 60:.0f}s\")\n",
    "\n",
    "print(\"Pruning the model\")\n",
    "start_time = time.time()\n",
    "pruned_student = gradient_based_global_prune(student, importance_scores, prune_ratio=0.94)\n",
    "total_time = time.time() - start_time\n",
    "print(f\"Total Time take to prune the model scores: {total_time // 60:.0f}m {total_time % 60:.0f}s\")\n",
    "student = student.to(device)\n"
   ]
  },
  {
   "cell_type": "code",
   "execution_count": 51,
   "metadata": {},
   "outputs": [
    {
     "name": "stdout",
     "output_type": "stream",
     "text": [
      "Epoch 1/50 | Train Loss: 1.8395 | Train Acc: 90.09% | Val Loss: 0.3916 | Val Acc: 90.28% | Sparsity: 93.92%\n",
      "Epoch 2/50 | Train Loss: 0.9744 | Train Acc: 94.80% | Val Loss: 0.3487 | Val Acc: 91.18% | Sparsity: 93.92%\n",
      "Epoch 3/50 | Train Loss: 0.6462 | Train Acc: 96.96% | Val Loss: 0.3394 | Val Acc: 91.62% | Sparsity: 93.92%\n",
      "Epoch 4/50 | Train Loss: 0.4943 | Train Acc: 97.92% | Val Loss: 0.2662 | Val Acc: 93.17% | Sparsity: 93.92%\n",
      "Epoch 5/50 | Train Loss: 0.4059 | Train Acc: 98.45% | Val Loss: 0.2648 | Val Acc: 93.47% | Sparsity: 93.92%\n",
      "Epoch 6/50 | Train Loss: 0.3360 | Train Acc: 98.85% | Val Loss: 0.2153 | Val Acc: 94.02% | Sparsity: 93.92%\n",
      "Epoch 7/50 | Train Loss: 0.2976 | Train Acc: 98.92% | Val Loss: 0.2189 | Val Acc: 94.21% | Sparsity: 93.92%\n",
      "Epoch 8/50 | Train Loss: 0.2742 | Train Acc: 98.96% | Val Loss: 0.2103 | Val Acc: 94.17% | Sparsity: 93.92%\n",
      "Epoch 9/50 | Train Loss: 0.2506 | Train Acc: 99.08% | Val Loss: 0.2095 | Val Acc: 94.39% | Sparsity: 93.92%\n",
      "Epoch 10/50 | Train Loss: 0.2383 | Train Acc: 99.07% | Val Loss: 0.2014 | Val Acc: 94.43% | Sparsity: 93.92%\n",
      "Epoch 11/50 | Train Loss: 0.2227 | Train Acc: 99.06% | Val Loss: 0.2035 | Val Acc: 94.44% | Sparsity: 93.92%\n",
      "Epoch 12/50 | Train Loss: 0.2139 | Train Acc: 99.09% | Val Loss: 0.1866 | Val Acc: 94.73% | Sparsity: 93.92%\n",
      "Epoch 13/50 | Train Loss: 0.2075 | Train Acc: 99.12% | Val Loss: 0.1921 | Val Acc: 94.70% | Sparsity: 93.92%\n",
      "Epoch 14/50 | Train Loss: 0.1966 | Train Acc: 99.11% | Val Loss: 0.1963 | Val Acc: 94.64% | Sparsity: 93.92%\n",
      "Epoch 15/50 | Train Loss: 0.1949 | Train Acc: 99.07% | Val Loss: 0.1879 | Val Acc: 94.73% | Sparsity: 93.92%\n",
      "Epoch 16/50 | Train Loss: 0.1911 | Train Acc: 99.11% | Val Loss: 0.1932 | Val Acc: 94.64% | Sparsity: 93.92%\n",
      "Epoch 17/50 | Train Loss: 0.1800 | Train Acc: 99.12% | Val Loss: 0.1830 | Val Acc: 94.73% | Sparsity: 93.92%\n",
      "Early stopping triggered at epoch 17. No improvement for 5 epochs.\n",
      "Student model saved before pruning at: pruned_student_retrain_KD_90%.pth\n",
      "Total Training Time: 16m 1s\n",
      "Retraining completed in 16.01 minutes (960.78 seconds)\n"
     ]
    }
   ],
   "source": [
    "\n",
    "start_time = time.time()\n",
    "pruned_student = retrain_with_KD(\n",
    "    teacher, pruned_student, train_loader, val_loader,\n",
    "    epochs=50, temperature=5.0, alpha=0.7, beta_prob=0.5,patience=5,save_path=\"pruned_student_retrain_KD_90%.pth\"\n",
    ")\n",
    "end_time = time.time()\n",
    "elapsed_time = end_time - start_time\n",
    "\n",
    "print(f\"Retraining completed in {elapsed_time / 60:.2f} minutes ({elapsed_time:.2f} seconds)\")"
   ]
  },
  {
   "cell_type": "code",
   "execution_count": 52,
   "metadata": {},
   "outputs": [
    {
     "name": "stdout",
     "output_type": "stream",
     "text": [
      "Pruned Student Model Test Accuracy(After Retrain): 94.40%\n"
     ]
    }
   ],
   "source": [
    "student_accuracy = evaluate(pruned_student, test_loader, device)\n",
    "print(f\"Pruned Student Model Test Accuracy(After Retrain): {student_accuracy:.2f}%\")"
   ]
  },
  {
   "cell_type": "markdown",
   "metadata": {},
   "source": [
    "# 97.7 %"
   ]
  },
  {
   "cell_type": "code",
   "execution_count": 25,
   "metadata": {},
   "outputs": [
    {
     "data": {
      "text/plain": [
       "<All keys matched successfully>"
      ]
     },
     "execution_count": 25,
     "metadata": {},
     "output_type": "execute_result"
    }
   ],
   "source": [
    "\n",
    "model_path = 'student_before_pruning.pth'\n",
    "# Load the model weights\n",
    "student.load_state_dict(torch.load(model_path, map_location=torch.device('cpu')))"
   ]
  },
  {
   "cell_type": "code",
   "execution_count": 26,
   "metadata": {},
   "outputs": [
    {
     "name": "stdout",
     "output_type": "stream",
     "text": [
      "Calculating Important Scores\n",
      "Accumulation Epoch 1/3\n",
      "Accumulation Epoch 2/3\n",
      "Accumulation Epoch 3/3\n",
      "Total Time take to calculate Important scores: 2m 20s\n",
      "Pruning the model\n",
      "Total Time take to prune the model scores: 0m 0s\n"
     ]
    }
   ],
   "source": [
    "# Pruning\n",
    "print(\"Calculating Important Scores\")\n",
    "start_time = time.time()\n",
    "importance_scores = compute_gradient_importance(\n",
    "    teacher, student, train_loader, device, temperature=5.0, alpha=0.7,beta_prob=0.5, accumulation_epochs=3\n",
    ")\n",
    "total_time = time.time() - start_time\n",
    "print(f\"Total Time take to calculate Important scores: {total_time // 60:.0f}m {total_time % 60:.0f}s\")\n",
    "\n",
    "print(\"Pruning the model\")\n",
    "start_time = time.time()\n",
    "pruned_student = gradient_based_global_prune(student, importance_scores, prune_ratio=0.9779)\n",
    "total_time = time.time() - start_time\n",
    "print(f\"Total Time take to prune the model scores: {total_time // 60:.0f}m {total_time % 60:.0f}s\")\n",
    "student = student.to(device)\n"
   ]
  },
  {
   "cell_type": "code",
   "execution_count": 29,
   "metadata": {},
   "outputs": [
    {
     "name": "stdout",
     "output_type": "stream",
     "text": [
      "Sparsity Before Pruning: 97.70%\n"
     ]
    }
   ],
   "source": [
    "# Calculate sparsity\n",
    "sparsity = calculate_sparsity(student)\n",
    "print(f\"Sparsity Before Pruning: {sparsity * 100:.2f}%\")"
   ]
  },
  {
   "cell_type": "code",
   "execution_count": null,
   "metadata": {},
   "outputs": [],
   "source": [
    "start_time = time.time()\n",
    "retrained_student = retrain_with_sparsity(\n",
    "    pruned_student, train_loader, val_loader,\n",
    "    epochs=200,  save_path='retrained_student_model.pt',patience=7\n",
    ")\n",
    "end_time = time.time()\n",
    "elapsed_time = end_time - start_time\n",
    "\n",
    "print(f\"Retraining completed in {elapsed_time / 60:.2f} minutes ({elapsed_time:.2f} seconds)\")"
   ]
  },
  {
   "cell_type": "code",
   "execution_count": 42,
   "metadata": {},
   "outputs": [
    {
     "data": {
      "text/plain": [
       "<All keys matched successfully>"
      ]
     },
     "execution_count": 42,
     "metadata": {},
     "output_type": "execute_result"
    }
   ],
   "source": [
    "\n",
    "model_path = 'student_before_pruning.pth'\n",
    "# Load the model weights\n",
    "student.load_state_dict(torch.load(model_path, map_location=torch.device('cpu')))"
   ]
  },
  {
   "cell_type": "code",
   "execution_count": 43,
   "metadata": {},
   "outputs": [
    {
     "name": "stdout",
     "output_type": "stream",
     "text": [
      "Calculating Important Scores\n",
      "Accumulation Epoch 1/3\n",
      "Accumulation Epoch 2/3\n",
      "Accumulation Epoch 3/3\n",
      "Total Time take to calculate Important scores: 2m 20s\n",
      "Pruning the model\n",
      "Total Time take to prune the model scores: 0m 0s\n"
     ]
    }
   ],
   "source": [
    "# Pruning\n",
    "print(\"Calculating Important Scores\")\n",
    "start_time = time.time()\n",
    "importance_scores = compute_gradient_importance(\n",
    "    teacher, student, train_loader, device, temperature=5.0, alpha=0.7, accumulation_epochs=3\n",
    ")\n",
    "total_time = time.time() - start_time\n",
    "print(f\"Total Time take to calculate Important scores: {total_time // 60:.0f}m {total_time % 60:.0f}s\")\n",
    "\n",
    "print(\"Pruning the model\")\n",
    "start_time = time.time()\n",
    "\n",
    "pruned_student = gradient_based_global_prune(student, importance_scores, prune_ratio=0.9779)\n",
    "\n",
    "total_time = time.time() - start_time\n",
    "print(f\"Total Time take to prune the model scores: {total_time // 60:.0f}m {total_time % 60:.0f}s\")\n",
    "student = student.to(device)\n"
   ]
  },
  {
   "cell_type": "code",
   "execution_count": null,
   "metadata": {},
   "outputs": [
    {
     "name": "stdout",
     "output_type": "stream",
     "text": [
      "Epoch 1/50 | Train Loss: 3.9455 | Train Acc: 79.70% | Val Loss: 0.5662 | Val Acc: 85.19% | Sparsity: 97.70%\n",
      "Epoch 2/50 | Train Loss: 1.9935 | Train Acc: 89.17% | Val Loss: 0.4604 | Val Acc: 87.81% | Sparsity: 97.70%\n",
      "Epoch 3/50 | Train Loss: 1.5562 | Train Acc: 91.60% | Val Loss: 0.4667 | Val Acc: 88.36% | Sparsity: 97.70%\n",
      "Epoch 4/50 | Train Loss: 1.2685 | Train Acc: 93.18% | Val Loss: 0.3882 | Val Acc: 90.05% | Sparsity: 97.70%\n",
      "Epoch 5/50 | Train Loss: 1.0350 | Train Acc: 94.63% | Val Loss: 0.4008 | Val Acc: 89.97% | Sparsity: 97.70%\n",
      "Epoch 6/50 | Train Loss: 0.8861 | Train Acc: 95.70% | Val Loss: 0.3448 | Val Acc: 91.32% | Sparsity: 97.70%\n",
      "Epoch 7/50 | Train Loss: 0.7841 | Train Acc: 96.37% | Val Loss: 0.3573 | Val Acc: 90.86% | Sparsity: 97.70%\n",
      "Epoch 8/50 | Train Loss: 0.6875 | Train Acc: 96.89% | Val Loss: 0.2956 | Val Acc: 92.12% | Sparsity: 97.70%\n",
      "Epoch 9/50 | Train Loss: 0.6120 | Train Acc: 97.36% | Val Loss: 0.3238 | Val Acc: 90.97% | Sparsity: 97.70%\n",
      "Epoch 10/50 | Train Loss: 0.5505 | Train Acc: 97.78% | Val Loss: 0.3210 | Val Acc: 91.47% | Sparsity: 97.70%\n",
      "Epoch 11/50 | Train Loss: 0.5015 | Train Acc: 98.10% | Val Loss: 0.2666 | Val Acc: 92.72% | Sparsity: 97.70%\n",
      "Epoch 12/50 | Train Loss: 0.4435 | Train Acc: 98.36% | Val Loss: 0.2786 | Val Acc: 92.11% | Sparsity: 97.70%\n",
      "Epoch 13/50 | Train Loss: 0.4031 | Train Acc: 98.67% | Val Loss: 0.2816 | Val Acc: 92.37% | Sparsity: 97.70%\n",
      "Epoch 14/50 | Train Loss: 0.3646 | Train Acc: 98.79% | Val Loss: 0.2646 | Val Acc: 92.83% | Sparsity: 97.70%\n",
      "Epoch 15/50 | Train Loss: 0.3409 | Train Acc: 98.94% | Val Loss: 0.2713 | Val Acc: 92.64% | Sparsity: 97.70%\n",
      "Epoch 16/50 | Train Loss: 0.3246 | Train Acc: 98.92% | Val Loss: 0.2517 | Val Acc: 92.93% | Sparsity: 97.70%\n",
      "Epoch 17/50 | Train Loss: 0.3131 | Train Acc: 98.91% | Val Loss: 0.2431 | Val Acc: 92.84% | Sparsity: 97.70%\n",
      "Epoch 18/50 | Train Loss: 0.3038 | Train Acc: 99.00% | Val Loss: 0.2498 | Val Acc: 93.10% | Sparsity: 97.70%\n",
      "Epoch 19/50 | Train Loss: 0.2886 | Train Acc: 98.98% | Val Loss: 0.2498 | Val Acc: 93.05% | Sparsity: 97.70%\n",
      "Epoch 20/50 | Train Loss: 0.2865 | Train Acc: 98.94% | Val Loss: 0.2542 | Val Acc: 92.77% | Sparsity: 97.70%\n",
      "Epoch 21/50 | Train Loss: 0.2818 | Train Acc: 99.00% | Val Loss: 0.2559 | Val Acc: 92.82% | Sparsity: 97.70%\n",
      "Epoch 22/50 | Train Loss: 0.2721 | Train Acc: 99.03% | Val Loss: 0.2468 | Val Acc: 92.83% | Sparsity: 97.70%\n"
     ]
    }
   ],
   "source": [
    "\n",
    "start_time = time.time()\n",
    "pruned_student = retrain_with_KD(\n",
    "    teacher, pruned_student, train_loader, val_loader,\n",
    "    epochs=50, temperature=5.0, alpha=0.7, beta_prob=0.5,patience=5,save_path=\"pruned_student_retrain_KD_90%.pth\"\n",
    ")\n",
    "end_time = time.time()\n",
    "elapsed_time = end_time - start_time\n",
    "\n",
    "print(f\"Retraining completed in {elapsed_time / 60:.2f} minutes ({elapsed_time:.2f} seconds)\")"
   ]
  },
  {
   "cell_type": "code",
   "execution_count": null,
   "metadata": {},
   "outputs": [],
   "source": [
    "student_accuracy = evaluate(pruned_student, test_loader, device)\n",
    "print(f\"Pruned Student Model Test Accuracy(After Retrain): {student_accuracy:.2f}%\")"
   ]
  },
  {
   "cell_type": "code",
   "execution_count": 38,
   "metadata": {},
   "outputs": [
    {
     "data": {
      "text/plain": [
       "<All keys matched successfully>"
      ]
     },
     "execution_count": 38,
     "metadata": {},
     "output_type": "execute_result"
    }
   ],
   "source": [
    "\n",
    "model_path = 'student_before_pruning.pth'\n",
    "# Load the model weights\n",
    "student.load_state_dict(torch.load(model_path, map_location=torch.device('cpu')))"
   ]
  },
  {
   "cell_type": "code",
   "execution_count": 39,
   "metadata": {},
   "outputs": [
    {
     "name": "stdout",
     "output_type": "stream",
     "text": [
      "Calculating Important Scores\n",
      "Accumulation Epoch 1/3\n",
      "Accumulation Epoch 2/3\n",
      "Accumulation Epoch 3/3\n",
      "Total Time take to calculate Important scores: 2m 18s\n",
      "Pruning the model\n",
      "Total Time take to prune the model scores: 0m 0s\n"
     ]
    }
   ],
   "source": [
    "# Pruning\n",
    "print(\"Calculating Important Scores\")\n",
    "start_time = time.time()\n",
    "importance_scores = compute_gradient_importance(\n",
    "    teacher, student, train_loader, device, temperature=3.0, alpha=0.7, accumulation_epochs=3\n",
    ")\n",
    "total_time = time.time() - start_time\n",
    "print(f\"Total Time take to calculate Important scores: {total_time // 60:.0f}m {total_time % 60:.0f}s\")\n",
    "\n",
    "print(\"Pruning the model\")\n",
    "start_time = time.time()\n",
    "\n",
    "pruned_student = gradient_based_global_prune(student, importance_scores, prune_ratio=0.9779)\n",
    "\n",
    "total_time = time.time() - start_time\n",
    "print(f\"Total Time take to prune the model scores: {total_time // 60:.0f}m {total_time % 60:.0f}s\")\n",
    "student = student.to(device)\n"
   ]
  },
  {
   "cell_type": "code",
   "execution_count": 40,
   "metadata": {},
   "outputs": [
    {
     "name": "stdout",
     "output_type": "stream",
     "text": [
      "Epoch 1/50 | Train Loss: 1.4256 | Train Acc: 81.53% | Val Loss: 0.4337 | Val Acc: 86.70% | Sparsity: 97.70%\n",
      "Epoch 2/50 | Train Loss: 0.6068 | Train Acc: 91.63% | Val Loss: 0.3076 | Val Acc: 90.63% | Sparsity: 97.70%\n",
      "Epoch 3/50 | Train Loss: 0.4503 | Train Acc: 94.19% | Val Loss: 0.3068 | Val Acc: 91.07% | Sparsity: 97.70%\n",
      "Epoch 4/50 | Train Loss: 0.3710 | Train Acc: 95.13% | Val Loss: 0.2788 | Val Acc: 91.44% | Sparsity: 97.70%\n",
      "Epoch 5/50 | Train Loss: 0.3046 | Train Acc: 96.40% | Val Loss: 0.2551 | Val Acc: 92.38% | Sparsity: 97.70%\n",
      "Epoch 6/50 | Train Loss: 0.2502 | Train Acc: 97.30% | Val Loss: 0.2291 | Val Acc: 92.75% | Sparsity: 97.70%\n",
      "Epoch 7/50 | Train Loss: 0.2216 | Train Acc: 97.88% | Val Loss: 0.2494 | Val Acc: 92.40% | Sparsity: 97.70%\n",
      "Epoch 8/50 | Train Loss: 0.1918 | Train Acc: 98.30% | Val Loss: 0.2584 | Val Acc: 92.14% | Sparsity: 97.70%\n",
      "Epoch 9/50 | Train Loss: 0.1832 | Train Acc: 98.44% | Val Loss: 0.2586 | Val Acc: 92.54% | Sparsity: 97.70%\n",
      "Epoch 10/50 | Train Loss: 0.1639 | Train Acc: 98.70% | Val Loss: 0.2516 | Val Acc: 92.28% | Sparsity: 97.70%\n",
      "Epoch 11/50 | Train Loss: 0.1535 | Train Acc: 98.81% | Val Loss: 0.2509 | Val Acc: 92.45% | Sparsity: 97.70%\n",
      "Early stopping triggered at epoch 11. No improvement for 5 epochs.\n",
      "Student model saved before pruning at: pruned_student_retrain_KD_90%.pth\n",
      "Total Training Time: 9m 12s\n",
      "Retraining completed in 9.21 minutes (552.47 seconds)\n"
     ]
    }
   ],
   "source": [
    "\n",
    "start_time = time.time()\n",
    "pruned_student = retrain_with_KD(\n",
    "    teacher, pruned_student, train_loader, val_loader,\n",
    "    epochs=50, temperature=3.0, alpha=0.7, beta_prob=0.5,patience=5,save_path=\"pruned_student_retrain_KD_90%.pth\"\n",
    ")\n",
    "end_time = time.time()\n",
    "elapsed_time = end_time - start_time\n",
    "\n",
    "print(f\"Retraining completed in {elapsed_time / 60:.2f} minutes ({elapsed_time:.2f} seconds)\")"
   ]
  },
  {
   "cell_type": "code",
   "execution_count": 41,
   "metadata": {},
   "outputs": [
    {
     "name": "stdout",
     "output_type": "stream",
     "text": [
      "Pruned Student Model Test Accuracy(After Retrain): 91.29%\n"
     ]
    }
   ],
   "source": [
    "student_accuracy = evaluate(pruned_student, test_loader, device)\n",
    "print(f\"Pruned Student Model Test Accuracy(After Retrain): {student_accuracy:.2f}%\")"
   ]
  },
  {
   "cell_type": "code",
   "execution_count": null,
   "metadata": {},
   "outputs": [],
   "source": []
  },
  {
   "cell_type": "code",
   "execution_count": null,
   "metadata": {},
   "outputs": [],
   "source": []
  },
  {
   "cell_type": "markdown",
   "metadata": {},
   "source": [
    "# 98% of Sparsity"
   ]
  },
  {
   "cell_type": "code",
   "execution_count": null,
   "metadata": {},
   "outputs": [],
   "source": []
  },
  {
   "cell_type": "code",
   "execution_count": 31,
   "metadata": {},
   "outputs": [
    {
     "data": {
      "text/plain": [
       "<All keys matched successfully>"
      ]
     },
     "execution_count": 31,
     "metadata": {},
     "output_type": "execute_result"
    }
   ],
   "source": [
    "\n",
    "model_path = 'student_before_pruning.pth'\n",
    "# Load the model weights\n",
    "student.load_state_dict(torch.load(model_path, map_location=torch.device('cpu')))"
   ]
  },
  {
   "cell_type": "code",
   "execution_count": 32,
   "metadata": {},
   "outputs": [
    {
     "name": "stdout",
     "output_type": "stream",
     "text": [
      "Calculating Important Scores\n",
      "Accumulation Epoch 1/3\n",
      "Accumulation Epoch 2/3\n",
      "Accumulation Epoch 3/3\n",
      "Total Time take to calculate Important scores: 2m 35s\n",
      "Pruning the model\n",
      "Total Time take to prune the model scores: 0m 0s\n"
     ]
    }
   ],
   "source": [
    "# Pruning\n",
    "print(\"Calculating Important Scores\")\n",
    "start_time = time.time()\n",
    "importance_scores = compute_gradient_importance(\n",
    "    teacher, student, train_loader, device, temperature=5.0, alpha=0.7,beta_prob=0.5, accumulation_epochs=3\n",
    ")\n",
    "total_time = time.time() - start_time\n",
    "print(f\"Total Time take to calculate Important scores: {total_time // 60:.0f}m {total_time % 60:.0f}s\")\n",
    "\n",
    "print(\"Pruning the model\")\n",
    "start_time = time.time()\n",
    "pruned_student = gradient_based_global_prune(student, importance_scores, prune_ratio=0.985)\n",
    "total_time = time.time() - start_time\n",
    "print(f\"Total Time take to prune the model scores: {total_time // 60:.0f}m {total_time % 60:.0f}s\")\n",
    "student = student.to(device)\n"
   ]
  },
  {
   "cell_type": "code",
   "execution_count": 33,
   "metadata": {},
   "outputs": [
    {
     "name": "stdout",
     "output_type": "stream",
     "text": [
      "New best model saved with Val Accuracy: 76.94%\n",
      "Epoch 1/200 | Train Loss: 1.2940 | Train Acc: 54.71%\n",
      "Validation Loss: 0.6902 | Validation Acc: 76.94% | Sparsity: 98.41%\n",
      "\n",
      "New best model saved with Val Accuracy: 83.55%\n",
      "Epoch 2/200 | Train Loss: 0.5647 | Train Acc: 80.83%\n",
      "Validation Loss: 0.4949 | Validation Acc: 83.55% | Sparsity: 98.41%\n",
      "\n",
      "New best model saved with Val Accuracy: 85.09%\n",
      "Epoch 3/200 | Train Loss: 0.4149 | Train Acc: 85.82%\n",
      "Validation Loss: 0.4345 | Validation Acc: 85.09% | Sparsity: 98.41%\n",
      "\n",
      "New best model saved with Val Accuracy: 86.22%\n",
      "Epoch 4/200 | Train Loss: 0.3286 | Train Acc: 88.81%\n",
      "Validation Loss: 0.4003 | Validation Acc: 86.22% | Sparsity: 98.41%\n",
      "\n",
      "New best model saved with Val Accuracy: 86.95%\n",
      "Epoch 5/200 | Train Loss: 0.2701 | Train Acc: 90.81%\n",
      "Validation Loss: 0.3871 | Validation Acc: 86.95% | Sparsity: 98.41%\n",
      "\n",
      "New best model saved with Val Accuracy: 87.27%\n",
      "Epoch 6/200 | Train Loss: 0.2230 | Train Acc: 92.40%\n",
      "Validation Loss: 0.3859 | Validation Acc: 87.27% | Sparsity: 98.41%\n",
      "\n",
      "New best model saved with Val Accuracy: 87.61%\n",
      "Epoch 7/200 | Train Loss: 0.1834 | Train Acc: 93.92%\n",
      "Validation Loss: 0.3782 | Validation Acc: 87.61% | Sparsity: 98.41%\n",
      "\n",
      "New best model saved with Val Accuracy: 87.62%\n",
      "Epoch 8/200 | Train Loss: 0.1496 | Train Acc: 95.01%\n",
      "Validation Loss: 0.3804 | Validation Acc: 87.62% | Sparsity: 98.41%\n",
      "\n",
      "New best model saved with Val Accuracy: 88.01%\n",
      "Epoch 9/200 | Train Loss: 0.1231 | Train Acc: 95.88%\n",
      "Validation Loss: 0.3991 | Validation Acc: 88.01% | Sparsity: 98.41%\n",
      "\n",
      "New best model saved with Val Accuracy: 88.10%\n",
      "Epoch 10/200 | Train Loss: 0.1032 | Train Acc: 96.58%\n",
      "Validation Loss: 0.4093 | Validation Acc: 88.10% | Sparsity: 98.41%\n",
      "\n",
      "Epoch 11/200 | Train Loss: 0.0847 | Train Acc: 97.30%\n",
      "Validation Loss: 0.4347 | Validation Acc: 87.89% | Sparsity: 98.41%\n",
      "\n",
      "Epoch 12/200 | Train Loss: 0.0704 | Train Acc: 97.78%\n",
      "Validation Loss: 0.4707 | Validation Acc: 87.61% | Sparsity: 98.41%\n",
      "\n",
      "Epoch 13/200 | Train Loss: 0.0574 | Train Acc: 98.31%\n",
      "Validation Loss: 0.4443 | Validation Acc: 87.99% | Sparsity: 98.41%\n",
      "\n",
      "Epoch 14/200 | Train Loss: 0.0518 | Train Acc: 98.52%\n",
      "Validation Loss: 0.5013 | Validation Acc: 87.45% | Sparsity: 98.41%\n",
      "\n",
      "Epoch 15/200 | Train Loss: 0.0416 | Train Acc: 98.80%\n",
      "Validation Loss: 0.4762 | Validation Acc: 87.87% | Sparsity: 98.41%\n",
      "\n",
      "Epoch 16/200 | Train Loss: 0.0361 | Train Acc: 98.97%\n",
      "Validation Loss: 0.5067 | Validation Acc: 87.79% | Sparsity: 98.41%\n",
      "\n",
      "Early stopping triggered at epoch 17. No improvement for 7 epochs.\n",
      "Best Validation Accuracy: 88.10% | Best Model Saved at: retrained_student_model.pt\n",
      "Retraining completed in 10.48 minutes (628.66 seconds)\n"
     ]
    }
   ],
   "source": [
    "start_time = time.time()\n",
    "retrained_student = retrain_with_sparsity(\n",
    "    pruned_student, train_loader, val_loader,\n",
    "    epochs=200,  save_path='retrained_student_model.pt',patience=7\n",
    ")\n",
    "end_time = time.time()\n",
    "elapsed_time = end_time - start_time\n",
    "\n",
    "print(f\"Retraining completed in {elapsed_time / 60:.2f} minutes ({elapsed_time:.2f} seconds)\")"
   ]
  },
  {
   "cell_type": "code",
   "execution_count": 34,
   "metadata": {},
   "outputs": [
    {
     "name": "stdout",
     "output_type": "stream",
     "text": [
      "Pruned Student Model Test Accuracy(After Retrain): 86.99%\n"
     ]
    }
   ],
   "source": [
    "student_accuracy = evaluate(retrained_student, test_loader, device)\n",
    "print(f\"Pruned Student Model Test Accuracy(After Retrain): {student_accuracy:.2f}%\")"
   ]
  },
  {
   "cell_type": "code",
   "execution_count": 87,
   "metadata": {},
   "outputs": [
    {
     "name": "stdout",
     "output_type": "stream",
     "text": [
      "Pruned Student Model Inference Time: 1.65 ms per batch\n"
     ]
    }
   ],
   "source": [
    "\n",
    "# pruned_student_inference_time = measure_inference_time(retrained_student, test_loader,)\n",
    "# print(f\"Pruned Student Model Inference Time: {pruned_student_inference_time * 1000:.2f} ms per batch\")\n"
   ]
  },
  {
   "cell_type": "markdown",
   "metadata": {},
   "source": [
    "# Retrained with KD"
   ]
  },
  {
   "cell_type": "code",
   "execution_count": 35,
   "metadata": {},
   "outputs": [
    {
     "data": {
      "text/plain": [
       "<All keys matched successfully>"
      ]
     },
     "execution_count": 35,
     "metadata": {},
     "output_type": "execute_result"
    }
   ],
   "source": [
    "\n",
    "model_path = 'student_before_pruning.pth'\n",
    "# Load the model weights\n",
    "student.load_state_dict(torch.load(model_path, map_location=torch.device('cpu')))"
   ]
  },
  {
   "cell_type": "code",
   "execution_count": 36,
   "metadata": {},
   "outputs": [
    {
     "name": "stdout",
     "output_type": "stream",
     "text": [
      "Student Model Test Accuracy: 95.92%\n"
     ]
    }
   ],
   "source": [
    "student_accuracy = evaluate(student, test_loader, device)\n",
    "print(f\"Student Model Test Accuracy: {student_accuracy:.2f}%\")"
   ]
  },
  {
   "cell_type": "code",
   "execution_count": 37,
   "metadata": {},
   "outputs": [
    {
     "name": "stdout",
     "output_type": "stream",
     "text": [
      "Calculating Important Scores\n",
      "Accumulation Epoch 1/3\n",
      "Accumulation Epoch 2/3\n",
      "Accumulation Epoch 3/3\n",
      "Total Time take to calculate Important scores: 2m 36s\n",
      "Pruning the model\n",
      "Total Time take to prune the model scores: 0m 0s\n"
     ]
    }
   ],
   "source": [
    "# Pruning\n",
    "print(\"Calculating Important Scores\")\n",
    "start_time = time.time()\n",
    "importance_scores = compute_gradient_importance(\n",
    "    teacher, student, train_loader, device, temperature=5.0, alpha=0.7, accumulation_epochs=3\n",
    ")\n",
    "total_time = time.time() - start_time\n",
    "print(f\"Total Time take to calculate Important scores: {total_time // 60:.0f}m {total_time % 60:.0f}s\")\n",
    "\n",
    "print(\"Pruning the model\")\n",
    "start_time = time.time()\n",
    "\n",
    "pruned_student = gradient_based_global_prune(student, importance_scores, prune_ratio=0.985)\n",
    "\n",
    "total_time = time.time() - start_time\n",
    "print(f\"Total Time take to prune the model scores: {total_time // 60:.0f}m {total_time % 60:.0f}s\")\n",
    "student = student.to(device)\n"
   ]
  },
  {
   "cell_type": "code",
   "execution_count": 38,
   "metadata": {},
   "outputs": [
    {
     "name": "stdout",
     "output_type": "stream",
     "text": [
      "Epoch 1/50 | Train Loss: 5.4962 | Train Acc: 72.37% | Val Loss: 1.0768 | Val Acc: 77.60% | Sparsity: 98.41%\n",
      "Epoch 2/50 | Train Loss: 2.6102 | Train Acc: 85.92% | Val Loss: 0.9028 | Val Acc: 81.48% | Sparsity: 98.41%\n",
      "Epoch 3/50 | Train Loss: 2.0182 | Train Acc: 89.03% | Val Loss: 0.6907 | Val Acc: 84.25% | Sparsity: 98.41%\n",
      "Epoch 4/50 | Train Loss: 1.6901 | Train Acc: 90.86% | Val Loss: 0.5981 | Val Acc: 86.98% | Sparsity: 98.41%\n",
      "Epoch 5/50 | Train Loss: 1.4845 | Train Acc: 92.20% | Val Loss: 0.5247 | Val Acc: 87.75% | Sparsity: 98.41%\n",
      "Epoch 6/50 | Train Loss: 1.2893 | Train Acc: 93.29% | Val Loss: 0.5562 | Val Acc: 87.50% | Sparsity: 98.41%\n",
      "Epoch 7/50 | Train Loss: 1.1821 | Train Acc: 94.02% | Val Loss: 0.5146 | Val Acc: 88.33% | Sparsity: 98.41%\n",
      "Epoch 8/50 | Train Loss: 1.0158 | Train Acc: 94.86% | Val Loss: 0.4488 | Val Acc: 89.03% | Sparsity: 98.41%\n",
      "Epoch 9/50 | Train Loss: 0.9443 | Train Acc: 95.42% | Val Loss: 0.5284 | Val Acc: 88.04% | Sparsity: 98.41%\n",
      "Epoch 10/50 | Train Loss: 0.8327 | Train Acc: 96.03% | Val Loss: 0.5565 | Val Acc: 88.08% | Sparsity: 98.41%\n",
      "Epoch 11/50 | Train Loss: 0.7519 | Train Acc: 96.55% | Val Loss: 0.4047 | Val Acc: 89.87% | Sparsity: 98.41%\n",
      "Epoch 12/50 | Train Loss: 0.6943 | Train Acc: 96.97% | Val Loss: 0.4014 | Val Acc: 90.21% | Sparsity: 98.41%\n",
      "Epoch 13/50 | Train Loss: 0.6567 | Train Acc: 97.24% | Val Loss: 0.5032 | Val Acc: 88.54% | Sparsity: 98.41%\n",
      "Epoch 14/50 | Train Loss: 0.5950 | Train Acc: 97.64% | Val Loss: 0.4036 | Val Acc: 90.13% | Sparsity: 98.41%\n",
      "Epoch 15/50 | Train Loss: 0.5419 | Train Acc: 97.98% | Val Loss: 0.4316 | Val Acc: 90.08% | Sparsity: 98.41%\n",
      "Epoch 16/50 | Train Loss: 0.5146 | Train Acc: 98.06% | Val Loss: 0.3933 | Val Acc: 90.23% | Sparsity: 98.41%\n",
      "Epoch 17/50 | Train Loss: 0.4792 | Train Acc: 98.31% | Val Loss: 0.3900 | Val Acc: 90.62% | Sparsity: 98.41%\n",
      "Epoch 18/50 | Train Loss: 0.4494 | Train Acc: 98.52% | Val Loss: 0.3823 | Val Acc: 90.36% | Sparsity: 98.41%\n",
      "Epoch 19/50 | Train Loss: 0.4177 | Train Acc: 98.53% | Val Loss: 0.3729 | Val Acc: 90.89% | Sparsity: 98.41%\n",
      "Epoch 20/50 | Train Loss: 0.4056 | Train Acc: 98.61% | Val Loss: 0.3362 | Val Acc: 90.88% | Sparsity: 98.41%\n",
      "Epoch 21/50 | Train Loss: 0.3804 | Train Acc: 98.77% | Val Loss: 0.4289 | Val Acc: 90.03% | Sparsity: 98.41%\n",
      "Epoch 22/50 | Train Loss: 0.3681 | Train Acc: 98.80% | Val Loss: 0.3690 | Val Acc: 90.88% | Sparsity: 98.41%\n",
      "Epoch 23/50 | Train Loss: 0.3537 | Train Acc: 98.88% | Val Loss: 0.3409 | Val Acc: 91.13% | Sparsity: 98.41%\n",
      "Epoch 24/50 | Train Loss: 0.3541 | Train Acc: 98.89% | Val Loss: 0.3435 | Val Acc: 91.15% | Sparsity: 98.41%\n",
      "Epoch 25/50 | Train Loss: 0.3286 | Train Acc: 98.97% | Val Loss: 0.3677 | Val Acc: 91.13% | Sparsity: 98.41%\n",
      "Epoch 26/50 | Train Loss: 0.3319 | Train Acc: 98.91% | Val Loss: 0.3398 | Val Acc: 91.42% | Sparsity: 98.41%\n",
      "Epoch 27/50 | Train Loss: 0.3194 | Train Acc: 98.90% | Val Loss: 0.3502 | Val Acc: 90.90% | Sparsity: 98.41%\n",
      "Epoch 28/50 | Train Loss: 0.3036 | Train Acc: 98.97% | Val Loss: 0.3427 | Val Acc: 91.00% | Sparsity: 98.41%\n",
      "Epoch 29/50 | Train Loss: 0.2977 | Train Acc: 99.03% | Val Loss: 0.3402 | Val Acc: 91.34% | Sparsity: 98.41%\n",
      "Epoch 30/50 | Train Loss: 0.2966 | Train Acc: 99.03% | Val Loss: 0.3474 | Val Acc: 91.03% | Sparsity: 98.41%\n",
      "Epoch 31/50 | Train Loss: 0.2909 | Train Acc: 99.02% | Val Loss: 0.3449 | Val Acc: 91.13% | Sparsity: 98.41%\n",
      "Epoch 32/50 | Train Loss: 0.2899 | Train Acc: 99.00% | Val Loss: 0.3355 | Val Acc: 91.37% | Sparsity: 98.41%\n",
      "Epoch 33/50 | Train Loss: 0.2809 | Train Acc: 99.00% | Val Loss: 0.3299 | Val Acc: 91.31% | Sparsity: 98.41%\n",
      "Early stopping triggered at epoch 33. No improvement for 7 epochs.\n",
      "Student model saved before pruning at: pruned_student_retrain_KD_90%.pth\n",
      "Total Training Time: 31m 30s\n",
      "Retraining completed in 31.50 minutes (1890.21 seconds)\n"
     ]
    }
   ],
   "source": [
    "\n",
    "start_time = time.time()\n",
    "pruned_student = retrain_with_KD(\n",
    "    teacher, pruned_student, train_loader, val_loader,\n",
    "    epochs=50, temperature=5.0, alpha=0.7, beta_prob=0.5,patience=7,save_path=\"pruned_student_retrain_KD_90%.pth\"\n",
    ")\n",
    "end_time = time.time()\n",
    "elapsed_time = end_time - start_time\n",
    "\n",
    "print(f\"Retraining completed in {elapsed_time / 60:.2f} minutes ({elapsed_time:.2f} seconds)\")"
   ]
  },
  {
   "cell_type": "code",
   "execution_count": 39,
   "metadata": {},
   "outputs": [
    {
     "name": "stdout",
     "output_type": "stream",
     "text": [
      "Pruned Student Model Test Accuracy(Retrain with KD): 90.66%\n"
     ]
    }
   ],
   "source": [
    "student_accuracy = evaluate(pruned_student, test_loader, device)\n",
    "print(f\"Pruned Student Model Test Accuracy(Retrain with KD): {student_accuracy:.2f}%\")"
   ]
  },
  {
   "cell_type": "code",
   "execution_count": 47,
   "metadata": {},
   "outputs": [
    {
     "data": {
      "text/plain": [
       "<All keys matched successfully>"
      ]
     },
     "execution_count": 47,
     "metadata": {},
     "output_type": "execute_result"
    }
   ],
   "source": [
    "\n",
    "model_path = 'student_before_pruning.pth'\n",
    "# Load the model weights\n",
    "student.load_state_dict(torch.load(model_path, map_location=torch.device('cpu')))"
   ]
  },
  {
   "cell_type": "code",
   "execution_count": 48,
   "metadata": {},
   "outputs": [
    {
     "name": "stdout",
     "output_type": "stream",
     "text": [
      "Calculating Important Scores\n",
      "Accumulation Epoch 1/3\n",
      "Accumulation Epoch 2/3\n",
      "Accumulation Epoch 3/3\n",
      "Total Time take to calculate Important scores: 2m 38s\n",
      "Pruning the model\n",
      "Total Time take to prune the model scores: 0m 0s\n"
     ]
    }
   ],
   "source": [
    "# Pruning\n",
    "print(\"Calculating Important Scores\")\n",
    "start_time = time.time()\n",
    "importance_scores = compute_gradient_importance(\n",
    "    teacher, student, train_loader, device, temperature=6.0, alpha=0.7, accumulation_epochs=3\n",
    ")\n",
    "total_time = time.time() - start_time\n",
    "print(f\"Total Time take to calculate Important scores: {total_time // 60:.0f}m {total_time % 60:.0f}s\")\n",
    "\n",
    "print(\"Pruning the model\")\n",
    "start_time = time.time()\n",
    "\n",
    "pruned_student = gradient_based_global_prune(student, importance_scores, prune_ratio=0.985)\n",
    "\n",
    "total_time = time.time() - start_time\n",
    "print(f\"Total Time take to prune the model scores: {total_time // 60:.0f}m {total_time % 60:.0f}s\")\n",
    "student = student.to(device)\n"
   ]
  },
  {
   "cell_type": "code",
   "execution_count": 49,
   "metadata": {},
   "outputs": [
    {
     "name": "stdout",
     "output_type": "stream",
     "text": [
      "Epoch 1/50 | Train Loss: 7.8585 | Train Acc: 71.83% | Val Loss: 1.0331 | Val Acc: 80.50% | Sparsity: 98.41%\n",
      "Epoch 2/50 | Train Loss: 3.9110 | Train Acc: 85.05% | Val Loss: 1.1179 | Val Acc: 80.87% | Sparsity: 98.41%\n",
      "Epoch 3/50 | Train Loss: 3.0821 | Train Acc: 88.15% | Val Loss: 1.1168 | Val Acc: 80.55% | Sparsity: 98.41%\n",
      "Epoch 4/50 | Train Loss: 2.6224 | Train Acc: 89.91% | Val Loss: 0.7715 | Val Acc: 84.41% | Sparsity: 98.41%\n",
      "Epoch 5/50 | Train Loss: 2.2793 | Train Acc: 91.24% | Val Loss: 0.5782 | Val Acc: 87.38% | Sparsity: 98.41%\n",
      "Epoch 6/50 | Train Loss: 1.9656 | Train Acc: 92.64% | Val Loss: 0.5399 | Val Acc: 87.86% | Sparsity: 98.41%\n",
      "Epoch 7/50 | Train Loss: 1.7270 | Train Acc: 93.53% | Val Loss: 0.7195 | Val Acc: 86.16% | Sparsity: 98.41%\n",
      "Epoch 8/50 | Train Loss: 1.5379 | Train Acc: 94.57% | Val Loss: 0.4978 | Val Acc: 89.39% | Sparsity: 98.41%\n",
      "Epoch 9/50 | Train Loss: 1.4292 | Train Acc: 94.94% | Val Loss: 0.5514 | Val Acc: 88.51% | Sparsity: 98.41%\n",
      "Epoch 10/50 | Train Loss: 1.2882 | Train Acc: 95.58% | Val Loss: 0.5662 | Val Acc: 88.41% | Sparsity: 98.41%\n",
      "Epoch 11/50 | Train Loss: 1.1829 | Train Acc: 96.06% | Val Loss: 0.5213 | Val Acc: 88.83% | Sparsity: 98.41%\n",
      "Epoch 12/50 | Train Loss: 1.0712 | Train Acc: 96.53% | Val Loss: 0.4447 | Val Acc: 89.42% | Sparsity: 98.41%\n",
      "Epoch 13/50 | Train Loss: 0.9743 | Train Acc: 96.91% | Val Loss: 0.4177 | Val Acc: 90.04% | Sparsity: 98.41%\n",
      "Epoch 14/50 | Train Loss: 0.9190 | Train Acc: 97.17% | Val Loss: 0.4873 | Val Acc: 89.18% | Sparsity: 98.41%\n",
      "Epoch 15/50 | Train Loss: 0.8531 | Train Acc: 97.49% | Val Loss: 0.5284 | Val Acc: 89.60% | Sparsity: 98.41%\n",
      "Epoch 16/50 | Train Loss: 0.8113 | Train Acc: 97.67% | Val Loss: 0.4656 | Val Acc: 89.18% | Sparsity: 98.41%\n",
      "Epoch 17/50 | Train Loss: 0.7496 | Train Acc: 97.95% | Val Loss: 0.4335 | Val Acc: 89.79% | Sparsity: 98.41%\n",
      "Epoch 18/50 | Train Loss: 0.6729 | Train Acc: 98.26% | Val Loss: 0.4261 | Val Acc: 90.23% | Sparsity: 98.41%\n",
      "Epoch 19/50 | Train Loss: 0.6217 | Train Acc: 98.50% | Val Loss: 0.3719 | Val Acc: 90.72% | Sparsity: 98.41%\n",
      "Epoch 20/50 | Train Loss: 0.5912 | Train Acc: 98.62% | Val Loss: 0.4074 | Val Acc: 90.42% | Sparsity: 98.41%\n",
      "Epoch 21/50 | Train Loss: 0.5659 | Train Acc: 98.63% | Val Loss: 0.3823 | Val Acc: 90.91% | Sparsity: 98.41%\n",
      "Epoch 22/50 | Train Loss: 0.5445 | Train Acc: 98.76% | Val Loss: 0.3847 | Val Acc: 90.79% | Sparsity: 98.41%\n",
      "Epoch 23/50 | Train Loss: 0.5184 | Train Acc: 98.77% | Val Loss: 0.3849 | Val Acc: 90.41% | Sparsity: 98.41%\n",
      "Epoch 24/50 | Train Loss: 0.4943 | Train Acc: 98.83% | Val Loss: 0.3620 | Val Acc: 91.25% | Sparsity: 98.41%\n",
      "Epoch 25/50 | Train Loss: 0.4828 | Train Acc: 98.85% | Val Loss: 0.3929 | Val Acc: 90.43% | Sparsity: 98.41%\n",
      "Epoch 26/50 | Train Loss: 0.4607 | Train Acc: 98.87% | Val Loss: 0.3797 | Val Acc: 90.62% | Sparsity: 98.41%\n",
      "Epoch 27/50 | Train Loss: 0.4547 | Train Acc: 98.90% | Val Loss: 0.3791 | Val Acc: 90.87% | Sparsity: 98.41%\n",
      "Epoch 28/50 | Train Loss: 0.4296 | Train Acc: 98.92% | Val Loss: 0.3434 | Val Acc: 91.43% | Sparsity: 98.41%\n",
      "Epoch 29/50 | Train Loss: 0.4419 | Train Acc: 98.90% | Val Loss: 0.3650 | Val Acc: 90.63% | Sparsity: 98.41%\n",
      "Epoch 30/50 | Train Loss: 0.4294 | Train Acc: 98.92% | Val Loss: 0.3774 | Val Acc: 90.45% | Sparsity: 98.41%\n",
      "Epoch 31/50 | Train Loss: 0.4214 | Train Acc: 98.92% | Val Loss: 0.3373 | Val Acc: 91.24% | Sparsity: 98.41%\n",
      "Epoch 32/50 | Train Loss: 0.4114 | Train Acc: 98.94% | Val Loss: 0.3444 | Val Acc: 91.06% | Sparsity: 98.41%\n",
      "Epoch 33/50 | Train Loss: 0.4114 | Train Acc: 98.91% | Val Loss: 0.3564 | Val Acc: 90.67% | Sparsity: 98.41%\n",
      "Epoch 34/50 | Train Loss: 0.3988 | Train Acc: 98.98% | Val Loss: 0.3355 | Val Acc: 91.29% | Sparsity: 98.41%\n",
      "Epoch 35/50 | Train Loss: 0.3894 | Train Acc: 98.97% | Val Loss: 0.3583 | Val Acc: 90.77% | Sparsity: 98.41%\n",
      "Early stopping triggered at epoch 35. No improvement for 7 epochs.\n",
      "Student model saved before pruning at: pruned_student_retrain_KD_90%.pth\n",
      "Total Training Time: 33m 38s\n",
      "Retraining completed in 33.63 minutes (2017.56 seconds)\n"
     ]
    }
   ],
   "source": [
    "\n",
    "start_time = time.time()\n",
    "pruned_student = retrain_with_KD(\n",
    "    teacher, pruned_student, train_loader, val_loader,\n",
    "    epochs=50, temperature=6.0, alpha=0.7, beta_prob=0.5,patience=7,save_path=\"pruned_student_retrain_KD_90%.pth\"\n",
    ")\n",
    "end_time = time.time()\n",
    "elapsed_time = end_time - start_time\n",
    "\n",
    "print(f\"Retraining completed in {elapsed_time / 60:.2f} minutes ({elapsed_time:.2f} seconds)\")"
   ]
  },
  {
   "cell_type": "code",
   "execution_count": 50,
   "metadata": {},
   "outputs": [
    {
     "name": "stdout",
     "output_type": "stream",
     "text": [
      "Pruned Student Model Test Accuracy(Retrain with KD): 90.42%\n"
     ]
    }
   ],
   "source": [
    "student_accuracy = evaluate(pruned_student, test_loader, device)\n",
    "print(f\"Pruned Student Model Test Accuracy(Retrain with KD): {student_accuracy:.2f}%\")"
   ]
  },
  {
   "cell_type": "code",
   "execution_count": 53,
   "metadata": {},
   "outputs": [
    {
     "data": {
      "text/plain": [
       "<All keys matched successfully>"
      ]
     },
     "execution_count": 53,
     "metadata": {},
     "output_type": "execute_result"
    }
   ],
   "source": [
    "\n",
    "model_path = 'student_before_pruning.pth'\n",
    "# Load the model weights\n",
    "student.load_state_dict(torch.load(model_path, map_location=torch.device('cpu')))"
   ]
  },
  {
   "cell_type": "code",
   "execution_count": 54,
   "metadata": {},
   "outputs": [
    {
     "name": "stdout",
     "output_type": "stream",
     "text": [
      "Calculating Important Scores\n",
      "Accumulation Epoch 1/3\n",
      "Accumulation Epoch 2/3\n",
      "Accumulation Epoch 3/3\n",
      "Total Time take to calculate Important scores: 2m 35s\n",
      "Pruning the model\n",
      "Total Time take to prune the model scores: 0m 0s\n"
     ]
    }
   ],
   "source": [
    "# Pruning\n",
    "print(\"Calculating Important Scores\")\n",
    "start_time = time.time()\n",
    "importance_scores = compute_gradient_importance(\n",
    "    teacher, student, train_loader, device, temperature=3.0, alpha=0.7, accumulation_epochs=3\n",
    ")\n",
    "total_time = time.time() - start_time\n",
    "print(f\"Total Time take to calculate Important scores: {total_time // 60:.0f}m {total_time % 60:.0f}s\")\n",
    "\n",
    "print(\"Pruning the model\")\n",
    "start_time = time.time()\n",
    "\n",
    "pruned_student = gradient_based_global_prune(student, importance_scores, prune_ratio=0.985)\n",
    "\n",
    "total_time = time.time() - start_time\n",
    "print(f\"Total Time take to prune the model scores: {total_time // 60:.0f}m {total_time % 60:.0f}s\")\n",
    "student = student.to(device)\n"
   ]
  },
  {
   "cell_type": "code",
   "execution_count": 55,
   "metadata": {},
   "outputs": [
    {
     "name": "stdout",
     "output_type": "stream",
     "text": [
      "Epoch 1/50 | Train Loss: 1.9873 | Train Acc: 74.02% | Val Loss: 0.4614 | Val Acc: 85.34% | Sparsity: 98.41%\n",
      "Epoch 2/50 | Train Loss: 0.8371 | Train Acc: 88.41% | Val Loss: 0.3861 | Val Acc: 87.88% | Sparsity: 98.41%\n",
      "Epoch 3/50 | Train Loss: 0.6410 | Train Acc: 91.30% | Val Loss: 0.3666 | Val Acc: 88.96% | Sparsity: 98.41%\n",
      "Epoch 4/50 | Train Loss: 0.5248 | Train Acc: 93.02% | Val Loss: 0.3447 | Val Acc: 89.98% | Sparsity: 98.41%\n",
      "Epoch 5/50 | Train Loss: 0.4446 | Train Acc: 94.37% | Val Loss: 0.3315 | Val Acc: 90.31% | Sparsity: 98.41%\n",
      "Epoch 6/50 | Train Loss: 0.3928 | Train Acc: 95.14% | Val Loss: 0.3643 | Val Acc: 89.18% | Sparsity: 98.41%\n",
      "Epoch 7/50 | Train Loss: 0.3485 | Train Acc: 95.89% | Val Loss: 0.3765 | Val Acc: 89.14% | Sparsity: 98.41%\n",
      "Epoch 8/50 | Train Loss: 0.3047 | Train Acc: 96.66% | Val Loss: 0.3309 | Val Acc: 90.34% | Sparsity: 98.41%\n",
      "Epoch 9/50 | Train Loss: 0.2772 | Train Acc: 97.04% | Val Loss: 0.3258 | Val Acc: 90.49% | Sparsity: 98.41%\n",
      "Epoch 10/50 | Train Loss: 0.2414 | Train Acc: 97.67% | Val Loss: 0.3286 | Val Acc: 90.74% | Sparsity: 98.41%\n",
      "Epoch 11/50 | Train Loss: 0.2323 | Train Acc: 97.77% | Val Loss: 0.3269 | Val Acc: 90.58% | Sparsity: 98.41%\n",
      "Epoch 12/50 | Train Loss: 0.2069 | Train Acc: 98.19% | Val Loss: 0.3155 | Val Acc: 91.33% | Sparsity: 98.41%\n",
      "Epoch 13/50 | Train Loss: 0.2069 | Train Acc: 98.11% | Val Loss: 0.3819 | Val Acc: 89.50% | Sparsity: 98.41%\n",
      "Epoch 14/50 | Train Loss: 0.1865 | Train Acc: 98.52% | Val Loss: 0.3111 | Val Acc: 91.10% | Sparsity: 98.41%\n",
      "Epoch 15/50 | Train Loss: 0.1741 | Train Acc: 98.69% | Val Loss: 0.3127 | Val Acc: 91.05% | Sparsity: 98.41%\n",
      "Epoch 16/50 | Train Loss: 0.1614 | Train Acc: 98.87% | Val Loss: 0.2993 | Val Acc: 91.60% | Sparsity: 98.41%\n",
      "Epoch 17/50 | Train Loss: 0.1567 | Train Acc: 98.85% | Val Loss: 0.3146 | Val Acc: 91.39% | Sparsity: 98.41%\n",
      "Epoch 18/50 | Train Loss: 0.1553 | Train Acc: 98.89% | Val Loss: 0.3322 | Val Acc: 91.18% | Sparsity: 98.41%\n",
      "Epoch 19/50 | Train Loss: 0.1467 | Train Acc: 99.04% | Val Loss: 0.2994 | Val Acc: 91.29% | Sparsity: 98.41%\n",
      "Epoch 20/50 | Train Loss: 0.1409 | Train Acc: 99.00% | Val Loss: 0.3122 | Val Acc: 91.42% | Sparsity: 98.41%\n",
      "Epoch 21/50 | Train Loss: 0.1365 | Train Acc: 99.07% | Val Loss: 0.3026 | Val Acc: 91.60% | Sparsity: 98.41%\n",
      "Epoch 22/50 | Train Loss: 0.1322 | Train Acc: 99.12% | Val Loss: 0.2988 | Val Acc: 91.71% | Sparsity: 98.41%\n",
      "Epoch 23/50 | Train Loss: 0.1322 | Train Acc: 99.06% | Val Loss: 0.3003 | Val Acc: 91.32% | Sparsity: 98.41%\n",
      "Epoch 24/50 | Train Loss: 0.1313 | Train Acc: 99.04% | Val Loss: 0.2994 | Val Acc: 91.61% | Sparsity: 98.41%\n",
      "Epoch 25/50 | Train Loss: 0.1263 | Train Acc: 99.10% | Val Loss: 0.2973 | Val Acc: 91.73% | Sparsity: 98.41%\n",
      "Epoch 26/50 | Train Loss: 0.1201 | Train Acc: 99.21% | Val Loss: 0.3002 | Val Acc: 91.28% | Sparsity: 98.41%\n",
      "Epoch 27/50 | Train Loss: 0.1219 | Train Acc: 99.19% | Val Loss: 0.2983 | Val Acc: 91.59% | Sparsity: 98.41%\n",
      "Epoch 28/50 | Train Loss: 0.1205 | Train Acc: 99.16% | Val Loss: 0.3095 | Val Acc: 91.46% | Sparsity: 98.41%\n",
      "Epoch 29/50 | Train Loss: 0.1202 | Train Acc: 99.12% | Val Loss: 0.2974 | Val Acc: 91.61% | Sparsity: 98.41%\n",
      "Epoch 30/50 | Train Loss: 0.1176 | Train Acc: 99.19% | Val Loss: 0.3050 | Val Acc: 91.63% | Sparsity: 98.41%\n",
      "Epoch 31/50 | Train Loss: 0.1152 | Train Acc: 99.16% | Val Loss: 0.3013 | Val Acc: 91.87% | Sparsity: 98.41%\n",
      "Epoch 32/50 | Train Loss: 0.1127 | Train Acc: 99.19% | Val Loss: 0.3070 | Val Acc: 91.89% | Sparsity: 98.41%\n",
      "Epoch 33/50 | Train Loss: 0.1113 | Train Acc: 99.20% | Val Loss: 0.3152 | Val Acc: 91.59% | Sparsity: 98.41%\n",
      "Epoch 34/50 | Train Loss: 0.1108 | Train Acc: 99.21% | Val Loss: 0.3157 | Val Acc: 91.46% | Sparsity: 98.41%\n",
      "Epoch 35/50 | Train Loss: 0.1083 | Train Acc: 99.24% | Val Loss: 0.3135 | Val Acc: 91.64% | Sparsity: 98.41%\n",
      "Epoch 36/50 | Train Loss: 0.1074 | Train Acc: 99.20% | Val Loss: 0.3079 | Val Acc: 91.56% | Sparsity: 98.41%\n",
      "Epoch 37/50 | Train Loss: 0.1066 | Train Acc: 99.15% | Val Loss: 0.3204 | Val Acc: 91.27% | Sparsity: 98.41%\n",
      "Epoch 38/50 | Train Loss: 0.1058 | Train Acc: 99.25% | Val Loss: 0.3146 | Val Acc: 91.66% | Sparsity: 98.41%\n",
      "Epoch 39/50 | Train Loss: 0.1040 | Train Acc: 99.23% | Val Loss: 0.3068 | Val Acc: 91.57% | Sparsity: 98.41%\n",
      "Early stopping triggered at epoch 39. No improvement for 7 epochs.\n",
      "Student model saved before pruning at: pruned_student_retrain_KD_90%.pth\n",
      "Total Training Time: 37m 23s\n",
      "Retraining completed in 37.39 minutes (2243.36 seconds)\n"
     ]
    }
   ],
   "source": [
    "\n",
    "start_time = time.time()\n",
    "pruned_student = retrain_with_KD(\n",
    "    teacher, pruned_student, train_loader, val_loader,\n",
    "    epochs=50, temperature=3.0, alpha=0.7, beta_prob=0.5,patience=7,save_path=\"pruned_student_retrain_KD_90%.pth\"\n",
    ")\n",
    "end_time = time.time()\n",
    "elapsed_time = end_time - start_time\n",
    "\n",
    "print(f\"Retraining completed in {elapsed_time / 60:.2f} minutes ({elapsed_time:.2f} seconds)\")"
   ]
  },
  {
   "cell_type": "code",
   "execution_count": 56,
   "metadata": {},
   "outputs": [
    {
     "name": "stdout",
     "output_type": "stream",
     "text": [
      "Pruned Student Model Test Accuracy(Retrain with KD): 90.79%\n"
     ]
    }
   ],
   "source": [
    "student_accuracy = evaluate(pruned_student, test_loader, device)\n",
    "print(f\"Pruned Student Model Test Accuracy(Retrain with KD): {student_accuracy:.2f}%\")"
   ]
  },
  {
   "cell_type": "markdown",
   "metadata": {},
   "source": [
    "## 90% Sparsity"
   ]
  },
  {
   "cell_type": "code",
   "execution_count": 57,
   "metadata": {},
   "outputs": [
    {
     "data": {
      "text/plain": [
       "<All keys matched successfully>"
      ]
     },
     "execution_count": 57,
     "metadata": {},
     "output_type": "execute_result"
    }
   ],
   "source": [
    "\n",
    "model_path = 'student_before_pruning.pth'\n",
    "# Load the model weights\n",
    "student.load_state_dict(torch.load(model_path, map_location=torch.device('cpu')))"
   ]
  },
  {
   "cell_type": "code",
   "execution_count": 58,
   "metadata": {},
   "outputs": [
    {
     "name": "stdout",
     "output_type": "stream",
     "text": [
      "Calculating Important Scores\n",
      "Accumulation Epoch 1/3\n",
      "Accumulation Epoch 2/3\n",
      "Accumulation Epoch 3/3\n",
      "Total Time take to calculate Important scores: 2m 36s\n",
      "Pruning the model\n",
      "Total Time take to prune the model scores: 0m 0s\n"
     ]
    }
   ],
   "source": [
    "# Pruning\n",
    "print(\"Calculating Important Scores\")\n",
    "start_time = time.time()\n",
    "importance_scores = compute_gradient_importance(\n",
    "    teacher, student, train_loader, device, temperature=5.0, alpha=0.7, accumulation_epochs=3\n",
    ")\n",
    "total_time = time.time() - start_time\n",
    "print(f\"Total Time take to calculate Important scores: {total_time // 60:.0f}m {total_time % 60:.0f}s\")\n",
    "\n",
    "print(\"Pruning the model\")\n",
    "start_time = time.time()\n",
    "\n",
    "pruned_student = gradient_based_global_prune(student, importance_scores, prune_ratio=0.9008)\n",
    "\n",
    "total_time = time.time() - start_time\n",
    "print(f\"Total Time take to prune the model scores: {total_time // 60:.0f}m {total_time % 60:.0f}s\")\n",
    "student = student.to(device)\n"
   ]
  },
  {
   "cell_type": "code",
   "execution_count": 59,
   "metadata": {},
   "outputs": [
    {
     "name": "stdout",
     "output_type": "stream",
     "text": [
      "New best model saved with Val Accuracy: 96.45%\n",
      "Epoch 1/100 | Train Loss: 0.1748 | Train Acc: 94.61%\n",
      "Validation Loss: 0.1067 | Validation Acc: 96.45% | Sparsity: 90.00%\n",
      "\n",
      "New best model saved with Val Accuracy: 96.63%\n",
      "Epoch 2/100 | Train Loss: 0.0704 | Train Acc: 97.73%\n",
      "Validation Loss: 0.1004 | Validation Acc: 96.63% | Sparsity: 90.00%\n",
      "\n",
      "New best model saved with Val Accuracy: 96.65%\n",
      "Epoch 3/100 | Train Loss: 0.0347 | Train Acc: 99.03%\n",
      "Validation Loss: 0.1018 | Validation Acc: 96.65% | Sparsity: 90.00%\n",
      "\n",
      "New best model saved with Val Accuracy: 96.83%\n",
      "Epoch 4/100 | Train Loss: 0.0156 | Train Acc: 99.65%\n",
      "Validation Loss: 0.1068 | Validation Acc: 96.83% | Sparsity: 90.00%\n",
      "\n",
      "New best model saved with Val Accuracy: 96.88%\n",
      "Epoch 5/100 | Train Loss: 0.0091 | Train Acc: 99.82%\n",
      "Validation Loss: 0.1078 | Validation Acc: 96.88% | Sparsity: 90.00%\n",
      "\n",
      "New best model saved with Val Accuracy: 97.04%\n",
      "Epoch 6/100 | Train Loss: 0.0056 | Train Acc: 99.92%\n",
      "Validation Loss: 0.1033 | Validation Acc: 97.04% | Sparsity: 90.00%\n",
      "\n",
      "Epoch 7/100 | Train Loss: 0.0037 | Train Acc: 99.94%\n",
      "Validation Loss: 0.1032 | Validation Acc: 96.89% | Sparsity: 90.00%\n",
      "\n",
      "Epoch 8/100 | Train Loss: 0.0025 | Train Acc: 99.97%\n",
      "Validation Loss: 0.1062 | Validation Acc: 96.98% | Sparsity: 90.00%\n",
      "\n",
      "New best model saved with Val Accuracy: 97.05%\n",
      "Epoch 9/100 | Train Loss: 0.0018 | Train Acc: 99.98%\n",
      "Validation Loss: 0.1086 | Validation Acc: 97.05% | Sparsity: 90.00%\n",
      "\n",
      "Epoch 10/100 | Train Loss: 0.0016 | Train Acc: 99.99%\n",
      "Validation Loss: 0.1082 | Validation Acc: 97.00% | Sparsity: 90.00%\n",
      "\n",
      "Epoch 11/100 | Train Loss: 0.0014 | Train Acc: 99.99%\n",
      "Validation Loss: 0.1163 | Validation Acc: 96.86% | Sparsity: 90.00%\n",
      "\n",
      "Epoch 12/100 | Train Loss: 0.0013 | Train Acc: 100.00%\n",
      "Validation Loss: 0.1107 | Validation Acc: 96.88% | Sparsity: 90.00%\n",
      "\n",
      "Epoch 13/100 | Train Loss: 0.0009 | Train Acc: 100.00%\n",
      "Validation Loss: 0.1111 | Validation Acc: 96.97% | Sparsity: 90.00%\n",
      "\n",
      "New best model saved with Val Accuracy: 97.10%\n",
      "Epoch 14/100 | Train Loss: 0.0009 | Train Acc: 100.00%\n",
      "Validation Loss: 0.1106 | Validation Acc: 97.10% | Sparsity: 90.00%\n",
      "\n",
      "Epoch 15/100 | Train Loss: 0.0006 | Train Acc: 100.00%\n",
      "Validation Loss: 0.1125 | Validation Acc: 97.00% | Sparsity: 90.00%\n",
      "\n",
      "Epoch 16/100 | Train Loss: 0.0007 | Train Acc: 100.00%\n",
      "Validation Loss: 0.1125 | Validation Acc: 96.98% | Sparsity: 90.00%\n",
      "\n",
      "Epoch 17/100 | Train Loss: 0.0006 | Train Acc: 100.00%\n",
      "Validation Loss: 0.1112 | Validation Acc: 97.03% | Sparsity: 90.00%\n",
      "\n",
      "Epoch 18/100 | Train Loss: 0.0007 | Train Acc: 100.00%\n",
      "Validation Loss: 0.1097 | Validation Acc: 96.98% | Sparsity: 90.00%\n",
      "\n",
      "Early stopping triggered at epoch 19. No improvement for 5 epochs.\n",
      "Best Validation Accuracy: 97.10% | Best Model Saved at: retrained_student_model_80.pt\n",
      "Retraining completed in 11.74 minutes (704.11 seconds)\n"
     ]
    }
   ],
   "source": [
    "start_time = time.time()\n",
    "retrained_student = retrain_with_sparsity(\n",
    "    pruned_student, train_loader, val_loader,\n",
    "    epochs=100,  save_path='retrained_student_model_80.pt',patience=5\n",
    ")\n",
    "end_time = time.time()\n",
    "elapsed_time = end_time - start_time\n",
    "\n",
    "print(f\"Retraining completed in {elapsed_time / 60:.2f} minutes ({elapsed_time:.2f} seconds)\")"
   ]
  },
  {
   "cell_type": "code",
   "execution_count": 60,
   "metadata": {},
   "outputs": [
    {
     "name": "stdout",
     "output_type": "stream",
     "text": [
      "Pruned Student Model Test Accuracy(Retrain without KD): 94.12%\n"
     ]
    }
   ],
   "source": [
    "student_accuracy = evaluate(retrained_student, test_loader, device)\n",
    "print(f\"Pruned Student Model Test Accuracy(Retrain without KD): {student_accuracy:.2f}%\")"
   ]
  },
  {
   "cell_type": "code",
   "execution_count": 61,
   "metadata": {},
   "outputs": [
    {
     "data": {
      "text/plain": [
       "<All keys matched successfully>"
      ]
     },
     "execution_count": 61,
     "metadata": {},
     "output_type": "execute_result"
    }
   ],
   "source": [
    "\n",
    "model_path = 'student_before_pruning.pth'\n",
    "# Load the model weights\n",
    "student.load_state_dict(torch.load(model_path, map_location=torch.device('cpu')))"
   ]
  },
  {
   "cell_type": "code",
   "execution_count": 62,
   "metadata": {},
   "outputs": [
    {
     "name": "stdout",
     "output_type": "stream",
     "text": [
      "Calculating Important Scores\n",
      "Accumulation Epoch 1/3\n",
      "Accumulation Epoch 2/3\n",
      "Accumulation Epoch 3/3\n",
      "Total Time take to calculate Important scores: 2m 37s\n",
      "Pruning the model\n",
      "Total Time take to prune the model scores: 0m 0s\n"
     ]
    }
   ],
   "source": [
    "# Pruning\n",
    "print(\"Calculating Important Scores\")\n",
    "start_time = time.time()\n",
    "importance_scores = compute_gradient_importance(\n",
    "    teacher, student, train_loader, device, temperature=5.0, alpha=0.7, accumulation_epochs=3\n",
    ")\n",
    "total_time = time.time() - start_time\n",
    "print(f\"Total Time take to calculate Important scores: {total_time // 60:.0f}m {total_time % 60:.0f}s\")\n",
    "\n",
    "print(\"Pruning the model\")\n",
    "start_time = time.time()\n",
    "\n",
    "pruned_student = gradient_based_global_prune(student, importance_scores, prune_ratio=0.9008)\n",
    "\n",
    "total_time = time.time() - start_time\n",
    "print(f\"Total Time take to prune the model scores: {total_time // 60:.0f}m {total_time % 60:.0f}s\")\n",
    "student = student.to(device)\n"
   ]
  },
  {
   "cell_type": "code",
   "execution_count": 63,
   "metadata": {},
   "outputs": [
    {
     "name": "stdout",
     "output_type": "stream",
     "text": [
      "Epoch 1/50 | Train Loss: 1.2966 | Train Acc: 93.03% | Val Loss: 0.2835 | Val Acc: 92.06% | Sparsity: 90.00%\n",
      "Epoch 2/50 | Train Loss: 0.7213 | Train Acc: 96.45% | Val Loss: 0.2121 | Val Acc: 93.90% | Sparsity: 90.00%\n",
      "Epoch 3/50 | Train Loss: 0.4764 | Train Acc: 97.99% | Val Loss: 0.1292 | Val Acc: 96.30% | Sparsity: 90.00%\n",
      "Epoch 4/50 | Train Loss: 0.3373 | Train Acc: 98.78% | Val Loss: 0.1185 | Val Acc: 96.52% | Sparsity: 90.00%\n",
      "Epoch 5/50 | Train Loss: 0.2940 | Train Acc: 98.89% | Val Loss: 0.1035 | Val Acc: 96.91% | Sparsity: 90.00%\n",
      "Epoch 6/50 | Train Loss: 0.2517 | Train Acc: 99.07% | Val Loss: 0.1107 | Val Acc: 96.72% | Sparsity: 90.00%\n",
      "Epoch 7/50 | Train Loss: 0.2314 | Train Acc: 99.11% | Val Loss: 0.1008 | Val Acc: 97.02% | Sparsity: 90.00%\n",
      "Epoch 8/50 | Train Loss: 0.2172 | Train Acc: 99.11% | Val Loss: 0.0999 | Val Acc: 97.10% | Sparsity: 90.00%\n",
      "Epoch 9/50 | Train Loss: 0.2021 | Train Acc: 99.12% | Val Loss: 0.0945 | Val Acc: 97.04% | Sparsity: 90.00%\n",
      "Epoch 10/50 | Train Loss: 0.1926 | Train Acc: 99.12% | Val Loss: 0.0961 | Val Acc: 96.96% | Sparsity: 90.00%\n",
      "Epoch 11/50 | Train Loss: 0.1874 | Train Acc: 99.09% | Val Loss: 0.0968 | Val Acc: 96.94% | Sparsity: 90.00%\n",
      "Epoch 12/50 | Train Loss: 0.1786 | Train Acc: 99.12% | Val Loss: 0.0945 | Val Acc: 97.14% | Sparsity: 90.00%\n",
      "Epoch 13/50 | Train Loss: 0.1727 | Train Acc: 99.14% | Val Loss: 0.1008 | Val Acc: 96.99% | Sparsity: 90.00%\n",
      "Epoch 14/50 | Train Loss: 0.1701 | Train Acc: 99.14% | Val Loss: 0.0955 | Val Acc: 97.02% | Sparsity: 90.00%\n",
      "Epoch 15/50 | Train Loss: 0.1592 | Train Acc: 99.14% | Val Loss: 0.0946 | Val Acc: 97.10% | Sparsity: 90.00%\n",
      "Epoch 16/50 | Train Loss: 0.1574 | Train Acc: 99.15% | Val Loss: 0.0951 | Val Acc: 97.15% | Sparsity: 90.00%\n",
      "Epoch 17/50 | Train Loss: 0.1529 | Train Acc: 99.16% | Val Loss: 0.0957 | Val Acc: 97.11% | Sparsity: 90.00%\n",
      "Epoch 18/50 | Train Loss: 0.1483 | Train Acc: 99.11% | Val Loss: 0.0944 | Val Acc: 96.92% | Sparsity: 90.00%\n",
      "Epoch 19/50 | Train Loss: 0.1460 | Train Acc: 99.16% | Val Loss: 0.0935 | Val Acc: 97.17% | Sparsity: 90.00%\n",
      "Epoch 20/50 | Train Loss: 0.1414 | Train Acc: 99.17% | Val Loss: 0.0964 | Val Acc: 96.99% | Sparsity: 90.00%\n",
      "Epoch 21/50 | Train Loss: 0.1359 | Train Acc: 99.14% | Val Loss: 0.0929 | Val Acc: 97.02% | Sparsity: 90.00%\n",
      "Epoch 22/50 | Train Loss: 0.1339 | Train Acc: 99.13% | Val Loss: 0.0964 | Val Acc: 96.92% | Sparsity: 90.00%\n",
      "Epoch 23/50 | Train Loss: 0.1355 | Train Acc: 99.18% | Val Loss: 0.0943 | Val Acc: 97.06% | Sparsity: 90.00%\n",
      "Epoch 24/50 | Train Loss: 0.1309 | Train Acc: 99.17% | Val Loss: 0.0952 | Val Acc: 97.07% | Sparsity: 90.00%\n",
      "Early stopping triggered at epoch 24. No improvement for 5 epochs.\n",
      "Student model saved before pruning at: pruned_student_retrain_KD_90%.pth\n",
      "Total Training Time: 23m 12s\n",
      "Retraining completed in 23.20 minutes (1392.13 seconds)\n"
     ]
    }
   ],
   "source": [
    "\n",
    "start_time = time.time()\n",
    "pruned_student = retrain_with_KD(\n",
    "    teacher, pruned_student, train_loader, val_loader,\n",
    "    epochs=50, temperature=5.0, alpha=0.7, beta_prob=0.5,patience=5,save_path=\"pruned_student_retrain_KD_90%.pth\"\n",
    ")\n",
    "end_time = time.time()\n",
    "elapsed_time = end_time - start_time\n",
    "\n",
    "print(f\"Retraining completed in {elapsed_time / 60:.2f} minutes ({elapsed_time:.2f} seconds)\")"
   ]
  },
  {
   "cell_type": "code",
   "execution_count": 64,
   "metadata": {},
   "outputs": [
    {
     "name": "stdout",
     "output_type": "stream",
     "text": [
      "Pruned Student Model Test Accuracy(Retrain with KD): 94.83%\n"
     ]
    }
   ],
   "source": [
    "student_accuracy = evaluate(pruned_student, test_loader, device)\n",
    "print(f\"Pruned Student Model Test Accuracy(Retrain with KD): {student_accuracy:.2f}%\")"
   ]
  },
  {
   "cell_type": "code",
   "execution_count": 25,
   "metadata": {},
   "outputs": [
    {
     "data": {
      "text/plain": [
       "<All keys matched successfully>"
      ]
     },
     "execution_count": 25,
     "metadata": {},
     "output_type": "execute_result"
    }
   ],
   "source": [
    "\n",
    "model_path = 'student_before_pruning.pth'\n",
    "# Load the model weights\n",
    "student.load_state_dict(torch.load(model_path, map_location=torch.device('cpu')))"
   ]
  },
  {
   "cell_type": "code",
   "execution_count": 26,
   "metadata": {},
   "outputs": [
    {
     "name": "stdout",
     "output_type": "stream",
     "text": [
      "Calculating Important Scores\n",
      "Accumulation Epoch 1/3\n",
      "Accumulation Epoch 2/3\n",
      "Accumulation Epoch 3/3\n",
      "Total Time take to calculate Important scores: 2m 41s\n",
      "Pruning the model\n",
      "Total Time take to prune the model scores: 0m 0s\n"
     ]
    }
   ],
   "source": [
    "# Pruning\n",
    "print(\"Calculating Important Scores\")\n",
    "start_time = time.time()\n",
    "importance_scores = compute_gradient_importance(\n",
    "    teacher, student, train_loader, device, temperature=6.0, alpha=0.7, accumulation_epochs=3\n",
    ")\n",
    "total_time = time.time() - start_time\n",
    "print(f\"Total Time take to calculate Important scores: {total_time // 60:.0f}m {total_time % 60:.0f}s\")\n",
    "\n",
    "print(\"Pruning the model\")\n",
    "start_time = time.time()\n",
    "\n",
    "pruned_student = gradient_based_global_prune(student, importance_scores, prune_ratio=0.9008)\n",
    "\n",
    "total_time = time.time() - start_time\n",
    "print(f\"Total Time take to prune the model scores: {total_time // 60:.0f}m {total_time % 60:.0f}s\")\n",
    "student = student.to(device)\n"
   ]
  },
  {
   "cell_type": "code",
   "execution_count": 27,
   "metadata": {},
   "outputs": [
    {
     "name": "stdout",
     "output_type": "stream",
     "text": [
      "Pruned Student Model Test Accuracy: 10.06%\n"
     ]
    }
   ],
   "source": [
    "student_accuracy = evaluate(pruned_student, test_loader, device)\n",
    "print(f\"Pruned Student Model Test Accuracy: {student_accuracy:.2f}%\")"
   ]
  },
  {
   "cell_type": "code",
   "execution_count": null,
   "metadata": {},
   "outputs": [
    {
     "name": "stdout",
     "output_type": "stream",
     "text": [
      "Epoch 1/50 | Train Loss: 0.3757 | Train Acc: 95.11% | Val Loss: 0.1225 | Val Acc: 96.02% | Sparsity: 90.00%\n",
      "Epoch 2/50 | Train Loss: 0.1820 | Train Acc: 98.07% | Val Loss: 0.1027 | Val Acc: 96.78% | Sparsity: 90.00%\n",
      "Epoch 3/50 | Train Loss: 0.1372 | Train Acc: 98.83% | Val Loss: 0.0904 | Val Acc: 97.29% | Sparsity: 90.00%\n",
      "Epoch 4/50 | Train Loss: 0.1129 | Train Acc: 99.18% | Val Loss: 0.0895 | Val Acc: 97.31% | Sparsity: 90.00%\n",
      "Epoch 5/50 | Train Loss: 0.1008 | Train Acc: 99.23% | Val Loss: 0.0855 | Val Acc: 97.40% | Sparsity: 90.00%\n",
      "Epoch 6/50 | Train Loss: 0.0943 | Train Acc: 99.30% | Val Loss: 0.0893 | Val Acc: 97.41% | Sparsity: 90.00%\n",
      "Epoch 7/50 | Train Loss: 0.0881 | Train Acc: 99.28% | Val Loss: 0.0812 | Val Acc: 97.56% | Sparsity: 90.00%\n",
      "Epoch 8/50 | Train Loss: 0.0831 | Train Acc: 99.36% | Val Loss: 0.0803 | Val Acc: 97.63% | Sparsity: 90.00%\n",
      "Epoch 9/50 | Train Loss: 0.0798 | Train Acc: 99.34% | Val Loss: 0.0799 | Val Acc: 97.46% | Sparsity: 90.00%\n",
      "Epoch 10/50 | Train Loss: 0.0775 | Train Acc: 99.35% | Val Loss: 0.0798 | Val Acc: 97.58% | Sparsity: 90.00%\n",
      "Epoch 11/50 | Train Loss: 0.0749 | Train Acc: 99.35% | Val Loss: 0.0838 | Val Acc: 97.41% | Sparsity: 90.00%\n"
     ]
    }
   ],
   "source": [
    "\n",
    "start_time = time.time()\n",
    "pruned_student = retrain_with_KD(\n",
    "    teacher, pruned_student, train_loader, val_loader,\n",
    "    epochs=50, temperature=3.0, alpha=0.7, beta_prob=0.5,patience=5,save_path=\"pruned_student_retrain_KD_90%.pth\"\n",
    ")\n",
    "end_time = time.time()\n",
    "elapsed_time = end_time - start_time\n",
    "\n",
    "print(f\"Retraining completed in {elapsed_time / 60:.2f} minutes ({elapsed_time:.2f} seconds)\")"
   ]
  },
  {
   "cell_type": "code",
   "execution_count": null,
   "metadata": {},
   "outputs": [],
   "source": [
    "student_accuracy = evaluate(pruned_student, test_loader, device)\n",
    "print(f\"Pruned Student Model Test Accuracy(Retrain with KD): {student_accuracy:.2f}%\")"
   ]
  },
  {
   "cell_type": "markdown",
   "metadata": {},
   "source": [
    "# 80% Sparsity"
   ]
  },
  {
   "cell_type": "code",
   "execution_count": 68,
   "metadata": {},
   "outputs": [
    {
     "data": {
      "text/plain": [
       "<All keys matched successfully>"
      ]
     },
     "execution_count": 68,
     "metadata": {},
     "output_type": "execute_result"
    }
   ],
   "source": [
    "\n",
    "model_path = 'student_before_pruning.pth'\n",
    "# Load the model weights\n",
    "student.load_state_dict(torch.load(model_path, map_location=torch.device('cpu')))"
   ]
  },
  {
   "cell_type": "code",
   "execution_count": 69,
   "metadata": {},
   "outputs": [
    {
     "name": "stdout",
     "output_type": "stream",
     "text": [
      "Calculating Important Scores\n",
      "Accumulation Epoch 1/3\n",
      "Accumulation Epoch 2/3\n",
      "Accumulation Epoch 3/3\n",
      "Total Time take to calculate Important scores: 2m 37s\n",
      "Pruning the model\n",
      "Total Time take to prune the model scores: 0m 0s\n"
     ]
    }
   ],
   "source": [
    "# Pruning\n",
    "print(\"Calculating Important Scores\")\n",
    "start_time = time.time()\n",
    "importance_scores = compute_gradient_importance(\n",
    "    teacher, student, train_loader, device, temperature=5.0, alpha=0.7, accumulation_epochs=3\n",
    ")\n",
    "total_time = time.time() - start_time\n",
    "print(f\"Total Time take to calculate Important scores: {total_time // 60:.0f}m {total_time % 60:.0f}s\")\n",
    "\n",
    "print(\"Pruning the model\")\n",
    "start_time = time.time()\n",
    "\n",
    "pruned_student = gradient_based_global_prune(student, importance_scores, prune_ratio=0.8007)\n",
    "\n",
    "total_time = time.time() - start_time\n",
    "print(f\"Total Time take to prune the model scores: {total_time // 60:.0f}m {total_time % 60:.0f}s\")\n",
    "student = student.to(device)\n"
   ]
  },
  {
   "cell_type": "code",
   "execution_count": 70,
   "metadata": {},
   "outputs": [
    {
     "name": "stdout",
     "output_type": "stream",
     "text": [
      "Student Model Test Accuracy After Pruning: 17.07%\n"
     ]
    }
   ],
   "source": [
    "student_accuracy = evaluate(pruned_student, test_loader, device)\n",
    "print(f\"Student Model Test Accuracy After Pruning: {student_accuracy:.2f}%\")"
   ]
  },
  {
   "cell_type": "code",
   "execution_count": 71,
   "metadata": {},
   "outputs": [
    {
     "name": "stdout",
     "output_type": "stream",
     "text": [
      "New best model saved with Val Accuracy: 98.16%\n",
      "Epoch 1/100 | Train Loss: 0.0727 | Train Acc: 97.86%\n",
      "Validation Loss: 0.0559 | Validation Acc: 98.16% | Sparsity: 80.00%\n",
      "\n",
      "New best model saved with Val Accuracy: 98.22%\n",
      "Epoch 2/100 | Train Loss: 0.0274 | Train Acc: 99.19%\n",
      "Validation Loss: 0.0548 | Validation Acc: 98.22% | Sparsity: 80.00%\n",
      "\n",
      "New best model saved with Val Accuracy: 98.33%\n",
      "Epoch 3/100 | Train Loss: 0.0101 | Train Acc: 99.78%\n",
      "Validation Loss: 0.0541 | Validation Acc: 98.33% | Sparsity: 80.00%\n",
      "\n",
      "New best model saved with Val Accuracy: 98.40%\n",
      "Epoch 4/100 | Train Loss: 0.0045 | Train Acc: 99.95%\n",
      "Validation Loss: 0.0517 | Validation Acc: 98.40% | Sparsity: 80.00%\n",
      "\n",
      "New best model saved with Val Accuracy: 98.45%\n",
      "Epoch 5/100 | Train Loss: 0.0027 | Train Acc: 99.97%\n",
      "Validation Loss: 0.0528 | Validation Acc: 98.45% | Sparsity: 80.00%\n",
      "\n",
      "Epoch 6/100 | Train Loss: 0.0021 | Train Acc: 99.98%\n",
      "Validation Loss: 0.0536 | Validation Acc: 98.43% | Sparsity: 80.00%\n",
      "\n",
      "Epoch 7/100 | Train Loss: 0.0014 | Train Acc: 99.99%\n",
      "Validation Loss: 0.0544 | Validation Acc: 98.43% | Sparsity: 80.00%\n",
      "\n",
      "Epoch 8/100 | Train Loss: 0.0011 | Train Acc: 100.00%\n",
      "Validation Loss: 0.0547 | Validation Acc: 98.45% | Sparsity: 80.00%\n",
      "\n",
      "Epoch 9/100 | Train Loss: 0.0009 | Train Acc: 100.00%\n",
      "Validation Loss: 0.0560 | Validation Acc: 98.41% | Sparsity: 80.00%\n",
      "\n",
      "Early stopping triggered at epoch 10. No improvement for 5 epochs.\n",
      "Best Validation Accuracy: 98.45% | Best Model Saved at: retrained_student_model_80.pt\n",
      "Retraining completed in 6.07 minutes (364.37 seconds)\n"
     ]
    }
   ],
   "source": [
    "start_time = time.time()\n",
    "retrained_student = retrain_with_sparsity(\n",
    "    pruned_student, train_loader, val_loader,\n",
    "    epochs=100,  save_path='retrained_student_model_80.pt',patience=5\n",
    ")\n",
    "end_time = time.time()\n",
    "elapsed_time = end_time - start_time\n",
    "\n",
    "print(f\"Retraining completed in {elapsed_time / 60:.2f} minutes ({elapsed_time:.2f} seconds)\")"
   ]
  },
  {
   "cell_type": "code",
   "execution_count": 72,
   "metadata": {},
   "outputs": [
    {
     "name": "stdout",
     "output_type": "stream",
     "text": [
      "Pruned Student Model Test Accuracy(Retrain without KD): 95.21%\n"
     ]
    }
   ],
   "source": [
    "student_accuracy = evaluate(retrained_student, test_loader, device)\n",
    "print(f\"Pruned Student Model Test Accuracy(Retrain without KD): {student_accuracy:.2f}%\")"
   ]
  },
  {
   "cell_type": "code",
   "execution_count": 73,
   "metadata": {},
   "outputs": [],
   "source": [
    "# # Measure inference times\n",
    "# pruned_student_inference_time = measure_inference_time(pruned_student, test_loader, device)\n",
    "# print(f\"Student Model Inference Time(After Pruning): {pruned_student_inference_time * 1000:.2f} ms per batch\")"
   ]
  },
  {
   "cell_type": "code",
   "execution_count": 74,
   "metadata": {},
   "outputs": [
    {
     "data": {
      "text/plain": [
       "<All keys matched successfully>"
      ]
     },
     "execution_count": 74,
     "metadata": {},
     "output_type": "execute_result"
    }
   ],
   "source": [
    "\n",
    "model_path = 'student_before_pruning.pth'\n",
    "# Load the model weights\n",
    "student.load_state_dict(torch.load(model_path, map_location=torch.device('cpu')))"
   ]
  },
  {
   "cell_type": "code",
   "execution_count": 75,
   "metadata": {},
   "outputs": [
    {
     "name": "stdout",
     "output_type": "stream",
     "text": [
      "Calculating Important Scores\n",
      "Accumulation Epoch 1/3\n",
      "Accumulation Epoch 2/3\n",
      "Accumulation Epoch 3/3\n",
      "Total Time take to calculate Important scores: 2m 34s\n",
      "Pruning the model\n",
      "Total Time take to prune the model scores: 0m 0s\n"
     ]
    }
   ],
   "source": [
    "# Pruning\n",
    "print(\"Calculating Important Scores\")\n",
    "start_time = time.time()\n",
    "importance_scores = compute_gradient_importance(\n",
    "    teacher, student, train_loader, device, temperature=5.0, alpha=0.7, accumulation_epochs=3\n",
    ")\n",
    "total_time = time.time() - start_time\n",
    "print(f\"Total Time take to calculate Important scores: {total_time // 60:.0f}m {total_time % 60:.0f}s\")\n",
    "\n",
    "print(\"Pruning the model\")\n",
    "start_time = time.time()\n",
    "\n",
    "pruned_student = gradient_based_global_prune(student, importance_scores, prune_ratio=0.8007)\n",
    "\n",
    "total_time = time.time() - start_time\n",
    "print(f\"Total Time take to prune the model scores: {total_time // 60:.0f}m {total_time % 60:.0f}s\")\n",
    "student = student.to(device)\n"
   ]
  },
  {
   "cell_type": "code",
   "execution_count": 76,
   "metadata": {},
   "outputs": [
    {
     "name": "stdout",
     "output_type": "stream",
     "text": [
      "Epoch 1/50 | Train Loss: 0.6830 | Train Acc: 96.57% | Val Loss: 0.1491 | Val Acc: 95.92% | Sparsity: 80.00%\n",
      "Epoch 2/50 | Train Loss: 0.4355 | Train Acc: 98.10% | Val Loss: 0.1026 | Val Acc: 97.06% | Sparsity: 80.00%\n",
      "Epoch 3/50 | Train Loss: 0.2937 | Train Acc: 98.87% | Val Loss: 0.0668 | Val Acc: 98.07% | Sparsity: 80.00%\n",
      "Epoch 4/50 | Train Loss: 0.2330 | Train Acc: 99.08% | Val Loss: 0.0644 | Val Acc: 98.09% | Sparsity: 80.00%\n",
      "Epoch 5/50 | Train Loss: 0.2067 | Train Acc: 99.11% | Val Loss: 0.0643 | Val Acc: 98.06% | Sparsity: 80.00%\n",
      "Epoch 6/50 | Train Loss: 0.1854 | Train Acc: 99.13% | Val Loss: 0.0623 | Val Acc: 98.07% | Sparsity: 80.00%\n",
      "Epoch 7/50 | Train Loss: 0.1715 | Train Acc: 99.12% | Val Loss: 0.0634 | Val Acc: 98.12% | Sparsity: 80.00%\n",
      "Epoch 8/50 | Train Loss: 0.1630 | Train Acc: 99.12% | Val Loss: 0.0555 | Val Acc: 98.27% | Sparsity: 80.00%\n",
      "Epoch 9/50 | Train Loss: 0.1569 | Train Acc: 99.19% | Val Loss: 0.0572 | Val Acc: 98.35% | Sparsity: 80.00%\n",
      "Epoch 10/50 | Train Loss: 0.1503 | Train Acc: 99.11% | Val Loss: 0.0545 | Val Acc: 98.22% | Sparsity: 80.00%\n",
      "Epoch 11/50 | Train Loss: 0.1416 | Train Acc: 99.17% | Val Loss: 0.0586 | Val Acc: 98.27% | Sparsity: 80.00%\n",
      "Epoch 12/50 | Train Loss: 0.1374 | Train Acc: 99.15% | Val Loss: 0.0560 | Val Acc: 98.28% | Sparsity: 80.00%\n",
      "Epoch 13/50 | Train Loss: 0.1331 | Train Acc: 99.19% | Val Loss: 0.0563 | Val Acc: 98.33% | Sparsity: 80.00%\n",
      "Epoch 14/50 | Train Loss: 0.1268 | Train Acc: 99.16% | Val Loss: 0.0565 | Val Acc: 98.37% | Sparsity: 80.00%\n",
      "Epoch 15/50 | Train Loss: 0.1238 | Train Acc: 99.18% | Val Loss: 0.0560 | Val Acc: 98.30% | Sparsity: 80.00%\n",
      "Epoch 16/50 | Train Loss: 0.1205 | Train Acc: 99.16% | Val Loss: 0.0570 | Val Acc: 98.26% | Sparsity: 80.00%\n",
      "Epoch 17/50 | Train Loss: 0.1162 | Train Acc: 99.22% | Val Loss: 0.0540 | Val Acc: 98.36% | Sparsity: 80.00%\n",
      "Epoch 18/50 | Train Loss: 0.1143 | Train Acc: 99.20% | Val Loss: 0.0558 | Val Acc: 98.30% | Sparsity: 80.00%\n",
      "Epoch 19/50 | Train Loss: 0.1102 | Train Acc: 99.15% | Val Loss: 0.0578 | Val Acc: 98.24% | Sparsity: 80.00%\n",
      "Early stopping triggered at epoch 19. No improvement for 5 epochs.\n",
      "Student model saved before pruning at: pruned_student_retrain_KD_90%.pth\n",
      "Total Training Time: 18m 16s\n",
      "Retraining completed in 18.26 minutes (1095.82 seconds)\n"
     ]
    }
   ],
   "source": [
    "\n",
    "start_time = time.time()\n",
    "pruned_student = retrain_with_KD(\n",
    "    teacher, pruned_student, train_loader, val_loader,\n",
    "    epochs=50, temperature=5.0, alpha=0.7, beta_prob=0.5,patience=5,save_path=\"pruned_student_retrain_KD_90%.pth\"\n",
    ")\n",
    "end_time = time.time()\n",
    "elapsed_time = end_time - start_time\n",
    "\n",
    "print(f\"Retraining completed in {elapsed_time / 60:.2f} minutes ({elapsed_time:.2f} seconds)\")"
   ]
  },
  {
   "cell_type": "code",
   "execution_count": 77,
   "metadata": {},
   "outputs": [
    {
     "name": "stdout",
     "output_type": "stream",
     "text": [
      "Pruned Student Model Test Accuracy(Retrain with KD): 95.49%\n"
     ]
    }
   ],
   "source": [
    "student_accuracy = evaluate(pruned_student, test_loader, device)\n",
    "print(f\"Pruned Student Model Test Accuracy(Retrain with KD): {student_accuracy:.2f}%\")"
   ]
  },
  {
   "cell_type": "code",
   "execution_count": 78,
   "metadata": {},
   "outputs": [
    {
     "data": {
      "text/plain": [
       "<All keys matched successfully>"
      ]
     },
     "execution_count": 78,
     "metadata": {},
     "output_type": "execute_result"
    }
   ],
   "source": [
    "\n",
    "model_path = 'student_before_pruning.pth'\n",
    "# Load the model weights\n",
    "student.load_state_dict(torch.load(model_path, map_location=torch.device('cpu')))"
   ]
  },
  {
   "cell_type": "code",
   "execution_count": 79,
   "metadata": {},
   "outputs": [
    {
     "name": "stdout",
     "output_type": "stream",
     "text": [
      "Calculating Important Scores\n",
      "Accumulation Epoch 1/3\n",
      "Accumulation Epoch 2/3\n",
      "Accumulation Epoch 3/3\n",
      "Total Time take to calculate Important scores: 2m 37s\n",
      "Pruning the model\n",
      "Total Time take to prune the model scores: 0m 0s\n"
     ]
    }
   ],
   "source": [
    "# Pruning\n",
    "print(\"Calculating Important Scores\")\n",
    "start_time = time.time()\n",
    "importance_scores = compute_gradient_importance(\n",
    "    teacher, student, train_loader, device, temperature=3.0, alpha=0.7, accumulation_epochs=3\n",
    ")\n",
    "total_time = time.time() - start_time\n",
    "print(f\"Total Time take to calculate Important scores: {total_time // 60:.0f}m {total_time % 60:.0f}s\")\n",
    "\n",
    "print(\"Pruning the model\")\n",
    "start_time = time.time()\n",
    "\n",
    "pruned_student = gradient_based_global_prune(student, importance_scores, prune_ratio=0.8007)\n",
    "\n",
    "total_time = time.time() - start_time\n",
    "print(f\"Total Time take to prune the model scores: {total_time // 60:.0f}m {total_time % 60:.0f}s\")\n",
    "student = student.to(device)\n"
   ]
  },
  {
   "cell_type": "code",
   "execution_count": 80,
   "metadata": {},
   "outputs": [
    {
     "name": "stdout",
     "output_type": "stream",
     "text": [
      "Epoch 1/50 | Train Loss: 0.1684 | Train Acc: 98.07% | Val Loss: 0.0553 | Val Acc: 98.37% | Sparsity: 80.00%\n",
      "Epoch 2/50 | Train Loss: 0.1043 | Train Acc: 99.03% | Val Loss: 0.0508 | Val Acc: 98.42% | Sparsity: 80.00%\n",
      "Epoch 3/50 | Train Loss: 0.0839 | Train Acc: 99.27% | Val Loss: 0.0481 | Val Acc: 98.49% | Sparsity: 80.00%\n",
      "Epoch 4/50 | Train Loss: 0.0746 | Train Acc: 99.40% | Val Loss: 0.0475 | Val Acc: 98.50% | Sparsity: 80.00%\n",
      "Epoch 5/50 | Train Loss: 0.0707 | Train Acc: 99.33% | Val Loss: 0.0469 | Val Acc: 98.52% | Sparsity: 80.00%\n",
      "Epoch 6/50 | Train Loss: 0.0669 | Train Acc: 99.33% | Val Loss: 0.0457 | Val Acc: 98.61% | Sparsity: 80.00%\n",
      "Epoch 7/50 | Train Loss: 0.0645 | Train Acc: 99.43% | Val Loss: 0.0480 | Val Acc: 98.49% | Sparsity: 80.00%\n",
      "Epoch 8/50 | Train Loss: 0.0608 | Train Acc: 99.41% | Val Loss: 0.0456 | Val Acc: 98.58% | Sparsity: 80.00%\n",
      "Epoch 9/50 | Train Loss: 0.0591 | Train Acc: 99.38% | Val Loss: 0.0454 | Val Acc: 98.56% | Sparsity: 80.00%\n",
      "Epoch 10/50 | Train Loss: 0.0575 | Train Acc: 99.44% | Val Loss: 0.0446 | Val Acc: 98.65% | Sparsity: 80.00%\n",
      "Epoch 11/50 | Train Loss: 0.0558 | Train Acc: 99.42% | Val Loss: 0.0451 | Val Acc: 98.66% | Sparsity: 80.00%\n",
      "Epoch 12/50 | Train Loss: 0.0549 | Train Acc: 99.39% | Val Loss: 0.0465 | Val Acc: 98.60% | Sparsity: 80.00%\n",
      "Epoch 13/50 | Train Loss: 0.0529 | Train Acc: 99.41% | Val Loss: 0.0459 | Val Acc: 98.67% | Sparsity: 80.00%\n",
      "Epoch 14/50 | Train Loss: 0.0521 | Train Acc: 99.42% | Val Loss: 0.0452 | Val Acc: 98.53% | Sparsity: 80.00%\n",
      "Epoch 15/50 | Train Loss: 0.0502 | Train Acc: 99.34% | Val Loss: 0.0446 | Val Acc: 98.62% | Sparsity: 80.00%\n",
      "Epoch 16/50 | Train Loss: 0.0494 | Train Acc: 99.45% | Val Loss: 0.0441 | Val Acc: 98.60% | Sparsity: 80.00%\n",
      "Epoch 17/50 | Train Loss: 0.0477 | Train Acc: 99.39% | Val Loss: 0.0453 | Val Acc: 98.58% | Sparsity: 80.00%\n",
      "Epoch 18/50 | Train Loss: 0.0480 | Train Acc: 99.42% | Val Loss: 0.0435 | Val Acc: 98.62% | Sparsity: 80.00%\n",
      "Early stopping triggered at epoch 18. No improvement for 5 epochs.\n",
      "Student model saved before pruning at: pruned_student_retrain_KD_90%.pth\n",
      "Total Training Time: 17m 17s\n",
      "Retraining completed in 17.28 minutes (1036.59 seconds)\n"
     ]
    }
   ],
   "source": [
    "\n",
    "start_time = time.time()\n",
    "pruned_student = retrain_with_KD(\n",
    "    teacher, pruned_student, train_loader, val_loader,\n",
    "    epochs=50, temperature=3.0, alpha=0.7, beta_prob=0.5,patience=5,save_path=\"pruned_student_retrain_KD_90%.pth\"\n",
    ")\n",
    "end_time = time.time()\n",
    "elapsed_time = end_time - start_time\n",
    "\n",
    "print(f\"Retraining completed in {elapsed_time / 60:.2f} minutes ({elapsed_time:.2f} seconds)\")"
   ]
  },
  {
   "cell_type": "code",
   "execution_count": 81,
   "metadata": {},
   "outputs": [
    {
     "name": "stdout",
     "output_type": "stream",
     "text": [
      "Pruned Student Model Test Accuracy(Retrain with KD): 95.44%\n"
     ]
    }
   ],
   "source": [
    "student_accuracy = evaluate(pruned_student, test_loader, device)\n",
    "print(f\"Pruned Student Model Test Accuracy(Retrain with KD): {student_accuracy:.2f}%\")"
   ]
  },
  {
   "cell_type": "markdown",
   "metadata": {},
   "source": [
    "# 75% of Sparsity"
   ]
  },
  {
   "cell_type": "code",
   "execution_count": 82,
   "metadata": {},
   "outputs": [
    {
     "data": {
      "text/plain": [
       "<All keys matched successfully>"
      ]
     },
     "execution_count": 82,
     "metadata": {},
     "output_type": "execute_result"
    }
   ],
   "source": [
    "\n",
    "model_path = 'student_before_pruning.pth'\n",
    "# Load the model weights\n",
    "student.load_state_dict(torch.load(model_path, map_location=torch.device('cpu')))"
   ]
  },
  {
   "cell_type": "code",
   "execution_count": 83,
   "metadata": {},
   "outputs": [
    {
     "name": "stdout",
     "output_type": "stream",
     "text": [
      "Calculating Important Scores\n",
      "Accumulation Epoch 1/3\n",
      "Accumulation Epoch 2/3\n",
      "Accumulation Epoch 3/3\n",
      "Total Time take to calculate Important scores: 2m 36s\n",
      "Pruning the model\n",
      "Total Time take to prune the model scores: 0m 0s\n"
     ]
    }
   ],
   "source": [
    "# Pruning\n",
    "print(\"Calculating Important Scores\")\n",
    "start_time = time.time()\n",
    "importance_scores = compute_gradient_importance(\n",
    "    teacher, student, train_loader, device, temperature=5.0, alpha=0.7, accumulation_epochs=3\n",
    ")\n",
    "total_time = time.time() - start_time\n",
    "print(f\"Total Time take to calculate Important scores: {total_time // 60:.0f}m {total_time % 60:.0f}s\")\n",
    "\n",
    "print(\"Pruning the model\")\n",
    "start_time = time.time()\n",
    "\n",
    "pruned_student = gradient_based_global_prune(student, importance_scores, prune_ratio=0.75062)\n",
    "\n",
    "total_time = time.time() - start_time\n",
    "print(f\"Total Time take to prune the model scores: {total_time // 60:.0f}m {total_time % 60:.0f}s\")\n",
    "student = student.to(device)\n"
   ]
  },
  {
   "cell_type": "code",
   "execution_count": 84,
   "metadata": {},
   "outputs": [
    {
     "name": "stdout",
     "output_type": "stream",
     "text": [
      "Student Model Test Accuracy After Pruning: 23.03%\n"
     ]
    }
   ],
   "source": [
    "student_accuracy = evaluate(pruned_student, test_loader, device)\n",
    "print(f\"Student Model Test Accuracy After Pruning: {student_accuracy:.2f}%\")"
   ]
  },
  {
   "cell_type": "code",
   "execution_count": 85,
   "metadata": {},
   "outputs": [
    {
     "name": "stdout",
     "output_type": "stream",
     "text": [
      "New best model saved with Val Accuracy: 98.45%\n",
      "Epoch 1/100 | Train Loss: 0.0620 | Train Acc: 98.09%\n",
      "Validation Loss: 0.0466 | Validation Acc: 98.45% | Sparsity: 75.00%\n",
      "\n",
      "New best model saved with Val Accuracy: 98.58%\n",
      "Epoch 2/100 | Train Loss: 0.0215 | Train Acc: 99.38%\n",
      "Validation Loss: 0.0469 | Validation Acc: 98.58% | Sparsity: 75.00%\n",
      "\n",
      "New best model saved with Val Accuracy: 98.60%\n",
      "Epoch 3/100 | Train Loss: 0.0079 | Train Acc: 99.83%\n",
      "Validation Loss: 0.0443 | Validation Acc: 98.60% | Sparsity: 75.00%\n",
      "\n",
      "New best model saved with Val Accuracy: 98.65%\n",
      "Epoch 4/100 | Train Loss: 0.0036 | Train Acc: 99.94%\n",
      "Validation Loss: 0.0441 | Validation Acc: 98.65% | Sparsity: 75.00%\n",
      "\n",
      "Epoch 5/100 | Train Loss: 0.0022 | Train Acc: 99.98%\n",
      "Validation Loss: 0.0460 | Validation Acc: 98.58% | Sparsity: 75.00%\n",
      "\n",
      "New best model saved with Val Accuracy: 98.67%\n",
      "Epoch 6/100 | Train Loss: 0.0016 | Train Acc: 99.99%\n",
      "Validation Loss: 0.0462 | Validation Acc: 98.67% | Sparsity: 75.00%\n",
      "\n",
      "Epoch 7/100 | Train Loss: 0.0010 | Train Acc: 100.00%\n",
      "Validation Loss: 0.0471 | Validation Acc: 98.63% | Sparsity: 75.00%\n",
      "\n",
      "Epoch 8/100 | Train Loss: 0.0009 | Train Acc: 100.00%\n",
      "Validation Loss: 0.0469 | Validation Acc: 98.66% | Sparsity: 75.00%\n",
      "\n",
      "Epoch 9/100 | Train Loss: 0.0008 | Train Acc: 100.00%\n",
      "Validation Loss: 0.0477 | Validation Acc: 98.58% | Sparsity: 75.00%\n",
      "\n",
      "Epoch 10/100 | Train Loss: 0.0006 | Train Acc: 100.00%\n",
      "Validation Loss: 0.0479 | Validation Acc: 98.63% | Sparsity: 75.00%\n",
      "\n",
      "Early stopping triggered at epoch 11. No improvement for 5 epochs.\n",
      "Best Validation Accuracy: 98.67% | Best Model Saved at: retrained_student_model_75.pt\n",
      "Retraining completed in 6.75 minutes (405.02 seconds)\n"
     ]
    }
   ],
   "source": [
    "start_time = time.time()\n",
    "retrained_student = retrain_with_sparsity(\n",
    "    pruned_student, train_loader, val_loader,\n",
    "    epochs=100,  save_path='retrained_student_model_75.pt',patience=5\n",
    ")\n",
    "end_time = time.time()\n",
    "elapsed_time = end_time - start_time\n",
    "\n",
    "print(f\"Retraining completed in {elapsed_time / 60:.2f} minutes ({elapsed_time:.2f} seconds)\")"
   ]
  },
  {
   "cell_type": "code",
   "execution_count": 86,
   "metadata": {},
   "outputs": [
    {
     "name": "stdout",
     "output_type": "stream",
     "text": [
      " Retrained Pruned Student Model Test Accuracy: 95.46%\n"
     ]
    }
   ],
   "source": [
    "student_accuracy = evaluate(retrained_student, test_loader, device)\n",
    "print(f\" Retrained Pruned Student Model Test Accuracy: {student_accuracy:.2f}%\")"
   ]
  },
  {
   "cell_type": "code",
   "execution_count": 121,
   "metadata": {},
   "outputs": [
    {
     "name": "stdout",
     "output_type": "stream",
     "text": [
      " Retrained pruned Student Model Inference Time: 1.70 ms per batch\n"
     ]
    }
   ],
   "source": [
    "# # Measure inference times\n",
    "# pruned_student_inference_time = measure_inference_time(retrained_student, test_loader,)\n",
    "# print(f\" Retrained pruned Student Model Inference Time: {pruned_student_inference_time * 1000:.2f} ms per batch\")"
   ]
  },
  {
   "cell_type": "markdown",
   "metadata": {},
   "source": [
    "# Retrain with KD"
   ]
  },
  {
   "cell_type": "code",
   "execution_count": 87,
   "metadata": {},
   "outputs": [
    {
     "data": {
      "text/plain": [
       "<All keys matched successfully>"
      ]
     },
     "execution_count": 87,
     "metadata": {},
     "output_type": "execute_result"
    }
   ],
   "source": [
    "\n",
    "model_path = 'student_before_pruning.pth'\n",
    "# Load the model weights\n",
    "student.load_state_dict(torch.load(model_path, map_location=torch.device('cpu')))"
   ]
  },
  {
   "cell_type": "code",
   "execution_count": 88,
   "metadata": {},
   "outputs": [
    {
     "name": "stdout",
     "output_type": "stream",
     "text": [
      "Calculating Important Scores\n",
      "Accumulation Epoch 1/3\n",
      "Accumulation Epoch 2/3\n",
      "Accumulation Epoch 3/3\n",
      "Total Time take to calculate Important scores: 2m 35s\n",
      "Pruning the model\n",
      "Total Time take to prune the model scores: 0m 0s\n"
     ]
    }
   ],
   "source": [
    "# Pruning\n",
    "print(\"Calculating Important Scores\")\n",
    "start_time = time.time()\n",
    "importance_scores = compute_gradient_importance(\n",
    "    teacher, student, train_loader, device, temperature=5.0, alpha=0.7, accumulation_epochs=3\n",
    ")\n",
    "total_time = time.time() - start_time\n",
    "print(f\"Total Time take to calculate Important scores: {total_time // 60:.0f}m {total_time % 60:.0f}s\")\n",
    "\n",
    "print(\"Pruning the model\")\n",
    "start_time = time.time()\n",
    "\n",
    "pruned_student = gradient_based_global_prune(student, importance_scores, prune_ratio=0.75062)\n",
    "\n",
    "total_time = time.time() - start_time\n",
    "print(f\"Total Time take to prune the model scores: {total_time // 60:.0f}m {total_time % 60:.0f}s\")\n",
    "student = student.to(device)\n"
   ]
  },
  {
   "cell_type": "code",
   "execution_count": 89,
   "metadata": {},
   "outputs": [
    {
     "name": "stdout",
     "output_type": "stream",
     "text": [
      "Epoch 1/50 | Train Loss: 0.5216 | Train Acc: 97.53% | Val Loss: 0.1000 | Val Acc: 97.08% | Sparsity: 75.00%\n",
      "Epoch 2/50 | Train Loss: 0.3363 | Train Acc: 98.57% | Val Loss: 0.0746 | Val Acc: 97.80% | Sparsity: 75.00%\n",
      "Epoch 3/50 | Train Loss: 0.2519 | Train Acc: 98.95% | Val Loss: 0.0639 | Val Acc: 98.30% | Sparsity: 75.00%\n",
      "Epoch 4/50 | Train Loss: 0.2074 | Train Acc: 99.11% | Val Loss: 0.0507 | Val Acc: 98.45% | Sparsity: 75.00%\n",
      "Epoch 5/50 | Train Loss: 0.1873 | Train Acc: 99.12% | Val Loss: 0.0530 | Val Acc: 98.45% | Sparsity: 75.00%\n",
      "Epoch 6/50 | Train Loss: 0.1716 | Train Acc: 99.08% | Val Loss: 0.0490 | Val Acc: 98.54% | Sparsity: 75.00%\n",
      "Epoch 7/50 | Train Loss: 0.1591 | Train Acc: 99.17% | Val Loss: 0.0535 | Val Acc: 98.46% | Sparsity: 75.00%\n",
      "Epoch 8/50 | Train Loss: 0.1515 | Train Acc: 99.16% | Val Loss: 0.0515 | Val Acc: 98.38% | Sparsity: 75.00%\n",
      "Epoch 9/50 | Train Loss: 0.1414 | Train Acc: 99.14% | Val Loss: 0.0503 | Val Acc: 98.46% | Sparsity: 75.00%\n",
      "Epoch 10/50 | Train Loss: 0.1365 | Train Acc: 99.16% | Val Loss: 0.0526 | Val Acc: 98.35% | Sparsity: 75.00%\n",
      "Epoch 11/50 | Train Loss: 0.1320 | Train Acc: 99.14% | Val Loss: 0.0478 | Val Acc: 98.61% | Sparsity: 75.00%\n",
      "Epoch 12/50 | Train Loss: 0.1291 | Train Acc: 99.17% | Val Loss: 0.0509 | Val Acc: 98.47% | Sparsity: 75.00%\n",
      "Epoch 13/50 | Train Loss: 0.1229 | Train Acc: 99.18% | Val Loss: 0.0498 | Val Acc: 98.49% | Sparsity: 75.00%\n",
      "Epoch 14/50 | Train Loss: 0.1193 | Train Acc: 99.16% | Val Loss: 0.0475 | Val Acc: 98.58% | Sparsity: 75.00%\n",
      "Epoch 15/50 | Train Loss: 0.1156 | Train Acc: 99.18% | Val Loss: 0.0466 | Val Acc: 98.61% | Sparsity: 75.00%\n",
      "Epoch 16/50 | Train Loss: 0.1097 | Train Acc: 99.19% | Val Loss: 0.0501 | Val Acc: 98.54% | Sparsity: 75.00%\n",
      "Early stopping triggered at epoch 16. No improvement for 5 epochs.\n",
      "Student model saved before pruning at: pruned_student_retrain_KD_90%.pth\n",
      "Total Training Time: 15m 26s\n",
      "Retraining completed in 15.43 minutes (925.62 seconds)\n"
     ]
    }
   ],
   "source": [
    "\n",
    "start_time = time.time()\n",
    "pruned_student = retrain_with_KD(\n",
    "    teacher, pruned_student, train_loader, val_loader,\n",
    "    epochs=50, temperature=5.0, alpha=0.7, beta_prob=0.5,patience=5,save_path=\"pruned_student_retrain_KD_90%.pth\"\n",
    ")\n",
    "end_time = time.time()\n",
    "elapsed_time = end_time - start_time\n",
    "\n",
    "print(f\"Retraining completed in {elapsed_time / 60:.2f} minutes ({elapsed_time:.2f} seconds)\")"
   ]
  },
  {
   "cell_type": "code",
   "execution_count": 90,
   "metadata": {},
   "outputs": [
    {
     "name": "stdout",
     "output_type": "stream",
     "text": [
      " Retrained Pruned Student Model Test Accuracy: 95.60%\n"
     ]
    }
   ],
   "source": [
    "student_accuracy = evaluate(pruned_student, test_loader, device)\n",
    "print(f\" Retrained Pruned Student Model Test Accuracy: {student_accuracy:.2f}%\")"
   ]
  },
  {
   "cell_type": "code",
   "execution_count": 91,
   "metadata": {},
   "outputs": [],
   "source": [
    "# # Measure inference times\n",
    "# pruned_student_inference_time = measure_inference_time(pruned_student, test_loader, device)\n",
    "# print(f\" Retrained pruned Student Model Inference Time: {pruned_student_inference_time * 1000:.2f} ms per batch\")"
   ]
  },
  {
   "cell_type": "code",
   "execution_count": 92,
   "metadata": {},
   "outputs": [
    {
     "data": {
      "text/plain": [
       "<All keys matched successfully>"
      ]
     },
     "execution_count": 92,
     "metadata": {},
     "output_type": "execute_result"
    }
   ],
   "source": [
    "\n",
    "model_path = 'student_before_pruning.pth'\n",
    "# Load the model weights\n",
    "student.load_state_dict(torch.load(model_path, map_location=torch.device('cpu')))"
   ]
  },
  {
   "cell_type": "code",
   "execution_count": 93,
   "metadata": {},
   "outputs": [
    {
     "name": "stdout",
     "output_type": "stream",
     "text": [
      "Calculating Important Scores\n",
      "Accumulation Epoch 1/3\n",
      "Accumulation Epoch 2/3\n",
      "Accumulation Epoch 3/3\n",
      "Total Time take to calculate Important scores: 2m 36s\n",
      "Pruning the model\n",
      "Total Time take to prune the model scores: 0m 0s\n"
     ]
    }
   ],
   "source": [
    "# Pruning\n",
    "print(\"Calculating Important Scores\")\n",
    "start_time = time.time()\n",
    "importance_scores = compute_gradient_importance(\n",
    "    teacher, student, train_loader, device, temperature=3.0, alpha=0.7, accumulation_epochs=3\n",
    ")\n",
    "total_time = time.time() - start_time\n",
    "print(f\"Total Time take to calculate Important scores: {total_time // 60:.0f}m {total_time % 60:.0f}s\")\n",
    "\n",
    "print(\"Pruning the model\")\n",
    "start_time = time.time()\n",
    "\n",
    "pruned_student = gradient_based_global_prune(student, importance_scores, prune_ratio=0.75062)\n",
    "\n",
    "total_time = time.time() - start_time\n",
    "print(f\"Total Time take to prune the model scores: {total_time // 60:.0f}m {total_time % 60:.0f}s\")\n",
    "\n"
   ]
  },
  {
   "cell_type": "code",
   "execution_count": 94,
   "metadata": {},
   "outputs": [
    {
     "name": "stdout",
     "output_type": "stream",
     "text": [
      "Epoch 1/50 | Train Loss: 0.1453 | Train Acc: 98.37% | Val Loss: 0.0470 | Val Acc: 98.57% | Sparsity: 75.00%\n",
      "Epoch 2/50 | Train Loss: 0.0927 | Train Acc: 99.19% | Val Loss: 0.0435 | Val Acc: 98.66% | Sparsity: 75.00%\n",
      "Epoch 3/50 | Train Loss: 0.0766 | Train Acc: 99.31% | Val Loss: 0.0433 | Val Acc: 98.66% | Sparsity: 75.00%\n",
      "Epoch 4/50 | Train Loss: 0.0693 | Train Acc: 99.34% | Val Loss: 0.0420 | Val Acc: 98.73% | Sparsity: 75.00%\n",
      "Epoch 5/50 | Train Loss: 0.0651 | Train Acc: 99.41% | Val Loss: 0.0422 | Val Acc: 98.62% | Sparsity: 75.00%\n",
      "Epoch 6/50 | Train Loss: 0.0610 | Train Acc: 99.38% | Val Loss: 0.0418 | Val Acc: 98.71% | Sparsity: 75.00%\n",
      "Epoch 7/50 | Train Loss: 0.0586 | Train Acc: 99.43% | Val Loss: 0.0423 | Val Acc: 98.69% | Sparsity: 75.00%\n",
      "Epoch 8/50 | Train Loss: 0.0554 | Train Acc: 99.40% | Val Loss: 0.0404 | Val Acc: 98.68% | Sparsity: 75.00%\n",
      "Epoch 9/50 | Train Loss: 0.0546 | Train Acc: 99.41% | Val Loss: 0.0431 | Val Acc: 98.72% | Sparsity: 75.00%\n",
      "Early stopping triggered at epoch 9. No improvement for 5 epochs.\n",
      "Student model saved before pruning at: pruned_student_retrain_KD_90%.pth\n",
      "Total Training Time: 8m 38s\n",
      "Retraining completed in 8.64 minutes (518.26 seconds)\n"
     ]
    }
   ],
   "source": [
    "\n",
    "start_time = time.time()\n",
    "pruned_student = retrain_with_KD(\n",
    "    teacher, pruned_student, train_loader, val_loader,\n",
    "    epochs=50, temperature=3.0, alpha=0.7, beta_prob=0.5,patience=5,save_path=\"pruned_student_retrain_KD_90%.pth\"\n",
    ")\n",
    "end_time = time.time()\n",
    "elapsed_time = end_time - start_time\n",
    "\n",
    "print(f\"Retraining completed in {elapsed_time / 60:.2f} minutes ({elapsed_time:.2f} seconds)\")"
   ]
  },
  {
   "cell_type": "code",
   "execution_count": 95,
   "metadata": {},
   "outputs": [
    {
     "name": "stdout",
     "output_type": "stream",
     "text": [
      " Retrained Pruned Student Model Test Accuracy: 95.62%\n"
     ]
    }
   ],
   "source": [
    "student_accuracy = evaluate(pruned_student, test_loader, device)\n",
    "print(f\" Retrained Pruned Student Model Test Accuracy: {student_accuracy:.2f}%\")"
   ]
  },
  {
   "cell_type": "markdown",
   "metadata": {},
   "source": [
    "## 50% Sparsity"
   ]
  },
  {
   "cell_type": "code",
   "execution_count": 96,
   "metadata": {},
   "outputs": [
    {
     "data": {
      "text/plain": [
       "<All keys matched successfully>"
      ]
     },
     "execution_count": 96,
     "metadata": {},
     "output_type": "execute_result"
    }
   ],
   "source": [
    "\n",
    "model_path = 'student_before_pruning.pth'\n",
    "# Load the model weights\n",
    "student.load_state_dict(torch.load(model_path, map_location=torch.device('cpu')))"
   ]
  },
  {
   "cell_type": "code",
   "execution_count": 97,
   "metadata": {},
   "outputs": [
    {
     "name": "stdout",
     "output_type": "stream",
     "text": [
      "Calculating Important Scores\n",
      "Accumulation Epoch 1/3\n",
      "Accumulation Epoch 2/3\n",
      "Accumulation Epoch 3/3\n",
      "Total Time take to calculate Important scores: 2m 36s\n",
      "Pruning the model\n",
      "Total Time take to prune the model scores: 0m 0s\n"
     ]
    }
   ],
   "source": [
    "# Pruning\n",
    "print(\"Calculating Important Scores\")\n",
    "start_time = time.time()\n",
    "importance_scores = compute_gradient_importance(\n",
    "    teacher, student, train_loader, device, temperature=5.0, alpha=0.7, accumulation_epochs=3\n",
    ")\n",
    "total_time = time.time() - start_time\n",
    "print(f\"Total Time take to calculate Important scores: {total_time // 60:.0f}m {total_time % 60:.0f}s\")\n",
    "\n",
    "print(\"Pruning the model\")\n",
    "start_time = time.time()\n",
    "\n",
    "pruned_student = gradient_based_global_prune(student, importance_scores, prune_ratio=0.505)\n",
    "\n",
    "total_time = time.time() - start_time\n",
    "print(f\"Total Time take to prune the model scores: {total_time // 60:.0f}m {total_time % 60:.0f}s\")\n",
    "\n"
   ]
  },
  {
   "cell_type": "code",
   "execution_count": 98,
   "metadata": {},
   "outputs": [
    {
     "name": "stdout",
     "output_type": "stream",
     "text": [
      "Student Model Test Accuracy After Pruning: 91.82%\n"
     ]
    }
   ],
   "source": [
    "student_accuracy = evaluate(pruned_student, test_loader, device)\n",
    "print(f\"Student Model Test Accuracy After Pruning: {student_accuracy:.2f}%\")"
   ]
  },
  {
   "cell_type": "code",
   "execution_count": 99,
   "metadata": {},
   "outputs": [
    {
     "name": "stdout",
     "output_type": "stream",
     "text": [
      "New best model saved with Val Accuracy: 98.71%\n",
      "Epoch 1/200 | Train Loss: 0.0433 | Train Acc: 98.68%\n",
      "Validation Loss: 0.0402 | Validation Acc: 98.71% | Sparsity: 50.46%\n",
      "\n",
      "New best model saved with Val Accuracy: 98.81%\n",
      "Epoch 2/200 | Train Loss: 0.0126 | Train Acc: 99.66%\n",
      "Validation Loss: 0.0383 | Validation Acc: 98.81% | Sparsity: 50.46%\n",
      "\n",
      "New best model saved with Val Accuracy: 98.85%\n",
      "Epoch 3/200 | Train Loss: 0.0038 | Train Acc: 99.96%\n",
      "Validation Loss: 0.0365 | Validation Acc: 98.85% | Sparsity: 50.46%\n",
      "\n",
      "Epoch 4/200 | Train Loss: 0.0018 | Train Acc: 99.99%\n",
      "Validation Loss: 0.0383 | Validation Acc: 98.81% | Sparsity: 50.46%\n",
      "\n",
      "Epoch 5/200 | Train Loss: 0.0012 | Train Acc: 99.99%\n",
      "Validation Loss: 0.0380 | Validation Acc: 98.79% | Sparsity: 50.46%\n",
      "\n",
      "Epoch 6/200 | Train Loss: 0.0008 | Train Acc: 100.00%\n",
      "Validation Loss: 0.0384 | Validation Acc: 98.81% | Sparsity: 50.46%\n",
      "\n",
      "New best model saved with Val Accuracy: 98.93%\n",
      "Epoch 7/200 | Train Loss: 0.0006 | Train Acc: 100.00%\n",
      "Validation Loss: 0.0377 | Validation Acc: 98.93% | Sparsity: 50.46%\n",
      "\n",
      "Epoch 8/200 | Train Loss: 0.0005 | Train Acc: 100.00%\n",
      "Validation Loss: 0.0386 | Validation Acc: 98.85% | Sparsity: 50.46%\n",
      "\n",
      "Epoch 9/200 | Train Loss: 0.0005 | Train Acc: 100.00%\n",
      "Validation Loss: 0.0392 | Validation Acc: 98.86% | Sparsity: 50.46%\n",
      "\n",
      "Epoch 10/200 | Train Loss: 0.0004 | Train Acc: 100.00%\n",
      "Validation Loss: 0.0395 | Validation Acc: 98.86% | Sparsity: 50.46%\n",
      "\n",
      "Epoch 11/200 | Train Loss: 0.0004 | Train Acc: 100.00%\n",
      "Validation Loss: 0.0401 | Validation Acc: 98.86% | Sparsity: 50.46%\n",
      "\n",
      "Early stopping triggered at epoch 12. No improvement for 5 epochs.\n",
      "Best Validation Accuracy: 98.93% | Best Model Saved at: retrained_student_model_50%.pt\n",
      "Retraining completed in 7.40 minutes (444.09 seconds)\n"
     ]
    }
   ],
   "source": [
    "start_time = time.time()\n",
    "retrained_student = retrain_with_sparsity(\n",
    "    pruned_student, train_loader, val_loader,\n",
    "    epochs=200,  save_path='retrained_student_model_50%.pt',patience=5\n",
    ")\n",
    "end_time = time.time()\n",
    "elapsed_time = end_time - start_time\n",
    "\n",
    "print(f\"Retraining completed in {elapsed_time / 60:.2f} minutes ({elapsed_time:.2f} seconds)\")"
   ]
  },
  {
   "cell_type": "code",
   "execution_count": 100,
   "metadata": {},
   "outputs": [
    {
     "name": "stdout",
     "output_type": "stream",
     "text": [
      " Retrained Pruned Student Model Test Accuracy: 96.06%\n"
     ]
    }
   ],
   "source": [
    "student_accuracy = evaluate(pruned_student, test_loader, device)\n",
    "print(f\" Retrained Pruned Student Model Test Accuracy: {student_accuracy:.2f}%\")"
   ]
  },
  {
   "cell_type": "code",
   "execution_count": 101,
   "metadata": {},
   "outputs": [
    {
     "data": {
      "text/plain": [
       "<All keys matched successfully>"
      ]
     },
     "execution_count": 101,
     "metadata": {},
     "output_type": "execute_result"
    }
   ],
   "source": [
    "\n",
    "model_path = 'student_before_pruning.pth'\n",
    "# Load the model weights\n",
    "student.load_state_dict(torch.load(model_path, map_location=torch.device('cpu')))"
   ]
  },
  {
   "cell_type": "code",
   "execution_count": 102,
   "metadata": {},
   "outputs": [
    {
     "name": "stdout",
     "output_type": "stream",
     "text": [
      "Calculating Important Scores\n",
      "Accumulation Epoch 1/3\n",
      "Accumulation Epoch 2/3\n",
      "Accumulation Epoch 3/3\n",
      "Total Time take to calculate Important scores: 2m 35s\n",
      "Pruning the model\n",
      "Total Time take to prune the model scores: 0m 0s\n"
     ]
    }
   ],
   "source": [
    "# Pruning\n",
    "print(\"Calculating Important Scores\")\n",
    "start_time = time.time()\n",
    "importance_scores = compute_gradient_importance(\n",
    "    teacher, student, train_loader, device, temperature=5.0, alpha=0.7, accumulation_epochs=3\n",
    ")\n",
    "total_time = time.time() - start_time\n",
    "print(f\"Total Time take to calculate Important scores: {total_time // 60:.0f}m {total_time % 60:.0f}s\")\n",
    "\n",
    "print(\"Pruning the model\")\n",
    "start_time = time.time()\n",
    "\n",
    "pruned_student = gradient_based_global_prune(student, importance_scores, prune_ratio=0.505)\n",
    "\n",
    "total_time = time.time() - start_time\n",
    "print(f\"Total Time take to prune the model scores: {total_time // 60:.0f}m {total_time % 60:.0f}s\")\n",
    "\n"
   ]
  },
  {
   "cell_type": "code",
   "execution_count": 103,
   "metadata": {},
   "outputs": [
    {
     "name": "stdout",
     "output_type": "stream",
     "text": [
      "Epoch 1/50 | Train Loss: 0.3536 | Train Acc: 98.38% | Val Loss: 0.0667 | Val Acc: 97.91% | Sparsity: 50.46%\n",
      "Epoch 2/50 | Train Loss: 0.2323 | Train Acc: 98.94% | Val Loss: 0.0461 | Val Acc: 98.65% | Sparsity: 50.46%\n",
      "Epoch 3/50 | Train Loss: 0.1863 | Train Acc: 99.09% | Val Loss: 0.0446 | Val Acc: 98.72% | Sparsity: 50.46%\n",
      "Epoch 4/50 | Train Loss: 0.1591 | Train Acc: 99.12% | Val Loss: 0.0422 | Val Acc: 98.66% | Sparsity: 50.46%\n",
      "Epoch 5/50 | Train Loss: 0.1432 | Train Acc: 99.16% | Val Loss: 0.0409 | Val Acc: 98.75% | Sparsity: 50.46%\n",
      "Epoch 6/50 | Train Loss: 0.1335 | Train Acc: 99.19% | Val Loss: 0.0421 | Val Acc: 98.66% | Sparsity: 50.46%\n",
      "Epoch 7/50 | Train Loss: 0.1259 | Train Acc: 99.19% | Val Loss: 0.0416 | Val Acc: 98.69% | Sparsity: 50.46%\n",
      "Epoch 8/50 | Train Loss: 0.1181 | Train Acc: 99.18% | Val Loss: 0.0409 | Val Acc: 98.68% | Sparsity: 50.46%\n",
      "Epoch 9/50 | Train Loss: 0.1137 | Train Acc: 99.15% | Val Loss: 0.0417 | Val Acc: 98.58% | Sparsity: 50.46%\n",
      "Epoch 10/50 | Train Loss: 0.1096 | Train Acc: 99.20% | Val Loss: 0.0397 | Val Acc: 98.75% | Sparsity: 50.46%\n",
      "Early stopping triggered at epoch 10. No improvement for 5 epochs.\n",
      "Student model saved before pruning at: pruned_student_retrain_KD_90%.pth\n",
      "Total Training Time: 9m 40s\n",
      "Retraining completed in 9.66 minutes (579.85 seconds)\n"
     ]
    }
   ],
   "source": [
    "\n",
    "start_time = time.time()\n",
    "pruned_student = retrain_with_KD(\n",
    "    teacher, pruned_student, train_loader, val_loader,\n",
    "    epochs=50, temperature=5.0, alpha=0.7, beta_prob=0.5,patience=5,save_path=\"pruned_student_retrain_KD_90%.pth\"\n",
    ")\n",
    "end_time = time.time()\n",
    "elapsed_time = end_time - start_time\n",
    "\n",
    "print(f\"Retraining completed in {elapsed_time / 60:.2f} minutes ({elapsed_time:.2f} seconds)\")"
   ]
  },
  {
   "cell_type": "code",
   "execution_count": 104,
   "metadata": {},
   "outputs": [
    {
     "name": "stdout",
     "output_type": "stream",
     "text": [
      " Retrained Pruned Student Model Test Accuracy: 96.03%\n"
     ]
    }
   ],
   "source": [
    "student_accuracy = evaluate(pruned_student, test_loader, device)\n",
    "print(f\" Retrained Pruned Student Model Test Accuracy: {student_accuracy:.2f}%\")"
   ]
  },
  {
   "cell_type": "code",
   "execution_count": 105,
   "metadata": {},
   "outputs": [
    {
     "data": {
      "text/plain": [
       "<All keys matched successfully>"
      ]
     },
     "execution_count": 105,
     "metadata": {},
     "output_type": "execute_result"
    }
   ],
   "source": [
    "\n",
    "model_path = 'student_before_pruning.pth'\n",
    "# Load the model weights\n",
    "student.load_state_dict(torch.load(model_path, map_location=torch.device('cpu')))"
   ]
  },
  {
   "cell_type": "code",
   "execution_count": 106,
   "metadata": {},
   "outputs": [
    {
     "name": "stdout",
     "output_type": "stream",
     "text": [
      "Calculating Important Scores\n",
      "Accumulation Epoch 1/3\n",
      "Accumulation Epoch 2/3\n",
      "Accumulation Epoch 3/3\n",
      "Total Time take to calculate Important scores: 2m 38s\n",
      "Pruning the model\n",
      "Total Time take to prune the model scores: 0m 0s\n"
     ]
    }
   ],
   "source": [
    "# Pruning\n",
    "print(\"Calculating Important Scores\")\n",
    "start_time = time.time()\n",
    "importance_scores = compute_gradient_importance(\n",
    "    teacher, student, train_loader, device, temperature=3.0, alpha=0.7, accumulation_epochs=3\n",
    ")\n",
    "total_time = time.time() - start_time\n",
    "print(f\"Total Time take to calculate Important scores: {total_time // 60:.0f}m {total_time % 60:.0f}s\")\n",
    "\n",
    "print(\"Pruning the model\")\n",
    "start_time = time.time()\n",
    "\n",
    "pruned_student = gradient_based_global_prune(student, importance_scores, prune_ratio=0.505)\n",
    "\n",
    "total_time = time.time() - start_time\n",
    "print(f\"Total Time take to prune the model scores: {total_time // 60:.0f}m {total_time % 60:.0f}s\")\n",
    "\n"
   ]
  },
  {
   "cell_type": "code",
   "execution_count": 107,
   "metadata": {},
   "outputs": [
    {
     "name": "stdout",
     "output_type": "stream",
     "text": [
      "Epoch 1/50 | Train Loss: 0.1033 | Train Acc: 98.71% | Val Loss: 0.0400 | Val Acc: 98.77% | Sparsity: 50.46%\n",
      "Epoch 2/50 | Train Loss: 0.0678 | Train Acc: 99.31% | Val Loss: 0.0387 | Val Acc: 98.79% | Sparsity: 50.46%\n",
      "Epoch 3/50 | Train Loss: 0.0575 | Train Acc: 99.40% | Val Loss: 0.0382 | Val Acc: 98.81% | Sparsity: 50.46%\n",
      "Epoch 4/50 | Train Loss: 0.0535 | Train Acc: 99.42% | Val Loss: 0.0370 | Val Acc: 98.78% | Sparsity: 50.46%\n",
      "Epoch 5/50 | Train Loss: 0.0501 | Train Acc: 99.45% | Val Loss: 0.0381 | Val Acc: 98.70% | Sparsity: 50.46%\n",
      "Epoch 6/50 | Train Loss: 0.0486 | Train Acc: 99.36% | Val Loss: 0.0374 | Val Acc: 98.80% | Sparsity: 50.46%\n",
      "Epoch 7/50 | Train Loss: 0.0467 | Train Acc: 99.43% | Val Loss: 0.0368 | Val Acc: 98.79% | Sparsity: 50.46%\n",
      "Epoch 8/50 | Train Loss: 0.0446 | Train Acc: 99.47% | Val Loss: 0.0378 | Val Acc: 98.70% | Sparsity: 50.46%\n",
      "Early stopping triggered at epoch 8. No improvement for 5 epochs.\n",
      "Student model saved before pruning at: pruned_student_retrain_KD_90%.pth\n",
      "Total Training Time: 7m 45s\n",
      "Retraining completed in 7.74 minutes (464.67 seconds)\n"
     ]
    }
   ],
   "source": [
    "\n",
    "start_time = time.time()\n",
    "pruned_student = retrain_with_KD(\n",
    "    teacher, pruned_student, train_loader, val_loader,\n",
    "    epochs=50, temperature=3.0, alpha=0.7, beta_prob=0.5,patience=5,save_path=\"pruned_student_retrain_KD_90%.pth\"\n",
    ")\n",
    "end_time = time.time()\n",
    "elapsed_time = end_time - start_time\n",
    "\n",
    "print(f\"Retraining completed in {elapsed_time / 60:.2f} minutes ({elapsed_time:.2f} seconds)\")"
   ]
  },
  {
   "cell_type": "code",
   "execution_count": 108,
   "metadata": {},
   "outputs": [
    {
     "name": "stdout",
     "output_type": "stream",
     "text": [
      " Retrained Pruned Student Model Test Accuracy: 96.08%\n"
     ]
    }
   ],
   "source": [
    "student_accuracy = evaluate(pruned_student, test_loader, device)\n",
    "print(f\" Retrained Pruned Student Model Test Accuracy: {student_accuracy:.2f}%\")"
   ]
  },
  {
   "cell_type": "code",
   "execution_count": null,
   "metadata": {},
   "outputs": [],
   "source": []
  }
 ],
 "metadata": {
  "kaggle": {
   "accelerator": "gpu",
   "dataSources": [
    {
     "isSourceIdPinned": false,
     "modelId": 268576,
     "modelInstanceId": 247034,
     "sourceId": 288333,
     "sourceType": "modelInstanceVersion"
    }
   ],
   "dockerImageVersionId": 30919,
   "isGpuEnabled": true,
   "isInternetEnabled": true,
   "language": "python",
   "sourceType": "notebook"
  },
  "kernelspec": {
   "display_name": "Python 3 (ipykernel)",
   "language": "python",
   "name": "python3"
  },
  "language_info": {
   "codemirror_mode": {
    "name": "ipython",
    "version": 3
   },
   "file_extension": ".py",
   "mimetype": "text/x-python",
   "name": "python",
   "nbconvert_exporter": "python",
   "pygments_lexer": "ipython3",
   "version": "3.10.12"
  }
 },
 "nbformat": 4,
 "nbformat_minor": 4
}
