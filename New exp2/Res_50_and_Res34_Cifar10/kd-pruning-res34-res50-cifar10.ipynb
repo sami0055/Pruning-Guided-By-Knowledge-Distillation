{
 "cells": [
  {
   "cell_type": "code",
   "execution_count": 9,
   "metadata": {},
   "outputs": [
    {
     "name": "stdout",
     "output_type": "stream",
     "text": [
      "Requirement already satisfied: pandas in /usr/local/lib/python3.10/dist-packages (2.2.3)\n",
      "Requirement already satisfied: numpy>=1.22.4 in /usr/local/lib/python3.10/dist-packages (from pandas) (1.24.1)\n",
      "Requirement already satisfied: python-dateutil>=2.8.2 in /usr/local/lib/python3.10/dist-packages (from pandas) (2.8.2)\n",
      "Requirement already satisfied: pytz>=2020.1 in /usr/local/lib/python3.10/dist-packages (from pandas) (2025.2)\n",
      "Requirement already satisfied: tzdata>=2022.7 in /usr/local/lib/python3.10/dist-packages (from pandas) (2025.2)\n",
      "Requirement already satisfied: six>=1.5 in /usr/lib/python3/dist-packages (from python-dateutil>=2.8.2->pandas) (1.16.0)\n",
      "\u001b[33mWARNING: Running pip as the 'root' user can result in broken permissions and conflicting behaviour with the system package manager. It is recommended to use a virtual environment instead: https://pip.pypa.io/warnings/venv\u001b[0m\u001b[33m\n",
      "\u001b[0m\n",
      "\u001b[1m[\u001b[0m\u001b[34;49mnotice\u001b[0m\u001b[1;39;49m]\u001b[0m\u001b[39;49m A new release of pip is available: \u001b[0m\u001b[31;49m23.3.1\u001b[0m\u001b[39;49m -> \u001b[0m\u001b[32;49m25.0.1\u001b[0m\n",
      "\u001b[1m[\u001b[0m\u001b[34;49mnotice\u001b[0m\u001b[1;39;49m]\u001b[0m\u001b[39;49m To update, run: \u001b[0m\u001b[32;49mpython -m pip install --upgrade pip\u001b[0m\n"
     ]
    }
   ],
   "source": [
    "!pip install pandas"
   ]
  },
  {
   "cell_type": "code",
   "execution_count": 10,
   "metadata": {},
   "outputs": [
    {
     "name": "stdout",
     "output_type": "stream",
     "text": [
      "PyTorch version: 2.1.0+cu118\n"
     ]
    }
   ],
   "source": [
    "import torch\n",
    "\n",
    "print(\"PyTorch version:\", torch.__version__)\n"
   ]
  },
  {
   "cell_type": "code",
   "execution_count": 11,
   "metadata": {
    "_cell_guid": "b1076dfc-b9ad-4769-8c92-a6c4dae69d19",
    "_uuid": "8f2839f25d086af736a60e9eeb907d3b93b6e0e5"
   },
   "outputs": [],
   "source": [
    "import numpy as np\n",
    "import pandas as pd\n",
    "import os\n",
    "import torch\n",
    "import torch.nn as nn\n",
    "import torch.optim as optim\n",
    "import torchvision.transforms as transforms\n",
    "import torchvision.datasets as datasets\n",
    "from torch.utils.data import DataLoader, random_split\n",
    "import torch.nn.functional as F\n",
    "import torchvision.models as models\n",
    "import time"
   ]
  },
  {
   "cell_type": "code",
   "execution_count": 12,
   "metadata": {},
   "outputs": [],
   "source": [
    "# Set device\n",
    "device = torch.device(\"cuda\" if torch.cuda.is_available() else \"cpu\")"
   ]
  },
  {
   "cell_type": "code",
   "execution_count": 13,
   "metadata": {},
   "outputs": [
    {
     "name": "stdout",
     "output_type": "stream",
     "text": [
      "cuda\n"
     ]
    }
   ],
   "source": [
    "print(device)"
   ]
  },
  {
   "cell_type": "code",
   "execution_count": 14,
   "metadata": {},
   "outputs": [
    {
     "name": "stdout",
     "output_type": "stream",
     "text": [
      "Files already downloaded and verified\n",
      "Files already downloaded and verified\n"
     ]
    }
   ],
   "source": [
    "# Data augmentation for training\n",
    "train_transform = transforms.Compose([\n",
    "    transforms.RandomHorizontalFlip(),  # Randomly flip the image horizontally\n",
    "    transforms.RandomCrop(32, padding=4),  # Randomly crop the image\n",
    "    transforms.Resize(224),  # Resize to 224x224 for ResNet\n",
    "    transforms.ToTensor(),\n",
    "    transforms.Normalize(mean=[0.485, 0.456, 0.406], std=[0.229, 0.224, 0.225])\n",
    "])\n",
    "\n",
    "# No augmentation for validation and test\n",
    "val_test_transform = transforms.Compose([\n",
    "    transforms.Resize(224),  # Resize to 224x224 for ResNet\n",
    "    transforms.ToTensor(),\n",
    "    transforms.Normalize(mean=[0.485, 0.456, 0.406], std=[0.229, 0.224, 0.225])\n",
    "])\n",
    "\n",
    "# Load CIFAR-10 dataset\n",
    "train_val_dataset = datasets.CIFAR10(root='./data', train=True, download=True, transform=train_transform)\n",
    "test_dataset = datasets.CIFAR10(root='./data', train=False, download=True, transform=val_test_transform)\n",
    "\n",
    "# Split train_val_dataset into train and validation sets (80% train, 20% validation)\n",
    "train_size = int(0.8 * len(train_val_dataset))\n",
    "val_size = len(train_val_dataset) - train_size\n",
    "train_dataset, val_dataset = random_split(train_val_dataset, [train_size, val_size])\n",
    "\n",
    "# Apply val_test_transform to the validation set\n",
    "val_dataset.dataset.transform = val_test_transform\n",
    "\n",
    "# Create DataLoaders\n",
    "train_loader = DataLoader(train_dataset, batch_size=128, shuffle=True, num_workers=4)\n",
    "val_loader = DataLoader(val_dataset, batch_size=128, shuffle=False, num_workers=4)\n",
    "test_loader = DataLoader(test_dataset, batch_size=128, shuffle=False, num_workers=4)"
   ]
  },
  {
   "cell_type": "code",
   "execution_count": 116,
   "metadata": {},
   "outputs": [],
   "source": [
    "# Load pretrained ResNet-50 (Teacher Model)\n",
    "teacher = models.resnet50(pretrained=True)\n",
    "\n",
    "# Modify the final fully connected layer for 10 classes (CIFAR-10)\n",
    "teacher.fc = nn.Linear(teacher.fc.in_features, 10)\n",
    "# Move models to device\n",
    "teacher = teacher.to(device)"
   ]
  },
  {
   "cell_type": "code",
   "execution_count": 117,
   "metadata": {},
   "outputs": [
    {
     "data": {
      "text/plain": [
       "<All keys matched successfully>"
      ]
     },
     "execution_count": 117,
     "metadata": {},
     "output_type": "execute_result"
    }
   ],
   "source": [
    "\n",
    "model_path = 'Best_Teacher.pth'\n",
    "# Load the model weights\n",
    "teacher.load_state_dict(torch.load(model_path, map_location=torch.device('cpu')))"
   ]
  },
  {
   "cell_type": "code",
   "execution_count": 118,
   "metadata": {},
   "outputs": [
    {
     "name": "stderr",
     "output_type": "stream",
     "text": [
      "/usr/local/lib/python3.10/dist-packages/torchvision/models/_utils.py:223: UserWarning: Arguments other than a weight enum or `None` for 'weights' are deprecated since 0.13 and may be removed in the future. The current behavior is equivalent to passing `weights=ResNet34_Weights.IMAGENET1K_V1`. You can also use `weights=ResNet34_Weights.DEFAULT` to get the most up-to-date weights.\n",
      "  warnings.warn(msg)\n",
      "Downloading: \"https://download.pytorch.org/models/resnet34-b627a593.pth\" to /root/.cache/torch/hub/checkpoints/resnet34-b627a593.pth\n",
      "28.1%IOPub message rate exceeded.\n",
      "The Jupyter server will temporarily stop sending output\n",
      "to the client in order to avoid crashing it.\n",
      "To change this limit, set the config variable\n",
      "`--ServerApp.iopub_msg_rate_limit`.\n",
      "\n",
      "Current values:\n",
      "ServerApp.iopub_msg_rate_limit=1000.0 (msgs/sec)\n",
      "ServerApp.rate_limit_window=3.0 (secs)\n",
      "\n",
      "91.6%IOPub message rate exceeded.\n",
      "The Jupyter server will temporarily stop sending output\n",
      "to the client in order to avoid crashing it.\n",
      "To change this limit, set the config variable\n",
      "`--ServerApp.iopub_msg_rate_limit`.\n",
      "\n",
      "Current values:\n",
      "ServerApp.iopub_msg_rate_limit=1000.0 (msgs/sec)\n",
      "ServerApp.rate_limit_window=3.0 (secs)\n",
      "\n"
     ]
    }
   ],
   "source": [
    "# Load pretrained ResNet-18 (Student Model)\n",
    "student = models.resnet34(pretrained=True)\n",
    "# Modify the final fully connected layer for 10 classes (CIFAR-10)\n",
    "student.fc = nn.Linear(student.fc.in_features, 10)\n",
    "student = student.to(device)"
   ]
  },
  {
   "cell_type": "code",
   "execution_count": 18,
   "metadata": {},
   "outputs": [
    {
     "data": {
      "text/plain": [
       "<All keys matched successfully>"
      ]
     },
     "execution_count": 18,
     "metadata": {},
     "output_type": "execute_result"
    }
   ],
   "source": [
    "\n",
    "# model_path = 'student_before_pruning.pth'\n",
    "# # Load the model weights\n",
    "# student.load_state_dict(torch.load(model_path, map_location=torch.device('cpu')))"
   ]
  },
  {
   "cell_type": "code",
   "execution_count": 119,
   "metadata": {},
   "outputs": [],
   "source": [
    "# Logits normalization function\n",
    "def normalize(logit):\n",
    "    mean = logit.mean(dim=-1, keepdim=True)\n",
    "    stdv = logit.std(dim=-1, keepdim=True)\n",
    "    return (logit - mean) / (1e-7 + stdv)\n"
   ]
  },
  {
   "cell_type": "code",
   "execution_count": 120,
   "metadata": {},
   "outputs": [],
   "source": [
    "# CA-KLD Loss for Classification\n",
    "def cakld_loss(student_logits, teacher_logits, beta_prob):\n",
    "    # Forward KL (student || teacher)\n",
    "    student_log_prob = F.log_softmax(student_logits, dim=1)\n",
    "    teacher_prob = F.softmax(teacher_logits, dim=1)\n",
    "    forward_kl = F.kl_div(student_log_prob, teacher_prob, reduction='batchmean')\n",
    "\n",
    "    # Reverse KL (teacher || student)\n",
    "    teacher_log_prob = F.log_softmax(teacher_logits, dim=1)\n",
    "    student_prob = F.softmax(student_logits, dim=1)\n",
    "    reverse_kl = F.kl_div(teacher_log_prob, student_prob, reduction='batchmean')\n",
    "\n",
    "    # Combined KL loss\n",
    "    kl_loss = beta_prob * reverse_kl + (1 - beta_prob) * forward_kl\n",
    "    return kl_loss\n"
   ]
  },
  {
   "cell_type": "code",
   "execution_count": 121,
   "metadata": {},
   "outputs": [],
   "source": [
    "def evaluate(model, test_loader, device):\n",
    "    model = model.to(device)  # Ensure model is on the correct device\n",
    "    model.eval()\n",
    "    correct = 0\n",
    "    total = 0\n",
    "    with torch.no_grad():\n",
    "        for inputs, labels in test_loader:\n",
    "            inputs, labels = inputs.to(device), labels.to(device)\n",
    "            outputs = model(inputs)\n",
    "            _, predicted = torch.max(outputs.data, 1)\n",
    "            total += labels.size(0)\n",
    "            correct += (predicted == labels).sum().item()\n",
    "    return 100 * correct / total\n"
   ]
  },
  {
   "cell_type": "code",
   "execution_count": 122,
   "metadata": {},
   "outputs": [],
   "source": [
    "def calculate_sparsity(model):\n",
    "    total_zeros = 0\n",
    "    total_params = 0\n",
    "    for name, param in model.named_parameters():\n",
    "        if 'weight' in name:\n",
    "            total_zeros += torch.sum(param == 0).item()\n",
    "            total_params += param.numel()\n",
    "    return total_zeros / total_params"
   ]
  },
  {
   "cell_type": "code",
   "execution_count": 123,
   "metadata": {},
   "outputs": [],
   "source": [
    "import torch\n",
    "import time\n",
    "def measure_inference_time(model, test_loader, num_runs=5):\n",
    "    device = torch.device('cpu')\n",
    "    model.eval()\n",
    "    model.to(device)\n",
    "\n",
    "    # Warm-up (one batch to avoid startup cost)\n",
    "    with torch.no_grad():\n",
    "        for inputs, _ in test_loader:\n",
    "            inputs = inputs.to(device)\n",
    "            _ = model(inputs)\n",
    "            break\n",
    "\n",
    "    total_time = 0\n",
    "    total_images = 0\n",
    "\n",
    "    with torch.no_grad():\n",
    "        for _ in range(num_runs):\n",
    "            for inputs, _ in test_loader:\n",
    "                inputs = inputs.to(device)\n",
    "                batch_size = inputs.size(0)\n",
    "                start_time = time.time()\n",
    "                _ = model(inputs)\n",
    "                end_time = time.time()\n",
    "\n",
    "                total_time += (end_time - start_time)\n",
    "                total_images += batch_size\n",
    "\n",
    "    avg_time_per_image = total_time / total_images\n",
    "    return avg_time_per_image\n"
   ]
  },
  {
   "cell_type": "code",
   "execution_count": 124,
   "metadata": {},
   "outputs": [],
   "source": [
    "def count_parameters(model):\n",
    "    return sum(p.numel() for p in model.parameters())\n",
    "\n",
    "def calculate_model_size(model, filename=\"temp.pth\"):\n",
    "    torch.save(model.state_dict(), filename)\n",
    "    size = os.path.getsize(filename) / (1024 * 1024)  # Size in MB\n",
    "    os.remove(filename)\n",
    "    return size\n",
    "\n",
    "def compare_model_sizes(teacher, student, pruned_student):\n",
    "    # Count parameters\n",
    "    teacher_params = count_parameters(teacher)\n",
    "    student_params = count_parameters(student)\n",
    "    pruned_params = count_parameters(pruned_student)\n",
    "    \n",
    "    # Calculate disk size\n",
    "    teacher_size = calculate_model_size(teacher, \"teacher.pth\")\n",
    "    student_size = calculate_model_size(student, \"student.pth\")\n",
    "    pruned_size = calculate_model_size(pruned_student, \"pruned_student.pth\")\n",
    "    \n",
    "    # Print comparison\n",
    "    print(\"\\n--- Model Size Comparison ---\")\n",
    "    print(f\"Teacher Model: {teacher_params} parameters, {teacher_size:.2f} MB\")\n",
    "    print(f\"Student Model (Before Pruning): {student_params} parameters, {student_size:.2f} MB\")\n",
    "    print(f\"Student Model (After Pruning): {pruned_params} parameters, {pruned_size:.2f} MB\")\n",
    "    \n",
    "    # Calculate compression ratio\n",
    "    compression_ratio = student_size / pruned_size\n",
    "    print(f\"\\nCompression Ratio: {compression_ratio:.2f}x\")"
   ]
  },
  {
   "cell_type": "code",
   "execution_count": 125,
   "metadata": {},
   "outputs": [],
   "source": [
    "def train_model(model, train_loader, val_loader, epochs=10, lr=0.001, patience=3):\n",
    "    criterion = nn.CrossEntropyLoss()\n",
    "    optimizer = optim.SGD(model.parameters(), lr=lr, momentum=0.9)\n",
    "    \n",
    "    best_val_accuracy = 0.0\n",
    "    best_model_state = None\n",
    "    patience_counter = 0  # Counter for early stopping\n",
    "    \n",
    "    for epoch in range(epochs):\n",
    "        print(epoch)\n",
    "        model.train()\n",
    "        running_loss = 0.0\n",
    "        for inputs, labels in train_loader:\n",
    "            inputs, labels = inputs.to(device), labels.to(device)\n",
    "            \n",
    "            optimizer.zero_grad()\n",
    "            outputs = model(inputs)\n",
    "            loss = criterion(outputs, labels)\n",
    "            loss.backward()\n",
    "            optimizer.step()\n",
    "            \n",
    "            running_loss += loss.item()\n",
    "        \n",
    "        # Evaluate on the validation set\n",
    "        val_accuracy = evaluate(model, val_loader, device)\n",
    "        print(f\"Epoch {epoch+1}/{epochs} | Loss: {running_loss/len(train_loader):.4f} | Val Accuracy: {val_accuracy:.2f}%\")\n",
    "        \n",
    "        # Early stopping logic\n",
    "        if val_accuracy > best_val_accuracy:\n",
    "            best_val_accuracy = val_accuracy\n",
    "            best_model_state = model.state_dict()\n",
    "            patience_counter = 0  # Reset patience counter\n",
    "            torch.save(model.state_dict(), 'best_teacher_model.pth')  # Save the best model\n",
    "            print(f\" New best model saved with validation accuracy: {best_val_accuracy:.2f}%\")\n",
    "        else:\n",
    "            patience_counter += 1\n",
    "            print(f\" No improvement in validation accuracy ({patience_counter}/{patience})\")\n",
    "            \n",
    "            # Stop training if no improvement for 'patience' epochs\n",
    "            if patience_counter >= patience:\n",
    "                print(f\"\\nEarly stopping triggered! No improvement for {patience} epochs.\")\n",
    "                break\n",
    "    \n",
    "    # Load the best model state\n",
    "    model.load_state_dict(torch.load('best_teacher_model.pth'))\n",
    "    print(\"\\nLoading the best model for final evaluation.\")\n",
    "    \n",
    "    # Evaluate on the test set\n",
    "    test_accuracy = evaluate(model, test_loader, device)\n",
    "    print(f\"Test Accuracy with Best Model: {test_accuracy:.2f}%\")\n",
    "    \n",
    "    return model\n",
    "\n"
   ]
  },
  {
   "cell_type": "code",
   "execution_count": 126,
   "metadata": {},
   "outputs": [],
   "source": [
    "def compute_gradient_importance(\n",
    "    teacher, student, data_loader, device, temperature=4.0, alpha=0.5, beta_prob=0.5, accumulation_epochs=3\n",
    "):\n",
    "    importance_scores = {}\n",
    "\n",
    "    # Initialize importance score storage for conv layer weights only\n",
    "    for name, param in student.named_parameters():\n",
    "        if 'weight' in name and len(param.shape) == 4:  # Conv weights only\n",
    "            importance_scores[name] = torch.zeros_like(param.data, device=device)\n",
    "\n",
    "    teacher.to(device).eval()\n",
    "    student.to(device).train()\n",
    "\n",
    "    # Add momentum for gradient accumulation smoothing\n",
    "    momentum = 0.9  # Controls exponential moving average\n",
    "    accumulated_batches = 0  # Track for bias correction\n",
    "\n",
    "    for epoch in range(accumulation_epochs):\n",
    "        print(f\"Accumulation Epoch {epoch+1}/{accumulation_epochs}\")\n",
    "        for inputs, labels in data_loader:\n",
    "            inputs, labels = inputs.to(device), labels.to(device)\n",
    "            student.zero_grad()\n",
    "\n",
    "            with torch.no_grad():\n",
    "                teacher_logits = teacher(inputs)\n",
    "\n",
    "            student_logits = student(inputs)\n",
    "\n",
    "            # Temperature scaling\n",
    "            student_logits_temp = student_logits / temperature\n",
    "            teacher_logits_temp = teacher_logits / temperature\n",
    "\n",
    "            # Compute losses\n",
    "            distillation_loss = cakld_loss(student_logits_temp, teacher_logits_temp, beta_prob) * (temperature ** 2)\n",
    "            ce_loss = F.cross_entropy(student_logits, labels)\n",
    "            loss = alpha * distillation_loss + (1 - alpha) * ce_loss\n",
    "\n",
    "            # Modified backward propagation\n",
    "            loss.backward()\n",
    "\n",
    "            # Accumulate importance scores with parameter-gradient product\n",
    "            accumulated_batches += 1\n",
    "            for name, param in student.named_parameters():\n",
    "                if name in importance_scores and param.grad is not None:\n",
    "                    # Key modification: Use parameter-gradient product magnitude\n",
    "                    grad_product = (param.data * param.grad).abs_()\n",
    "                    \n",
    "                    # Exponential moving average with bias correction\n",
    "                    if accumulated_batches == 1:\n",
    "                        importance_scores[name] = grad_product\n",
    "                    else:\n",
    "                        importance_scores[name] = momentum * importance_scores[name] + (1 - momentum) * grad_product\n",
    "\n",
    "    # Apply bias correction for EMA\n",
    "    for name in importance_scores:\n",
    "        importance_scores[name] /= (1 - momentum**accumulated_batches)\n",
    "\n",
    "    return importance_scores"
   ]
  },
  {
   "cell_type": "code",
   "execution_count": 127,
   "metadata": {},
   "outputs": [],
   "source": [
    "def gradient_based_global_prune(model, importance_scores, prune_ratio=0.95):\n",
    "    all_scores = torch.cat([score.flatten() for score in importance_scores.values()])\n",
    "    threshold = torch.topk(all_scores, k=int(prune_ratio * all_scores.numel()), largest=False)[0][-1]\n",
    "\n",
    "    for name, param in model.named_parameters():\n",
    "        if name in importance_scores:\n",
    "            mask = (importance_scores[name] > threshold).float()\n",
    "            param.data.mul_(mask)\n",
    "\n",
    "    return model\n"
   ]
  },
  {
   "cell_type": "code",
   "execution_count": 128,
   "metadata": {},
   "outputs": [],
   "source": [
    "import torch\n",
    "import torch.nn.functional as F\n",
    "import torch.optim as optim\n",
    "\n",
    "import torch\n",
    "import torch.nn as nn\n",
    "import torch.optim as optim\n",
    "import torch.nn.functional as F\n",
    "\n",
    "def retrain_with_sparsity(student, train_loader, val_loader, epochs=5, save_path=\"retrained_student_model.pt\", patience=3):\n",
    "    device = torch.device(\"cuda\" if torch.cuda.is_available() else \"cpu\")\n",
    "    optimizer = optim.SGD(student.parameters(), lr=0.01, momentum=0.9)\n",
    "\n",
    "    # 1. Store masks AND zero momentum buffers for pruned weights\n",
    "    masks = {}\n",
    "    for name, param in student.named_parameters():\n",
    "        if 'weight' in name and param.dim() == 4:  # Consider only conv layers\n",
    "            mask = (param != 0).float().to(device)\n",
    "            masks[name] = mask\n",
    "            # Zero momentum buffers for pruned weights\n",
    "            if optimizer.state.get(param, None) and 'momentum_buffer' in optimizer.state[param]:\n",
    "                optimizer.state[param]['momentum_buffer'] *= mask\n",
    "\n",
    "    student = student.to(device)\n",
    "    best_val_acc = 0.0\n",
    "    best_model = None\n",
    "    patience_counter = 0  # Counter for early stopping\n",
    "\n",
    "    # 2. Add gradient clipping to prevent NaN\n",
    "    max_grad_norm = 1.0\n",
    "\n",
    "    for epoch in range(epochs):\n",
    "        student.train()\n",
    "        total_loss = 0.0\n",
    "        correct, total = 0, 0\n",
    "\n",
    "        for inputs, labels in train_loader:\n",
    "            inputs, labels = inputs.to(device), labels.to(device)\n",
    "\n",
    "            optimizer.zero_grad()\n",
    "            outputs = student(inputs)\n",
    "            loss = F.cross_entropy(outputs, labels)\n",
    "            loss.backward()\n",
    "\n",
    "            # Apply masks to gradients\n",
    "            for name, param in student.named_parameters():\n",
    "                if name in masks:\n",
    "                    param.grad.data *= masks[name]\n",
    "\n",
    "            # Gradient clipping before optimizer step\n",
    "            torch.nn.utils.clip_grad_norm_(student.parameters(), max_grad_norm)\n",
    "\n",
    "            optimizer.step()\n",
    "\n",
    "            # Reapply masks and update momentum buffers\n",
    "            for name, param in student.named_parameters():\n",
    "                if name in masks:\n",
    "                    param.data *= masks[name]\n",
    "                    if optimizer.state.get(param, None) and 'momentum_buffer' in optimizer.state[param]:\n",
    "                        optimizer.state[param]['momentum_buffer'] *= masks[name]\n",
    "\n",
    "            total_loss += loss.item()\n",
    "            _, predicted = outputs.max(1)\n",
    "            correct += predicted.eq(labels).sum().item()\n",
    "            total += labels.size(0)\n",
    "\n",
    "        train_loss = total_loss / len(train_loader)\n",
    "        train_acc = 100.0 * correct / total\n",
    "\n",
    "        # Validation phase\n",
    "        student.eval()\n",
    "        val_loss, val_correct, val_total = 0.0, 0, 0\n",
    "\n",
    "        with torch.no_grad():\n",
    "            for inputs, labels in val_loader:\n",
    "                inputs, labels = inputs.to(device), labels.to(device)\n",
    "                outputs = student(inputs)\n",
    "                loss = F.cross_entropy(outputs, labels)\n",
    "\n",
    "                val_loss += loss.item()\n",
    "                _, predicted = outputs.max(1)\n",
    "                val_correct += predicted.eq(labels).sum().item()\n",
    "                val_total += labels.size(0)\n",
    "\n",
    "        val_loss /= len(val_loader)\n",
    "        val_acc = 100.0 * val_correct / val_total\n",
    "\n",
    "        # Track best model\n",
    "        if val_acc > best_val_acc:\n",
    "            best_val_acc = val_acc\n",
    "            best_model = student.state_dict()\n",
    "            torch.save(best_model, save_path)\n",
    "            patience_counter = 0  # Reset patience counter\n",
    "            print(f\"New best model saved with Val Accuracy: {best_val_acc:.2f}%\")\n",
    "        else:\n",
    "            patience_counter += 1\n",
    "            if patience_counter >= patience:\n",
    "                print(f\"Early stopping triggered at epoch {epoch+1}. No improvement for {patience} epochs.\")\n",
    "                break  # Stop training\n",
    "\n",
    "        # Print results\n",
    "        sparsity = calculate_sparsity(student)\n",
    "        print(f\"Epoch {epoch+1}/{epochs} | Train Loss: {train_loss:.4f} | Train Acc: {train_acc:.2f}%\")\n",
    "        print(f\"Validation Loss: {val_loss:.4f} | Validation Acc: {val_acc:.2f}% | Sparsity: {sparsity*100:.2f}%\\n\")\n",
    "\n",
    "    print(f\"Best Validation Accuracy: {best_val_acc:.2f}% | Best Model Saved at: {save_path}\")\n",
    "    return student"
   ]
  },
  {
   "cell_type": "code",
   "execution_count": 129,
   "metadata": {},
   "outputs": [],
   "source": [
    "import torch\n",
    "import torch.nn as nn\n",
    "import torch.optim as optim\n",
    "import torch.nn.functional as F\n",
    "import time\n",
    "\n",
    "# KD training with CA-KLD loss and mask-based momentum handling\n",
    "def retrain_with_KD(teacher, student, train_loader, val_loader, epochs=50,\n",
    "                    temperature=5.0, alpha=0.5, beta_prob=0.5, patience=5,\n",
    "                    save_path=\"student_before_pruning.pth\"):\n",
    "\n",
    "    device = torch.device(\"cuda\" if torch.cuda.is_available() else \"cpu\")\n",
    "    optimizer = optim.SGD(student.parameters(), lr=0.01, momentum=0.9)\n",
    "\n",
    "    # 1. Store masks and zero momentum buffers\n",
    "    masks = {}\n",
    "    for name, param in student.named_parameters():\n",
    "        if 'weight' in name and param.dim() == 4:\n",
    "            mask = (param != 0).float().to(device)\n",
    "            masks[name] = mask\n",
    "            if optimizer.state.get(param, None) and 'momentum_buffer' in optimizer.state[param]:\n",
    "                optimizer.state[param]['momentum_buffer'] *= mask\n",
    "\n",
    "    teacher = teacher.to(device).eval()\n",
    "    student = student.to(device)\n",
    "\n",
    "    best_val_acc = 0.0\n",
    "    best_model_state = None\n",
    "    patience_counter = 0\n",
    "    start_time = time.time()\n",
    "\n",
    "    for epoch in range(epochs):\n",
    "        student.train()\n",
    "        total_loss, correct, total = 0.0, 0, 0\n",
    "\n",
    "        for inputs, labels in train_loader:\n",
    "            inputs, labels = inputs.to(device), labels.to(device)\n",
    "            optimizer.zero_grad()\n",
    "\n",
    "            with torch.no_grad():\n",
    "                teacher_logits = teacher(inputs)\n",
    "\n",
    "            student_logits = student(inputs)\n",
    "\n",
    "            # Apply temperature\n",
    "            teacher_logits_temp = teacher_logits / temperature\n",
    "            student_logits_temp = student_logits / temperature\n",
    "\n",
    "            # Logits normalization\n",
    "            teacher_logits_temp = normalize(teacher_logits_temp)\n",
    "            student_logits_temp = normalize(student_logits_temp)\n",
    "\n",
    "\n",
    "            # CA-KLD loss\n",
    "            kd_loss = cakld_loss(student_logits_temp, teacher_logits_temp, beta_prob) * (temperature ** 2)\n",
    "            ce_loss = F.cross_entropy(student_logits, labels)\n",
    "\n",
    "            loss = alpha * kd_loss + (1 - alpha) * ce_loss\n",
    "            loss.backward()\n",
    "            optimizer.step()\n",
    "\n",
    "            # Reapply masks and update momentum\n",
    "            for name, param in student.named_parameters():\n",
    "                if name in masks:\n",
    "                    param.data *= masks[name]\n",
    "                    if optimizer.state.get(param, None) and 'momentum_buffer' in optimizer.state[param]:\n",
    "                        optimizer.state[param]['momentum_buffer'] *= masks[name]\n",
    "\n",
    "            total_loss += loss.item()\n",
    "            _, predicted = student_logits.max(1)\n",
    "            correct += predicted.eq(labels).sum().item()\n",
    "            total += labels.size(0)\n",
    "\n",
    "        train_loss = total_loss / len(train_loader)\n",
    "        train_acc = 100.0 * correct / total\n",
    "\n",
    "        # Validation\n",
    "        student.eval()\n",
    "        val_loss, val_correct, val_total = 0.0, 0, 0\n",
    "        with torch.no_grad():\n",
    "            for inputs, labels in val_loader:\n",
    "                inputs, labels = inputs.to(device), labels.to(device)\n",
    "                outputs = student(inputs)\n",
    "                loss = F.cross_entropy(outputs, labels)\n",
    "                val_loss += loss.item()\n",
    "                _, predicted = outputs.max(1)\n",
    "                val_correct += predicted.eq(labels).sum().item()\n",
    "                val_total += labels.size(0)\n",
    "\n",
    "        val_loss /= len(val_loader)\n",
    "        val_acc = 100.0 * val_correct / val_total\n",
    "        sparsity = calculate_sparsity(student) * 100.0  # Assuming this function is defined elsewhere\n",
    "\n",
    "        print(f\"Epoch {epoch+1}/{epochs} | Train Loss: {train_loss:.4f} | Train Acc: {train_acc:.2f}% | \"\n",
    "              f\"Val Loss: {val_loss:.4f} | Val Acc: {val_acc:.2f}% | Sparsity: {sparsity:.2f}%\")\n",
    "\n",
    "        # Early stopping logic\n",
    "        if val_acc > best_val_acc:\n",
    "            best_val_acc = val_acc\n",
    "            best_model_state = student.state_dict()\n",
    "            patience_counter = 0\n",
    "        else:\n",
    "            patience_counter += 1\n",
    "            if patience_counter >= patience:\n",
    "                print(f\"Early stopping triggered at epoch {epoch+1}. No improvement for {patience} epochs.\")\n",
    "                break\n",
    "\n",
    "    # Restore and save best model\n",
    "    student.load_state_dict(best_model_state)\n",
    "    torch.save(student.state_dict(), save_path)\n",
    "    print(f\"Student model saved before pruning at: {save_path}\")\n",
    "    total_time = time.time() - start_time\n",
    "    print(f\"Total Training Time: {total_time // 60:.0f}m {total_time % 60:.0f}s\")\n",
    "\n",
    "    return student"
   ]
  },
  {
   "cell_type": "code",
   "execution_count": 130,
   "metadata": {},
   "outputs": [],
   "source": [
    "import time\n",
    "import torch\n",
    "import torch.nn as nn\n",
    "import torch.optim as optim\n",
    "import torch.nn.functional as F\n",
    "from torch.utils.data import DataLoader\n",
    "\n",
    "# Training function with KD + CA-KLD and logits normalization\n",
    "def train_kd_pruning(teacher, student, train_loader, val_loader, epochs=50, temperature=5.0, alpha=0.5,\n",
    "                     beta_prob=0.5, patience=5, save_path=\"student_before_pruning.pth\"):\n",
    "    \n",
    "    device = torch.device(\"cuda\" if torch.cuda.is_available() else \"cpu\")\n",
    "    optimizer = optim.SGD(student.parameters(), lr=0.01, momentum=0.9)\n",
    "\n",
    "    teacher = teacher.to(device)\n",
    "    student = student.to(device)\n",
    "    teacher.eval()  # Freeze teacher\n",
    "\n",
    "    best_val_acc = 0.0\n",
    "    best_model_state = None\n",
    "    patience_counter = 0\n",
    "    start_time = time.time()\n",
    "\n",
    "    for epoch in range(epochs):\n",
    "        student.train()\n",
    "        total_loss = 0.0\n",
    "        correct, total = 0, 0\n",
    "\n",
    "        for inputs, labels in train_loader:\n",
    "            inputs, labels = inputs.to(device), labels.to(device)\n",
    "\n",
    "            with torch.no_grad():\n",
    "                teacher_logits = teacher(inputs)\n",
    "\n",
    "            student_logits = student(inputs)\n",
    "\n",
    "            # Temperature scaling\n",
    "            teacher_logits_temp = teacher_logits / temperature\n",
    "            student_logits_temp = student_logits / temperature\n",
    "\n",
    "            # Logits normalization\n",
    "            teacher_logits_temp = normalize(teacher_logits_temp)\n",
    "            student_logits_temp = normalize(student_logits_temp)\n",
    "\n",
    "            # CA-KLD loss (normalized logits)\n",
    "            distillation_loss = cakld_loss(student_logits_temp, teacher_logits_temp, beta_prob) * (temperature ** 2)\n",
    "\n",
    "            # Cross-entropy loss\n",
    "            ground_truth_loss = F.cross_entropy(student_logits, labels)\n",
    "\n",
    "            # Combined loss\n",
    "            loss = alpha * distillation_loss + (1 - alpha) * ground_truth_loss\n",
    "\n",
    "            optimizer.zero_grad()\n",
    "            loss.backward()\n",
    "            optimizer.step()\n",
    "\n",
    "            total_loss += loss.item()\n",
    "            _, predicted = student_logits.max(1)\n",
    "            correct += predicted.eq(labels).sum().item()\n",
    "            total += labels.size(0)\n",
    "\n",
    "        train_loss = total_loss / len(train_loader)\n",
    "        train_acc = 100.0 * correct / total\n",
    "\n",
    "        # Validation accuracy\n",
    "        val_acc = evaluate(student, val_loader, device)\n",
    "\n",
    "        print(f\"Epoch {epoch+1}/{epochs} | Train Loss: {train_loss:.4f} | \"\n",
    "              f\"Train Acc: {train_acc:.2f}% | Val Acc: {val_acc:.2f}%\")\n",
    "\n",
    "        # Early stopping\n",
    "        if val_acc > best_val_acc:\n",
    "            best_val_acc = val_acc\n",
    "            best_model_state = student.state_dict()\n",
    "            patience_counter = 0\n",
    "        else:\n",
    "            patience_counter += 1\n",
    "            if patience_counter >= patience:\n",
    "                print(f\"Early stopping triggered at epoch {epoch+1}. No improvement for {patience} epochs.\")\n",
    "                break\n",
    "\n",
    "    # Load best model state and save\n",
    "    student.load_state_dict(best_model_state)\n",
    "    torch.save(student.state_dict(), save_path)\n",
    "    print(f\"Student model saved before pruning at: {save_path}\")\n",
    "\n",
    "    total_time = time.time() - start_time\n",
    "    print(f\"Total Training Time: {total_time // 60:.0f}m {total_time % 60:.0f}s\")\n",
    "\n",
    "    return student"
   ]
  },
  {
   "cell_type": "code",
   "execution_count": 131,
   "metadata": {},
   "outputs": [
    {
     "name": "stdout",
     "output_type": "stream",
     "text": [
      "Epoch 1/50 | Train Loss: 2.2656 | Train Acc: 85.42% | Val Acc: 91.22%\n",
      "Epoch 2/50 | Train Loss: 0.7298 | Train Acc: 94.85% | Val Acc: 91.47%\n",
      "Epoch 3/50 | Train Loss: 0.4318 | Train Acc: 97.28% | Val Acc: 94.88%\n",
      "Epoch 4/50 | Train Loss: 0.2911 | Train Acc: 98.62% | Val Acc: 95.49%\n",
      "Epoch 5/50 | Train Loss: 0.2187 | Train Acc: 99.14% | Val Acc: 96.11%\n",
      "Epoch 6/50 | Train Loss: 0.1859 | Train Acc: 99.29% | Val Acc: 96.24%\n",
      "Epoch 7/50 | Train Loss: 0.1656 | Train Acc: 99.29% | Val Acc: 96.16%\n",
      "Epoch 8/50 | Train Loss: 0.1524 | Train Acc: 99.28% | Val Acc: 96.33%\n",
      "Epoch 9/50 | Train Loss: 0.1409 | Train Acc: 99.33% | Val Acc: 96.48%\n",
      "Epoch 10/50 | Train Loss: 0.1304 | Train Acc: 99.33% | Val Acc: 96.45%\n",
      "Epoch 11/50 | Train Loss: 0.1241 | Train Acc: 99.36% | Val Acc: 96.49%\n",
      "Epoch 12/50 | Train Loss: 0.1165 | Train Acc: 99.34% | Val Acc: 96.41%\n",
      "Epoch 13/50 | Train Loss: 0.1144 | Train Acc: 99.31% | Val Acc: 96.54%\n",
      "Epoch 14/50 | Train Loss: 0.1082 | Train Acc: 99.35% | Val Acc: 96.48%\n",
      "Epoch 15/50 | Train Loss: 0.1000 | Train Acc: 99.36% | Val Acc: 96.63%\n",
      "Epoch 16/50 | Train Loss: 0.0959 | Train Acc: 99.36% | Val Acc: 96.57%\n",
      "Epoch 17/50 | Train Loss: 0.0933 | Train Acc: 99.37% | Val Acc: 96.48%\n",
      "Epoch 18/50 | Train Loss: 0.0903 | Train Acc: 99.35% | Val Acc: 96.52%\n",
      "Epoch 19/50 | Train Loss: 0.0891 | Train Acc: 99.36% | Val Acc: 96.70%\n",
      "Epoch 20/50 | Train Loss: 0.0844 | Train Acc: 99.41% | Val Acc: 96.61%\n",
      "Epoch 21/50 | Train Loss: 0.0805 | Train Acc: 99.40% | Val Acc: 96.46%\n",
      "Epoch 22/50 | Train Loss: 0.0781 | Train Acc: 99.39% | Val Acc: 96.58%\n",
      "Epoch 23/50 | Train Loss: 0.0750 | Train Acc: 99.36% | Val Acc: 96.76%\n",
      "Epoch 24/50 | Train Loss: 0.0724 | Train Acc: 99.43% | Val Acc: 96.69%\n",
      "Epoch 25/50 | Train Loss: 0.0710 | Train Acc: 99.40% | Val Acc: 96.70%\n",
      "Epoch 26/50 | Train Loss: 0.0686 | Train Acc: 99.39% | Val Acc: 96.77%\n",
      "Epoch 27/50 | Train Loss: 0.0665 | Train Acc: 99.42% | Val Acc: 96.80%\n",
      "Epoch 28/50 | Train Loss: 0.0641 | Train Acc: 99.37% | Val Acc: 96.76%\n",
      "Epoch 29/50 | Train Loss: 0.0624 | Train Acc: 99.45% | Val Acc: 96.65%\n",
      "Epoch 30/50 | Train Loss: 0.0602 | Train Acc: 99.44% | Val Acc: 96.72%\n",
      "Epoch 31/50 | Train Loss: 0.0600 | Train Acc: 99.44% | Val Acc: 96.89%\n",
      "Epoch 32/50 | Train Loss: 0.0585 | Train Acc: 99.44% | Val Acc: 96.73%\n",
      "Epoch 33/50 | Train Loss: 0.0567 | Train Acc: 99.45% | Val Acc: 96.79%\n",
      "Epoch 34/50 | Train Loss: 0.0550 | Train Acc: 99.43% | Val Acc: 96.68%\n",
      "Epoch 35/50 | Train Loss: 0.0553 | Train Acc: 99.40% | Val Acc: 96.71%\n",
      "Epoch 36/50 | Train Loss: 0.0530 | Train Acc: 99.44% | Val Acc: 96.85%\n",
      "Early stopping triggered at epoch 36. No improvement for 5 epochs.\n",
      "Student model saved before pruning at: student_before_pruning.pth\n",
      "Total Training Time: 41m 11s\n"
     ]
    }
   ],
   "source": [
    "\n",
    "student = train_kd_pruning(\n",
    "    teacher, student, train_loader, val_loader,\n",
    "    epochs=50, temperature=5.0, alpha=0.5,beta_prob=0.5, patience=5,save_path=\"student_before_pruning.pth\"\n",
    ")\n"
   ]
  },
  {
   "cell_type": "code",
   "execution_count": 132,
   "metadata": {},
   "outputs": [
    {
     "name": "stdout",
     "output_type": "stream",
     "text": [
      "Sparsity Before Pruning: 0.00%\n",
      "Teacher Model Test Accuracy: 95.40%\n",
      "Student Model Test Accuracy Before Pruning: 96.52%\n"
     ]
    }
   ],
   "source": [
    "# Calculate sparsity\n",
    "sparsity = calculate_sparsity(student)\n",
    "print(f\"Sparsity Before Pruning: {sparsity * 100:.2f}%\")\n",
    "\n",
    "teacher_accuracy = evaluate(teacher, test_loader, device)\n",
    "student_accuracy = evaluate(student, test_loader, device)\n",
    "print(f\"Teacher Model Test Accuracy: {teacher_accuracy:.2f}%\")\n",
    "print(f\"Student Model Test Accuracy Before Pruning: {student_accuracy:.2f}%\")"
   ]
  },
  {
   "cell_type": "markdown",
   "metadata": {},
   "source": [
    "## 93% Sparsity"
   ]
  },
  {
   "cell_type": "code",
   "execution_count": 133,
   "metadata": {},
   "outputs": [
    {
     "data": {
      "text/plain": [
       "<All keys matched successfully>"
      ]
     },
     "execution_count": 133,
     "metadata": {},
     "output_type": "execute_result"
    }
   ],
   "source": [
    "\n",
    "model_path = 'student_before_pruning.pth'\n",
    "# Load the model weights\n",
    "student.load_state_dict(torch.load(model_path, map_location=torch.device('cpu')))"
   ]
  },
  {
   "cell_type": "code",
   "execution_count": 134,
   "metadata": {},
   "outputs": [
    {
     "name": "stdout",
     "output_type": "stream",
     "text": [
      "Calculating Important Scores\n",
      "Accumulation Epoch 1/3\n",
      "Accumulation Epoch 2/3\n",
      "Accumulation Epoch 3/3\n",
      "Total Time take to calculate Important scores: 3m 9s\n",
      "Pruning the model\n",
      "Total Time take to prune the model scores: 0m 0s\n"
     ]
    }
   ],
   "source": [
    "# Pruning\n",
    "print(\"Calculating Important Scores\")\n",
    "start_time = time.time()\n",
    "importance_scores = compute_gradient_importance(\n",
    "    teacher, student, train_loader, device, temperature=5.0, alpha=0.7,beta_prob=0.5, accumulation_epochs=3\n",
    ")\n",
    "total_time = time.time() - start_time\n",
    "print(f\"Total Time take to calculate Important scores: {total_time // 60:.0f}m {total_time % 60:.0f}s\")\n",
    "\n",
    "print(\"Pruning the model\")\n",
    "start_time = time.time()\n",
    "pruned_student = gradient_based_global_prune(student, importance_scores, prune_ratio=0.94)\n",
    "total_time = time.time() - start_time\n",
    "print(f\"Total Time take to prune the model scores: {total_time // 60:.0f}m {total_time % 60:.0f}s\")\n",
    "student = student.to(device)\n"
   ]
  },
  {
   "cell_type": "code",
   "execution_count": 135,
   "metadata": {},
   "outputs": [
    {
     "name": "stdout",
     "output_type": "stream",
     "text": [
      "Student Model Test Accuracy After Pruning: 10.00%\n"
     ]
    }
   ],
   "source": [
    "student_accuracy = evaluate(pruned_student, test_loader, device)\n",
    "print(f\"Student Model Test Accuracy After Pruning: {student_accuracy:.2f}%\")"
   ]
  },
  {
   "cell_type": "code",
   "execution_count": 136,
   "metadata": {},
   "outputs": [
    {
     "name": "stdout",
     "output_type": "stream",
     "text": [
      "New best model saved with Val Accuracy: 91.08%\n",
      "Epoch 1/200 | Train Loss: 0.5873 | Train Acc: 82.19%\n",
      "Validation Loss: 0.2535 | Validation Acc: 91.08% | Sparsity: 93.94%\n",
      "\n",
      "New best model saved with Val Accuracy: 93.00%\n",
      "Epoch 2/200 | Train Loss: 0.1390 | Train Acc: 95.37%\n",
      "Validation Loss: 0.2169 | Validation Acc: 93.00% | Sparsity: 93.94%\n",
      "\n",
      "New best model saved with Val Accuracy: 93.01%\n",
      "Epoch 3/200 | Train Loss: 0.0737 | Train Acc: 97.56%\n",
      "Validation Loss: 0.2182 | Validation Acc: 93.01% | Sparsity: 93.94%\n",
      "\n",
      "New best model saved with Val Accuracy: 93.22%\n",
      "Epoch 4/200 | Train Loss: 0.0379 | Train Acc: 98.79%\n",
      "Validation Loss: 0.2364 | Validation Acc: 93.22% | Sparsity: 93.94%\n",
      "\n",
      "Epoch 5/200 | Train Loss: 0.0203 | Train Acc: 99.40%\n",
      "Validation Loss: 0.2598 | Validation Acc: 93.13% | Sparsity: 93.94%\n",
      "\n",
      "New best model saved with Val Accuracy: 93.34%\n",
      "Epoch 6/200 | Train Loss: 0.0124 | Train Acc: 99.67%\n",
      "Validation Loss: 0.2674 | Validation Acc: 93.34% | Sparsity: 93.94%\n",
      "\n",
      "Epoch 7/200 | Train Loss: 0.0079 | Train Acc: 99.82%\n",
      "Validation Loss: 0.2836 | Validation Acc: 93.34% | Sparsity: 93.94%\n",
      "\n",
      "New best model saved with Val Accuracy: 93.52%\n",
      "Epoch 8/200 | Train Loss: 0.0052 | Train Acc: 99.89%\n",
      "Validation Loss: 0.2859 | Validation Acc: 93.52% | Sparsity: 93.94%\n",
      "\n",
      "Epoch 9/200 | Train Loss: 0.0041 | Train Acc: 99.92%\n",
      "Validation Loss: 0.2933 | Validation Acc: 93.50% | Sparsity: 93.94%\n",
      "\n",
      "New best model saved with Val Accuracy: 93.68%\n",
      "Epoch 10/200 | Train Loss: 0.0029 | Train Acc: 99.93%\n",
      "Validation Loss: 0.2903 | Validation Acc: 93.68% | Sparsity: 93.94%\n",
      "\n",
      "Epoch 11/200 | Train Loss: 0.0017 | Train Acc: 99.98%\n",
      "Validation Loss: 0.2983 | Validation Acc: 93.48% | Sparsity: 93.94%\n",
      "\n",
      "Epoch 12/200 | Train Loss: 0.0014 | Train Acc: 99.98%\n",
      "Validation Loss: 0.3031 | Validation Acc: 93.59% | Sparsity: 93.94%\n",
      "\n",
      "Epoch 13/200 | Train Loss: 0.0011 | Train Acc: 99.99%\n",
      "Validation Loss: 0.3032 | Validation Acc: 93.54% | Sparsity: 93.94%\n",
      "\n",
      "Epoch 14/200 | Train Loss: 0.0009 | Train Acc: 99.98%\n",
      "Validation Loss: 0.3067 | Validation Acc: 93.67% | Sparsity: 93.94%\n",
      "\n",
      "New best model saved with Val Accuracy: 93.75%\n",
      "Epoch 15/200 | Train Loss: 0.0012 | Train Acc: 99.98%\n",
      "Validation Loss: 0.3062 | Validation Acc: 93.75% | Sparsity: 93.94%\n",
      "\n",
      "Epoch 16/200 | Train Loss: 0.0012 | Train Acc: 99.98%\n",
      "Validation Loss: 0.3094 | Validation Acc: 93.60% | Sparsity: 93.94%\n",
      "\n",
      "Epoch 17/200 | Train Loss: 0.0009 | Train Acc: 99.98%\n",
      "Validation Loss: 0.3131 | Validation Acc: 93.49% | Sparsity: 93.94%\n",
      "\n",
      "New best model saved with Val Accuracy: 93.77%\n",
      "Epoch 18/200 | Train Loss: 0.0006 | Train Acc: 99.99%\n",
      "Validation Loss: 0.3110 | Validation Acc: 93.77% | Sparsity: 93.94%\n",
      "\n",
      "Epoch 19/200 | Train Loss: 0.0004 | Train Acc: 100.00%\n",
      "Validation Loss: 0.3106 | Validation Acc: 93.76% | Sparsity: 93.94%\n",
      "\n",
      "Epoch 20/200 | Train Loss: 0.0005 | Train Acc: 100.00%\n",
      "Validation Loss: 0.3092 | Validation Acc: 93.71% | Sparsity: 93.94%\n",
      "\n",
      "New best model saved with Val Accuracy: 93.86%\n",
      "Epoch 21/200 | Train Loss: 0.0004 | Train Acc: 100.00%\n",
      "Validation Loss: 0.3066 | Validation Acc: 93.86% | Sparsity: 93.94%\n",
      "\n",
      "Epoch 22/200 | Train Loss: 0.0004 | Train Acc: 100.00%\n",
      "Validation Loss: 0.3135 | Validation Acc: 93.80% | Sparsity: 93.94%\n",
      "\n",
      "Epoch 23/200 | Train Loss: 0.0004 | Train Acc: 100.00%\n",
      "Validation Loss: 0.3131 | Validation Acc: 93.69% | Sparsity: 93.94%\n",
      "\n",
      "Epoch 24/200 | Train Loss: 0.0004 | Train Acc: 100.00%\n",
      "Validation Loss: 0.3138 | Validation Acc: 93.84% | Sparsity: 93.94%\n",
      "\n",
      "New best model saved with Val Accuracy: 94.01%\n",
      "Epoch 25/200 | Train Loss: 0.0003 | Train Acc: 100.00%\n",
      "Validation Loss: 0.3073 | Validation Acc: 94.01% | Sparsity: 93.94%\n",
      "\n",
      "Epoch 26/200 | Train Loss: 0.0002 | Train Acc: 100.00%\n",
      "Validation Loss: 0.3101 | Validation Acc: 93.87% | Sparsity: 93.94%\n",
      "\n",
      "Epoch 27/200 | Train Loss: 0.0003 | Train Acc: 100.00%\n",
      "Validation Loss: 0.3110 | Validation Acc: 93.92% | Sparsity: 93.94%\n",
      "\n",
      "Epoch 28/200 | Train Loss: 0.0002 | Train Acc: 100.00%\n",
      "Validation Loss: 0.3227 | Validation Acc: 93.83% | Sparsity: 93.94%\n",
      "\n",
      "Epoch 29/200 | Train Loss: 0.0002 | Train Acc: 100.00%\n",
      "Validation Loss: 0.3194 | Validation Acc: 93.97% | Sparsity: 93.94%\n",
      "\n",
      "New best model saved with Val Accuracy: 94.05%\n",
      "Epoch 30/200 | Train Loss: 0.0004 | Train Acc: 99.99%\n",
      "Validation Loss: 0.3171 | Validation Acc: 94.05% | Sparsity: 93.94%\n",
      "\n",
      "Epoch 31/200 | Train Loss: 0.0003 | Train Acc: 99.99%\n",
      "Validation Loss: 0.3309 | Validation Acc: 93.95% | Sparsity: 93.94%\n",
      "\n",
      "Epoch 32/200 | Train Loss: 0.0002 | Train Acc: 100.00%\n",
      "Validation Loss: 0.3183 | Validation Acc: 93.93% | Sparsity: 93.94%\n",
      "\n",
      "Epoch 33/200 | Train Loss: 0.0002 | Train Acc: 100.00%\n",
      "Validation Loss: 0.3177 | Validation Acc: 93.96% | Sparsity: 93.94%\n",
      "\n",
      "Epoch 34/200 | Train Loss: 0.0002 | Train Acc: 100.00%\n",
      "Validation Loss: 0.3211 | Validation Acc: 93.89% | Sparsity: 93.94%\n",
      "\n",
      "Early stopping triggered at epoch 35. No improvement for 5 epochs.\n",
      "Best Validation Accuracy: 94.05% | Best Model Saved at: retrained_student_model.pt\n",
      "Retraining completed in 27.99 minutes (1679.51 seconds)\n"
     ]
    }
   ],
   "source": [
    "start_time = time.time()\n",
    "retrained_student = retrain_with_sparsity(\n",
    "    pruned_student, train_loader, val_loader,\n",
    "    epochs=200,  save_path='retrained_student_model.pt',patience=5\n",
    ")\n",
    "end_time = time.time()\n",
    "elapsed_time = end_time - start_time\n",
    "\n",
    "print(f\"Retraining completed in {elapsed_time / 60:.2f} minutes ({elapsed_time:.2f} seconds)\")"
   ]
  },
  {
   "cell_type": "code",
   "execution_count": 137,
   "metadata": {},
   "outputs": [
    {
     "name": "stdout",
     "output_type": "stream",
     "text": [
      "Pruned Student Model Test Accuracy(After Retrain): 94.07%\n"
     ]
    }
   ],
   "source": [
    "student_accuracy = evaluate(retrained_student, test_loader, device)\n",
    "print(f\"Pruned Student Model Test Accuracy(After Retrain): {student_accuracy:.2f}%\")"
   ]
  },
  {
   "cell_type": "code",
   "execution_count": 138,
   "metadata": {},
   "outputs": [
    {
     "data": {
      "text/plain": [
       "<All keys matched successfully>"
      ]
     },
     "execution_count": 138,
     "metadata": {},
     "output_type": "execute_result"
    }
   ],
   "source": [
    "\n",
    "model_path = 'student_before_pruning.pth'\n",
    "# Load the model weights\n",
    "student.load_state_dict(torch.load(model_path, map_location=torch.device('cpu')))"
   ]
  },
  {
   "cell_type": "code",
   "execution_count": 139,
   "metadata": {},
   "outputs": [
    {
     "name": "stdout",
     "output_type": "stream",
     "text": [
      "Calculating Important Scores\n",
      "Accumulation Epoch 1/3\n",
      "Accumulation Epoch 2/3\n",
      "Accumulation Epoch 3/3\n",
      "Total Time take to calculate Important scores: 3m 7s\n",
      "Pruning the model\n",
      "Total Time take to prune the model scores: 0m 0s\n"
     ]
    }
   ],
   "source": [
    "# Pruning\n",
    "print(\"Calculating Important Scores\")\n",
    "start_time = time.time()\n",
    "importance_scores = compute_gradient_importance(\n",
    "    teacher, student, train_loader, device, temperature=3.0, alpha=0.7,beta_prob=0.5, accumulation_epochs=3\n",
    ")\n",
    "total_time = time.time() - start_time\n",
    "print(f\"Total Time take to calculate Important scores: {total_time // 60:.0f}m {total_time % 60:.0f}s\")\n",
    "\n",
    "print(\"Pruning the model\")\n",
    "start_time = time.time()\n",
    "pruned_student = gradient_based_global_prune(student, importance_scores, prune_ratio=0.94)\n",
    "total_time = time.time() - start_time\n",
    "print(f\"Total Time take to prune the model scores: {total_time // 60:.0f}m {total_time % 60:.0f}s\")\n",
    "student = student.to(device)\n"
   ]
  },
  {
   "cell_type": "code",
   "execution_count": 140,
   "metadata": {},
   "outputs": [
    {
     "name": "stdout",
     "output_type": "stream",
     "text": [
      "Epoch 1/50 | Train Loss: 0.5578 | Train Acc: 92.53% | Val Loss: 0.2376 | Val Acc: 92.80% | Sparsity: 93.94%\n",
      "Epoch 2/50 | Train Loss: 0.2003 | Train Acc: 97.54% | Val Loss: 0.1910 | Val Acc: 94.21% | Sparsity: 93.94%\n",
      "Epoch 3/50 | Train Loss: 0.1417 | Train Acc: 98.61% | Val Loss: 0.1662 | Val Acc: 94.88% | Sparsity: 93.94%\n",
      "Epoch 4/50 | Train Loss: 0.1137 | Train Acc: 99.02% | Val Loss: 0.1600 | Val Acc: 95.16% | Sparsity: 93.94%\n",
      "Epoch 5/50 | Train Loss: 0.0990 | Train Acc: 99.21% | Val Loss: 0.1601 | Val Acc: 95.05% | Sparsity: 93.94%\n",
      "Epoch 6/50 | Train Loss: 0.0912 | Train Acc: 99.21% | Val Loss: 0.1477 | Val Acc: 95.55% | Sparsity: 93.94%\n",
      "Epoch 7/50 | Train Loss: 0.0854 | Train Acc: 99.26% | Val Loss: 0.1527 | Val Acc: 95.40% | Sparsity: 93.94%\n",
      "Epoch 8/50 | Train Loss: 0.0810 | Train Acc: 99.28% | Val Loss: 0.1606 | Val Acc: 95.27% | Sparsity: 93.94%\n",
      "Epoch 9/50 | Train Loss: 0.0770 | Train Acc: 99.33% | Val Loss: 0.1497 | Val Acc: 95.57% | Sparsity: 93.94%\n",
      "Epoch 10/50 | Train Loss: 0.0736 | Train Acc: 99.35% | Val Loss: 0.1507 | Val Acc: 95.42% | Sparsity: 93.94%\n",
      "Epoch 11/50 | Train Loss: 0.0713 | Train Acc: 99.31% | Val Loss: 0.1447 | Val Acc: 95.45% | Sparsity: 93.94%\n",
      "Epoch 12/50 | Train Loss: 0.0686 | Train Acc: 99.35% | Val Loss: 0.1506 | Val Acc: 95.35% | Sparsity: 93.94%\n",
      "Epoch 13/50 | Train Loss: 0.0666 | Train Acc: 99.33% | Val Loss: 0.1534 | Val Acc: 95.63% | Sparsity: 93.94%\n",
      "Epoch 14/50 | Train Loss: 0.0649 | Train Acc: 99.35% | Val Loss: 0.1491 | Val Acc: 95.61% | Sparsity: 93.94%\n",
      "Epoch 15/50 | Train Loss: 0.0630 | Train Acc: 99.38% | Val Loss: 0.1493 | Val Acc: 95.72% | Sparsity: 93.94%\n",
      "Epoch 16/50 | Train Loss: 0.0625 | Train Acc: 99.34% | Val Loss: 0.1494 | Val Acc: 95.54% | Sparsity: 93.94%\n",
      "Epoch 17/50 | Train Loss: 0.0611 | Train Acc: 99.40% | Val Loss: 0.1533 | Val Acc: 95.36% | Sparsity: 93.94%\n",
      "Epoch 18/50 | Train Loss: 0.0596 | Train Acc: 99.34% | Val Loss: 0.1508 | Val Acc: 95.56% | Sparsity: 93.94%\n",
      "Epoch 19/50 | Train Loss: 0.0577 | Train Acc: 99.41% | Val Loss: 0.1549 | Val Acc: 95.57% | Sparsity: 93.94%\n",
      "Epoch 20/50 | Train Loss: 0.0572 | Train Acc: 99.36% | Val Loss: 0.1485 | Val Acc: 95.57% | Sparsity: 93.94%\n",
      "Early stopping triggered at epoch 20. No improvement for 5 epochs.\n",
      "Student model saved before pruning at: pruned_student_retrain_KD_90%.pth\n",
      "Total Training Time: 23m 7s\n",
      "Retraining completed in 23.11 minutes (1386.84 seconds)\n"
     ]
    }
   ],
   "source": [
    "\n",
    "start_time = time.time()\n",
    "pruned_student = retrain_with_KD(\n",
    "    teacher, pruned_student, train_loader, val_loader,\n",
    "    epochs=50, temperature=3.0, alpha=0.7, beta_prob=0.5,patience=5,save_path=\"pruned_student_retrain_KD_90%.pth\"\n",
    ")\n",
    "end_time = time.time()\n",
    "elapsed_time = end_time - start_time\n",
    "\n",
    "print(f\"Retraining completed in {elapsed_time / 60:.2f} minutes ({elapsed_time:.2f} seconds)\")"
   ]
  },
  {
   "cell_type": "code",
   "execution_count": 141,
   "metadata": {},
   "outputs": [
    {
     "name": "stdout",
     "output_type": "stream",
     "text": [
      "Pruned Student Model Test Accuracy(After Retrain): 95.16%\n"
     ]
    }
   ],
   "source": [
    "student_accuracy = evaluate(pruned_student, test_loader, device)\n",
    "print(f\"Pruned Student Model Test Accuracy(After Retrain): {student_accuracy:.2f}%\")"
   ]
  },
  {
   "cell_type": "code",
   "execution_count": 142,
   "metadata": {},
   "outputs": [
    {
     "data": {
      "text/plain": [
       "<All keys matched successfully>"
      ]
     },
     "execution_count": 142,
     "metadata": {},
     "output_type": "execute_result"
    }
   ],
   "source": [
    "\n",
    "model_path = 'student_before_pruning.pth'\n",
    "# Load the model weights\n",
    "student.load_state_dict(torch.load(model_path, map_location=torch.device('cpu')))"
   ]
  },
  {
   "cell_type": "code",
   "execution_count": 143,
   "metadata": {},
   "outputs": [
    {
     "name": "stdout",
     "output_type": "stream",
     "text": [
      "Calculating Important Scores\n",
      "Accumulation Epoch 1/3\n",
      "Accumulation Epoch 2/3\n",
      "Accumulation Epoch 3/3\n",
      "Total Time take to calculate Important scores: 3m 9s\n",
      "Pruning the model\n",
      "Total Time take to prune the model scores: 0m 0s\n"
     ]
    }
   ],
   "source": [
    "# Pruning\n",
    "print(\"Calculating Important Scores\")\n",
    "start_time = time.time()\n",
    "importance_scores = compute_gradient_importance(\n",
    "    teacher, student, train_loader, device, temperature=5.0, alpha=0.7,beta_prob=0.5, accumulation_epochs=3\n",
    ")\n",
    "total_time = time.time() - start_time\n",
    "print(f\"Total Time take to calculate Important scores: {total_time // 60:.0f}m {total_time % 60:.0f}s\")\n",
    "\n",
    "print(\"Pruning the model\")\n",
    "start_time = time.time()\n",
    "pruned_student = gradient_based_global_prune(student, importance_scores, prune_ratio=0.94)\n",
    "total_time = time.time() - start_time\n",
    "print(f\"Total Time take to prune the model scores: {total_time // 60:.0f}m {total_time % 60:.0f}s\")\n",
    "student = student.to(device)\n"
   ]
  },
  {
   "cell_type": "code",
   "execution_count": 144,
   "metadata": {},
   "outputs": [
    {
     "name": "stdout",
     "output_type": "stream",
     "text": [
      "Epoch 1/50 | Train Loss: 2.0157 | Train Acc: 89.17% | Val Loss: 0.4371 | Val Acc: 89.62% | Sparsity: 93.94%\n",
      "Epoch 2/50 | Train Loss: 0.9076 | Train Acc: 94.91% | Val Loss: 0.3660 | Val Acc: 91.51% | Sparsity: 93.94%\n",
      "Epoch 3/50 | Train Loss: 0.6276 | Train Acc: 96.77% | Val Loss: 0.2830 | Val Acc: 92.96% | Sparsity: 93.94%\n",
      "Epoch 4/50 | Train Loss: 0.4558 | Train Acc: 98.04% | Val Loss: 0.2511 | Val Acc: 93.53% | Sparsity: 93.94%\n",
      "Epoch 5/50 | Train Loss: 0.3555 | Train Acc: 98.60% | Val Loss: 0.1970 | Val Acc: 94.65% | Sparsity: 93.94%\n",
      "Epoch 6/50 | Train Loss: 0.2883 | Train Acc: 98.95% | Val Loss: 0.1734 | Val Acc: 95.11% | Sparsity: 93.94%\n",
      "Epoch 7/50 | Train Loss: 0.2542 | Train Acc: 99.04% | Val Loss: 0.1634 | Val Acc: 95.38% | Sparsity: 93.94%\n",
      "Epoch 8/50 | Train Loss: 0.2328 | Train Acc: 99.09% | Val Loss: 0.1581 | Val Acc: 95.59% | Sparsity: 93.94%\n",
      "Epoch 9/50 | Train Loss: 0.2160 | Train Acc: 99.14% | Val Loss: 0.1596 | Val Acc: 95.32% | Sparsity: 93.94%\n",
      "Epoch 10/50 | Train Loss: 0.2013 | Train Acc: 99.14% | Val Loss: 0.1607 | Val Acc: 95.46% | Sparsity: 93.94%\n",
      "Epoch 11/50 | Train Loss: 0.1915 | Train Acc: 99.09% | Val Loss: 0.1548 | Val Acc: 95.50% | Sparsity: 93.94%\n",
      "Epoch 12/50 | Train Loss: 0.1812 | Train Acc: 99.16% | Val Loss: 0.1468 | Val Acc: 95.63% | Sparsity: 93.94%\n",
      "Epoch 13/50 | Train Loss: 0.1782 | Train Acc: 99.14% | Val Loss: 0.1514 | Val Acc: 95.35% | Sparsity: 93.94%\n",
      "Epoch 14/50 | Train Loss: 0.1714 | Train Acc: 99.14% | Val Loss: 0.1564 | Val Acc: 95.51% | Sparsity: 93.94%\n",
      "Epoch 15/50 | Train Loss: 0.1627 | Train Acc: 99.16% | Val Loss: 0.1503 | Val Acc: 95.42% | Sparsity: 93.94%\n",
      "Epoch 16/50 | Train Loss: 0.1574 | Train Acc: 99.14% | Val Loss: 0.1477 | Val Acc: 95.48% | Sparsity: 93.94%\n",
      "Epoch 17/50 | Train Loss: 0.1526 | Train Acc: 99.13% | Val Loss: 0.1473 | Val Acc: 95.67% | Sparsity: 93.94%\n",
      "Epoch 18/50 | Train Loss: 0.1500 | Train Acc: 99.13% | Val Loss: 0.1467 | Val Acc: 95.52% | Sparsity: 93.94%\n",
      "Epoch 19/50 | Train Loss: 0.1470 | Train Acc: 99.13% | Val Loss: 0.1457 | Val Acc: 95.56% | Sparsity: 93.94%\n",
      "Epoch 20/50 | Train Loss: 0.1432 | Train Acc: 99.17% | Val Loss: 0.1461 | Val Acc: 95.53% | Sparsity: 93.94%\n",
      "Epoch 21/50 | Train Loss: 0.1390 | Train Acc: 99.13% | Val Loss: 0.1417 | Val Acc: 95.57% | Sparsity: 93.94%\n",
      "Epoch 22/50 | Train Loss: 0.1372 | Train Acc: 99.14% | Val Loss: 0.1501 | Val Acc: 95.57% | Sparsity: 93.94%\n",
      "Early stopping triggered at epoch 22. No improvement for 5 epochs.\n",
      "Student model saved before pruning at: pruned_student_retrain_KD_90%.pth\n",
      "Total Training Time: 25m 29s\n",
      "Retraining completed in 25.49 minutes (1529.43 seconds)\n"
     ]
    }
   ],
   "source": [
    "\n",
    "start_time = time.time()\n",
    "pruned_student = retrain_with_KD(\n",
    "    teacher, pruned_student, train_loader, val_loader,\n",
    "    epochs=50, temperature=5.0, alpha=0.7, beta_prob=0.5,patience=5,save_path=\"pruned_student_retrain_KD_90%.pth\"\n",
    ")\n",
    "end_time = time.time()\n",
    "elapsed_time = end_time - start_time\n",
    "\n",
    "print(f\"Retraining completed in {elapsed_time / 60:.2f} minutes ({elapsed_time:.2f} seconds)\")"
   ]
  },
  {
   "cell_type": "code",
   "execution_count": 145,
   "metadata": {},
   "outputs": [
    {
     "name": "stdout",
     "output_type": "stream",
     "text": [
      "Pruned Student Model Test Accuracy(After Retrain): 95.38%\n"
     ]
    }
   ],
   "source": [
    "student_accuracy = evaluate(pruned_student, test_loader, device)\n",
    "print(f\"Pruned Student Model Test Accuracy(After Retrain): {student_accuracy:.2f}%\")"
   ]
  },
  {
   "cell_type": "markdown",
   "metadata": {},
   "source": [
    "# 98% of Sparsity"
   ]
  },
  {
   "cell_type": "code",
   "execution_count": 146,
   "metadata": {},
   "outputs": [
    {
     "data": {
      "text/plain": [
       "<All keys matched successfully>"
      ]
     },
     "execution_count": 146,
     "metadata": {},
     "output_type": "execute_result"
    }
   ],
   "source": [
    "\n",
    "model_path = 'student_before_pruning.pth'\n",
    "# Load the model weights\n",
    "student.load_state_dict(torch.load(model_path, map_location=torch.device('cpu')))"
   ]
  },
  {
   "cell_type": "code",
   "execution_count": 147,
   "metadata": {},
   "outputs": [
    {
     "name": "stdout",
     "output_type": "stream",
     "text": [
      "Calculating Important Scores\n",
      "Accumulation Epoch 1/3\n",
      "Accumulation Epoch 2/3\n",
      "Accumulation Epoch 3/3\n",
      "Total Time take to calculate Important scores: 3m 9s\n",
      "Pruning the model\n",
      "Total Time take to prune the model scores: 0m 0s\n"
     ]
    }
   ],
   "source": [
    "# Pruning\n",
    "print(\"Calculating Important Scores\")\n",
    "start_time = time.time()\n",
    "importance_scores = compute_gradient_importance(\n",
    "    teacher, student, train_loader, device, temperature=5.0, alpha=0.7,beta_prob=0.5, accumulation_epochs=3\n",
    ")\n",
    "total_time = time.time() - start_time\n",
    "print(f\"Total Time take to calculate Important scores: {total_time // 60:.0f}m {total_time % 60:.0f}s\")\n",
    "\n",
    "print(\"Pruning the model\")\n",
    "start_time = time.time()\n",
    "pruned_student = gradient_based_global_prune(student, importance_scores, prune_ratio=0.985)\n",
    "total_time = time.time() - start_time\n",
    "print(f\"Total Time take to prune the model scores: {total_time // 60:.0f}m {total_time % 60:.0f}s\")\n",
    "student = student.to(device)\n"
   ]
  },
  {
   "cell_type": "code",
   "execution_count": 148,
   "metadata": {},
   "outputs": [
    {
     "name": "stdout",
     "output_type": "stream",
     "text": [
      "New best model saved with Val Accuracy: 54.00%\n",
      "Epoch 1/200 | Train Loss: 1.9117 | Train Acc: 32.46%\n",
      "Validation Loss: 1.3206 | Validation Acc: 54.00% | Sparsity: 98.44%\n",
      "\n",
      "New best model saved with Val Accuracy: 74.27%\n",
      "Epoch 2/200 | Train Loss: 0.9650 | Train Acc: 65.94%\n",
      "Validation Loss: 0.7470 | Validation Acc: 74.27% | Sparsity: 98.44%\n",
      "\n",
      "New best model saved with Val Accuracy: 78.33%\n",
      "Epoch 3/200 | Train Loss: 0.6313 | Train Acc: 77.96%\n",
      "Validation Loss: 0.6231 | Validation Acc: 78.33% | Sparsity: 98.44%\n",
      "\n",
      "New best model saved with Val Accuracy: 82.85%\n",
      "Epoch 4/200 | Train Loss: 0.4811 | Train Acc: 83.35%\n",
      "Validation Loss: 0.5113 | Validation Acc: 82.85% | Sparsity: 98.44%\n",
      "\n",
      "New best model saved with Val Accuracy: 83.74%\n",
      "Epoch 5/200 | Train Loss: 0.3866 | Train Acc: 86.83%\n",
      "Validation Loss: 0.4535 | Validation Acc: 83.74% | Sparsity: 98.44%\n",
      "\n",
      "New best model saved with Val Accuracy: 84.89%\n",
      "Epoch 6/200 | Train Loss: 0.3201 | Train Acc: 88.92%\n",
      "Validation Loss: 0.4543 | Validation Acc: 84.89% | Sparsity: 98.44%\n",
      "\n",
      "New best model saved with Val Accuracy: 85.94%\n",
      "Epoch 7/200 | Train Loss: 0.2663 | Train Acc: 90.85%\n",
      "Validation Loss: 0.4201 | Validation Acc: 85.94% | Sparsity: 98.44%\n",
      "\n",
      "Epoch 8/200 | Train Loss: 0.2205 | Train Acc: 92.42%\n",
      "Validation Loss: 0.4440 | Validation Acc: 85.76% | Sparsity: 98.44%\n",
      "\n",
      "New best model saved with Val Accuracy: 86.23%\n",
      "Epoch 9/200 | Train Loss: 0.1849 | Train Acc: 93.58%\n",
      "Validation Loss: 0.4462 | Validation Acc: 86.23% | Sparsity: 98.44%\n",
      "\n",
      "New best model saved with Val Accuracy: 86.75%\n",
      "Epoch 10/200 | Train Loss: 0.1538 | Train Acc: 94.80%\n",
      "Validation Loss: 0.4254 | Validation Acc: 86.75% | Sparsity: 98.44%\n",
      "\n",
      "Epoch 11/200 | Train Loss: 0.1222 | Train Acc: 95.92%\n",
      "Validation Loss: 0.4660 | Validation Acc: 86.33% | Sparsity: 98.44%\n",
      "\n",
      "Epoch 12/200 | Train Loss: 0.1005 | Train Acc: 96.69%\n",
      "Validation Loss: 0.4697 | Validation Acc: 86.63% | Sparsity: 98.44%\n",
      "\n",
      "Epoch 13/200 | Train Loss: 0.0836 | Train Acc: 97.24%\n",
      "Validation Loss: 0.4733 | Validation Acc: 86.58% | Sparsity: 98.44%\n",
      "\n",
      "Epoch 14/200 | Train Loss: 0.0713 | Train Acc: 97.70%\n",
      "Validation Loss: 0.4888 | Validation Acc: 86.67% | Sparsity: 98.44%\n",
      "\n",
      "Epoch 15/200 | Train Loss: 0.0581 | Train Acc: 98.13%\n",
      "Validation Loss: 0.5586 | Validation Acc: 86.27% | Sparsity: 98.44%\n",
      "\n",
      "Epoch 16/200 | Train Loss: 0.0497 | Train Acc: 98.37%\n",
      "Validation Loss: 0.5449 | Validation Acc: 86.40% | Sparsity: 98.44%\n",
      "\n",
      "Early stopping triggered at epoch 17. No improvement for 7 epochs.\n",
      "Best Validation Accuracy: 86.75% | Best Model Saved at: retrained_student_model.pt\n",
      "Retraining completed in 13.78 minutes (827.02 seconds)\n"
     ]
    }
   ],
   "source": [
    "start_time = time.time()\n",
    "retrained_student = retrain_with_sparsity(\n",
    "    pruned_student, train_loader, val_loader,\n",
    "    epochs=200,  save_path='retrained_student_model.pt',patience=7\n",
    ")\n",
    "end_time = time.time()\n",
    "elapsed_time = end_time - start_time\n",
    "\n",
    "print(f\"Retraining completed in {elapsed_time / 60:.2f} minutes ({elapsed_time:.2f} seconds)\")"
   ]
  },
  {
   "cell_type": "code",
   "execution_count": 149,
   "metadata": {},
   "outputs": [
    {
     "name": "stdout",
     "output_type": "stream",
     "text": [
      "Pruned Student Model Test Accuracy(After Retrain): 86.22%\n"
     ]
    }
   ],
   "source": [
    "student_accuracy = evaluate(retrained_student, test_loader, device)\n",
    "print(f\"Pruned Student Model Test Accuracy(After Retrain): {student_accuracy:.2f}%\")"
   ]
  },
  {
   "cell_type": "code",
   "execution_count": 150,
   "metadata": {},
   "outputs": [],
   "source": [
    "\n",
    "# pruned_student_inference_time = measure_inference_time(retrained_student, test_loader,)\n",
    "# print(f\"Pruned Student Model Inference Time: {pruned_student_inference_time * 1000:.2f} ms per batch\")\n"
   ]
  },
  {
   "cell_type": "markdown",
   "metadata": {},
   "source": [
    "# Retrained with KD"
   ]
  },
  {
   "cell_type": "code",
   "execution_count": 151,
   "metadata": {},
   "outputs": [
    {
     "data": {
      "text/plain": [
       "<All keys matched successfully>"
      ]
     },
     "execution_count": 151,
     "metadata": {},
     "output_type": "execute_result"
    }
   ],
   "source": [
    "\n",
    "model_path = 'student_before_pruning.pth'\n",
    "# Load the model weights\n",
    "student.load_state_dict(torch.load(model_path, map_location=torch.device('cpu')))"
   ]
  },
  {
   "cell_type": "code",
   "execution_count": 152,
   "metadata": {},
   "outputs": [
    {
     "name": "stdout",
     "output_type": "stream",
     "text": [
      "Student Model Test Accuracy: 96.52%\n"
     ]
    }
   ],
   "source": [
    "student_accuracy = evaluate(student, test_loader, device)\n",
    "print(f\"Student Model Test Accuracy: {student_accuracy:.2f}%\")"
   ]
  },
  {
   "cell_type": "code",
   "execution_count": 153,
   "metadata": {},
   "outputs": [
    {
     "name": "stdout",
     "output_type": "stream",
     "text": [
      "Calculating Important Scores\n",
      "Accumulation Epoch 1/3\n",
      "Accumulation Epoch 2/3\n",
      "Accumulation Epoch 3/3\n",
      "Total Time take to calculate Important scores: 3m 10s\n",
      "Pruning the model\n",
      "Total Time take to prune the model scores: 0m 0s\n"
     ]
    }
   ],
   "source": [
    "# Pruning\n",
    "print(\"Calculating Important Scores\")\n",
    "start_time = time.time()\n",
    "importance_scores = compute_gradient_importance(\n",
    "    teacher, student, train_loader, device, temperature=5.0, alpha=0.7, accumulation_epochs=3\n",
    ")\n",
    "total_time = time.time() - start_time\n",
    "print(f\"Total Time take to calculate Important scores: {total_time // 60:.0f}m {total_time % 60:.0f}s\")\n",
    "\n",
    "print(\"Pruning the model\")\n",
    "start_time = time.time()\n",
    "\n",
    "pruned_student = gradient_based_global_prune(student, importance_scores, prune_ratio=0.985)\n",
    "\n",
    "total_time = time.time() - start_time\n",
    "print(f\"Total Time take to prune the model scores: {total_time // 60:.0f}m {total_time % 60:.0f}s\")\n",
    "student = student.to(device)\n"
   ]
  },
  {
   "cell_type": "code",
   "execution_count": 154,
   "metadata": {},
   "outputs": [
    {
     "name": "stdout",
     "output_type": "stream",
     "text": [
      "Epoch 1/50 | Train Loss: 6.9340 | Train Acc: 64.36% | Val Loss: 1.1625 | Val Acc: 74.70% | Sparsity: 98.44%\n",
      "Epoch 2/50 | Train Loss: 3.0879 | Train Acc: 83.14% | Val Loss: 0.7530 | Val Acc: 80.52% | Sparsity: 98.44%\n",
      "Epoch 3/50 | Train Loss: 2.3303 | Train Acc: 86.98% | Val Loss: 0.5535 | Val Acc: 84.85% | Sparsity: 98.44%\n",
      "Epoch 4/50 | Train Loss: 1.8804 | Train Acc: 89.46% | Val Loss: 0.6163 | Val Acc: 85.23% | Sparsity: 98.44%\n",
      "Epoch 5/50 | Train Loss: 1.6104 | Train Acc: 91.00% | Val Loss: 0.6136 | Val Acc: 85.16% | Sparsity: 98.44%\n",
      "Epoch 6/50 | Train Loss: 1.3999 | Train Acc: 92.15% | Val Loss: 0.6305 | Val Acc: 85.28% | Sparsity: 98.44%\n",
      "Epoch 7/50 | Train Loss: 1.2028 | Train Acc: 93.61% | Val Loss: 0.5828 | Val Acc: 87.55% | Sparsity: 98.44%\n",
      "Epoch 8/50 | Train Loss: 1.0590 | Train Acc: 94.33% | Val Loss: 0.4628 | Val Acc: 88.27% | Sparsity: 98.44%\n",
      "Epoch 9/50 | Train Loss: 0.9546 | Train Acc: 95.03% | Val Loss: 0.4884 | Val Acc: 88.14% | Sparsity: 98.44%\n",
      "Epoch 10/50 | Train Loss: 0.8535 | Train Acc: 95.65% | Val Loss: 0.4250 | Val Acc: 89.47% | Sparsity: 98.44%\n",
      "Epoch 11/50 | Train Loss: 0.7615 | Train Acc: 96.30% | Val Loss: 0.4221 | Val Acc: 89.18% | Sparsity: 98.44%\n",
      "Epoch 12/50 | Train Loss: 0.6891 | Train Acc: 96.78% | Val Loss: 0.4463 | Val Acc: 88.74% | Sparsity: 98.44%\n",
      "Epoch 13/50 | Train Loss: 0.6087 | Train Acc: 97.26% | Val Loss: 0.4424 | Val Acc: 89.60% | Sparsity: 98.44%\n",
      "Epoch 14/50 | Train Loss: 0.5592 | Train Acc: 97.65% | Val Loss: 0.4239 | Val Acc: 89.46% | Sparsity: 98.44%\n",
      "Epoch 15/50 | Train Loss: 0.5005 | Train Acc: 98.08% | Val Loss: 0.3955 | Val Acc: 89.99% | Sparsity: 98.44%\n",
      "Epoch 16/50 | Train Loss: 0.4767 | Train Acc: 98.20% | Val Loss: 0.3671 | Val Acc: 90.51% | Sparsity: 98.44%\n",
      "Epoch 17/50 | Train Loss: 0.4297 | Train Acc: 98.44% | Val Loss: 0.3553 | Val Acc: 90.74% | Sparsity: 98.44%\n",
      "Epoch 18/50 | Train Loss: 0.3938 | Train Acc: 98.64% | Val Loss: 0.3570 | Val Acc: 90.87% | Sparsity: 98.44%\n",
      "Epoch 19/50 | Train Loss: 0.3694 | Train Acc: 98.80% | Val Loss: 0.3293 | Val Acc: 91.26% | Sparsity: 98.44%\n",
      "Epoch 20/50 | Train Loss: 0.3439 | Train Acc: 98.87% | Val Loss: 0.3444 | Val Acc: 91.21% | Sparsity: 98.44%\n",
      "Epoch 21/50 | Train Loss: 0.3311 | Train Acc: 98.86% | Val Loss: 0.3292 | Val Acc: 91.47% | Sparsity: 98.44%\n",
      "Epoch 22/50 | Train Loss: 0.3173 | Train Acc: 98.97% | Val Loss: 0.3420 | Val Acc: 90.90% | Sparsity: 98.44%\n",
      "Epoch 23/50 | Train Loss: 0.3061 | Train Acc: 98.95% | Val Loss: 0.3164 | Val Acc: 91.39% | Sparsity: 98.44%\n",
      "Epoch 24/50 | Train Loss: 0.2979 | Train Acc: 98.99% | Val Loss: 0.3163 | Val Acc: 91.69% | Sparsity: 98.44%\n",
      "Epoch 25/50 | Train Loss: 0.2877 | Train Acc: 99.03% | Val Loss: 0.3132 | Val Acc: 91.54% | Sparsity: 98.44%\n",
      "Epoch 26/50 | Train Loss: 0.2798 | Train Acc: 99.02% | Val Loss: 0.3128 | Val Acc: 91.40% | Sparsity: 98.44%\n",
      "Epoch 27/50 | Train Loss: 0.2772 | Train Acc: 98.99% | Val Loss: 0.3072 | Val Acc: 91.79% | Sparsity: 98.44%\n",
      "Epoch 28/50 | Train Loss: 0.2668 | Train Acc: 99.03% | Val Loss: 0.3073 | Val Acc: 91.75% | Sparsity: 98.44%\n",
      "Epoch 29/50 | Train Loss: 0.2631 | Train Acc: 99.03% | Val Loss: 0.3084 | Val Acc: 91.52% | Sparsity: 98.44%\n",
      "Epoch 30/50 | Train Loss: 0.2565 | Train Acc: 99.01% | Val Loss: 0.3090 | Val Acc: 91.95% | Sparsity: 98.44%\n",
      "Epoch 31/50 | Train Loss: 0.2528 | Train Acc: 99.06% | Val Loss: 0.3152 | Val Acc: 91.70% | Sparsity: 98.44%\n",
      "Epoch 32/50 | Train Loss: 0.2554 | Train Acc: 98.97% | Val Loss: 0.3014 | Val Acc: 91.79% | Sparsity: 98.44%\n",
      "Epoch 33/50 | Train Loss: 0.2470 | Train Acc: 99.07% | Val Loss: 0.3071 | Val Acc: 91.72% | Sparsity: 98.44%\n",
      "Epoch 34/50 | Train Loss: 0.2394 | Train Acc: 99.07% | Val Loss: 0.3037 | Val Acc: 91.63% | Sparsity: 98.44%\n",
      "Epoch 35/50 | Train Loss: 0.2437 | Train Acc: 99.01% | Val Loss: 0.3105 | Val Acc: 91.83% | Sparsity: 98.44%\n",
      "Epoch 36/50 | Train Loss: 0.2361 | Train Acc: 99.11% | Val Loss: 0.3090 | Val Acc: 91.57% | Sparsity: 98.44%\n",
      "Epoch 37/50 | Train Loss: 0.2357 | Train Acc: 99.04% | Val Loss: 0.2948 | Val Acc: 91.84% | Sparsity: 98.44%\n",
      "Early stopping triggered at epoch 37. No improvement for 7 epochs.\n",
      "Student model saved before pruning at: pruned_student_retrain_KD_90%.pth\n",
      "Total Training Time: 42m 32s\n",
      "Retraining completed in 42.53 minutes (2552.06 seconds)\n"
     ]
    }
   ],
   "source": [
    "\n",
    "start_time = time.time()\n",
    "pruned_student = retrain_with_KD(\n",
    "    teacher, pruned_student, train_loader, val_loader,\n",
    "    epochs=50, temperature=5.0, alpha=0.7, beta_prob=0.5,patience=7,save_path=\"pruned_student_retrain_KD_90%.pth\"\n",
    ")\n",
    "end_time = time.time()\n",
    "elapsed_time = end_time - start_time\n",
    "\n",
    "print(f\"Retraining completed in {elapsed_time / 60:.2f} minutes ({elapsed_time:.2f} seconds)\")"
   ]
  },
  {
   "cell_type": "code",
   "execution_count": 155,
   "metadata": {},
   "outputs": [
    {
     "name": "stdout",
     "output_type": "stream",
     "text": [
      "Pruned Student Model Test Accuracy(Retrain with KD): 91.57%\n"
     ]
    }
   ],
   "source": [
    "student_accuracy = evaluate(pruned_student, test_loader, device)\n",
    "print(f\"Pruned Student Model Test Accuracy(Retrain with KD): {student_accuracy:.2f}%\")"
   ]
  },
  {
   "cell_type": "code",
   "execution_count": 156,
   "metadata": {},
   "outputs": [
    {
     "data": {
      "text/plain": [
       "<All keys matched successfully>"
      ]
     },
     "execution_count": 156,
     "metadata": {},
     "output_type": "execute_result"
    }
   ],
   "source": [
    "\n",
    "model_path = 'student_before_pruning.pth'\n",
    "# Load the model weights\n",
    "student.load_state_dict(torch.load(model_path, map_location=torch.device('cpu')))"
   ]
  },
  {
   "cell_type": "code",
   "execution_count": 157,
   "metadata": {},
   "outputs": [
    {
     "name": "stdout",
     "output_type": "stream",
     "text": [
      "Calculating Important Scores\n",
      "Accumulation Epoch 1/3\n",
      "Accumulation Epoch 2/3\n",
      "Accumulation Epoch 3/3\n",
      "Total Time take to calculate Important scores: 3m 9s\n",
      "Pruning the model\n",
      "Total Time take to prune the model scores: 0m 0s\n"
     ]
    }
   ],
   "source": [
    "# Pruning\n",
    "print(\"Calculating Important Scores\")\n",
    "start_time = time.time()\n",
    "importance_scores = compute_gradient_importance(\n",
    "    teacher, student, train_loader, device, temperature=3.0, alpha=0.7, accumulation_epochs=3\n",
    ")\n",
    "total_time = time.time() - start_time\n",
    "print(f\"Total Time take to calculate Important scores: {total_time // 60:.0f}m {total_time % 60:.0f}s\")\n",
    "\n",
    "print(\"Pruning the model\")\n",
    "start_time = time.time()\n",
    "\n",
    "pruned_student = gradient_based_global_prune(student, importance_scores, prune_ratio=0.985)\n",
    "\n",
    "total_time = time.time() - start_time\n",
    "print(f\"Total Time take to prune the model scores: {total_time // 60:.0f}m {total_time % 60:.0f}s\")\n",
    "student = student.to(device)\n"
   ]
  },
  {
   "cell_type": "code",
   "execution_count": 158,
   "metadata": {},
   "outputs": [
    {
     "name": "stdout",
     "output_type": "stream",
     "text": [
      "Epoch 1/50 | Train Loss: 2.6612 | Train Acc: 65.64% | Val Loss: 0.5480 | Val Acc: 82.40% | Sparsity: 98.44%\n",
      "Epoch 2/50 | Train Loss: 0.9514 | Train Acc: 86.69% | Val Loss: 0.4627 | Val Acc: 86.02% | Sparsity: 98.44%\n",
      "Epoch 3/50 | Train Loss: 0.6657 | Train Acc: 90.71% | Val Loss: 0.4131 | Val Acc: 87.70% | Sparsity: 98.44%\n",
      "Epoch 4/50 | Train Loss: 0.5255 | Train Acc: 92.65% | Val Loss: 0.3982 | Val Acc: 88.38% | Sparsity: 98.44%\n",
      "Epoch 5/50 | Train Loss: 0.4301 | Train Acc: 94.25% | Val Loss: 0.3524 | Val Acc: 89.92% | Sparsity: 98.44%\n",
      "Epoch 6/50 | Train Loss: 0.3709 | Train Acc: 95.25% | Val Loss: 0.3269 | Val Acc: 90.65% | Sparsity: 98.44%\n",
      "Epoch 7/50 | Train Loss: 0.3241 | Train Acc: 95.95% | Val Loss: 0.3740 | Val Acc: 89.93% | Sparsity: 98.44%\n",
      "Epoch 8/50 | Train Loss: 0.2909 | Train Acc: 96.58% | Val Loss: 0.3932 | Val Acc: 89.41% | Sparsity: 98.44%\n",
      "Epoch 9/50 | Train Loss: 0.2487 | Train Acc: 97.23% | Val Loss: 0.3319 | Val Acc: 91.40% | Sparsity: 98.44%\n",
      "Epoch 10/50 | Train Loss: 0.2228 | Train Acc: 97.67% | Val Loss: 0.3542 | Val Acc: 90.74% | Sparsity: 98.44%\n",
      "Epoch 11/50 | Train Loss: 0.2050 | Train Acc: 98.03% | Val Loss: 0.3190 | Val Acc: 91.54% | Sparsity: 98.44%\n",
      "Epoch 12/50 | Train Loss: 0.1708 | Train Acc: 98.56% | Val Loss: 0.3133 | Val Acc: 91.63% | Sparsity: 98.44%\n",
      "Epoch 13/50 | Train Loss: 0.1616 | Train Acc: 98.67% | Val Loss: 0.3279 | Val Acc: 91.69% | Sparsity: 98.44%\n",
      "Epoch 14/50 | Train Loss: 0.1564 | Train Acc: 98.69% | Val Loss: 0.3124 | Val Acc: 91.76% | Sparsity: 98.44%\n",
      "Epoch 15/50 | Train Loss: 0.1456 | Train Acc: 98.89% | Val Loss: 0.3020 | Val Acc: 92.22% | Sparsity: 98.44%\n",
      "Epoch 16/50 | Train Loss: 0.1391 | Train Acc: 98.90% | Val Loss: 0.2962 | Val Acc: 92.34% | Sparsity: 98.44%\n",
      "Epoch 17/50 | Train Loss: 0.1328 | Train Acc: 99.05% | Val Loss: 0.2871 | Val Acc: 92.48% | Sparsity: 98.44%\n",
      "Epoch 18/50 | Train Loss: 0.1272 | Train Acc: 99.16% | Val Loss: 0.3082 | Val Acc: 92.12% | Sparsity: 98.44%\n",
      "Epoch 19/50 | Train Loss: 0.1240 | Train Acc: 99.06% | Val Loss: 0.2811 | Val Acc: 92.35% | Sparsity: 98.44%\n",
      "Epoch 20/50 | Train Loss: 0.1208 | Train Acc: 99.08% | Val Loss: 0.2825 | Val Acc: 92.39% | Sparsity: 98.44%\n",
      "Epoch 21/50 | Train Loss: 0.1173 | Train Acc: 99.14% | Val Loss: 0.3167 | Val Acc: 92.09% | Sparsity: 98.44%\n",
      "Epoch 22/50 | Train Loss: 0.1121 | Train Acc: 99.18% | Val Loss: 0.2658 | Val Acc: 92.73% | Sparsity: 98.44%\n",
      "Epoch 23/50 | Train Loss: 0.1113 | Train Acc: 99.19% | Val Loss: 0.3112 | Val Acc: 92.20% | Sparsity: 98.44%\n",
      "Epoch 24/50 | Train Loss: 0.1078 | Train Acc: 99.17% | Val Loss: 0.2749 | Val Acc: 92.70% | Sparsity: 98.44%\n",
      "Epoch 25/50 | Train Loss: 0.1057 | Train Acc: 99.17% | Val Loss: 0.2866 | Val Acc: 92.69% | Sparsity: 98.44%\n",
      "Epoch 26/50 | Train Loss: 0.1037 | Train Acc: 99.20% | Val Loss: 0.2870 | Val Acc: 92.72% | Sparsity: 98.44%\n",
      "Epoch 27/50 | Train Loss: 0.1007 | Train Acc: 99.26% | Val Loss: 0.2736 | Val Acc: 92.80% | Sparsity: 98.44%\n",
      "Epoch 28/50 | Train Loss: 0.0993 | Train Acc: 99.23% | Val Loss: 0.2821 | Val Acc: 92.74% | Sparsity: 98.44%\n",
      "Epoch 29/50 | Train Loss: 0.0990 | Train Acc: 99.25% | Val Loss: 0.2767 | Val Acc: 92.66% | Sparsity: 98.44%\n",
      "Epoch 30/50 | Train Loss: 0.0981 | Train Acc: 99.23% | Val Loss: 0.2801 | Val Acc: 92.48% | Sparsity: 98.44%\n",
      "Epoch 31/50 | Train Loss: 0.0960 | Train Acc: 99.25% | Val Loss: 0.2718 | Val Acc: 92.89% | Sparsity: 98.44%\n",
      "Epoch 32/50 | Train Loss: 0.0942 | Train Acc: 99.33% | Val Loss: 0.2754 | Val Acc: 92.62% | Sparsity: 98.44%\n",
      "Epoch 33/50 | Train Loss: 0.0948 | Train Acc: 99.19% | Val Loss: 0.2618 | Val Acc: 92.86% | Sparsity: 98.44%\n",
      "Epoch 34/50 | Train Loss: 0.0926 | Train Acc: 99.31% | Val Loss: 0.2778 | Val Acc: 92.77% | Sparsity: 98.44%\n",
      "Epoch 35/50 | Train Loss: 0.0932 | Train Acc: 99.24% | Val Loss: 0.2735 | Val Acc: 92.93% | Sparsity: 98.44%\n",
      "Epoch 36/50 | Train Loss: 0.0902 | Train Acc: 99.26% | Val Loss: 0.2702 | Val Acc: 92.81% | Sparsity: 98.44%\n",
      "Epoch 37/50 | Train Loss: 0.0889 | Train Acc: 99.28% | Val Loss: 0.2678 | Val Acc: 93.12% | Sparsity: 98.44%\n",
      "Epoch 38/50 | Train Loss: 0.0870 | Train Acc: 99.30% | Val Loss: 0.2714 | Val Acc: 92.74% | Sparsity: 98.44%\n",
      "Epoch 39/50 | Train Loss: 0.0863 | Train Acc: 99.33% | Val Loss: 0.2833 | Val Acc: 92.68% | Sparsity: 98.44%\n",
      "Epoch 40/50 | Train Loss: 0.0872 | Train Acc: 99.27% | Val Loss: 0.2865 | Val Acc: 92.62% | Sparsity: 98.44%\n",
      "Epoch 41/50 | Train Loss: 0.0856 | Train Acc: 99.25% | Val Loss: 0.2774 | Val Acc: 92.71% | Sparsity: 98.44%\n",
      "Epoch 42/50 | Train Loss: 0.0833 | Train Acc: 99.28% | Val Loss: 0.2714 | Val Acc: 92.81% | Sparsity: 98.44%\n",
      "Epoch 43/50 | Train Loss: 0.0850 | Train Acc: 99.28% | Val Loss: 0.2615 | Val Acc: 93.05% | Sparsity: 98.44%\n",
      "Epoch 44/50 | Train Loss: 0.0819 | Train Acc: 99.27% | Val Loss: 0.2986 | Val Acc: 92.49% | Sparsity: 98.44%\n",
      "Early stopping triggered at epoch 44. No improvement for 7 epochs.\n",
      "Student model saved before pruning at: pruned_student_retrain_KD_90%.pth\n",
      "Total Training Time: 50m 13s\n",
      "Retraining completed in 50.21 minutes (3012.68 seconds)\n"
     ]
    }
   ],
   "source": [
    "\n",
    "start_time = time.time()\n",
    "pruned_student = retrain_with_KD(\n",
    "    teacher, pruned_student, train_loader, val_loader,\n",
    "    epochs=50, temperature=3.0, alpha=0.7, beta_prob=0.5,patience=7,save_path=\"pruned_student_retrain_KD_90%.pth\"\n",
    ")\n",
    "end_time = time.time()\n",
    "elapsed_time = end_time - start_time\n",
    "\n",
    "print(f\"Retraining completed in {elapsed_time / 60:.2f} minutes ({elapsed_time:.2f} seconds)\")"
   ]
  },
  {
   "cell_type": "code",
   "execution_count": 159,
   "metadata": {},
   "outputs": [
    {
     "name": "stdout",
     "output_type": "stream",
     "text": [
      "Pruned Student Model Test Accuracy(Retrain with KD): 92.35%\n"
     ]
    }
   ],
   "source": [
    "student_accuracy = evaluate(pruned_student, test_loader, device)\n",
    "print(f\"Pruned Student Model Test Accuracy(Retrain with KD): {student_accuracy:.2f}%\")"
   ]
  },
  {
   "cell_type": "markdown",
   "metadata": {},
   "source": [
    "## 90% Sparsity"
   ]
  },
  {
   "cell_type": "code",
   "execution_count": 160,
   "metadata": {},
   "outputs": [
    {
     "data": {
      "text/plain": [
       "<All keys matched successfully>"
      ]
     },
     "execution_count": 160,
     "metadata": {},
     "output_type": "execute_result"
    }
   ],
   "source": [
    "\n",
    "model_path = 'student_before_pruning.pth'\n",
    "# Load the model weights\n",
    "student.load_state_dict(torch.load(model_path, map_location=torch.device('cpu')))"
   ]
  },
  {
   "cell_type": "code",
   "execution_count": 161,
   "metadata": {},
   "outputs": [
    {
     "name": "stdout",
     "output_type": "stream",
     "text": [
      "Calculating Important Scores\n",
      "Accumulation Epoch 1/3\n",
      "Accumulation Epoch 2/3\n",
      "Accumulation Epoch 3/3\n",
      "Total Time take to calculate Important scores: 3m 8s\n",
      "Pruning the model\n",
      "Total Time take to prune the model scores: 0m 0s\n"
     ]
    }
   ],
   "source": [
    "# Pruning\n",
    "print(\"Calculating Important Scores\")\n",
    "start_time = time.time()\n",
    "importance_scores = compute_gradient_importance(\n",
    "    teacher, student, train_loader, device, temperature=5.0, alpha=0.7, accumulation_epochs=3\n",
    ")\n",
    "total_time = time.time() - start_time\n",
    "print(f\"Total Time take to calculate Important scores: {total_time // 60:.0f}m {total_time % 60:.0f}s\")\n",
    "\n",
    "print(\"Pruning the model\")\n",
    "start_time = time.time()\n",
    "\n",
    "pruned_student = gradient_based_global_prune(student, importance_scores, prune_ratio=0.9008)\n",
    "\n",
    "total_time = time.time() - start_time\n",
    "print(f\"Total Time take to prune the model scores: {total_time // 60:.0f}m {total_time % 60:.0f}s\")\n",
    "student = student.to(device)\n"
   ]
  },
  {
   "cell_type": "code",
   "execution_count": 162,
   "metadata": {},
   "outputs": [
    {
     "name": "stdout",
     "output_type": "stream",
     "text": [
      "New best model saved with Val Accuracy: 93.68%\n",
      "Epoch 1/100 | Train Loss: 0.1977 | Train Acc: 94.02%\n",
      "Validation Loss: 0.1848 | Validation Acc: 93.68% | Sparsity: 90.02%\n",
      "\n",
      "New best model saved with Val Accuracy: 94.28%\n",
      "Epoch 2/100 | Train Loss: 0.0566 | Train Acc: 98.17%\n",
      "Validation Loss: 0.1798 | Validation Acc: 94.28% | Sparsity: 90.02%\n",
      "\n",
      "New best model saved with Val Accuracy: 94.48%\n",
      "Epoch 3/100 | Train Loss: 0.0225 | Train Acc: 99.36%\n",
      "Validation Loss: 0.1974 | Validation Acc: 94.48% | Sparsity: 90.02%\n",
      "\n",
      "New best model saved with Val Accuracy: 94.69%\n",
      "Epoch 4/100 | Train Loss: 0.0093 | Train Acc: 99.79%\n",
      "Validation Loss: 0.1963 | Validation Acc: 94.69% | Sparsity: 90.02%\n",
      "\n",
      "New best model saved with Val Accuracy: 94.83%\n",
      "Epoch 5/100 | Train Loss: 0.0039 | Train Acc: 99.94%\n",
      "Validation Loss: 0.2049 | Validation Acc: 94.83% | Sparsity: 90.02%\n",
      "\n",
      "New best model saved with Val Accuracy: 94.91%\n",
      "Epoch 6/100 | Train Loss: 0.0023 | Train Acc: 99.97%\n",
      "Validation Loss: 0.2079 | Validation Acc: 94.91% | Sparsity: 90.02%\n",
      "\n",
      "New best model saved with Val Accuracy: 94.96%\n",
      "Epoch 7/100 | Train Loss: 0.0018 | Train Acc: 99.97%\n",
      "Validation Loss: 0.2138 | Validation Acc: 94.96% | Sparsity: 90.02%\n",
      "\n",
      "New best model saved with Val Accuracy: 95.01%\n",
      "Epoch 8/100 | Train Loss: 0.0011 | Train Acc: 99.99%\n",
      "Validation Loss: 0.2114 | Validation Acc: 95.01% | Sparsity: 90.02%\n",
      "\n",
      "Epoch 9/100 | Train Loss: 0.0009 | Train Acc: 99.99%\n",
      "Validation Loss: 0.2191 | Validation Acc: 94.95% | Sparsity: 90.02%\n",
      "\n",
      "Epoch 10/100 | Train Loss: 0.0008 | Train Acc: 100.00%\n",
      "Validation Loss: 0.2187 | Validation Acc: 94.95% | Sparsity: 90.02%\n",
      "\n",
      "Epoch 11/100 | Train Loss: 0.0006 | Train Acc: 99.99%\n",
      "Validation Loss: 0.2195 | Validation Acc: 94.99% | Sparsity: 90.02%\n",
      "\n",
      "Epoch 12/100 | Train Loss: 0.0005 | Train Acc: 100.00%\n",
      "Validation Loss: 0.2208 | Validation Acc: 94.87% | Sparsity: 90.02%\n",
      "\n",
      "New best model saved with Val Accuracy: 95.02%\n",
      "Epoch 13/100 | Train Loss: 0.0004 | Train Acc: 100.00%\n",
      "Validation Loss: 0.2243 | Validation Acc: 95.02% | Sparsity: 90.02%\n",
      "\n",
      "New best model saved with Val Accuracy: 95.06%\n",
      "Epoch 14/100 | Train Loss: 0.0004 | Train Acc: 100.00%\n",
      "Validation Loss: 0.2263 | Validation Acc: 95.06% | Sparsity: 90.02%\n",
      "\n",
      "Epoch 15/100 | Train Loss: 0.0005 | Train Acc: 100.00%\n",
      "Validation Loss: 0.2285 | Validation Acc: 94.87% | Sparsity: 90.02%\n",
      "\n",
      "New best model saved with Val Accuracy: 95.09%\n",
      "Epoch 16/100 | Train Loss: 0.0004 | Train Acc: 100.00%\n",
      "Validation Loss: 0.2286 | Validation Acc: 95.09% | Sparsity: 90.02%\n",
      "\n",
      "Epoch 17/100 | Train Loss: 0.0003 | Train Acc: 100.00%\n",
      "Validation Loss: 0.2253 | Validation Acc: 95.06% | Sparsity: 90.02%\n",
      "\n",
      "Epoch 18/100 | Train Loss: 0.0004 | Train Acc: 100.00%\n",
      "Validation Loss: 0.2333 | Validation Acc: 94.97% | Sparsity: 90.02%\n",
      "\n",
      "Epoch 19/100 | Train Loss: 0.0002 | Train Acc: 100.00%\n",
      "Validation Loss: 0.2321 | Validation Acc: 94.93% | Sparsity: 90.02%\n",
      "\n",
      "Epoch 20/100 | Train Loss: 0.0002 | Train Acc: 100.00%\n",
      "Validation Loss: 0.2321 | Validation Acc: 94.97% | Sparsity: 90.02%\n",
      "\n",
      "Early stopping triggered at epoch 21. No improvement for 5 epochs.\n",
      "Best Validation Accuracy: 95.09% | Best Model Saved at: retrained_student_model_80.pt\n",
      "Retraining completed in 16.49 minutes (989.20 seconds)\n"
     ]
    }
   ],
   "source": [
    "start_time = time.time()\n",
    "retrained_student = retrain_with_sparsity(\n",
    "    pruned_student, train_loader, val_loader,\n",
    "    epochs=100,  save_path='retrained_student_model_80.pt',patience=5\n",
    ")\n",
    "end_time = time.time()\n",
    "elapsed_time = end_time - start_time\n",
    "\n",
    "print(f\"Retraining completed in {elapsed_time / 60:.2f} minutes ({elapsed_time:.2f} seconds)\")"
   ]
  },
  {
   "cell_type": "code",
   "execution_count": 163,
   "metadata": {},
   "outputs": [
    {
     "name": "stdout",
     "output_type": "stream",
     "text": [
      "Pruned Student Model Test Accuracy(Retrain without KD): 94.93%\n"
     ]
    }
   ],
   "source": [
    "student_accuracy = evaluate(retrained_student, test_loader, device)\n",
    "print(f\"Pruned Student Model Test Accuracy(Retrain without KD): {student_accuracy:.2f}%\")"
   ]
  },
  {
   "cell_type": "code",
   "execution_count": 164,
   "metadata": {},
   "outputs": [
    {
     "data": {
      "text/plain": [
       "<All keys matched successfully>"
      ]
     },
     "execution_count": 164,
     "metadata": {},
     "output_type": "execute_result"
    }
   ],
   "source": [
    "\n",
    "model_path = 'student_before_pruning.pth'\n",
    "# Load the model weights\n",
    "student.load_state_dict(torch.load(model_path, map_location=torch.device('cpu')))"
   ]
  },
  {
   "cell_type": "code",
   "execution_count": 165,
   "metadata": {},
   "outputs": [
    {
     "name": "stdout",
     "output_type": "stream",
     "text": [
      "Calculating Important Scores\n",
      "Accumulation Epoch 1/3\n",
      "Accumulation Epoch 2/3\n",
      "Accumulation Epoch 3/3\n",
      "Total Time take to calculate Important scores: 3m 6s\n",
      "Pruning the model\n",
      "Total Time take to prune the model scores: 0m 0s\n"
     ]
    }
   ],
   "source": [
    "# Pruning\n",
    "print(\"Calculating Important Scores\")\n",
    "start_time = time.time()\n",
    "importance_scores = compute_gradient_importance(\n",
    "    teacher, student, train_loader, device, temperature=5.0, alpha=0.7, accumulation_epochs=3\n",
    ")\n",
    "total_time = time.time() - start_time\n",
    "print(f\"Total Time take to calculate Important scores: {total_time // 60:.0f}m {total_time % 60:.0f}s\")\n",
    "\n",
    "print(\"Pruning the model\")\n",
    "start_time = time.time()\n",
    "\n",
    "pruned_student = gradient_based_global_prune(student, importance_scores, prune_ratio=0.9008)\n",
    "\n",
    "total_time = time.time() - start_time\n",
    "print(f\"Total Time take to prune the model scores: {total_time // 60:.0f}m {total_time % 60:.0f}s\")\n",
    "student = student.to(device)\n"
   ]
  },
  {
   "cell_type": "code",
   "execution_count": 166,
   "metadata": {},
   "outputs": [
    {
     "name": "stdout",
     "output_type": "stream",
     "text": [
      "Epoch 1/50 | Train Loss: 1.1616 | Train Acc: 93.50% | Val Loss: 0.3724 | Val Acc: 91.96% | Sparsity: 90.02%\n",
      "Epoch 2/50 | Train Loss: 0.5320 | Train Acc: 97.41% | Val Loss: 0.2245 | Val Acc: 93.68% | Sparsity: 90.02%\n",
      "Epoch 3/50 | Train Loss: 0.3489 | Train Acc: 98.59% | Val Loss: 0.1734 | Val Acc: 95.32% | Sparsity: 90.02%\n",
      "Epoch 4/50 | Train Loss: 0.2644 | Train Acc: 98.97% | Val Loss: 0.1605 | Val Acc: 95.51% | Sparsity: 90.02%\n",
      "Epoch 5/50 | Train Loss: 0.2258 | Train Acc: 99.07% | Val Loss: 0.1427 | Val Acc: 95.63% | Sparsity: 90.02%\n",
      "Epoch 6/50 | Train Loss: 0.1988 | Train Acc: 99.19% | Val Loss: 0.1443 | Val Acc: 95.64% | Sparsity: 90.02%\n",
      "Epoch 7/50 | Train Loss: 0.1842 | Train Acc: 99.12% | Val Loss: 0.1369 | Val Acc: 95.78% | Sparsity: 90.02%\n",
      "Epoch 8/50 | Train Loss: 0.1726 | Train Acc: 99.14% | Val Loss: 0.1327 | Val Acc: 95.87% | Sparsity: 90.02%\n",
      "Epoch 9/50 | Train Loss: 0.1608 | Train Acc: 99.18% | Val Loss: 0.1313 | Val Acc: 95.93% | Sparsity: 90.02%\n",
      "Epoch 10/50 | Train Loss: 0.1516 | Train Acc: 99.18% | Val Loss: 0.1334 | Val Acc: 95.85% | Sparsity: 90.02%\n",
      "Epoch 11/50 | Train Loss: 0.1459 | Train Acc: 99.14% | Val Loss: 0.1312 | Val Acc: 95.90% | Sparsity: 90.02%\n",
      "Epoch 12/50 | Train Loss: 0.1373 | Train Acc: 99.19% | Val Loss: 0.1264 | Val Acc: 95.97% | Sparsity: 90.02%\n",
      "Epoch 13/50 | Train Loss: 0.1354 | Train Acc: 99.12% | Val Loss: 0.1272 | Val Acc: 96.03% | Sparsity: 90.02%\n",
      "Epoch 14/50 | Train Loss: 0.1288 | Train Acc: 99.18% | Val Loss: 0.1279 | Val Acc: 95.96% | Sparsity: 90.02%\n",
      "Epoch 15/50 | Train Loss: 0.1251 | Train Acc: 99.17% | Val Loss: 0.1274 | Val Acc: 95.97% | Sparsity: 90.02%\n",
      "Epoch 16/50 | Train Loss: 0.1197 | Train Acc: 99.15% | Val Loss: 0.1258 | Val Acc: 95.97% | Sparsity: 90.02%\n",
      "Epoch 17/50 | Train Loss: 0.1172 | Train Acc: 99.22% | Val Loss: 0.1279 | Val Acc: 95.89% | Sparsity: 90.02%\n",
      "Epoch 18/50 | Train Loss: 0.1122 | Train Acc: 99.19% | Val Loss: 0.1345 | Val Acc: 95.76% | Sparsity: 90.02%\n",
      "Early stopping triggered at epoch 18. No improvement for 5 epochs.\n",
      "Student model saved before pruning at: pruned_student_retrain_KD_90%.pth\n",
      "Total Training Time: 20m 10s\n",
      "Retraining completed in 20.17 minutes (1210.18 seconds)\n"
     ]
    }
   ],
   "source": [
    "\n",
    "start_time = time.time()\n",
    "pruned_student = retrain_with_KD(\n",
    "    teacher, pruned_student, train_loader, val_loader,\n",
    "    epochs=50, temperature=5.0, alpha=0.7, beta_prob=0.5,patience=5,save_path=\"pruned_student_retrain_KD_90%.pth\"\n",
    ")\n",
    "end_time = time.time()\n",
    "elapsed_time = end_time - start_time\n",
    "\n",
    "print(f\"Retraining completed in {elapsed_time / 60:.2f} minutes ({elapsed_time:.2f} seconds)\")"
   ]
  },
  {
   "cell_type": "code",
   "execution_count": 167,
   "metadata": {},
   "outputs": [
    {
     "name": "stdout",
     "output_type": "stream",
     "text": [
      "Pruned Student Model Test Accuracy(Retrain with KD): 95.67%\n"
     ]
    }
   ],
   "source": [
    "student_accuracy = evaluate(pruned_student, test_loader, device)\n",
    "print(f\"Pruned Student Model Test Accuracy(Retrain with KD): {student_accuracy:.2f}%\")"
   ]
  },
  {
   "cell_type": "code",
   "execution_count": 168,
   "metadata": {},
   "outputs": [
    {
     "data": {
      "text/plain": [
       "<All keys matched successfully>"
      ]
     },
     "execution_count": 168,
     "metadata": {},
     "output_type": "execute_result"
    }
   ],
   "source": [
    "\n",
    "model_path = 'student_before_pruning.pth'\n",
    "# Load the model weights\n",
    "student.load_state_dict(torch.load(model_path, map_location=torch.device('cpu')))"
   ]
  },
  {
   "cell_type": "code",
   "execution_count": 169,
   "metadata": {},
   "outputs": [
    {
     "name": "stdout",
     "output_type": "stream",
     "text": [
      "Calculating Important Scores\n",
      "Accumulation Epoch 1/3\n",
      "Accumulation Epoch 2/3\n",
      "Accumulation Epoch 3/3\n",
      "Total Time take to calculate Important scores: 3m 10s\n",
      "Pruning the model\n",
      "Total Time take to prune the model scores: 0m 0s\n"
     ]
    }
   ],
   "source": [
    "# Pruning\n",
    "print(\"Calculating Important Scores\")\n",
    "start_time = time.time()\n",
    "importance_scores = compute_gradient_importance(\n",
    "    teacher, student, train_loader, device, temperature=3.0, alpha=0.7, accumulation_epochs=3\n",
    ")\n",
    "total_time = time.time() - start_time\n",
    "print(f\"Total Time take to calculate Important scores: {total_time // 60:.0f}m {total_time % 60:.0f}s\")\n",
    "\n",
    "print(\"Pruning the model\")\n",
    "start_time = time.time()\n",
    "\n",
    "pruned_student = gradient_based_global_prune(student, importance_scores, prune_ratio=0.9008)\n",
    "\n",
    "total_time = time.time() - start_time\n",
    "print(f\"Total Time take to prune the model scores: {total_time // 60:.0f}m {total_time % 60:.0f}s\")\n",
    "student = student.to(device)\n"
   ]
  },
  {
   "cell_type": "code",
   "execution_count": 170,
   "metadata": {},
   "outputs": [
    {
     "name": "stdout",
     "output_type": "stream",
     "text": [
      "Epoch 1/50 | Train Loss: 0.2726 | Train Acc: 96.58% | Val Loss: 0.1575 | Val Acc: 95.00% | Sparsity: 90.02%\n",
      "Epoch 2/50 | Train Loss: 0.1170 | Train Acc: 98.89% | Val Loss: 0.1486 | Val Acc: 95.67% | Sparsity: 90.02%\n",
      "Epoch 3/50 | Train Loss: 0.0883 | Train Acc: 99.28% | Val Loss: 0.1347 | Val Acc: 95.83% | Sparsity: 90.02%\n",
      "Epoch 4/50 | Train Loss: 0.0773 | Train Acc: 99.31% | Val Loss: 0.1365 | Val Acc: 95.86% | Sparsity: 90.02%\n",
      "Epoch 5/50 | Train Loss: 0.0714 | Train Acc: 99.37% | Val Loss: 0.1366 | Val Acc: 95.83% | Sparsity: 90.02%\n",
      "Epoch 6/50 | Train Loss: 0.0674 | Train Acc: 99.30% | Val Loss: 0.1334 | Val Acc: 96.01% | Sparsity: 90.02%\n",
      "Epoch 7/50 | Train Loss: 0.0632 | Train Acc: 99.36% | Val Loss: 0.1328 | Val Acc: 95.94% | Sparsity: 90.02%\n",
      "Epoch 8/50 | Train Loss: 0.0600 | Train Acc: 99.39% | Val Loss: 0.1314 | Val Acc: 95.88% | Sparsity: 90.02%\n",
      "Epoch 9/50 | Train Loss: 0.0583 | Train Acc: 99.38% | Val Loss: 0.1315 | Val Acc: 95.90% | Sparsity: 90.02%\n",
      "Epoch 10/50 | Train Loss: 0.0568 | Train Acc: 99.33% | Val Loss: 0.1299 | Val Acc: 95.98% | Sparsity: 90.02%\n",
      "Epoch 11/50 | Train Loss: 0.0551 | Train Acc: 99.38% | Val Loss: 0.1285 | Val Acc: 95.98% | Sparsity: 90.02%\n",
      "Early stopping triggered at epoch 11. No improvement for 5 epochs.\n",
      "Student model saved before pruning at: pruned_student_retrain_KD_90%.pth\n",
      "Total Training Time: 12m 30s\n",
      "Retraining completed in 12.50 minutes (749.80 seconds)\n"
     ]
    }
   ],
   "source": [
    "\n",
    "start_time = time.time()\n",
    "pruned_student = retrain_with_KD(\n",
    "    teacher, pruned_student, train_loader, val_loader,\n",
    "    epochs=50, temperature=3.0, alpha=0.7, beta_prob=0.5,patience=5,save_path=\"pruned_student_retrain_KD_90%.pth\"\n",
    ")\n",
    "end_time = time.time()\n",
    "elapsed_time = end_time - start_time\n",
    "\n",
    "print(f\"Retraining completed in {elapsed_time / 60:.2f} minutes ({elapsed_time:.2f} seconds)\")"
   ]
  },
  {
   "cell_type": "code",
   "execution_count": 171,
   "metadata": {},
   "outputs": [
    {
     "name": "stdout",
     "output_type": "stream",
     "text": [
      "Pruned Student Model Test Accuracy(Retrain with KD): 95.71%\n"
     ]
    }
   ],
   "source": [
    "student_accuracy = evaluate(pruned_student, test_loader, device)\n",
    "print(f\"Pruned Student Model Test Accuracy(Retrain with KD): {student_accuracy:.2f}%\")"
   ]
  },
  {
   "cell_type": "markdown",
   "metadata": {},
   "source": [
    "# 80% Sparsity"
   ]
  },
  {
   "cell_type": "code",
   "execution_count": 172,
   "metadata": {},
   "outputs": [
    {
     "data": {
      "text/plain": [
       "<All keys matched successfully>"
      ]
     },
     "execution_count": 172,
     "metadata": {},
     "output_type": "execute_result"
    }
   ],
   "source": [
    "\n",
    "model_path = 'student_before_pruning.pth'\n",
    "# Load the model weights\n",
    "student.load_state_dict(torch.load(model_path, map_location=torch.device('cpu')))"
   ]
  },
  {
   "cell_type": "code",
   "execution_count": 173,
   "metadata": {},
   "outputs": [
    {
     "name": "stdout",
     "output_type": "stream",
     "text": [
      "Calculating Important Scores\n",
      "Accumulation Epoch 1/3\n",
      "Accumulation Epoch 2/3\n",
      "Accumulation Epoch 3/3\n",
      "Total Time take to calculate Important scores: 3m 10s\n",
      "Pruning the model\n",
      "Total Time take to prune the model scores: 0m 0s\n"
     ]
    }
   ],
   "source": [
    "# Pruning\n",
    "print(\"Calculating Important Scores\")\n",
    "start_time = time.time()\n",
    "importance_scores = compute_gradient_importance(\n",
    "    teacher, student, train_loader, device, temperature=5.0, alpha=0.7, accumulation_epochs=3\n",
    ")\n",
    "total_time = time.time() - start_time\n",
    "print(f\"Total Time take to calculate Important scores: {total_time // 60:.0f}m {total_time % 60:.0f}s\")\n",
    "\n",
    "print(\"Pruning the model\")\n",
    "start_time = time.time()\n",
    "\n",
    "pruned_student = gradient_based_global_prune(student, importance_scores, prune_ratio=0.8007)\n",
    "\n",
    "total_time = time.time() - start_time\n",
    "print(f\"Total Time take to prune the model scores: {total_time // 60:.0f}m {total_time % 60:.0f}s\")\n",
    "student = student.to(device)\n"
   ]
  },
  {
   "cell_type": "code",
   "execution_count": 174,
   "metadata": {},
   "outputs": [
    {
     "name": "stdout",
     "output_type": "stream",
     "text": [
      "Student Model Test Accuracy After Pruning: 12.84%\n"
     ]
    }
   ],
   "source": [
    "student_accuracy = evaluate(pruned_student, test_loader, device)\n",
    "print(f\"Student Model Test Accuracy After Pruning: {student_accuracy:.2f}%\")"
   ]
  },
  {
   "cell_type": "code",
   "execution_count": 175,
   "metadata": {},
   "outputs": [
    {
     "name": "stdout",
     "output_type": "stream",
     "text": [
      "New best model saved with Val Accuracy: 95.79%\n",
      "Epoch 1/100 | Train Loss: 0.0466 | Train Acc: 98.57%\n",
      "Validation Loss: 0.1331 | Validation Acc: 95.79% | Sparsity: 80.02%\n",
      "\n",
      "New best model saved with Val Accuracy: 96.12%\n",
      "Epoch 2/100 | Train Loss: 0.0105 | Train Acc: 99.72%\n",
      "Validation Loss: 0.1369 | Validation Acc: 96.12% | Sparsity: 80.02%\n",
      "\n",
      "New best model saved with Val Accuracy: 96.15%\n",
      "Epoch 3/100 | Train Loss: 0.0032 | Train Acc: 99.94%\n",
      "Validation Loss: 0.1426 | Validation Acc: 96.15% | Sparsity: 80.02%\n",
      "\n",
      "New best model saved with Val Accuracy: 96.22%\n",
      "Epoch 4/100 | Train Loss: 0.0015 | Train Acc: 99.99%\n",
      "Validation Loss: 0.1488 | Validation Acc: 96.22% | Sparsity: 80.02%\n",
      "\n",
      "Epoch 5/100 | Train Loss: 0.0008 | Train Acc: 100.00%\n",
      "Validation Loss: 0.1526 | Validation Acc: 96.18% | Sparsity: 80.02%\n",
      "\n",
      "New best model saved with Val Accuracy: 96.35%\n",
      "Epoch 6/100 | Train Loss: 0.0006 | Train Acc: 100.00%\n",
      "Validation Loss: 0.1553 | Validation Acc: 96.35% | Sparsity: 80.02%\n",
      "\n",
      "Epoch 7/100 | Train Loss: 0.0006 | Train Acc: 100.00%\n",
      "Validation Loss: 0.1575 | Validation Acc: 96.19% | Sparsity: 80.02%\n",
      "\n",
      "Epoch 8/100 | Train Loss: 0.0004 | Train Acc: 100.00%\n",
      "Validation Loss: 0.1568 | Validation Acc: 96.22% | Sparsity: 80.02%\n",
      "\n",
      "Epoch 9/100 | Train Loss: 0.0004 | Train Acc: 100.00%\n",
      "Validation Loss: 0.1612 | Validation Acc: 96.34% | Sparsity: 80.02%\n",
      "\n",
      "Epoch 10/100 | Train Loss: 0.0003 | Train Acc: 100.00%\n",
      "Validation Loss: 0.1600 | Validation Acc: 96.35% | Sparsity: 80.02%\n",
      "\n",
      "New best model saved with Val Accuracy: 96.37%\n",
      "Epoch 11/100 | Train Loss: 0.0003 | Train Acc: 100.00%\n",
      "Validation Loss: 0.1619 | Validation Acc: 96.37% | Sparsity: 80.02%\n",
      "\n",
      "Epoch 12/100 | Train Loss: 0.0002 | Train Acc: 100.00%\n",
      "Validation Loss: 0.1619 | Validation Acc: 96.33% | Sparsity: 80.02%\n",
      "\n",
      "Epoch 13/100 | Train Loss: 0.0003 | Train Acc: 100.00%\n",
      "Validation Loss: 0.1630 | Validation Acc: 96.23% | Sparsity: 80.02%\n",
      "\n",
      "Epoch 14/100 | Train Loss: 0.0002 | Train Acc: 100.00%\n",
      "Validation Loss: 0.1630 | Validation Acc: 96.33% | Sparsity: 80.02%\n",
      "\n",
      "Epoch 15/100 | Train Loss: 0.0002 | Train Acc: 100.00%\n",
      "Validation Loss: 0.1640 | Validation Acc: 96.26% | Sparsity: 80.02%\n",
      "\n",
      "Early stopping triggered at epoch 16. No improvement for 5 epochs.\n",
      "Best Validation Accuracy: 96.37% | Best Model Saved at: retrained_student_model_80.pt\n",
      "Retraining completed in 13.07 minutes (784.13 seconds)\n"
     ]
    }
   ],
   "source": [
    "start_time = time.time()\n",
    "retrained_student = retrain_with_sparsity(\n",
    "    pruned_student, train_loader, val_loader,\n",
    "    epochs=100,  save_path='retrained_student_model_80.pt',patience=5\n",
    ")\n",
    "end_time = time.time()\n",
    "elapsed_time = end_time - start_time\n",
    "\n",
    "print(f\"Retraining completed in {elapsed_time / 60:.2f} minutes ({elapsed_time:.2f} seconds)\")"
   ]
  },
  {
   "cell_type": "code",
   "execution_count": 176,
   "metadata": {},
   "outputs": [
    {
     "name": "stdout",
     "output_type": "stream",
     "text": [
      "Pruned Student Model Test Accuracy(Retrain without KD): 96.03%\n"
     ]
    }
   ],
   "source": [
    "student_accuracy = evaluate(retrained_student, test_loader, device)\n",
    "print(f\"Pruned Student Model Test Accuracy(Retrain without KD): {student_accuracy:.2f}%\")"
   ]
  },
  {
   "cell_type": "code",
   "execution_count": 177,
   "metadata": {},
   "outputs": [],
   "source": [
    "# # Measure inference times\n",
    "# pruned_student_inference_time = measure_inference_time(pruned_student, test_loader, device)\n",
    "# print(f\"Student Model Inference Time(After Pruning): {pruned_student_inference_time * 1000:.2f} ms per batch\")"
   ]
  },
  {
   "cell_type": "code",
   "execution_count": 178,
   "metadata": {},
   "outputs": [
    {
     "data": {
      "text/plain": [
       "<All keys matched successfully>"
      ]
     },
     "execution_count": 178,
     "metadata": {},
     "output_type": "execute_result"
    }
   ],
   "source": [
    "\n",
    "model_path = 'student_before_pruning.pth'\n",
    "# Load the model weights\n",
    "student.load_state_dict(torch.load(model_path, map_location=torch.device('cpu')))"
   ]
  },
  {
   "cell_type": "code",
   "execution_count": 179,
   "metadata": {},
   "outputs": [
    {
     "name": "stdout",
     "output_type": "stream",
     "text": [
      "Calculating Important Scores\n",
      "Accumulation Epoch 1/3\n",
      "Accumulation Epoch 2/3\n",
      "Accumulation Epoch 3/3\n",
      "Total Time take to calculate Important scores: 3m 7s\n",
      "Pruning the model\n",
      "Total Time take to prune the model scores: 0m 0s\n"
     ]
    }
   ],
   "source": [
    "# Pruning\n",
    "print(\"Calculating Important Scores\")\n",
    "start_time = time.time()\n",
    "importance_scores = compute_gradient_importance(\n",
    "    teacher, student, train_loader, device, temperature=5.0, alpha=0.7, accumulation_epochs=3\n",
    ")\n",
    "total_time = time.time() - start_time\n",
    "print(f\"Total Time take to calculate Important scores: {total_time // 60:.0f}m {total_time % 60:.0f}s\")\n",
    "\n",
    "print(\"Pruning the model\")\n",
    "start_time = time.time()\n",
    "\n",
    "pruned_student = gradient_based_global_prune(student, importance_scores, prune_ratio=0.8007)\n",
    "\n",
    "total_time = time.time() - start_time\n",
    "print(f\"Total Time take to prune the model scores: {total_time // 60:.0f}m {total_time % 60:.0f}s\")\n",
    "student = student.to(device)\n"
   ]
  },
  {
   "cell_type": "code",
   "execution_count": 180,
   "metadata": {},
   "outputs": [
    {
     "name": "stdout",
     "output_type": "stream",
     "text": [
      "Epoch 1/50 | Train Loss: 0.3333 | Train Acc: 98.43% | Val Loss: 0.1459 | Val Acc: 95.68% | Sparsity: 80.02%\n",
      "Epoch 2/50 | Train Loss: 0.2014 | Train Acc: 99.08% | Val Loss: 0.1249 | Val Acc: 96.26% | Sparsity: 80.02%\n",
      "Epoch 3/50 | Train Loss: 0.1578 | Train Acc: 99.14% | Val Loss: 0.1168 | Val Acc: 96.26% | Sparsity: 80.02%\n",
      "Epoch 4/50 | Train Loss: 0.1377 | Train Acc: 99.22% | Val Loss: 0.1150 | Val Acc: 96.27% | Sparsity: 80.02%\n",
      "Epoch 5/50 | Train Loss: 0.1253 | Train Acc: 99.22% | Val Loss: 0.1156 | Val Acc: 96.31% | Sparsity: 80.02%\n",
      "Epoch 6/50 | Train Loss: 0.1169 | Train Acc: 99.17% | Val Loss: 0.1175 | Val Acc: 96.26% | Sparsity: 80.02%\n",
      "Epoch 7/50 | Train Loss: 0.1119 | Train Acc: 99.18% | Val Loss: 0.1137 | Val Acc: 96.39% | Sparsity: 80.02%\n",
      "Epoch 8/50 | Train Loss: 0.1032 | Train Acc: 99.17% | Val Loss: 0.1100 | Val Acc: 96.52% | Sparsity: 80.02%\n",
      "Epoch 9/50 | Train Loss: 0.0988 | Train Acc: 99.20% | Val Loss: 0.1109 | Val Acc: 96.51% | Sparsity: 80.02%\n",
      "Epoch 10/50 | Train Loss: 0.0955 | Train Acc: 99.19% | Val Loss: 0.1140 | Val Acc: 96.39% | Sparsity: 80.02%\n",
      "Epoch 11/50 | Train Loss: 0.0922 | Train Acc: 99.22% | Val Loss: 0.1124 | Val Acc: 96.50% | Sparsity: 80.02%\n",
      "Epoch 12/50 | Train Loss: 0.0865 | Train Acc: 99.20% | Val Loss: 0.1124 | Val Acc: 96.49% | Sparsity: 80.02%\n",
      "Epoch 13/50 | Train Loss: 0.0844 | Train Acc: 99.25% | Val Loss: 0.1111 | Val Acc: 96.54% | Sparsity: 80.02%\n",
      "Epoch 14/50 | Train Loss: 0.0826 | Train Acc: 99.21% | Val Loss: 0.1120 | Val Acc: 96.45% | Sparsity: 80.02%\n",
      "Epoch 15/50 | Train Loss: 0.0795 | Train Acc: 99.22% | Val Loss: 0.1121 | Val Acc: 96.46% | Sparsity: 80.02%\n",
      "Epoch 16/50 | Train Loss: 0.0781 | Train Acc: 99.22% | Val Loss: 0.1095 | Val Acc: 96.54% | Sparsity: 80.02%\n",
      "Epoch 17/50 | Train Loss: 0.0775 | Train Acc: 99.19% | Val Loss: 0.1112 | Val Acc: 96.49% | Sparsity: 80.02%\n",
      "Epoch 18/50 | Train Loss: 0.0744 | Train Acc: 99.22% | Val Loss: 0.1102 | Val Acc: 96.39% | Sparsity: 80.02%\n",
      "Early stopping triggered at epoch 18. No improvement for 5 epochs.\n",
      "Student model saved before pruning at: pruned_student_retrain_KD_90%.pth\n",
      "Total Training Time: 20m 13s\n",
      "Retraining completed in 20.21 minutes (1212.87 seconds)\n"
     ]
    }
   ],
   "source": [
    "\n",
    "start_time = time.time()\n",
    "pruned_student = retrain_with_KD(\n",
    "    teacher, pruned_student, train_loader, val_loader,\n",
    "    epochs=50, temperature=5.0, alpha=0.7, beta_prob=0.5,patience=5,save_path=\"pruned_student_retrain_KD_90%.pth\"\n",
    ")\n",
    "end_time = time.time()\n",
    "elapsed_time = end_time - start_time\n",
    "\n",
    "print(f\"Retraining completed in {elapsed_time / 60:.2f} minutes ({elapsed_time:.2f} seconds)\")"
   ]
  },
  {
   "cell_type": "code",
   "execution_count": 181,
   "metadata": {},
   "outputs": [
    {
     "name": "stdout",
     "output_type": "stream",
     "text": [
      "Pruned Student Model Test Accuracy(Retrain with KD): 96.12%\n"
     ]
    }
   ],
   "source": [
    "student_accuracy = evaluate(pruned_student, test_loader, device)\n",
    "print(f\"Pruned Student Model Test Accuracy(Retrain with KD): {student_accuracy:.2f}%\")"
   ]
  },
  {
   "cell_type": "code",
   "execution_count": 182,
   "metadata": {},
   "outputs": [
    {
     "data": {
      "text/plain": [
       "<All keys matched successfully>"
      ]
     },
     "execution_count": 182,
     "metadata": {},
     "output_type": "execute_result"
    }
   ],
   "source": [
    "\n",
    "model_path = 'student_before_pruning.pth'\n",
    "# Load the model weights\n",
    "student.load_state_dict(torch.load(model_path, map_location=torch.device('cpu')))"
   ]
  },
  {
   "cell_type": "code",
   "execution_count": 183,
   "metadata": {},
   "outputs": [
    {
     "name": "stdout",
     "output_type": "stream",
     "text": [
      "Calculating Important Scores\n",
      "Accumulation Epoch 1/3\n",
      "Accumulation Epoch 2/3\n",
      "Accumulation Epoch 3/3\n",
      "Total Time take to calculate Important scores: 3m 4s\n",
      "Pruning the model\n",
      "Total Time take to prune the model scores: 0m 0s\n"
     ]
    }
   ],
   "source": [
    "# Pruning\n",
    "print(\"Calculating Important Scores\")\n",
    "start_time = time.time()\n",
    "importance_scores = compute_gradient_importance(\n",
    "    teacher, student, train_loader, device, temperature=3.0, alpha=0.7, accumulation_epochs=3\n",
    ")\n",
    "total_time = time.time() - start_time\n",
    "print(f\"Total Time take to calculate Important scores: {total_time // 60:.0f}m {total_time % 60:.0f}s\")\n",
    "\n",
    "print(\"Pruning the model\")\n",
    "start_time = time.time()\n",
    "\n",
    "pruned_student = gradient_based_global_prune(student, importance_scores, prune_ratio=0.8007)\n",
    "\n",
    "total_time = time.time() - start_time\n",
    "print(f\"Total Time take to prune the model scores: {total_time // 60:.0f}m {total_time % 60:.0f}s\")\n",
    "student = student.to(device)\n"
   ]
  },
  {
   "cell_type": "code",
   "execution_count": 184,
   "metadata": {},
   "outputs": [
    {
     "name": "stdout",
     "output_type": "stream",
     "text": [
      "Epoch 1/50 | Train Loss: 0.0948 | Train Acc: 98.97% | Val Loss: 0.1190 | Val Acc: 96.04% | Sparsity: 80.02%\n",
      "Epoch 2/50 | Train Loss: 0.0580 | Train Acc: 99.40% | Val Loss: 0.1113 | Val Acc: 96.46% | Sparsity: 80.02%\n",
      "Epoch 3/50 | Train Loss: 0.0511 | Train Acc: 99.43% | Val Loss: 0.1103 | Val Acc: 96.46% | Sparsity: 80.02%\n",
      "Epoch 4/50 | Train Loss: 0.0466 | Train Acc: 99.41% | Val Loss: 0.1089 | Val Acc: 96.56% | Sparsity: 80.02%\n",
      "Epoch 5/50 | Train Loss: 0.0433 | Train Acc: 99.42% | Val Loss: 0.1114 | Val Acc: 96.46% | Sparsity: 80.02%\n",
      "Epoch 6/50 | Train Loss: 0.0417 | Train Acc: 99.44% | Val Loss: 0.1097 | Val Acc: 96.49% | Sparsity: 80.02%\n",
      "Epoch 7/50 | Train Loss: 0.0406 | Train Acc: 99.45% | Val Loss: 0.1113 | Val Acc: 96.51% | Sparsity: 80.02%\n",
      "Epoch 8/50 | Train Loss: 0.0392 | Train Acc: 99.42% | Val Loss: 0.1094 | Val Acc: 96.53% | Sparsity: 80.02%\n",
      "Epoch 9/50 | Train Loss: 0.0380 | Train Acc: 99.45% | Val Loss: 0.1104 | Val Acc: 96.48% | Sparsity: 80.02%\n",
      "Early stopping triggered at epoch 9. No improvement for 5 epochs.\n",
      "Student model saved before pruning at: pruned_student_retrain_KD_90%.pth\n",
      "Total Training Time: 10m 9s\n",
      "Retraining completed in 10.15 minutes (608.73 seconds)\n"
     ]
    }
   ],
   "source": [
    "\n",
    "start_time = time.time()\n",
    "pruned_student = retrain_with_KD(\n",
    "    teacher, pruned_student, train_loader, val_loader,\n",
    "    epochs=50, temperature=3.0, alpha=0.7, beta_prob=0.5,patience=5,save_path=\"pruned_student_retrain_KD_90%.pth\"\n",
    ")\n",
    "end_time = time.time()\n",
    "elapsed_time = end_time - start_time\n",
    "\n",
    "print(f\"Retraining completed in {elapsed_time / 60:.2f} minutes ({elapsed_time:.2f} seconds)\")"
   ]
  },
  {
   "cell_type": "code",
   "execution_count": 185,
   "metadata": {},
   "outputs": [
    {
     "name": "stdout",
     "output_type": "stream",
     "text": [
      "Pruned Student Model Test Accuracy(Retrain with KD): 96.08%\n"
     ]
    }
   ],
   "source": [
    "student_accuracy = evaluate(pruned_student, test_loader, device)\n",
    "print(f\"Pruned Student Model Test Accuracy(Retrain with KD): {student_accuracy:.2f}%\")"
   ]
  },
  {
   "cell_type": "markdown",
   "metadata": {},
   "source": [
    "# 75% of Sparsity"
   ]
  },
  {
   "cell_type": "code",
   "execution_count": 186,
   "metadata": {},
   "outputs": [
    {
     "data": {
      "text/plain": [
       "<All keys matched successfully>"
      ]
     },
     "execution_count": 186,
     "metadata": {},
     "output_type": "execute_result"
    }
   ],
   "source": [
    "\n",
    "model_path = 'student_before_pruning.pth'\n",
    "# Load the model weights\n",
    "student.load_state_dict(torch.load(model_path, map_location=torch.device('cpu')))"
   ]
  },
  {
   "cell_type": "code",
   "execution_count": 187,
   "metadata": {},
   "outputs": [
    {
     "name": "stdout",
     "output_type": "stream",
     "text": [
      "Calculating Important Scores\n",
      "Accumulation Epoch 1/3\n",
      "Accumulation Epoch 2/3\n",
      "Accumulation Epoch 3/3\n",
      "Total Time take to calculate Important scores: 3m 9s\n",
      "Pruning the model\n",
      "Total Time take to prune the model scores: 0m 0s\n"
     ]
    }
   ],
   "source": [
    "# Pruning\n",
    "print(\"Calculating Important Scores\")\n",
    "start_time = time.time()\n",
    "importance_scores = compute_gradient_importance(\n",
    "    teacher, student, train_loader, device, temperature=5.0, alpha=0.7, accumulation_epochs=3\n",
    ")\n",
    "total_time = time.time() - start_time\n",
    "print(f\"Total Time take to calculate Important scores: {total_time // 60:.0f}m {total_time % 60:.0f}s\")\n",
    "\n",
    "print(\"Pruning the model\")\n",
    "start_time = time.time()\n",
    "\n",
    "pruned_student = gradient_based_global_prune(student, importance_scores, prune_ratio=0.75062)\n",
    "\n",
    "total_time = time.time() - start_time\n",
    "print(f\"Total Time take to prune the model scores: {total_time // 60:.0f}m {total_time % 60:.0f}s\")\n",
    "student = student.to(device)\n"
   ]
  },
  {
   "cell_type": "code",
   "execution_count": 188,
   "metadata": {},
   "outputs": [
    {
     "name": "stdout",
     "output_type": "stream",
     "text": [
      "Student Model Test Accuracy After Pruning: 10.17%\n"
     ]
    }
   ],
   "source": [
    "student_accuracy = evaluate(pruned_student, test_loader, device)\n",
    "print(f\"Student Model Test Accuracy After Pruning: {student_accuracy:.2f}%\")"
   ]
  },
  {
   "cell_type": "code",
   "execution_count": 189,
   "metadata": {},
   "outputs": [
    {
     "name": "stdout",
     "output_type": "stream",
     "text": [
      "New best model saved with Val Accuracy: 96.15%\n",
      "Epoch 1/100 | Train Loss: 0.0305 | Train Acc: 99.06%\n",
      "Validation Loss: 0.1224 | Validation Acc: 96.15% | Sparsity: 75.01%\n",
      "\n",
      "New best model saved with Val Accuracy: 96.45%\n",
      "Epoch 2/100 | Train Loss: 0.0067 | Train Acc: 99.81%\n",
      "Validation Loss: 0.1289 | Validation Acc: 96.45% | Sparsity: 75.01%\n",
      "\n",
      "New best model saved with Val Accuracy: 96.51%\n",
      "Epoch 3/100 | Train Loss: 0.0022 | Train Acc: 99.97%\n",
      "Validation Loss: 0.1352 | Validation Acc: 96.51% | Sparsity: 75.01%\n",
      "\n",
      "Epoch 4/100 | Train Loss: 0.0011 | Train Acc: 99.99%\n",
      "Validation Loss: 0.1427 | Validation Acc: 96.48% | Sparsity: 75.01%\n",
      "\n",
      "New best model saved with Val Accuracy: 96.54%\n",
      "Epoch 5/100 | Train Loss: 0.0007 | Train Acc: 100.00%\n",
      "Validation Loss: 0.1419 | Validation Acc: 96.54% | Sparsity: 75.01%\n",
      "\n",
      "Epoch 6/100 | Train Loss: 0.0004 | Train Acc: 100.00%\n",
      "Validation Loss: 0.1436 | Validation Acc: 96.48% | Sparsity: 75.01%\n",
      "\n",
      "New best model saved with Val Accuracy: 96.59%\n",
      "Epoch 7/100 | Train Loss: 0.0004 | Train Acc: 100.00%\n",
      "Validation Loss: 0.1441 | Validation Acc: 96.59% | Sparsity: 75.01%\n",
      "\n",
      "Epoch 8/100 | Train Loss: 0.0003 | Train Acc: 100.00%\n",
      "Validation Loss: 0.1477 | Validation Acc: 96.51% | Sparsity: 75.01%\n",
      "\n",
      "Epoch 9/100 | Train Loss: 0.0003 | Train Acc: 100.00%\n",
      "Validation Loss: 0.1488 | Validation Acc: 96.54% | Sparsity: 75.01%\n",
      "\n",
      "Epoch 10/100 | Train Loss: 0.0002 | Train Acc: 100.00%\n",
      "Validation Loss: 0.1509 | Validation Acc: 96.57% | Sparsity: 75.01%\n",
      "\n",
      "Epoch 11/100 | Train Loss: 0.0002 | Train Acc: 100.00%\n",
      "Validation Loss: 0.1523 | Validation Acc: 96.53% | Sparsity: 75.01%\n",
      "\n",
      "Early stopping triggered at epoch 12. No improvement for 5 epochs.\n",
      "Best Validation Accuracy: 96.59% | Best Model Saved at: retrained_student_model_75.pt\n",
      "Retraining completed in 9.62 minutes (577.42 seconds)\n"
     ]
    }
   ],
   "source": [
    "start_time = time.time()\n",
    "retrained_student = retrain_with_sparsity(\n",
    "    pruned_student, train_loader, val_loader,\n",
    "    epochs=100,  save_path='retrained_student_model_75.pt',patience=5\n",
    ")\n",
    "end_time = time.time()\n",
    "elapsed_time = end_time - start_time\n",
    "\n",
    "print(f\"Retraining completed in {elapsed_time / 60:.2f} minutes ({elapsed_time:.2f} seconds)\")"
   ]
  },
  {
   "cell_type": "code",
   "execution_count": 190,
   "metadata": {},
   "outputs": [
    {
     "name": "stdout",
     "output_type": "stream",
     "text": [
      " Retrained Pruned Student Model Test Accuracy: 96.16%\n"
     ]
    }
   ],
   "source": [
    "student_accuracy = evaluate(retrained_student, test_loader, device)\n",
    "print(f\" Retrained Pruned Student Model Test Accuracy: {student_accuracy:.2f}%\")"
   ]
  },
  {
   "cell_type": "code",
   "execution_count": 191,
   "metadata": {},
   "outputs": [],
   "source": [
    "# # Measure inference times\n",
    "# pruned_student_inference_time = measure_inference_time(retrained_student, test_loader,)\n",
    "# print(f\" Retrained pruned Student Model Inference Time: {pruned_student_inference_time * 1000:.2f} ms per batch\")"
   ]
  },
  {
   "cell_type": "markdown",
   "metadata": {},
   "source": [
    "# Retrain with KD"
   ]
  },
  {
   "cell_type": "code",
   "execution_count": 192,
   "metadata": {},
   "outputs": [
    {
     "data": {
      "text/plain": [
       "<All keys matched successfully>"
      ]
     },
     "execution_count": 192,
     "metadata": {},
     "output_type": "execute_result"
    }
   ],
   "source": [
    "\n",
    "model_path = 'student_before_pruning.pth'\n",
    "# Load the model weights\n",
    "student.load_state_dict(torch.load(model_path, map_location=torch.device('cpu')))"
   ]
  },
  {
   "cell_type": "code",
   "execution_count": 193,
   "metadata": {},
   "outputs": [
    {
     "name": "stdout",
     "output_type": "stream",
     "text": [
      "Calculating Important Scores\n",
      "Accumulation Epoch 1/3\n",
      "Accumulation Epoch 2/3\n",
      "Accumulation Epoch 3/3\n",
      "Total Time take to calculate Important scores: 3m 7s\n",
      "Pruning the model\n",
      "Total Time take to prune the model scores: 0m 0s\n"
     ]
    }
   ],
   "source": [
    "# Pruning\n",
    "print(\"Calculating Important Scores\")\n",
    "start_time = time.time()\n",
    "importance_scores = compute_gradient_importance(\n",
    "    teacher, student, train_loader, device, temperature=5.0, alpha=0.7, accumulation_epochs=3\n",
    ")\n",
    "total_time = time.time() - start_time\n",
    "print(f\"Total Time take to calculate Important scores: {total_time // 60:.0f}m {total_time % 60:.0f}s\")\n",
    "\n",
    "print(\"Pruning the model\")\n",
    "start_time = time.time()\n",
    "\n",
    "pruned_student = gradient_based_global_prune(student, importance_scores, prune_ratio=0.75062)\n",
    "\n",
    "total_time = time.time() - start_time\n",
    "print(f\"Total Time take to prune the model scores: {total_time // 60:.0f}m {total_time % 60:.0f}s\")\n",
    "student = student.to(device)\n"
   ]
  },
  {
   "cell_type": "code",
   "execution_count": 194,
   "metadata": {},
   "outputs": [
    {
     "name": "stdout",
     "output_type": "stream",
     "text": [
      "Epoch 1/50 | Train Loss: 0.2018 | Train Acc: 99.11% | Val Loss: 0.1261 | Val Acc: 96.14% | Sparsity: 75.01%\n",
      "Epoch 2/50 | Train Loss: 0.1470 | Train Acc: 99.08% | Val Loss: 0.1123 | Val Acc: 96.48% | Sparsity: 75.01%\n",
      "Epoch 3/50 | Train Loss: 0.1274 | Train Acc: 99.17% | Val Loss: 0.1108 | Val Acc: 96.45% | Sparsity: 75.01%\n",
      "Epoch 4/50 | Train Loss: 0.1130 | Train Acc: 99.16% | Val Loss: 0.1067 | Val Acc: 96.58% | Sparsity: 75.01%\n",
      "Epoch 5/50 | Train Loss: 0.1037 | Train Acc: 99.26% | Val Loss: 0.1079 | Val Acc: 96.59% | Sparsity: 75.01%\n",
      "Epoch 6/50 | Train Loss: 0.0989 | Train Acc: 99.22% | Val Loss: 0.1082 | Val Acc: 96.60% | Sparsity: 75.01%\n",
      "Epoch 7/50 | Train Loss: 0.0926 | Train Acc: 99.20% | Val Loss: 0.1078 | Val Acc: 96.55% | Sparsity: 75.01%\n",
      "Epoch 8/50 | Train Loss: 0.0882 | Train Acc: 99.20% | Val Loss: 0.1053 | Val Acc: 96.47% | Sparsity: 75.01%\n",
      "Epoch 9/50 | Train Loss: 0.0847 | Train Acc: 99.22% | Val Loss: 0.1069 | Val Acc: 96.52% | Sparsity: 75.01%\n",
      "Epoch 10/50 | Train Loss: 0.0820 | Train Acc: 99.23% | Val Loss: 0.1065 | Val Acc: 96.58% | Sparsity: 75.01%\n",
      "Epoch 11/50 | Train Loss: 0.0785 | Train Acc: 99.22% | Val Loss: 0.1062 | Val Acc: 96.54% | Sparsity: 75.01%\n",
      "Early stopping triggered at epoch 11. No improvement for 5 epochs.\n",
      "Student model saved before pruning at: pruned_student_retrain_KD_90%.pth\n",
      "Total Training Time: 12m 30s\n",
      "Retraining completed in 12.49 minutes (749.51 seconds)\n"
     ]
    }
   ],
   "source": [
    "\n",
    "start_time = time.time()\n",
    "pruned_student = retrain_with_KD(\n",
    "    teacher, pruned_student, train_loader, val_loader,\n",
    "    epochs=50, temperature=5.0, alpha=0.7, beta_prob=0.5,patience=5,save_path=\"pruned_student_retrain_KD_90%.pth\"\n",
    ")\n",
    "end_time = time.time()\n",
    "elapsed_time = end_time - start_time\n",
    "\n",
    "print(f\"Retraining completed in {elapsed_time / 60:.2f} minutes ({elapsed_time:.2f} seconds)\")"
   ]
  },
  {
   "cell_type": "code",
   "execution_count": 195,
   "metadata": {},
   "outputs": [
    {
     "name": "stdout",
     "output_type": "stream",
     "text": [
      " Retrained Pruned Student Model Test Accuracy: 96.14%\n"
     ]
    }
   ],
   "source": [
    "student_accuracy = evaluate(pruned_student, test_loader, device)\n",
    "print(f\" Retrained Pruned Student Model Test Accuracy: {student_accuracy:.2f}%\")"
   ]
  },
  {
   "cell_type": "code",
   "execution_count": 196,
   "metadata": {},
   "outputs": [],
   "source": [
    "# # Measure inference times\n",
    "# pruned_student_inference_time = measure_inference_time(pruned_student, test_loader, device)\n",
    "# print(f\" Retrained pruned Student Model Inference Time: {pruned_student_inference_time * 1000:.2f} ms per batch\")"
   ]
  },
  {
   "cell_type": "code",
   "execution_count": 197,
   "metadata": {},
   "outputs": [
    {
     "data": {
      "text/plain": [
       "<All keys matched successfully>"
      ]
     },
     "execution_count": 197,
     "metadata": {},
     "output_type": "execute_result"
    }
   ],
   "source": [
    "\n",
    "model_path = 'student_before_pruning.pth'\n",
    "# Load the model weights\n",
    "student.load_state_dict(torch.load(model_path, map_location=torch.device('cpu')))"
   ]
  },
  {
   "cell_type": "code",
   "execution_count": 198,
   "metadata": {},
   "outputs": [
    {
     "name": "stdout",
     "output_type": "stream",
     "text": [
      "Calculating Important Scores\n",
      "Accumulation Epoch 1/3\n",
      "Accumulation Epoch 2/3\n",
      "Accumulation Epoch 3/3\n",
      "Total Time take to calculate Important scores: 3m 4s\n",
      "Pruning the model\n",
      "Total Time take to prune the model scores: 0m 0s\n"
     ]
    }
   ],
   "source": [
    "# Pruning\n",
    "print(\"Calculating Important Scores\")\n",
    "start_time = time.time()\n",
    "importance_scores = compute_gradient_importance(\n",
    "    teacher, student, train_loader, device, temperature=3.0, alpha=0.7, accumulation_epochs=3\n",
    ")\n",
    "total_time = time.time() - start_time\n",
    "print(f\"Total Time take to calculate Important scores: {total_time // 60:.0f}m {total_time % 60:.0f}s\")\n",
    "\n",
    "print(\"Pruning the model\")\n",
    "start_time = time.time()\n",
    "\n",
    "pruned_student = gradient_based_global_prune(student, importance_scores, prune_ratio=0.75062)\n",
    "\n",
    "total_time = time.time() - start_time\n",
    "print(f\"Total Time take to prune the model scores: {total_time // 60:.0f}m {total_time % 60:.0f}s\")\n",
    "\n"
   ]
  },
  {
   "cell_type": "code",
   "execution_count": 199,
   "metadata": {},
   "outputs": [
    {
     "name": "stdout",
     "output_type": "stream",
     "text": [
      "Epoch 1/50 | Train Loss: 0.0686 | Train Acc: 99.21% | Val Loss: 0.1107 | Val Acc: 96.50% | Sparsity: 75.01%\n",
      "Epoch 2/50 | Train Loss: 0.0462 | Train Acc: 99.42% | Val Loss: 0.1070 | Val Acc: 96.60% | Sparsity: 75.01%\n",
      "Epoch 3/50 | Train Loss: 0.0422 | Train Acc: 99.45% | Val Loss: 0.1076 | Val Acc: 96.54% | Sparsity: 75.01%\n",
      "Epoch 4/50 | Train Loss: 0.0397 | Train Acc: 99.44% | Val Loss: 0.1082 | Val Acc: 96.60% | Sparsity: 75.01%\n",
      "Epoch 5/50 | Train Loss: 0.0378 | Train Acc: 99.42% | Val Loss: 0.1067 | Val Acc: 96.62% | Sparsity: 75.01%\n",
      "Epoch 6/50 | Train Loss: 0.0359 | Train Acc: 99.43% | Val Loss: 0.1057 | Val Acc: 96.72% | Sparsity: 75.01%\n",
      "Epoch 7/50 | Train Loss: 0.0344 | Train Acc: 99.47% | Val Loss: 0.1067 | Val Acc: 96.61% | Sparsity: 75.01%\n",
      "Epoch 8/50 | Train Loss: 0.0340 | Train Acc: 99.47% | Val Loss: 0.1084 | Val Acc: 96.78% | Sparsity: 75.01%\n",
      "Epoch 9/50 | Train Loss: 0.0325 | Train Acc: 99.50% | Val Loss: 0.1087 | Val Acc: 96.76% | Sparsity: 75.01%\n",
      "Epoch 10/50 | Train Loss: 0.0318 | Train Acc: 99.49% | Val Loss: 0.1092 | Val Acc: 96.63% | Sparsity: 75.01%\n",
      "Epoch 11/50 | Train Loss: 0.0314 | Train Acc: 99.46% | Val Loss: 0.1085 | Val Acc: 96.70% | Sparsity: 75.01%\n",
      "Epoch 12/50 | Train Loss: 0.0308 | Train Acc: 99.44% | Val Loss: 0.1085 | Val Acc: 96.60% | Sparsity: 75.01%\n",
      "Epoch 13/50 | Train Loss: 0.0299 | Train Acc: 99.44% | Val Loss: 0.1091 | Val Acc: 96.69% | Sparsity: 75.01%\n",
      "Early stopping triggered at epoch 13. No improvement for 5 epochs.\n",
      "Student model saved before pruning at: pruned_student_retrain_KD_90%.pth\n",
      "Total Training Time: 14m 39s\n",
      "Retraining completed in 14.66 minutes (879.49 seconds)\n"
     ]
    }
   ],
   "source": [
    "\n",
    "start_time = time.time()\n",
    "pruned_student = retrain_with_KD(\n",
    "    teacher, pruned_student, train_loader, val_loader,\n",
    "    epochs=50, temperature=3.0, alpha=0.7, beta_prob=0.5,patience=5,save_path=\"pruned_student_retrain_KD_90%.pth\"\n",
    ")\n",
    "end_time = time.time()\n",
    "elapsed_time = end_time - start_time\n",
    "\n",
    "print(f\"Retraining completed in {elapsed_time / 60:.2f} minutes ({elapsed_time:.2f} seconds)\")"
   ]
  },
  {
   "cell_type": "code",
   "execution_count": 200,
   "metadata": {},
   "outputs": [
    {
     "name": "stdout",
     "output_type": "stream",
     "text": [
      " Retrained Pruned Student Model Test Accuracy: 96.13%\n"
     ]
    }
   ],
   "source": [
    "student_accuracy = evaluate(pruned_student, test_loader, device)\n",
    "print(f\" Retrained Pruned Student Model Test Accuracy: {student_accuracy:.2f}%\")"
   ]
  },
  {
   "cell_type": "markdown",
   "metadata": {},
   "source": [
    "## 50% Sparsity"
   ]
  },
  {
   "cell_type": "code",
   "execution_count": 201,
   "metadata": {},
   "outputs": [
    {
     "data": {
      "text/plain": [
       "<All keys matched successfully>"
      ]
     },
     "execution_count": 201,
     "metadata": {},
     "output_type": "execute_result"
    }
   ],
   "source": [
    "\n",
    "model_path = 'student_before_pruning.pth'\n",
    "# Load the model weights\n",
    "student.load_state_dict(torch.load(model_path, map_location=torch.device('cpu')))"
   ]
  },
  {
   "cell_type": "code",
   "execution_count": 202,
   "metadata": {},
   "outputs": [
    {
     "name": "stdout",
     "output_type": "stream",
     "text": [
      "Calculating Important Scores\n",
      "Accumulation Epoch 1/3\n",
      "Accumulation Epoch 2/3\n",
      "Accumulation Epoch 3/3\n",
      "Total Time take to calculate Important scores: 3m 4s\n",
      "Pruning the model\n",
      "Total Time take to prune the model scores: 0m 0s\n"
     ]
    }
   ],
   "source": [
    "# Pruning\n",
    "print(\"Calculating Important Scores\")\n",
    "start_time = time.time()\n",
    "importance_scores = compute_gradient_importance(\n",
    "    teacher, student, train_loader, device, temperature=5.0, alpha=0.7, accumulation_epochs=3\n",
    ")\n",
    "total_time = time.time() - start_time\n",
    "print(f\"Total Time take to calculate Important scores: {total_time // 60:.0f}m {total_time % 60:.0f}s\")\n",
    "\n",
    "print(\"Pruning the model\")\n",
    "start_time = time.time()\n",
    "\n",
    "pruned_student = gradient_based_global_prune(student, importance_scores, prune_ratio=0.505)\n",
    "\n",
    "total_time = time.time() - start_time\n",
    "print(f\"Total Time take to prune the model scores: {total_time // 60:.0f}m {total_time % 60:.0f}s\")\n",
    "\n"
   ]
  },
  {
   "cell_type": "code",
   "execution_count": 203,
   "metadata": {},
   "outputs": [
    {
     "name": "stdout",
     "output_type": "stream",
     "text": [
      "Student Model Test Accuracy After Pruning: 73.05%\n"
     ]
    }
   ],
   "source": [
    "student_accuracy = evaluate(pruned_student, test_loader, device)\n",
    "print(f\"Student Model Test Accuracy After Pruning: {student_accuracy:.2f}%\")"
   ]
  },
  {
   "cell_type": "code",
   "execution_count": 204,
   "metadata": {},
   "outputs": [
    {
     "name": "stdout",
     "output_type": "stream",
     "text": [
      "New best model saved with Val Accuracy: 96.82%\n",
      "Epoch 1/200 | Train Loss: 0.0158 | Train Acc: 99.42%\n",
      "Validation Loss: 0.1060 | Validation Acc: 96.82% | Sparsity: 50.47%\n",
      "\n",
      "New best model saved with Val Accuracy: 96.94%\n",
      "Epoch 2/200 | Train Loss: 0.0036 | Train Acc: 99.89%\n",
      "Validation Loss: 0.1140 | Validation Acc: 96.94% | Sparsity: 50.47%\n",
      "\n",
      "Epoch 3/200 | Train Loss: 0.0012 | Train Acc: 99.99%\n",
      "Validation Loss: 0.1210 | Validation Acc: 96.87% | Sparsity: 50.47%\n",
      "\n",
      "Epoch 4/200 | Train Loss: 0.0005 | Train Acc: 100.00%\n",
      "Validation Loss: 0.1241 | Validation Acc: 96.89% | Sparsity: 50.47%\n",
      "\n",
      "New best model saved with Val Accuracy: 96.97%\n",
      "Epoch 5/200 | Train Loss: 0.0004 | Train Acc: 100.00%\n",
      "Validation Loss: 0.1288 | Validation Acc: 96.97% | Sparsity: 50.47%\n",
      "\n",
      "Epoch 6/200 | Train Loss: 0.0003 | Train Acc: 100.00%\n",
      "Validation Loss: 0.1300 | Validation Acc: 96.97% | Sparsity: 50.47%\n",
      "\n",
      "New best model saved with Val Accuracy: 97.00%\n",
      "Epoch 7/200 | Train Loss: 0.0002 | Train Acc: 100.00%\n",
      "Validation Loss: 0.1310 | Validation Acc: 97.00% | Sparsity: 50.47%\n",
      "\n",
      "New best model saved with Val Accuracy: 97.04%\n",
      "Epoch 8/200 | Train Loss: 0.0002 | Train Acc: 100.00%\n",
      "Validation Loss: 0.1304 | Validation Acc: 97.04% | Sparsity: 50.47%\n",
      "\n",
      "New best model saved with Val Accuracy: 97.08%\n",
      "Epoch 9/200 | Train Loss: 0.0001 | Train Acc: 100.00%\n",
      "Validation Loss: 0.1325 | Validation Acc: 97.08% | Sparsity: 50.47%\n",
      "\n",
      "Epoch 10/200 | Train Loss: 0.0001 | Train Acc: 100.00%\n",
      "Validation Loss: 0.1323 | Validation Acc: 97.07% | Sparsity: 50.47%\n",
      "\n",
      "Epoch 11/200 | Train Loss: 0.0001 | Train Acc: 100.00%\n",
      "Validation Loss: 0.1335 | Validation Acc: 97.08% | Sparsity: 50.47%\n",
      "\n",
      "Epoch 12/200 | Train Loss: 0.0001 | Train Acc: 100.00%\n",
      "Validation Loss: 0.1346 | Validation Acc: 97.07% | Sparsity: 50.47%\n",
      "\n",
      "Epoch 13/200 | Train Loss: 0.0001 | Train Acc: 100.00%\n",
      "Validation Loss: 0.1348 | Validation Acc: 97.08% | Sparsity: 50.47%\n",
      "\n",
      "Early stopping triggered at epoch 14. No improvement for 5 epochs.\n",
      "Best Validation Accuracy: 97.08% | Best Model Saved at: retrained_student_model_50%.pt\n",
      "Retraining completed in 11.04 minutes (662.60 seconds)\n"
     ]
    }
   ],
   "source": [
    "start_time = time.time()\n",
    "retrained_student = retrain_with_sparsity(\n",
    "    pruned_student, train_loader, val_loader,\n",
    "    epochs=200,  save_path='retrained_student_model_50%.pt',patience=5\n",
    ")\n",
    "end_time = time.time()\n",
    "elapsed_time = end_time - start_time\n",
    "\n",
    "print(f\"Retraining completed in {elapsed_time / 60:.2f} minutes ({elapsed_time:.2f} seconds)\")"
   ]
  },
  {
   "cell_type": "code",
   "execution_count": 205,
   "metadata": {},
   "outputs": [
    {
     "name": "stdout",
     "output_type": "stream",
     "text": [
      " Retrained Pruned Student Model Test Accuracy: 96.52%\n"
     ]
    }
   ],
   "source": [
    "student_accuracy = evaluate(pruned_student, test_loader, device)\n",
    "print(f\" Retrained Pruned Student Model Test Accuracy: {student_accuracy:.2f}%\")"
   ]
  },
  {
   "cell_type": "code",
   "execution_count": 206,
   "metadata": {},
   "outputs": [
    {
     "data": {
      "text/plain": [
       "<All keys matched successfully>"
      ]
     },
     "execution_count": 206,
     "metadata": {},
     "output_type": "execute_result"
    }
   ],
   "source": [
    "\n",
    "model_path = 'student_before_pruning.pth'\n",
    "# Load the model weights\n",
    "student.load_state_dict(torch.load(model_path, map_location=torch.device('cpu')))"
   ]
  },
  {
   "cell_type": "code",
   "execution_count": 207,
   "metadata": {},
   "outputs": [
    {
     "name": "stdout",
     "output_type": "stream",
     "text": [
      "Calculating Important Scores\n",
      "Accumulation Epoch 1/3\n",
      "Accumulation Epoch 2/3\n",
      "Accumulation Epoch 3/3\n",
      "Total Time take to calculate Important scores: 3m 4s\n",
      "Pruning the model\n",
      "Total Time take to prune the model scores: 0m 0s\n"
     ]
    }
   ],
   "source": [
    "# Pruning\n",
    "print(\"Calculating Important Scores\")\n",
    "start_time = time.time()\n",
    "importance_scores = compute_gradient_importance(\n",
    "    teacher, student, train_loader, device, temperature=5.0, alpha=0.7, accumulation_epochs=3\n",
    ")\n",
    "total_time = time.time() - start_time\n",
    "print(f\"Total Time take to calculate Important scores: {total_time // 60:.0f}m {total_time % 60:.0f}s\")\n",
    "\n",
    "print(\"Pruning the model\")\n",
    "start_time = time.time()\n",
    "\n",
    "pruned_student = gradient_based_global_prune(student, importance_scores, prune_ratio=0.505)\n",
    "\n",
    "total_time = time.time() - start_time\n",
    "print(f\"Total Time take to prune the model scores: {total_time // 60:.0f}m {total_time % 60:.0f}s\")\n",
    "\n"
   ]
  },
  {
   "cell_type": "code",
   "execution_count": 208,
   "metadata": {},
   "outputs": [
    {
     "name": "stdout",
     "output_type": "stream",
     "text": [
      "Epoch 1/50 | Train Loss: 0.0847 | Train Acc: 99.43% | Val Loss: 0.1033 | Val Acc: 96.70% | Sparsity: 50.47%\n",
      "Epoch 2/50 | Train Loss: 0.0778 | Train Acc: 99.28% | Val Loss: 0.1017 | Val Acc: 96.70% | Sparsity: 50.47%\n",
      "Epoch 3/50 | Train Loss: 0.0751 | Train Acc: 99.24% | Val Loss: 0.1019 | Val Acc: 96.66% | Sparsity: 50.47%\n",
      "Epoch 4/50 | Train Loss: 0.0709 | Train Acc: 99.24% | Val Loss: 0.1019 | Val Acc: 96.72% | Sparsity: 50.47%\n",
      "Epoch 5/50 | Train Loss: 0.0680 | Train Acc: 99.24% | Val Loss: 0.1011 | Val Acc: 96.73% | Sparsity: 50.47%\n",
      "Epoch 6/50 | Train Loss: 0.0673 | Train Acc: 99.24% | Val Loss: 0.1021 | Val Acc: 96.69% | Sparsity: 50.47%\n",
      "Epoch 7/50 | Train Loss: 0.0636 | Train Acc: 99.25% | Val Loss: 0.1024 | Val Acc: 96.70% | Sparsity: 50.47%\n",
      "Epoch 8/50 | Train Loss: 0.0612 | Train Acc: 99.29% | Val Loss: 0.1001 | Val Acc: 96.78% | Sparsity: 50.47%\n",
      "Epoch 9/50 | Train Loss: 0.0605 | Train Acc: 99.26% | Val Loss: 0.1025 | Val Acc: 96.80% | Sparsity: 50.47%\n",
      "Epoch 10/50 | Train Loss: 0.0591 | Train Acc: 99.25% | Val Loss: 0.1042 | Val Acc: 96.70% | Sparsity: 50.47%\n",
      "Epoch 11/50 | Train Loss: 0.0588 | Train Acc: 99.23% | Val Loss: 0.1000 | Val Acc: 96.69% | Sparsity: 50.47%\n",
      "Epoch 12/50 | Train Loss: 0.0551 | Train Acc: 99.25% | Val Loss: 0.1007 | Val Acc: 96.95% | Sparsity: 50.47%\n",
      "Epoch 13/50 | Train Loss: 0.0554 | Train Acc: 99.25% | Val Loss: 0.1046 | Val Acc: 96.75% | Sparsity: 50.47%\n",
      "Epoch 14/50 | Train Loss: 0.0537 | Train Acc: 99.26% | Val Loss: 0.1005 | Val Acc: 96.81% | Sparsity: 50.47%\n",
      "Epoch 15/50 | Train Loss: 0.0526 | Train Acc: 99.27% | Val Loss: 0.1003 | Val Acc: 96.86% | Sparsity: 50.47%\n",
      "Epoch 16/50 | Train Loss: 0.0524 | Train Acc: 99.27% | Val Loss: 0.1010 | Val Acc: 96.75% | Sparsity: 50.47%\n",
      "Epoch 17/50 | Train Loss: 0.0507 | Train Acc: 99.28% | Val Loss: 0.1010 | Val Acc: 96.84% | Sparsity: 50.47%\n",
      "Early stopping triggered at epoch 17. No improvement for 5 epochs.\n",
      "Student model saved before pruning at: pruned_student_retrain_KD_90%.pth\n",
      "Total Training Time: 19m 9s\n",
      "Retraining completed in 19.14 minutes (1148.62 seconds)\n"
     ]
    }
   ],
   "source": [
    "\n",
    "start_time = time.time()\n",
    "pruned_student = retrain_with_KD(\n",
    "    teacher, pruned_student, train_loader, val_loader,\n",
    "    epochs=50, temperature=5.0, alpha=0.7, beta_prob=0.5,patience=5,save_path=\"pruned_student_retrain_KD_90%.pth\"\n",
    ")\n",
    "end_time = time.time()\n",
    "elapsed_time = end_time - start_time\n",
    "\n",
    "print(f\"Retraining completed in {elapsed_time / 60:.2f} minutes ({elapsed_time:.2f} seconds)\")"
   ]
  },
  {
   "cell_type": "code",
   "execution_count": 209,
   "metadata": {},
   "outputs": [
    {
     "name": "stdout",
     "output_type": "stream",
     "text": [
      " Retrained Pruned Student Model Test Accuracy: 96.49%\n"
     ]
    }
   ],
   "source": [
    "student_accuracy = evaluate(pruned_student, test_loader, device)\n",
    "print(f\" Retrained Pruned Student Model Test Accuracy: {student_accuracy:.2f}%\")"
   ]
  },
  {
   "cell_type": "code",
   "execution_count": 210,
   "metadata": {},
   "outputs": [
    {
     "data": {
      "text/plain": [
       "<All keys matched successfully>"
      ]
     },
     "execution_count": 210,
     "metadata": {},
     "output_type": "execute_result"
    }
   ],
   "source": [
    "\n",
    "model_path = 'student_before_pruning.pth'\n",
    "# Load the model weights\n",
    "student.load_state_dict(torch.load(model_path, map_location=torch.device('cpu')))"
   ]
  },
  {
   "cell_type": "code",
   "execution_count": 211,
   "metadata": {},
   "outputs": [
    {
     "name": "stdout",
     "output_type": "stream",
     "text": [
      "Calculating Important Scores\n",
      "Accumulation Epoch 1/3\n",
      "Accumulation Epoch 2/3\n",
      "Accumulation Epoch 3/3\n",
      "Total Time take to calculate Important scores: 3m 4s\n",
      "Pruning the model\n",
      "Total Time take to prune the model scores: 0m 0s\n"
     ]
    }
   ],
   "source": [
    "# Pruning\n",
    "print(\"Calculating Important Scores\")\n",
    "start_time = time.time()\n",
    "importance_scores = compute_gradient_importance(\n",
    "    teacher, student, train_loader, device, temperature=3.0, alpha=0.7, accumulation_epochs=3\n",
    ")\n",
    "total_time = time.time() - start_time\n",
    "print(f\"Total Time take to calculate Important scores: {total_time // 60:.0f}m {total_time % 60:.0f}s\")\n",
    "\n",
    "print(\"Pruning the model\")\n",
    "start_time = time.time()\n",
    "\n",
    "pruned_student = gradient_based_global_prune(student, importance_scores, prune_ratio=0.505)\n",
    "\n",
    "total_time = time.time() - start_time\n",
    "print(f\"Total Time take to prune the model scores: {total_time // 60:.0f}m {total_time % 60:.0f}s\")\n",
    "\n"
   ]
  },
  {
   "cell_type": "code",
   "execution_count": 212,
   "metadata": {},
   "outputs": [
    {
     "name": "stdout",
     "output_type": "stream",
     "text": [
      "Epoch 1/50 | Train Loss: 0.0314 | Train Acc: 99.44% | Val Loss: 0.0992 | Val Acc: 96.91% | Sparsity: 50.47%\n",
      "Epoch 2/50 | Train Loss: 0.0275 | Train Acc: 99.48% | Val Loss: 0.0994 | Val Acc: 96.91% | Sparsity: 50.47%\n",
      "Epoch 3/50 | Train Loss: 0.0263 | Train Acc: 99.47% | Val Loss: 0.0996 | Val Acc: 96.92% | Sparsity: 50.47%\n",
      "Epoch 4/50 | Train Loss: 0.0254 | Train Acc: 99.50% | Val Loss: 0.1016 | Val Acc: 96.99% | Sparsity: 50.47%\n",
      "Epoch 5/50 | Train Loss: 0.0248 | Train Acc: 99.50% | Val Loss: 0.1014 | Val Acc: 96.97% | Sparsity: 50.47%\n",
      "Epoch 6/50 | Train Loss: 0.0238 | Train Acc: 99.51% | Val Loss: 0.1020 | Val Acc: 96.91% | Sparsity: 50.47%\n",
      "Epoch 7/50 | Train Loss: 0.0238 | Train Acc: 99.49% | Val Loss: 0.1012 | Val Acc: 96.90% | Sparsity: 50.47%\n",
      "Epoch 8/50 | Train Loss: 0.0233 | Train Acc: 99.52% | Val Loss: 0.1034 | Val Acc: 96.88% | Sparsity: 50.47%\n",
      "Epoch 9/50 | Train Loss: 0.0233 | Train Acc: 99.47% | Val Loss: 0.1023 | Val Acc: 96.98% | Sparsity: 50.47%\n",
      "Early stopping triggered at epoch 9. No improvement for 5 epochs.\n",
      "Student model saved before pruning at: pruned_student_retrain_KD_90%.pth\n",
      "Total Training Time: 10m 11s\n",
      "Retraining completed in 10.19 minutes (611.28 seconds)\n"
     ]
    }
   ],
   "source": [
    "\n",
    "start_time = time.time()\n",
    "pruned_student = retrain_with_KD(\n",
    "    teacher, pruned_student, train_loader, val_loader,\n",
    "    epochs=50, temperature=3.0, alpha=0.7, beta_prob=0.5,patience=5,save_path=\"pruned_student_retrain_KD_90%.pth\"\n",
    ")\n",
    "end_time = time.time()\n",
    "elapsed_time = end_time - start_time\n",
    "\n",
    "print(f\"Retraining completed in {elapsed_time / 60:.2f} minutes ({elapsed_time:.2f} seconds)\")"
   ]
  },
  {
   "cell_type": "code",
   "execution_count": 213,
   "metadata": {},
   "outputs": [
    {
     "name": "stdout",
     "output_type": "stream",
     "text": [
      " Retrained Pruned Student Model Test Accuracy: 96.51%\n"
     ]
    }
   ],
   "source": [
    "student_accuracy = evaluate(pruned_student, test_loader, device)\n",
    "print(f\" Retrained Pruned Student Model Test Accuracy: {student_accuracy:.2f}%\")"
   ]
  },
  {
   "cell_type": "code",
   "execution_count": null,
   "metadata": {},
   "outputs": [],
   "source": []
  }
 ],
 "metadata": {
  "kaggle": {
   "accelerator": "gpu",
   "dataSources": [
    {
     "isSourceIdPinned": false,
     "modelId": 268576,
     "modelInstanceId": 247034,
     "sourceId": 288333,
     "sourceType": "modelInstanceVersion"
    }
   ],
   "dockerImageVersionId": 30919,
   "isGpuEnabled": true,
   "isInternetEnabled": true,
   "language": "python",
   "sourceType": "notebook"
  },
  "kernelspec": {
   "display_name": "Python 3 (ipykernel)",
   "language": "python",
   "name": "python3"
  },
  "language_info": {
   "codemirror_mode": {
    "name": "ipython",
    "version": 3
   },
   "file_extension": ".py",
   "mimetype": "text/x-python",
   "name": "python",
   "nbconvert_exporter": "python",
   "pygments_lexer": "ipython3",
   "version": "3.10.12"
  }
 },
 "nbformat": 4,
 "nbformat_minor": 4
}
