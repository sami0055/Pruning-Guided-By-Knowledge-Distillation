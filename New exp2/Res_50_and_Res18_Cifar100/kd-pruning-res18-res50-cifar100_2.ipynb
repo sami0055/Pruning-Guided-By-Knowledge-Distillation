{
 "cells": [
  {
   "cell_type": "code",
   "execution_count": 1,
   "metadata": {},
   "outputs": [
    {
     "name": "stdout",
     "output_type": "stream",
     "text": [
      "Requirement already satisfied: pandas in /usr/local/lib/python3.10/dist-packages (2.2.3)\n",
      "Requirement already satisfied: numpy>=1.22.4 in /usr/local/lib/python3.10/dist-packages (from pandas) (1.24.1)\n",
      "Requirement already satisfied: python-dateutil>=2.8.2 in /usr/local/lib/python3.10/dist-packages (from pandas) (2.8.2)\n",
      "Requirement already satisfied: pytz>=2020.1 in /usr/local/lib/python3.10/dist-packages (from pandas) (2025.2)\n",
      "Requirement already satisfied: tzdata>=2022.7 in /usr/local/lib/python3.10/dist-packages (from pandas) (2025.2)\n",
      "Requirement already satisfied: six>=1.5 in /usr/lib/python3/dist-packages (from python-dateutil>=2.8.2->pandas) (1.16.0)\n",
      "\u001b[33mWARNING: Running pip as the 'root' user can result in broken permissions and conflicting behaviour with the system package manager. It is recommended to use a virtual environment instead: https://pip.pypa.io/warnings/venv\u001b[0m\u001b[33m\n",
      "\u001b[0m\n",
      "\u001b[1m[\u001b[0m\u001b[34;49mnotice\u001b[0m\u001b[1;39;49m]\u001b[0m\u001b[39;49m A new release of pip is available: \u001b[0m\u001b[31;49m23.3.1\u001b[0m\u001b[39;49m -> \u001b[0m\u001b[32;49m25.0.1\u001b[0m\n",
      "\u001b[1m[\u001b[0m\u001b[34;49mnotice\u001b[0m\u001b[1;39;49m]\u001b[0m\u001b[39;49m To update, run: \u001b[0m\u001b[32;49mpython -m pip install --upgrade pip\u001b[0m\n"
     ]
    }
   ],
   "source": [
    "!pip install pandas"
   ]
  },
  {
   "cell_type": "code",
   "execution_count": 2,
   "metadata": {},
   "outputs": [
    {
     "name": "stdout",
     "output_type": "stream",
     "text": [
      "PyTorch version: 2.1.0+cu118\n"
     ]
    }
   ],
   "source": [
    "import torch\n",
    "\n",
    "print(\"PyTorch version:\", torch.__version__)\n"
   ]
  },
  {
   "cell_type": "code",
   "execution_count": 3,
   "metadata": {
    "_cell_guid": "b1076dfc-b9ad-4769-8c92-a6c4dae69d19",
    "_uuid": "8f2839f25d086af736a60e9eeb907d3b93b6e0e5"
   },
   "outputs": [],
   "source": [
    "import numpy as np\n",
    "import pandas as pd\n",
    "import os\n",
    "import torch\n",
    "import torch.nn as nn\n",
    "import torch.optim as optim\n",
    "import torchvision.transforms as transforms\n",
    "import torchvision.datasets as datasets\n",
    "from torch.utils.data import DataLoader, random_split\n",
    "import torch.nn.functional as F\n",
    "import torchvision.models as models\n",
    "import time"
   ]
  },
  {
   "cell_type": "code",
   "execution_count": 4,
   "metadata": {},
   "outputs": [],
   "source": [
    "# Set device\n",
    "device = torch.device(\"cuda\" if torch.cuda.is_available() else \"cpu\")"
   ]
  },
  {
   "cell_type": "code",
   "execution_count": 5,
   "metadata": {},
   "outputs": [
    {
     "name": "stdout",
     "output_type": "stream",
     "text": [
      "cuda\n"
     ]
    }
   ],
   "source": [
    "print(device)"
   ]
  },
  {
   "cell_type": "code",
   "execution_count": 6,
   "metadata": {},
   "outputs": [
    {
     "name": "stdout",
     "output_type": "stream",
     "text": [
      "Downloading https://www.cs.toronto.edu/~kriz/cifar-100-python.tar.gz to ./data/cifar-100-python.tar.gz\n"
     ]
    },
    {
     "name": "stderr",
     "output_type": "stream",
     "text": [
      "58.1%IOPub message rate exceeded.\n",
      "The Jupyter server will temporarily stop sending output\n",
      "to the client in order to avoid crashing it.\n",
      "To change this limit, set the config variable\n",
      "`--ServerApp.iopub_msg_rate_limit`.\n",
      "\n",
      "Current values:\n",
      "ServerApp.iopub_msg_rate_limit=1000.0 (msgs/sec)\n",
      "ServerApp.rate_limit_window=3.0 (secs)\n",
      "\n",
      "100.0%\n"
     ]
    },
    {
     "name": "stdout",
     "output_type": "stream",
     "text": [
      "Extracting ./data/cifar-100-python.tar.gz to ./data\n",
      "Files already downloaded and verified\n"
     ]
    }
   ],
   "source": [
    "# Data augmentation for training\n",
    "train_transform = transforms.Compose([\n",
    "    transforms.RandomHorizontalFlip(),  # Randomly flip the image horizontally\n",
    "    transforms.RandomCrop(32, padding=4),  # Randomly crop the image\n",
    "    transforms.Resize(224),  # Resize to 224x224 for ResNet\n",
    "    transforms.ToTensor(),\n",
    "    transforms.Normalize(mean=[0.485, 0.456, 0.406], std=[0.229, 0.224, 0.225])\n",
    "])\n",
    "\n",
    "# No augmentation for validation and test\n",
    "val_test_transform = transforms.Compose([\n",
    "    transforms.Resize(224),  # Resize to 224x224 for ResNet\n",
    "    transforms.ToTensor(),\n",
    "    transforms.Normalize(mean=[0.485, 0.456, 0.406], std=[0.229, 0.224, 0.225])\n",
    "])\n",
    "\n",
    "# Load CIFAR-10 dataset\n",
    "train_val_dataset = datasets.CIFAR100(root='./data', train=True, download=True, transform=train_transform)\n",
    "test_dataset = datasets.CIFAR100(root='./data', train=False, download=True, transform=val_test_transform)\n",
    "\n",
    "# Split train_val_dataset into train and validation sets (80% train, 20% validation)\n",
    "train_size = int(0.8 * len(train_val_dataset))\n",
    "val_size = len(train_val_dataset) - train_size\n",
    "train_dataset, val_dataset = random_split(train_val_dataset, [train_size, val_size])\n",
    "\n",
    "# Apply val_test_transform to the validation set\n",
    "val_dataset.dataset.transform = val_test_transform\n",
    "\n",
    "# Create DataLoaders\n",
    "train_loader = DataLoader(train_dataset, batch_size=128, shuffle=True, num_workers=4)\n",
    "val_loader = DataLoader(val_dataset, batch_size=128, shuffle=False, num_workers=4)\n",
    "test_loader = DataLoader(test_dataset, batch_size=128, shuffle=False, num_workers=4)"
   ]
  },
  {
   "cell_type": "code",
   "execution_count": 7,
   "metadata": {},
   "outputs": [
    {
     "name": "stderr",
     "output_type": "stream",
     "text": [
      "/usr/local/lib/python3.10/dist-packages/torchvision/models/_utils.py:208: UserWarning: The parameter 'pretrained' is deprecated since 0.13 and may be removed in the future, please use 'weights' instead.\n",
      "  warnings.warn(\n",
      "/usr/local/lib/python3.10/dist-packages/torchvision/models/_utils.py:223: UserWarning: Arguments other than a weight enum or `None` for 'weights' are deprecated since 0.13 and may be removed in the future. The current behavior is equivalent to passing `weights=ResNet50_Weights.IMAGENET1K_V1`. You can also use `weights=ResNet50_Weights.DEFAULT` to get the most up-to-date weights.\n",
      "  warnings.warn(msg)\n"
     ]
    }
   ],
   "source": [
    "# Load pretrained ResNet-50 (Teacher Model)\n",
    "teacher = models.resnet50(pretrained=True)\n",
    "\n",
    "# Modify the final fully connected layer for 10 classes (CIFAR-10)\n",
    "teacher.fc = nn.Linear(teacher.fc.in_features, 100)\n",
    "# Move models to device\n",
    "teacher = teacher.to(device)"
   ]
  },
  {
   "cell_type": "code",
   "execution_count": 8,
   "metadata": {},
   "outputs": [
    {
     "data": {
      "text/plain": [
       "<All keys matched successfully>"
      ]
     },
     "execution_count": 8,
     "metadata": {},
     "output_type": "execute_result"
    }
   ],
   "source": [
    "\n",
    "model_path = 'best_teacher_model.pth'\n",
    "# Load the model weights\n",
    "teacher.load_state_dict(torch.load(model_path, map_location=torch.device('cpu')))"
   ]
  },
  {
   "cell_type": "code",
   "execution_count": 23,
   "metadata": {},
   "outputs": [
    {
     "name": "stdout",
     "output_type": "stream",
     "text": [
      "Teacher Model Test Accuracy: 80.89%\n"
     ]
    }
   ],
   "source": [
    "teacher_accuracy = evaluate(teacher, test_loader, device)\n",
    "print(f\"Teacher Model Test Accuracy: {teacher_accuracy:.2f}%\")"
   ]
  },
  {
   "cell_type": "code",
   "execution_count": 10,
   "metadata": {},
   "outputs": [
    {
     "name": "stderr",
     "output_type": "stream",
     "text": [
      "/usr/local/lib/python3.10/dist-packages/torchvision/models/_utils.py:223: UserWarning: Arguments other than a weight enum or `None` for 'weights' are deprecated since 0.13 and may be removed in the future. The current behavior is equivalent to passing `weights=ResNet18_Weights.IMAGENET1K_V1`. You can also use `weights=ResNet18_Weights.DEFAULT` to get the most up-to-date weights.\n",
      "  warnings.warn(msg)\n"
     ]
    }
   ],
   "source": [
    "# Load pretrained ResNet-18 (Student Model)\n",
    "student = models.resnet18(pretrained=True)\n",
    "# Modify the final fully connected layer for 10 classes (CIFAR-10)\n",
    "student.fc = nn.Linear(student.fc.in_features, 100)\n",
    "student = student.to(device)"
   ]
  },
  {
   "cell_type": "code",
   "execution_count": 27,
   "metadata": {},
   "outputs": [],
   "source": [
    "\n",
    "# model_path = 'student_before_pruning.pth'\n",
    "# # Load the model weights\n",
    "# student.load_state_dict(torch.load(model_path, map_location=torch.device('cpu')))"
   ]
  },
  {
   "cell_type": "code",
   "execution_count": 11,
   "metadata": {},
   "outputs": [],
   "source": [
    "# Logits normalization function\n",
    "def normalize(logit):\n",
    "    mean = logit.mean(dim=-1, keepdim=True)\n",
    "    stdv = logit.std(dim=-1, keepdim=True)\n",
    "    return (logit - mean) / (1e-7 + stdv)\n"
   ]
  },
  {
   "cell_type": "code",
   "execution_count": 12,
   "metadata": {},
   "outputs": [],
   "source": [
    "# CA-KLD Loss for Classification\n",
    "def cakld_loss(student_logits, teacher_logits, beta_prob):\n",
    "    # Forward KL (student || teacher)\n",
    "    student_log_prob = F.log_softmax(student_logits, dim=1)\n",
    "    teacher_prob = F.softmax(teacher_logits, dim=1)\n",
    "    forward_kl = F.kl_div(student_log_prob, teacher_prob, reduction='batchmean')\n",
    "\n",
    "    # Reverse KL (teacher || student)\n",
    "    teacher_log_prob = F.log_softmax(teacher_logits, dim=1)\n",
    "    student_prob = F.softmax(student_logits, dim=1)\n",
    "    reverse_kl = F.kl_div(teacher_log_prob, student_prob, reduction='batchmean')\n",
    "\n",
    "    # Combined KL loss\n",
    "    kl_loss = beta_prob * reverse_kl + (1 - beta_prob) * forward_kl\n",
    "    return kl_loss\n"
   ]
  },
  {
   "cell_type": "code",
   "execution_count": 13,
   "metadata": {},
   "outputs": [],
   "source": [
    "def evaluate(model, test_loader, device):\n",
    "    model = model.to(device)  # Ensure model is on the correct device\n",
    "    model.eval()\n",
    "    correct = 0\n",
    "    total = 0\n",
    "    with torch.no_grad():\n",
    "        for inputs, labels in test_loader:\n",
    "            inputs, labels = inputs.to(device), labels.to(device)\n",
    "            outputs = model(inputs)\n",
    "            _, predicted = torch.max(outputs.data, 1)\n",
    "            total += labels.size(0)\n",
    "            correct += (predicted == labels).sum().item()\n",
    "    return 100 * correct / total\n"
   ]
  },
  {
   "cell_type": "code",
   "execution_count": 14,
   "metadata": {},
   "outputs": [],
   "source": [
    "def calculate_sparsity(model):\n",
    "    total_zeros = 0\n",
    "    total_params = 0\n",
    "    for name, param in model.named_parameters():\n",
    "        if 'weight' in name:\n",
    "            total_zeros += torch.sum(param == 0).item()\n",
    "            total_params += param.numel()\n",
    "    return total_zeros / total_params"
   ]
  },
  {
   "cell_type": "code",
   "execution_count": 15,
   "metadata": {},
   "outputs": [],
   "source": [
    "import torch\n",
    "import time\n",
    "def measure_inference_time(model, test_loader, num_runs=5):\n",
    "    device = torch.device('cpu')\n",
    "    model.eval()\n",
    "    model.to(device)\n",
    "\n",
    "    # Warm-up (one batch to avoid startup cost)\n",
    "    with torch.no_grad():\n",
    "        for inputs, _ in test_loader:\n",
    "            inputs = inputs.to(device)\n",
    "            _ = model(inputs)\n",
    "            break\n",
    "\n",
    "    total_time = 0\n",
    "    total_images = 0\n",
    "\n",
    "    with torch.no_grad():\n",
    "        for _ in range(num_runs):\n",
    "            for inputs, _ in test_loader:\n",
    "                inputs = inputs.to(device)\n",
    "                batch_size = inputs.size(0)\n",
    "                start_time = time.time()\n",
    "                _ = model(inputs)\n",
    "                end_time = time.time()\n",
    "\n",
    "                total_time += (end_time - start_time)\n",
    "                total_images += batch_size\n",
    "\n",
    "    avg_time_per_image = total_time / total_images\n",
    "    return avg_time_per_image\n"
   ]
  },
  {
   "cell_type": "code",
   "execution_count": 16,
   "metadata": {},
   "outputs": [],
   "source": [
    "def count_parameters(model):\n",
    "    return sum(p.numel() for p in model.parameters())\n",
    "\n",
    "def calculate_model_size(model, filename=\"temp.pth\"):\n",
    "    torch.save(model.state_dict(), filename)\n",
    "    size = os.path.getsize(filename) / (1024 * 1024)  # Size in MB\n",
    "    os.remove(filename)\n",
    "    return size\n",
    "\n",
    "def compare_model_sizes(teacher, student, pruned_student):\n",
    "    # Count parameters\n",
    "    teacher_params = count_parameters(teacher)\n",
    "    student_params = count_parameters(student)\n",
    "    pruned_params = count_parameters(pruned_student)\n",
    "    \n",
    "    # Calculate disk size\n",
    "    teacher_size = calculate_model_size(teacher, \"teacher.pth\")\n",
    "    student_size = calculate_model_size(student, \"student.pth\")\n",
    "    pruned_size = calculate_model_size(pruned_student, \"pruned_student.pth\")\n",
    "    \n",
    "    # Print comparison\n",
    "    print(\"\\n--- Model Size Comparison ---\")\n",
    "    print(f\"Teacher Model: {teacher_params} parameters, {teacher_size:.2f} MB\")\n",
    "    print(f\"Student Model (Before Pruning): {student_params} parameters, {student_size:.2f} MB\")\n",
    "    print(f\"Student Model (After Pruning): {pruned_params} parameters, {pruned_size:.2f} MB\")\n",
    "    \n",
    "    # Calculate compression ratio\n",
    "    compression_ratio = student_size / pruned_size\n",
    "    print(f\"\\nCompression Ratio: {compression_ratio:.2f}x\")"
   ]
  },
  {
   "cell_type": "code",
   "execution_count": 17,
   "metadata": {},
   "outputs": [],
   "source": [
    "def train_model(model, train_loader, val_loader, epochs=10, lr=0.001, patience=3):\n",
    "    criterion = nn.CrossEntropyLoss()\n",
    "    optimizer = optim.SGD(model.parameters(), lr=lr, momentum=0.9)\n",
    "    \n",
    "    best_val_accuracy = 0.0\n",
    "    best_model_state = None\n",
    "    patience_counter = 0  # Counter for early stopping\n",
    "    \n",
    "    for epoch in range(epochs):\n",
    "        print(epoch)\n",
    "        model.train()\n",
    "        running_loss = 0.0\n",
    "        for inputs, labels in train_loader:\n",
    "            inputs, labels = inputs.to(device), labels.to(device)\n",
    "            \n",
    "            optimizer.zero_grad()\n",
    "            outputs = model(inputs)\n",
    "            loss = criterion(outputs, labels)\n",
    "            loss.backward()\n",
    "            optimizer.step()\n",
    "            \n",
    "            running_loss += loss.item()\n",
    "        \n",
    "        # Evaluate on the validation set\n",
    "        val_accuracy = evaluate(model, val_loader, device)\n",
    "        print(f\"Epoch {epoch+1}/{epochs} | Loss: {running_loss/len(train_loader):.4f} | Val Accuracy: {val_accuracy:.2f}%\")\n",
    "        \n",
    "        # Early stopping logic\n",
    "        if val_accuracy > best_val_accuracy:\n",
    "            best_val_accuracy = val_accuracy\n",
    "            best_model_state = model.state_dict()\n",
    "            patience_counter = 0  # Reset patience counter\n",
    "            torch.save(model.state_dict(), 'best_teacher_model.pth')  # Save the best model\n",
    "            print(f\" New best model saved with validation accuracy: {best_val_accuracy:.2f}%\")\n",
    "        else:\n",
    "            patience_counter += 1\n",
    "            print(f\" No improvement in validation accuracy ({patience_counter}/{patience})\")\n",
    "            \n",
    "            # Stop training if no improvement for 'patience' epochs\n",
    "            if patience_counter >= patience:\n",
    "                print(f\"\\nEarly stopping triggered! No improvement for {patience} epochs.\")\n",
    "                break\n",
    "    \n",
    "    # Load the best model state\n",
    "    model.load_state_dict(torch.load('best_teacher_model.pth'))\n",
    "    print(\"\\nLoading the best model for final evaluation.\")\n",
    "    \n",
    "    # Evaluate on the test set\n",
    "    test_accuracy = evaluate(model, test_loader, device)\n",
    "    print(f\"Test Accuracy with Best Model: {test_accuracy:.2f}%\")\n",
    "    \n",
    "    return model\n",
    "\n"
   ]
  },
  {
   "cell_type": "code",
   "execution_count": 18,
   "metadata": {},
   "outputs": [],
   "source": [
    "def compute_gradient_importance(\n",
    "    teacher, student, data_loader, device, temperature=4.0, alpha=0.5, beta_prob=0.5, accumulation_epochs=3\n",
    "):\n",
    "    importance_scores = {}\n",
    "\n",
    "    # Initialize importance score storage for conv layer weights only\n",
    "    for name, param in student.named_parameters():\n",
    "        if 'weight' in name and len(param.shape) == 4:  # Conv weights only\n",
    "            importance_scores[name] = torch.zeros_like(param.data, device=device)\n",
    "\n",
    "    teacher.to(device).eval()\n",
    "    student.to(device).train()\n",
    "\n",
    "    # Add momentum for gradient accumulation smoothing\n",
    "    momentum = 0.9  # Controls exponential moving average\n",
    "    accumulated_batches = 0  # Track for bias correction\n",
    "\n",
    "    for epoch in range(accumulation_epochs):\n",
    "        print(f\"Accumulation Epoch {epoch+1}/{accumulation_epochs}\")\n",
    "        for inputs, labels in data_loader:\n",
    "            inputs, labels = inputs.to(device), labels.to(device)\n",
    "            student.zero_grad()\n",
    "\n",
    "            with torch.no_grad():\n",
    "                teacher_logits = teacher(inputs)\n",
    "\n",
    "            student_logits = student(inputs)\n",
    "\n",
    "            # Temperature scaling\n",
    "            student_logits_temp = student_logits / temperature\n",
    "            teacher_logits_temp = teacher_logits / temperature\n",
    "\n",
    "            # Compute losses\n",
    "            distillation_loss = cakld_loss(student_logits_temp, teacher_logits_temp, beta_prob) * (temperature ** 2)\n",
    "            ce_loss = F.cross_entropy(student_logits, labels)\n",
    "            loss = alpha * distillation_loss + (1 - alpha) * ce_loss\n",
    "\n",
    "            # Modified backward propagation\n",
    "            loss.backward()\n",
    "\n",
    "            # Accumulate importance scores with parameter-gradient product\n",
    "            accumulated_batches += 1\n",
    "            for name, param in student.named_parameters():\n",
    "                if name in importance_scores and param.grad is not None:\n",
    "                    # Key modification: Use parameter-gradient product magnitude\n",
    "                    grad_product = (param.data * param.grad).abs_()\n",
    "                    \n",
    "                    # Exponential moving average with bias correction\n",
    "                    if accumulated_batches == 1:\n",
    "                        importance_scores[name] = grad_product\n",
    "                    else:\n",
    "                        importance_scores[name] = momentum * importance_scores[name] + (1 - momentum) * grad_product\n",
    "\n",
    "    # Apply bias correction for EMA\n",
    "    for name in importance_scores:\n",
    "        importance_scores[name] /= (1 - momentum**accumulated_batches)\n",
    "\n",
    "    return importance_scores"
   ]
  },
  {
   "cell_type": "code",
   "execution_count": 19,
   "metadata": {},
   "outputs": [],
   "source": [
    "def gradient_based_global_prune(model, importance_scores, prune_ratio=0.95):\n",
    "    all_scores = torch.cat([score.flatten() for score in importance_scores.values()])\n",
    "    threshold = torch.topk(all_scores, k=int(prune_ratio * all_scores.numel()), largest=False)[0][-1]\n",
    "\n",
    "    for name, param in model.named_parameters():\n",
    "        if name in importance_scores:\n",
    "            mask = (importance_scores[name] > threshold).float()\n",
    "            param.data.mul_(mask)\n",
    "\n",
    "    return model\n"
   ]
  },
  {
   "cell_type": "code",
   "execution_count": 20,
   "metadata": {},
   "outputs": [],
   "source": [
    "import torch\n",
    "import torch.nn.functional as F\n",
    "import torch.optim as optim\n",
    "\n",
    "import torch\n",
    "import torch.nn as nn\n",
    "import torch.optim as optim\n",
    "import torch.nn.functional as F\n",
    "\n",
    "def retrain_with_sparsity(student, train_loader, val_loader, epochs=5, save_path=\"retrained_student_model.pt\", patience=3):\n",
    "    device = torch.device(\"cuda\" if torch.cuda.is_available() else \"cpu\")\n",
    "    optimizer = optim.SGD(student.parameters(), lr=0.01, momentum=0.9)\n",
    "\n",
    "    # 1. Store masks AND zero momentum buffers for pruned weights\n",
    "    masks = {}\n",
    "    for name, param in student.named_parameters():\n",
    "        if 'weight' in name and param.dim() == 4:  # Consider only conv layers\n",
    "            mask = (param != 0).float().to(device)\n",
    "            masks[name] = mask\n",
    "            # Zero momentum buffers for pruned weights\n",
    "            if optimizer.state.get(param, None) and 'momentum_buffer' in optimizer.state[param]:\n",
    "                optimizer.state[param]['momentum_buffer'] *= mask\n",
    "\n",
    "    student = student.to(device)\n",
    "    best_val_acc = 0.0\n",
    "    best_model = None\n",
    "    patience_counter = 0  # Counter for early stopping\n",
    "\n",
    "    # 2. Add gradient clipping to prevent NaN\n",
    "    max_grad_norm = 1.0\n",
    "\n",
    "    for epoch in range(epochs):\n",
    "        student.train()\n",
    "        total_loss = 0.0\n",
    "        correct, total = 0, 0\n",
    "\n",
    "        for inputs, labels in train_loader:\n",
    "            inputs, labels = inputs.to(device), labels.to(device)\n",
    "\n",
    "            optimizer.zero_grad()\n",
    "            outputs = student(inputs)\n",
    "            loss = F.cross_entropy(outputs, labels)\n",
    "            loss.backward()\n",
    "\n",
    "            # Apply masks to gradients\n",
    "            for name, param in student.named_parameters():\n",
    "                if name in masks:\n",
    "                    param.grad.data *= masks[name]\n",
    "\n",
    "            # Gradient clipping before optimizer step\n",
    "            torch.nn.utils.clip_grad_norm_(student.parameters(), max_grad_norm)\n",
    "\n",
    "            optimizer.step()\n",
    "\n",
    "            # Reapply masks and update momentum buffers\n",
    "            for name, param in student.named_parameters():\n",
    "                if name in masks:\n",
    "                    param.data *= masks[name]\n",
    "                    if optimizer.state.get(param, None) and 'momentum_buffer' in optimizer.state[param]:\n",
    "                        optimizer.state[param]['momentum_buffer'] *= masks[name]\n",
    "\n",
    "            total_loss += loss.item()\n",
    "            _, predicted = outputs.max(1)\n",
    "            correct += predicted.eq(labels).sum().item()\n",
    "            total += labels.size(0)\n",
    "\n",
    "        train_loss = total_loss / len(train_loader)\n",
    "        train_acc = 100.0 * correct / total\n",
    "\n",
    "        # Validation phase\n",
    "        student.eval()\n",
    "        val_loss, val_correct, val_total = 0.0, 0, 0\n",
    "\n",
    "        with torch.no_grad():\n",
    "            for inputs, labels in val_loader:\n",
    "                inputs, labels = inputs.to(device), labels.to(device)\n",
    "                outputs = student(inputs)\n",
    "                loss = F.cross_entropy(outputs, labels)\n",
    "\n",
    "                val_loss += loss.item()\n",
    "                _, predicted = outputs.max(1)\n",
    "                val_correct += predicted.eq(labels).sum().item()\n",
    "                val_total += labels.size(0)\n",
    "\n",
    "        val_loss /= len(val_loader)\n",
    "        val_acc = 100.0 * val_correct / val_total\n",
    "\n",
    "        # Track best model\n",
    "        if val_acc > best_val_acc:\n",
    "            best_val_acc = val_acc\n",
    "            best_model = student.state_dict()\n",
    "            torch.save(best_model, save_path)\n",
    "            patience_counter = 0  # Reset patience counter\n",
    "            print(f\"New best model saved with Val Accuracy: {best_val_acc:.2f}%\")\n",
    "        else:\n",
    "            patience_counter += 1\n",
    "            if patience_counter >= patience:\n",
    "                print(f\"Early stopping triggered at epoch {epoch+1}. No improvement for {patience} epochs.\")\n",
    "                break  # Stop training\n",
    "\n",
    "        # Print results\n",
    "        sparsity = calculate_sparsity(student)\n",
    "        print(f\"Epoch {epoch+1}/{epochs} | Train Loss: {train_loss:.4f} | Train Acc: {train_acc:.2f}%\")\n",
    "        print(f\"Validation Loss: {val_loss:.4f} | Validation Acc: {val_acc:.2f}% | Sparsity: {sparsity*100:.2f}%\\n\")\n",
    "\n",
    "    print(f\"Best Validation Accuracy: {best_val_acc:.2f}% | Best Model Saved at: {save_path}\")\n",
    "    return student"
   ]
  },
  {
   "cell_type": "code",
   "execution_count": 21,
   "metadata": {},
   "outputs": [],
   "source": [
    "import torch\n",
    "import torch.nn as nn\n",
    "import torch.optim as optim\n",
    "import torch.nn.functional as F\n",
    "import time\n",
    "\n",
    "# KD training with CA-KLD loss and mask-based momentum handling\n",
    "def retrain_with_KD(teacher, student, train_loader, val_loader, epochs=50,\n",
    "                    temperature=5.0, alpha=0.5, beta_prob=0.5, patience=5,\n",
    "                    save_path=\"student_before_pruning.pth\"):\n",
    "\n",
    "    device = torch.device(\"cuda\" if torch.cuda.is_available() else \"cpu\")\n",
    "    optimizer = optim.SGD(student.parameters(), lr=0.01, momentum=0.9)\n",
    "\n",
    "    # 1. Store masks and zero momentum buffers\n",
    "    masks = {}\n",
    "    for name, param in student.named_parameters():\n",
    "        if 'weight' in name and param.dim() == 4:\n",
    "            mask = (param != 0).float().to(device)\n",
    "            masks[name] = mask\n",
    "            if optimizer.state.get(param, None) and 'momentum_buffer' in optimizer.state[param]:\n",
    "                optimizer.state[param]['momentum_buffer'] *= mask\n",
    "\n",
    "    teacher = teacher.to(device).eval()\n",
    "    student = student.to(device)\n",
    "\n",
    "    best_val_acc = 0.0\n",
    "    best_model_state = None\n",
    "    patience_counter = 0\n",
    "    start_time = time.time()\n",
    "\n",
    "    for epoch in range(epochs):\n",
    "        student.train()\n",
    "        total_loss, correct, total = 0.0, 0, 0\n",
    "\n",
    "        for inputs, labels in train_loader:\n",
    "            inputs, labels = inputs.to(device), labels.to(device)\n",
    "            optimizer.zero_grad()\n",
    "\n",
    "            with torch.no_grad():\n",
    "                teacher_logits = teacher(inputs)\n",
    "\n",
    "            student_logits = student(inputs)\n",
    "\n",
    "            # Apply temperature\n",
    "            teacher_logits_temp = teacher_logits / temperature\n",
    "            student_logits_temp = student_logits / temperature\n",
    "\n",
    "            # Logits normalization\n",
    "            teacher_logits_temp = normalize(teacher_logits_temp)\n",
    "            student_logits_temp = normalize(student_logits_temp)\n",
    "\n",
    "\n",
    "            # CA-KLD loss\n",
    "            kd_loss = cakld_loss(student_logits_temp, teacher_logits_temp, beta_prob) * (temperature ** 2)\n",
    "            ce_loss = F.cross_entropy(student_logits, labels)\n",
    "\n",
    "            loss = alpha * kd_loss + (1 - alpha) * ce_loss\n",
    "            loss.backward()\n",
    "            optimizer.step()\n",
    "\n",
    "            # Reapply masks and update momentum\n",
    "            for name, param in student.named_parameters():\n",
    "                if name in masks:\n",
    "                    param.data *= masks[name]\n",
    "                    if optimizer.state.get(param, None) and 'momentum_buffer' in optimizer.state[param]:\n",
    "                        optimizer.state[param]['momentum_buffer'] *= masks[name]\n",
    "\n",
    "            total_loss += loss.item()\n",
    "            _, predicted = student_logits.max(1)\n",
    "            correct += predicted.eq(labels).sum().item()\n",
    "            total += labels.size(0)\n",
    "\n",
    "        train_loss = total_loss / len(train_loader)\n",
    "        train_acc = 100.0 * correct / total\n",
    "\n",
    "        # Validation\n",
    "        student.eval()\n",
    "        val_loss, val_correct, val_total = 0.0, 0, 0\n",
    "        with torch.no_grad():\n",
    "            for inputs, labels in val_loader:\n",
    "                inputs, labels = inputs.to(device), labels.to(device)\n",
    "                outputs = student(inputs)\n",
    "                loss = F.cross_entropy(outputs, labels)\n",
    "                val_loss += loss.item()\n",
    "                _, predicted = outputs.max(1)\n",
    "                val_correct += predicted.eq(labels).sum().item()\n",
    "                val_total += labels.size(0)\n",
    "\n",
    "        val_loss /= len(val_loader)\n",
    "        val_acc = 100.0 * val_correct / val_total\n",
    "        sparsity = calculate_sparsity(student) * 100.0  # Assuming this function is defined elsewhere\n",
    "\n",
    "        print(f\"Epoch {epoch+1}/{epochs} | Train Loss: {train_loss:.4f} | Train Acc: {train_acc:.2f}% | \"\n",
    "              f\"Val Loss: {val_loss:.4f} | Val Acc: {val_acc:.2f}% | Sparsity: {sparsity:.2f}%\")\n",
    "\n",
    "        # Early stopping logic\n",
    "        if val_acc > best_val_acc:\n",
    "            best_val_acc = val_acc\n",
    "            best_model_state = student.state_dict()\n",
    "            patience_counter = 0\n",
    "        else:\n",
    "            patience_counter += 1\n",
    "            if patience_counter >= patience:\n",
    "                print(f\"Early stopping triggered at epoch {epoch+1}. No improvement for {patience} epochs.\")\n",
    "                break\n",
    "\n",
    "    # Restore and save best model\n",
    "    student.load_state_dict(best_model_state)\n",
    "    torch.save(student.state_dict(), save_path)\n",
    "    print(f\"Student model saved before pruning at: {save_path}\")\n",
    "    total_time = time.time() - start_time\n",
    "    print(f\"Total Training Time: {total_time // 60:.0f}m {total_time % 60:.0f}s\")\n",
    "\n",
    "    return student"
   ]
  },
  {
   "cell_type": "code",
   "execution_count": 22,
   "metadata": {},
   "outputs": [],
   "source": [
    "import time\n",
    "import torch\n",
    "import torch.nn as nn\n",
    "import torch.optim as optim\n",
    "import torch.nn.functional as F\n",
    "from torch.utils.data import DataLoader\n",
    "\n",
    "# Training function with KD + CA-KLD and logits normalization\n",
    "def train_kd_pruning(teacher, student, train_loader, val_loader, epochs=50, temperature=5.0, alpha=0.5,\n",
    "                     beta_prob=0.5, patience=5, save_path=\"student_before_pruning.pth\"):\n",
    "    \n",
    "    device = torch.device(\"cuda\" if torch.cuda.is_available() else \"cpu\")\n",
    "    optimizer = optim.SGD(student.parameters(), lr=0.01, momentum=0.9)\n",
    "\n",
    "    teacher = teacher.to(device)\n",
    "    student = student.to(device)\n",
    "    teacher.eval()  # Freeze teacher\n",
    "\n",
    "    best_val_acc = 0.0\n",
    "    best_model_state = None\n",
    "    patience_counter = 0\n",
    "    start_time = time.time()\n",
    "\n",
    "    for epoch in range(epochs):\n",
    "        student.train()\n",
    "        total_loss = 0.0\n",
    "        correct, total = 0, 0\n",
    "\n",
    "        for inputs, labels in train_loader:\n",
    "            inputs, labels = inputs.to(device), labels.to(device)\n",
    "\n",
    "            with torch.no_grad():\n",
    "                teacher_logits = teacher(inputs)\n",
    "\n",
    "            student_logits = student(inputs)\n",
    "\n",
    "            # Temperature scaling\n",
    "            teacher_logits_temp = teacher_logits / temperature\n",
    "            student_logits_temp = student_logits / temperature\n",
    "\n",
    "            # Logits normalization\n",
    "            teacher_logits_temp = normalize(teacher_logits_temp)\n",
    "            student_logits_temp = normalize(student_logits_temp)\n",
    "\n",
    "            # CA-KLD loss (normalized logits)\n",
    "            distillation_loss = cakld_loss(student_logits_temp, teacher_logits_temp, beta_prob) * (temperature ** 2)\n",
    "\n",
    "            # Cross-entropy loss\n",
    "            ground_truth_loss = F.cross_entropy(student_logits, labels)\n",
    "\n",
    "            # Combined loss\n",
    "            loss = alpha * distillation_loss + (1 - alpha) * ground_truth_loss\n",
    "\n",
    "            optimizer.zero_grad()\n",
    "            loss.backward()\n",
    "            optimizer.step()\n",
    "\n",
    "            total_loss += loss.item()\n",
    "            _, predicted = student_logits.max(1)\n",
    "            correct += predicted.eq(labels).sum().item()\n",
    "            total += labels.size(0)\n",
    "\n",
    "        train_loss = total_loss / len(train_loader)\n",
    "        train_acc = 100.0 * correct / total\n",
    "\n",
    "        # Validation accuracy\n",
    "        val_acc = evaluate(student, val_loader, device)\n",
    "\n",
    "        print(f\"Epoch {epoch+1}/{epochs} | Train Loss: {train_loss:.4f} | \"\n",
    "              f\"Train Acc: {train_acc:.2f}% | Val Acc: {val_acc:.2f}%\")\n",
    "\n",
    "        # Early stopping\n",
    "        if val_acc > best_val_acc:\n",
    "            best_val_acc = val_acc\n",
    "            best_model_state = student.state_dict()\n",
    "            patience_counter = 0\n",
    "        else:\n",
    "            patience_counter += 1\n",
    "            if patience_counter >= patience:\n",
    "                print(f\"Early stopping triggered at epoch {epoch+1}. No improvement for {patience} epochs.\")\n",
    "                break\n",
    "\n",
    "    # Load best model state and save\n",
    "    student.load_state_dict(best_model_state)\n",
    "    torch.save(student.state_dict(), save_path)\n",
    "    print(f\"Student model saved before pruning at: {save_path}\")\n",
    "\n",
    "    total_time = time.time() - start_time\n",
    "    print(f\"Total Training Time: {total_time // 60:.0f}m {total_time % 60:.0f}s\")\n",
    "\n",
    "    return student"
   ]
  },
  {
   "cell_type": "code",
   "execution_count": 40,
   "metadata": {},
   "outputs": [
    {
     "name": "stdout",
     "output_type": "stream",
     "text": [
      "Epoch 1/50 | Train Loss: 9.5556 | Train Acc: 54.33% | Val Acc: 61.88%\n",
      "Epoch 2/50 | Train Loss: 4.3486 | Train Acc: 74.08% | Val Acc: 67.95%\n",
      "Epoch 3/50 | Train Loss: 2.7151 | Train Acc: 82.97% | Val Acc: 74.83%\n",
      "Epoch 4/50 | Train Loss: 1.7075 | Train Acc: 88.86% | Val Acc: 77.60%\n",
      "Epoch 5/50 | Train Loss: 1.1438 | Train Acc: 92.86% | Val Acc: 80.32%\n",
      "Epoch 6/50 | Train Loss: 0.8663 | Train Acc: 94.71% | Val Acc: 80.73%\n",
      "Epoch 7/50 | Train Loss: 0.7182 | Train Acc: 95.67% | Val Acc: 81.27%\n",
      "Epoch 8/50 | Train Loss: 0.6282 | Train Acc: 96.04% | Val Acc: 81.15%\n",
      "Epoch 9/50 | Train Loss: 0.5653 | Train Acc: 96.42% | Val Acc: 81.58%\n",
      "Epoch 10/50 | Train Loss: 0.5261 | Train Acc: 96.51% | Val Acc: 81.73%\n",
      "Epoch 11/50 | Train Loss: 0.4904 | Train Acc: 96.73% | Val Acc: 81.63%\n",
      "Epoch 12/50 | Train Loss: 0.4693 | Train Acc: 96.81% | Val Acc: 81.57%\n",
      "Epoch 13/50 | Train Loss: 0.4545 | Train Acc: 96.77% | Val Acc: 81.88%\n",
      "Epoch 14/50 | Train Loss: 0.4359 | Train Acc: 96.93% | Val Acc: 82.24%\n",
      "Epoch 15/50 | Train Loss: 0.4175 | Train Acc: 96.97% | Val Acc: 81.90%\n",
      "Epoch 16/50 | Train Loss: 0.4039 | Train Acc: 96.98% | Val Acc: 82.09%\n",
      "Epoch 17/50 | Train Loss: 0.3928 | Train Acc: 97.11% | Val Acc: 81.80%\n",
      "Epoch 18/50 | Train Loss: 0.3781 | Train Acc: 97.08% | Val Acc: 81.61%\n",
      "Epoch 19/50 | Train Loss: 0.3694 | Train Acc: 97.19% | Val Acc: 82.18%\n",
      "Early stopping triggered at epoch 19. No improvement for 5 epochs.\n",
      "Student model saved before pruning at: student_before_pruning.pth\n",
      "Total Training Time: 17m 51s\n"
     ]
    }
   ],
   "source": [
    "\n",
    "student = train_kd_pruning(\n",
    "    teacher, student, train_loader, val_loader,\n",
    "    epochs=50, temperature=5.0, alpha=0.5,beta_prob=0.5, patience=5,save_path=\"student_before_pruning.pth\"\n",
    ")\n"
   ]
  },
  {
   "cell_type": "code",
   "execution_count": 41,
   "metadata": {},
   "outputs": [
    {
     "name": "stdout",
     "output_type": "stream",
     "text": [
      "Sparsity Before Pruning: 0.00%\n",
      "Teacher Model Test Accuracy: 80.89%\n",
      "Student Model Test Accuracy Before Pruning: 81.12%\n"
     ]
    }
   ],
   "source": [
    "# Calculate sparsity\n",
    "sparsity = calculate_sparsity(student)\n",
    "print(f\"Sparsity Before Pruning: {sparsity * 100:.2f}%\")\n",
    "\n",
    "teacher_accuracy = evaluate(teacher, test_loader, device)\n",
    "student_accuracy = evaluate(student, test_loader, device)\n",
    "print(f\"Teacher Model Test Accuracy: {teacher_accuracy:.2f}%\")\n",
    "print(f\"Student Model Test Accuracy Before Pruning: {student_accuracy:.2f}%\")"
   ]
  },
  {
   "cell_type": "markdown",
   "metadata": {},
   "source": [
    "## 93% Sparsity"
   ]
  },
  {
   "cell_type": "code",
   "execution_count": 42,
   "metadata": {},
   "outputs": [
    {
     "data": {
      "text/plain": [
       "<All keys matched successfully>"
      ]
     },
     "execution_count": 42,
     "metadata": {},
     "output_type": "execute_result"
    }
   ],
   "source": [
    "\n",
    "model_path = 'student_before_pruning.pth'\n",
    "# Load the model weights\n",
    "student.load_state_dict(torch.load(model_path, map_location=torch.device('cpu')))"
   ]
  },
  {
   "cell_type": "code",
   "execution_count": 43,
   "metadata": {},
   "outputs": [
    {
     "name": "stdout",
     "output_type": "stream",
     "text": [
      "Calculating Important Scores\n",
      "Accumulation Epoch 1/3\n",
      "Accumulation Epoch 2/3\n",
      "Accumulation Epoch 3/3\n",
      "Total Time take to calculate Important scores: 2m 35s\n",
      "Pruning the model\n",
      "Total Time take to prune the model scores: 0m 0s\n"
     ]
    }
   ],
   "source": [
    "# Pruning\n",
    "print(\"Calculating Important Scores\")\n",
    "start_time = time.time()\n",
    "importance_scores = compute_gradient_importance(\n",
    "    teacher, student, train_loader, device, temperature=5.0, alpha=0.7,beta_prob=0.5, accumulation_epochs=3\n",
    ")\n",
    "total_time = time.time() - start_time\n",
    "print(f\"Total Time take to calculate Important scores: {total_time // 60:.0f}m {total_time % 60:.0f}s\")\n",
    "\n",
    "print(\"Pruning the model\")\n",
    "start_time = time.time()\n",
    "pruned_student = gradient_based_global_prune(student, importance_scores, prune_ratio=0.94)\n",
    "total_time = time.time() - start_time\n",
    "print(f\"Total Time take to prune the model scores: {total_time // 60:.0f}m {total_time % 60:.0f}s\")\n",
    "student = student.to(device)\n"
   ]
  },
  {
   "cell_type": "code",
   "execution_count": 44,
   "metadata": {},
   "outputs": [
    {
     "name": "stdout",
     "output_type": "stream",
     "text": [
      "Student Model Test Accuracy After Pruning: 1.00%\n"
     ]
    }
   ],
   "source": [
    "student_accuracy = evaluate(pruned_student, test_loader, device)\n",
    "print(f\"Student Model Test Accuracy After Pruning: {student_accuracy:.2f}%\")"
   ]
  },
  {
   "cell_type": "code",
   "execution_count": 45,
   "metadata": {},
   "outputs": [
    {
     "name": "stdout",
     "output_type": "stream",
     "text": [
      "New best model saved with Val Accuracy: 66.42%\n",
      "Epoch 1/200 | Train Loss: 1.6213 | Train Acc: 59.18%\n",
      "Validation Loss: 1.1940 | Validation Acc: 66.42% | Sparsity: 93.53%\n",
      "\n",
      "New best model saved with Val Accuracy: 69.90%\n",
      "Epoch 2/200 | Train Loss: 0.8153 | Train Acc: 76.36%\n",
      "Validation Loss: 1.0408 | Validation Acc: 69.90% | Sparsity: 93.53%\n",
      "\n",
      "New best model saved with Val Accuracy: 71.53%\n",
      "Epoch 3/200 | Train Loss: 0.6268 | Train Acc: 81.58%\n",
      "Validation Loss: 0.9868 | Validation Acc: 71.53% | Sparsity: 93.53%\n",
      "\n",
      "New best model saved with Val Accuracy: 72.07%\n",
      "Epoch 4/200 | Train Loss: 0.5024 | Train Acc: 85.32%\n",
      "Validation Loss: 0.9658 | Validation Acc: 72.07% | Sparsity: 93.53%\n",
      "\n",
      "New best model saved with Val Accuracy: 72.91%\n",
      "Epoch 5/200 | Train Loss: 0.4129 | Train Acc: 88.17%\n",
      "Validation Loss: 0.9567 | Validation Acc: 72.91% | Sparsity: 93.53%\n",
      "\n",
      "Epoch 6/200 | Train Loss: 0.3364 | Train Acc: 90.86%\n",
      "Validation Loss: 0.9595 | Validation Acc: 72.85% | Sparsity: 93.53%\n",
      "\n",
      "New best model saved with Val Accuracy: 73.06%\n",
      "Epoch 7/200 | Train Loss: 0.2743 | Train Acc: 92.79%\n",
      "Validation Loss: 0.9639 | Validation Acc: 73.06% | Sparsity: 93.53%\n",
      "\n",
      "Epoch 8/200 | Train Loss: 0.2200 | Train Acc: 94.62%\n",
      "Validation Loss: 0.9994 | Validation Acc: 72.48% | Sparsity: 93.53%\n",
      "\n",
      "Epoch 9/200 | Train Loss: 0.1751 | Train Acc: 96.15%\n",
      "Validation Loss: 1.0119 | Validation Acc: 72.98% | Sparsity: 93.53%\n",
      "\n",
      "Epoch 10/200 | Train Loss: 0.1406 | Train Acc: 97.18%\n",
      "Validation Loss: 1.0522 | Validation Acc: 72.74% | Sparsity: 93.53%\n",
      "\n",
      "Epoch 11/200 | Train Loss: 0.1122 | Train Acc: 97.99%\n",
      "Validation Loss: 1.0774 | Validation Acc: 72.07% | Sparsity: 93.53%\n",
      "\n",
      "Early stopping triggered at epoch 12. No improvement for 5 epochs.\n",
      "Best Validation Accuracy: 73.06% | Best Model Saved at: retrained_student_model.pt\n",
      "Retraining completed in 7.55 minutes (453.25 seconds)\n"
     ]
    }
   ],
   "source": [
    "start_time = time.time()\n",
    "retrained_student = retrain_with_sparsity(\n",
    "    pruned_student, train_loader, val_loader,\n",
    "    epochs=200,  save_path='retrained_student_model.pt',patience=5\n",
    ")\n",
    "end_time = time.time()\n",
    "elapsed_time = end_time - start_time\n",
    "\n",
    "print(f\"Retraining completed in {elapsed_time / 60:.2f} minutes ({elapsed_time:.2f} seconds)\")"
   ]
  },
  {
   "cell_type": "code",
   "execution_count": 46,
   "metadata": {},
   "outputs": [
    {
     "name": "stdout",
     "output_type": "stream",
     "text": [
      "Pruned Student Model Test Accuracy(After Retrain): 72.00%\n"
     ]
    }
   ],
   "source": [
    "student_accuracy = evaluate(retrained_student, test_loader, device)\n",
    "print(f\"Pruned Student Model Test Accuracy(After Retrain): {student_accuracy:.2f}%\")"
   ]
  },
  {
   "cell_type": "code",
   "execution_count": 49,
   "metadata": {},
   "outputs": [
    {
     "data": {
      "text/plain": [
       "<All keys matched successfully>"
      ]
     },
     "execution_count": 49,
     "metadata": {},
     "output_type": "execute_result"
    }
   ],
   "source": [
    "\n",
    "model_path = 'student_before_pruning.pth'\n",
    "# Load the model weights\n",
    "student.load_state_dict(torch.load(model_path, map_location=torch.device('cpu')))"
   ]
  },
  {
   "cell_type": "code",
   "execution_count": 50,
   "metadata": {},
   "outputs": [
    {
     "name": "stdout",
     "output_type": "stream",
     "text": [
      "Calculating Important Scores\n",
      "Accumulation Epoch 1/3\n",
      "Accumulation Epoch 2/3\n",
      "Accumulation Epoch 3/3\n",
      "Total Time take to calculate Important scores: 2m 36s\n",
      "Pruning the model\n",
      "Total Time take to prune the model scores: 0m 0s\n"
     ]
    }
   ],
   "source": [
    "# Pruning\n",
    "print(\"Calculating Important Scores\")\n",
    "start_time = time.time()\n",
    "importance_scores = compute_gradient_importance(\n",
    "    teacher, student, train_loader, device, temperature=5.0, alpha=0.7,beta_prob=0.5, accumulation_epochs=3\n",
    ")\n",
    "total_time = time.time() - start_time\n",
    "print(f\"Total Time take to calculate Important scores: {total_time // 60:.0f}m {total_time % 60:.0f}s\")\n",
    "\n",
    "print(\"Pruning the model\")\n",
    "start_time = time.time()\n",
    "pruned_student = gradient_based_global_prune(student, importance_scores, prune_ratio=0.94)\n",
    "total_time = time.time() - start_time\n",
    "print(f\"Total Time take to prune the model scores: {total_time // 60:.0f}m {total_time % 60:.0f}s\")\n",
    "student = student.to(device)\n"
   ]
  },
  {
   "cell_type": "code",
   "execution_count": 51,
   "metadata": {},
   "outputs": [
    {
     "name": "stdout",
     "output_type": "stream",
     "text": [
      "Epoch 1/50 | Train Loss: 8.8002 | Train Acc: 64.75% | Val Loss: 1.4439 | Val Acc: 65.64% | Sparsity: 93.53%\n",
      "Epoch 2/50 | Train Loss: 5.0399 | Train Acc: 77.30% | Val Loss: 1.3628 | Val Acc: 68.55% | Sparsity: 93.53%\n",
      "Epoch 3/50 | Train Loss: 3.8382 | Train Acc: 82.15% | Val Loss: 1.1598 | Val Acc: 72.44% | Sparsity: 93.53%\n",
      "Epoch 4/50 | Train Loss: 2.9677 | Train Acc: 86.17% | Val Loss: 1.0755 | Val Acc: 72.72% | Sparsity: 93.53%\n",
      "Epoch 5/50 | Train Loss: 2.3849 | Train Acc: 88.56% | Val Loss: 1.0235 | Val Acc: 74.34% | Sparsity: 93.53%\n",
      "Epoch 6/50 | Train Loss: 2.0129 | Train Acc: 90.52% | Val Loss: 1.0252 | Val Acc: 75.00% | Sparsity: 93.53%\n",
      "Epoch 7/50 | Train Loss: 1.7389 | Train Acc: 91.72% | Val Loss: 0.9920 | Val Acc: 75.67% | Sparsity: 93.53%\n",
      "Epoch 8/50 | Train Loss: 1.5394 | Train Acc: 92.58% | Val Loss: 0.9375 | Val Acc: 76.06% | Sparsity: 93.53%\n",
      "Epoch 9/50 | Train Loss: 1.3975 | Train Acc: 93.35% | Val Loss: 0.9334 | Val Acc: 76.57% | Sparsity: 93.53%\n",
      "Epoch 10/50 | Train Loss: 1.2629 | Train Acc: 93.79% | Val Loss: 0.9225 | Val Acc: 76.68% | Sparsity: 93.53%\n",
      "Epoch 11/50 | Train Loss: 1.1912 | Train Acc: 94.14% | Val Loss: 0.9295 | Val Acc: 76.81% | Sparsity: 93.53%\n",
      "Epoch 12/50 | Train Loss: 1.1075 | Train Acc: 94.46% | Val Loss: 0.8988 | Val Acc: 76.89% | Sparsity: 93.53%\n",
      "Epoch 13/50 | Train Loss: 1.0608 | Train Acc: 94.69% | Val Loss: 0.8979 | Val Acc: 76.90% | Sparsity: 93.53%\n",
      "Epoch 14/50 | Train Loss: 1.0065 | Train Acc: 94.84% | Val Loss: 0.9023 | Val Acc: 76.72% | Sparsity: 93.53%\n",
      "Epoch 15/50 | Train Loss: 0.9756 | Train Acc: 94.75% | Val Loss: 0.8941 | Val Acc: 76.48% | Sparsity: 93.53%\n",
      "Epoch 16/50 | Train Loss: 0.9467 | Train Acc: 94.99% | Val Loss: 0.8841 | Val Acc: 76.92% | Sparsity: 93.53%\n",
      "Epoch 17/50 | Train Loss: 0.9074 | Train Acc: 95.18% | Val Loss: 0.8879 | Val Acc: 77.20% | Sparsity: 93.53%\n",
      "Epoch 18/50 | Train Loss: 0.8825 | Train Acc: 95.29% | Val Loss: 0.8982 | Val Acc: 76.89% | Sparsity: 93.53%\n",
      "Epoch 19/50 | Train Loss: 0.8649 | Train Acc: 95.17% | Val Loss: 0.8808 | Val Acc: 77.17% | Sparsity: 93.53%\n",
      "Epoch 20/50 | Train Loss: 0.8384 | Train Acc: 95.42% | Val Loss: 0.8852 | Val Acc: 77.29% | Sparsity: 93.53%\n",
      "Epoch 21/50 | Train Loss: 0.8162 | Train Acc: 95.44% | Val Loss: 0.8752 | Val Acc: 77.14% | Sparsity: 93.53%\n",
      "Epoch 22/50 | Train Loss: 0.8113 | Train Acc: 95.48% | Val Loss: 0.8946 | Val Acc: 77.04% | Sparsity: 93.53%\n",
      "Epoch 23/50 | Train Loss: 0.7938 | Train Acc: 95.45% | Val Loss: 0.8797 | Val Acc: 76.92% | Sparsity: 93.53%\n",
      "Epoch 24/50 | Train Loss: 0.7712 | Train Acc: 95.55% | Val Loss: 0.8816 | Val Acc: 76.97% | Sparsity: 93.53%\n",
      "Epoch 25/50 | Train Loss: 0.7537 | Train Acc: 95.58% | Val Loss: 0.8914 | Val Acc: 76.81% | Sparsity: 93.53%\n",
      "Early stopping triggered at epoch 25. No improvement for 5 epochs.\n",
      "Student model saved before pruning at: pruned_student_retrain_KD_90%.pth\n",
      "Total Training Time: 24m 18s\n",
      "Retraining completed in 24.31 minutes (1458.50 seconds)\n"
     ]
    }
   ],
   "source": [
    "\n",
    "start_time = time.time()\n",
    "pruned_student = retrain_with_KD(\n",
    "    teacher, pruned_student, train_loader, val_loader,\n",
    "    epochs=50, temperature=5.0, alpha=0.7, beta_prob=0.5,patience=5,save_path=\"pruned_student_retrain_KD_90%.pth\"\n",
    ")\n",
    "end_time = time.time()\n",
    "elapsed_time = end_time - start_time\n",
    "\n",
    "print(f\"Retraining completed in {elapsed_time / 60:.2f} minutes ({elapsed_time:.2f} seconds)\")"
   ]
  },
  {
   "cell_type": "code",
   "execution_count": 52,
   "metadata": {},
   "outputs": [
    {
     "name": "stdout",
     "output_type": "stream",
     "text": [
      "Pruned Student Model Test Accuracy(After Retrain): 76.35%\n"
     ]
    }
   ],
   "source": [
    "student_accuracy = evaluate(pruned_student, test_loader, device)\n",
    "print(f\"Pruned Student Model Test Accuracy(After Retrain): {student_accuracy:.2f}%\")"
   ]
  },
  {
   "cell_type": "code",
   "execution_count": 53,
   "metadata": {},
   "outputs": [
    {
     "data": {
      "text/plain": [
       "<All keys matched successfully>"
      ]
     },
     "execution_count": 53,
     "metadata": {},
     "output_type": "execute_result"
    }
   ],
   "source": [
    "\n",
    "model_path = 'student_before_pruning.pth'\n",
    "# Load the model weights\n",
    "student.load_state_dict(torch.load(model_path, map_location=torch.device('cpu')))"
   ]
  },
  {
   "cell_type": "code",
   "execution_count": 54,
   "metadata": {},
   "outputs": [
    {
     "name": "stdout",
     "output_type": "stream",
     "text": [
      "Calculating Important Scores\n",
      "Accumulation Epoch 1/3\n",
      "Accumulation Epoch 2/3\n",
      "Accumulation Epoch 3/3\n",
      "Total Time take to calculate Important scores: 2m 37s\n",
      "Pruning the model\n",
      "Total Time take to prune the model scores: 0m 0s\n"
     ]
    }
   ],
   "source": [
    "# Pruning\n",
    "print(\"Calculating Important Scores\")\n",
    "start_time = time.time()\n",
    "importance_scores = compute_gradient_importance(\n",
    "    teacher, student, train_loader, device, temperature=6.0, alpha=0.7,beta_prob=0.5, accumulation_epochs=3\n",
    ")\n",
    "total_time = time.time() - start_time\n",
    "print(f\"Total Time take to calculate Important scores: {total_time // 60:.0f}m {total_time % 60:.0f}s\")\n",
    "\n",
    "print(\"Pruning the model\")\n",
    "start_time = time.time()\n",
    "pruned_student = gradient_based_global_prune(student, importance_scores, prune_ratio=0.94)\n",
    "total_time = time.time() - start_time\n",
    "print(f\"Total Time take to prune the model scores: {total_time // 60:.0f}m {total_time % 60:.0f}s\")\n",
    "student = student.to(device)\n"
   ]
  },
  {
   "cell_type": "code",
   "execution_count": 55,
   "metadata": {},
   "outputs": [
    {
     "name": "stdout",
     "output_type": "stream",
     "text": [
      "Epoch 1/50 | Train Loss: 14.3468 | Train Acc: 60.67% | Val Loss: 2.3656 | Val Acc: 58.10% | Sparsity: 93.53%\n",
      "Epoch 2/50 | Train Loss: 8.6533 | Train Acc: 73.26% | Val Loss: 1.7821 | Val Acc: 66.23% | Sparsity: 93.53%\n",
      "Epoch 3/50 | Train Loss: 6.4335 | Train Acc: 79.29% | Val Loss: 1.4357 | Val Acc: 69.29% | Sparsity: 93.53%\n",
      "Epoch 4/50 | Train Loss: 4.9439 | Train Acc: 83.54% | Val Loss: 1.2908 | Val Acc: 71.94% | Sparsity: 93.53%\n",
      "Epoch 5/50 | Train Loss: 4.0082 | Train Acc: 86.58% | Val Loss: 1.1789 | Val Acc: 73.06% | Sparsity: 93.53%\n",
      "Epoch 6/50 | Train Loss: 3.3317 | Train Acc: 88.74% | Val Loss: 1.1339 | Val Acc: 74.19% | Sparsity: 93.53%\n",
      "Epoch 7/50 | Train Loss: 2.8698 | Train Acc: 90.24% | Val Loss: 1.1256 | Val Acc: 73.94% | Sparsity: 93.53%\n",
      "Epoch 8/50 | Train Loss: 2.4823 | Train Acc: 91.63% | Val Loss: 1.0222 | Val Acc: 75.47% | Sparsity: 93.53%\n",
      "Epoch 9/50 | Train Loss: 2.2157 | Train Acc: 92.42% | Val Loss: 1.0269 | Val Acc: 76.20% | Sparsity: 93.53%\n",
      "Epoch 10/50 | Train Loss: 1.9912 | Train Acc: 93.17% | Val Loss: 0.9974 | Val Acc: 75.69% | Sparsity: 93.53%\n",
      "Epoch 11/50 | Train Loss: 1.8306 | Train Acc: 93.67% | Val Loss: 1.0317 | Val Acc: 76.22% | Sparsity: 93.53%\n",
      "Epoch 12/50 | Train Loss: 1.6795 | Train Acc: 94.00% | Val Loss: 0.9485 | Val Acc: 76.75% | Sparsity: 93.53%\n",
      "Epoch 13/50 | Train Loss: 1.5916 | Train Acc: 94.22% | Val Loss: 0.9523 | Val Acc: 76.51% | Sparsity: 93.53%\n",
      "Epoch 14/50 | Train Loss: 1.5219 | Train Acc: 94.33% | Val Loss: 0.9435 | Val Acc: 76.05% | Sparsity: 93.53%\n",
      "Epoch 15/50 | Train Loss: 1.4570 | Train Acc: 94.51% | Val Loss: 0.9475 | Val Acc: 76.52% | Sparsity: 93.53%\n",
      "Epoch 16/50 | Train Loss: 1.4050 | Train Acc: 94.66% | Val Loss: 0.9260 | Val Acc: 76.52% | Sparsity: 93.53%\n",
      "Epoch 17/50 | Train Loss: 1.3427 | Train Acc: 94.72% | Val Loss: 0.9277 | Val Acc: 76.56% | Sparsity: 93.53%\n",
      "Early stopping triggered at epoch 17. No improvement for 5 epochs.\n",
      "Student model saved before pruning at: pruned_student_retrain_KD_90%.pth\n",
      "Total Training Time: 16m 25s\n",
      "Retraining completed in 16.42 minutes (985.00 seconds)\n"
     ]
    }
   ],
   "source": [
    "\n",
    "start_time = time.time()\n",
    "pruned_student = retrain_with_KD(\n",
    "    teacher, pruned_student, train_loader, val_loader,\n",
    "    epochs=50, temperature=6.0, alpha=0.7, beta_prob=0.5,patience=5,save_path=\"pruned_student_retrain_KD_90%.pth\"\n",
    ")\n",
    "end_time = time.time()\n",
    "elapsed_time = end_time - start_time\n",
    "\n",
    "print(f\"Retraining completed in {elapsed_time / 60:.2f} minutes ({elapsed_time:.2f} seconds)\")"
   ]
  },
  {
   "cell_type": "code",
   "execution_count": 56,
   "metadata": {},
   "outputs": [
    {
     "name": "stdout",
     "output_type": "stream",
     "text": [
      "Pruned Student Model Test Accuracy(After Retrain): 75.34%\n"
     ]
    }
   ],
   "source": [
    "student_accuracy = evaluate(pruned_student, test_loader, device)\n",
    "print(f\"Pruned Student Model Test Accuracy(After Retrain): {student_accuracy:.2f}%\")"
   ]
  },
  {
   "cell_type": "markdown",
   "metadata": {},
   "source": [
    "# 98% of Sparsity"
   ]
  },
  {
   "cell_type": "code",
   "execution_count": 57,
   "metadata": {},
   "outputs": [
    {
     "data": {
      "text/plain": [
       "<All keys matched successfully>"
      ]
     },
     "execution_count": 57,
     "metadata": {},
     "output_type": "execute_result"
    }
   ],
   "source": [
    "\n",
    "model_path = 'student_before_pruning.pth'\n",
    "# Load the model weights\n",
    "student.load_state_dict(torch.load(model_path, map_location=torch.device('cpu')))"
   ]
  },
  {
   "cell_type": "code",
   "execution_count": 58,
   "metadata": {},
   "outputs": [
    {
     "name": "stdout",
     "output_type": "stream",
     "text": [
      "Calculating Important Scores\n",
      "Accumulation Epoch 1/3\n",
      "Accumulation Epoch 2/3\n",
      "Accumulation Epoch 3/3\n",
      "Total Time take to calculate Important scores: 2m 37s\n",
      "Pruning the model\n",
      "Total Time take to prune the model scores: 0m 0s\n"
     ]
    }
   ],
   "source": [
    "# Pruning\n",
    "print(\"Calculating Important Scores\")\n",
    "start_time = time.time()\n",
    "importance_scores = compute_gradient_importance(\n",
    "    teacher, student, train_loader, device, temperature=5.0, alpha=0.7,beta_prob=0.5, accumulation_epochs=3\n",
    ")\n",
    "total_time = time.time() - start_time\n",
    "print(f\"Total Time take to calculate Important scores: {total_time // 60:.0f}m {total_time % 60:.0f}s\")\n",
    "\n",
    "print(\"Pruning the model\")\n",
    "start_time = time.time()\n",
    "pruned_student = gradient_based_global_prune(student, importance_scores, prune_ratio=0.985)\n",
    "total_time = time.time() - start_time\n",
    "print(f\"Total Time take to prune the model scores: {total_time // 60:.0f}m {total_time % 60:.0f}s\")\n",
    "student = student.to(device)\n"
   ]
  },
  {
   "cell_type": "code",
   "execution_count": 59,
   "metadata": {},
   "outputs": [
    {
     "name": "stdout",
     "output_type": "stream",
     "text": [
      "New best model saved with Val Accuracy: 26.68%\n",
      "Epoch 1/200 | Train Loss: 3.9633 | Train Acc: 12.63%\n",
      "Validation Loss: 3.1184 | Validation Acc: 26.68% | Sparsity: 98.01%\n",
      "\n",
      "New best model saved with Val Accuracy: 45.58%\n",
      "Epoch 2/200 | Train Loss: 2.4241 | Train Acc: 38.88%\n",
      "Validation Loss: 2.0475 | Validation Acc: 45.58% | Sparsity: 98.01%\n",
      "\n",
      "New best model saved with Val Accuracy: 52.40%\n",
      "Epoch 3/200 | Train Loss: 1.8531 | Train Acc: 50.59%\n",
      "Validation Loss: 1.7403 | Validation Acc: 52.40% | Sparsity: 98.01%\n",
      "\n",
      "New best model saved with Val Accuracy: 55.84%\n",
      "Epoch 4/200 | Train Loss: 1.5834 | Train Acc: 56.62%\n",
      "Validation Loss: 1.5856 | Validation Acc: 55.84% | Sparsity: 98.01%\n",
      "\n",
      "New best model saved with Val Accuracy: 58.28%\n",
      "Epoch 5/200 | Train Loss: 1.4103 | Train Acc: 60.70%\n",
      "Validation Loss: 1.4864 | Validation Acc: 58.28% | Sparsity: 98.01%\n",
      "\n",
      "New best model saved with Val Accuracy: 59.38%\n",
      "Epoch 6/200 | Train Loss: 1.2871 | Train Acc: 63.72%\n",
      "Validation Loss: 1.4321 | Validation Acc: 59.38% | Sparsity: 98.01%\n",
      "\n",
      "New best model saved with Val Accuracy: 60.82%\n",
      "Epoch 7/200 | Train Loss: 1.1858 | Train Acc: 66.55%\n",
      "Validation Loss: 1.3772 | Validation Acc: 60.82% | Sparsity: 98.01%\n",
      "\n",
      "New best model saved with Val Accuracy: 61.53%\n",
      "Epoch 8/200 | Train Loss: 1.1025 | Train Acc: 68.70%\n",
      "Validation Loss: 1.3460 | Validation Acc: 61.53% | Sparsity: 98.01%\n",
      "\n",
      "New best model saved with Val Accuracy: 62.02%\n",
      "Epoch 9/200 | Train Loss: 1.0242 | Train Acc: 70.65%\n",
      "Validation Loss: 1.3190 | Validation Acc: 62.02% | Sparsity: 98.01%\n",
      "\n",
      "Epoch 10/200 | Train Loss: 0.9643 | Train Acc: 72.22%\n",
      "Validation Loss: 1.3129 | Validation Acc: 62.00% | Sparsity: 98.01%\n",
      "\n",
      "New best model saved with Val Accuracy: 62.73%\n",
      "Epoch 11/200 | Train Loss: 0.9046 | Train Acc: 73.96%\n",
      "Validation Loss: 1.2958 | Validation Acc: 62.73% | Sparsity: 98.01%\n",
      "\n",
      "Epoch 12/200 | Train Loss: 0.8530 | Train Acc: 75.23%\n",
      "Validation Loss: 1.2994 | Validation Acc: 62.45% | Sparsity: 98.01%\n",
      "\n",
      "New best model saved with Val Accuracy: 63.01%\n",
      "Epoch 13/200 | Train Loss: 0.8060 | Train Acc: 76.75%\n",
      "Validation Loss: 1.2919 | Validation Acc: 63.01% | Sparsity: 98.01%\n",
      "\n",
      "New best model saved with Val Accuracy: 63.41%\n",
      "Epoch 14/200 | Train Loss: 0.7609 | Train Acc: 78.00%\n",
      "Validation Loss: 1.2901 | Validation Acc: 63.41% | Sparsity: 98.01%\n",
      "\n",
      "Epoch 15/200 | Train Loss: 0.7164 | Train Acc: 79.56%\n",
      "Validation Loss: 1.2886 | Validation Acc: 63.20% | Sparsity: 98.01%\n",
      "\n",
      "Epoch 16/200 | Train Loss: 0.6796 | Train Acc: 80.69%\n",
      "Validation Loss: 1.3142 | Validation Acc: 62.83% | Sparsity: 98.01%\n",
      "\n",
      "Epoch 17/200 | Train Loss: 0.6409 | Train Acc: 81.75%\n",
      "Validation Loss: 1.3179 | Validation Acc: 62.75% | Sparsity: 98.01%\n",
      "\n",
      "Epoch 18/200 | Train Loss: 0.6030 | Train Acc: 83.01%\n",
      "Validation Loss: 1.3160 | Validation Acc: 63.29% | Sparsity: 98.01%\n",
      "\n",
      "Epoch 19/200 | Train Loss: 0.5718 | Train Acc: 84.00%\n",
      "Validation Loss: 1.3406 | Validation Acc: 62.41% | Sparsity: 98.01%\n",
      "\n",
      "Epoch 20/200 | Train Loss: 0.5387 | Train Acc: 85.08%\n",
      "Validation Loss: 1.3427 | Validation Acc: 62.44% | Sparsity: 98.01%\n",
      "\n",
      "Early stopping triggered at epoch 21. No improvement for 7 epochs.\n",
      "Best Validation Accuracy: 63.41% | Best Model Saved at: retrained_student_model.pt\n",
      "Retraining completed in 13.21 minutes (792.38 seconds)\n"
     ]
    }
   ],
   "source": [
    "start_time = time.time()\n",
    "retrained_student = retrain_with_sparsity(\n",
    "    pruned_student, train_loader, val_loader,\n",
    "    epochs=200,  save_path='retrained_student_model.pt',patience=7\n",
    ")\n",
    "end_time = time.time()\n",
    "elapsed_time = end_time - start_time\n",
    "\n",
    "print(f\"Retraining completed in {elapsed_time / 60:.2f} minutes ({elapsed_time:.2f} seconds)\")"
   ]
  },
  {
   "cell_type": "code",
   "execution_count": 60,
   "metadata": {},
   "outputs": [
    {
     "name": "stdout",
     "output_type": "stream",
     "text": [
      "Pruned Student Model Test Accuracy(After Retrain): 62.49%\n"
     ]
    }
   ],
   "source": [
    "student_accuracy = evaluate(retrained_student, test_loader, device)\n",
    "print(f\"Pruned Student Model Test Accuracy(After Retrain): {student_accuracy:.2f}%\")"
   ]
  },
  {
   "cell_type": "code",
   "execution_count": 61,
   "metadata": {},
   "outputs": [],
   "source": [
    "\n",
    "# pruned_student_inference_time = measure_inference_time(retrained_student, test_loader,)\n",
    "# print(f\"Pruned Student Model Inference Time: {pruned_student_inference_time * 1000:.2f} ms per batch\")\n"
   ]
  },
  {
   "cell_type": "markdown",
   "metadata": {},
   "source": [
    "# Retrained with KD"
   ]
  },
  {
   "cell_type": "code",
   "execution_count": 65,
   "metadata": {},
   "outputs": [
    {
     "data": {
      "text/plain": [
       "<All keys matched successfully>"
      ]
     },
     "execution_count": 65,
     "metadata": {},
     "output_type": "execute_result"
    }
   ],
   "source": [
    "\n",
    "model_path = 'student_before_pruning.pth'\n",
    "# Load the model weights\n",
    "student.load_state_dict(torch.load(model_path, map_location=torch.device('cpu')))"
   ]
  },
  {
   "cell_type": "code",
   "execution_count": 66,
   "metadata": {},
   "outputs": [
    {
     "name": "stdout",
     "output_type": "stream",
     "text": [
      "Student Model Test Accuracy: 81.12%\n"
     ]
    }
   ],
   "source": [
    "student_accuracy = evaluate(student, test_loader, device)\n",
    "print(f\"Student Model Test Accuracy: {student_accuracy:.2f}%\")"
   ]
  },
  {
   "cell_type": "code",
   "execution_count": 67,
   "metadata": {},
   "outputs": [
    {
     "name": "stdout",
     "output_type": "stream",
     "text": [
      "Calculating Important Scores\n",
      "Accumulation Epoch 1/3\n",
      "Accumulation Epoch 2/3\n",
      "Accumulation Epoch 3/3\n",
      "Total Time take to calculate Important scores: 2m 39s\n",
      "Pruning the model\n",
      "Total Time take to prune the model scores: 0m 0s\n"
     ]
    }
   ],
   "source": [
    "# Pruning\n",
    "print(\"Calculating Important Scores\")\n",
    "start_time = time.time()\n",
    "importance_scores = compute_gradient_importance(\n",
    "    teacher, student, train_loader, device, temperature=5.0, alpha=0.7, accumulation_epochs=3\n",
    ")\n",
    "total_time = time.time() - start_time\n",
    "print(f\"Total Time take to calculate Important scores: {total_time // 60:.0f}m {total_time % 60:.0f}s\")\n",
    "\n",
    "print(\"Pruning the model\")\n",
    "start_time = time.time()\n",
    "\n",
    "pruned_student = gradient_based_global_prune(student, importance_scores, prune_ratio=0.985)\n",
    "\n",
    "total_time = time.time() - start_time\n",
    "print(f\"Total Time take to prune the model scores: {total_time // 60:.0f}m {total_time % 60:.0f}s\")\n",
    "student = student.to(device)\n"
   ]
  },
  {
   "cell_type": "code",
   "execution_count": 68,
   "metadata": {},
   "outputs": [
    {
     "name": "stdout",
     "output_type": "stream",
     "text": [
      "Epoch 1/50 | Train Loss: 17.6078 | Train Acc: 39.85% | Val Loss: 2.0596 | Val Acc: 49.63% | Sparsity: 98.01%\n",
      "Epoch 2/50 | Train Loss: 10.6520 | Train Acc: 58.28% | Val Loss: 1.6306 | Val Acc: 56.69% | Sparsity: 98.01%\n",
      "Epoch 3/50 | Train Loss: 8.9145 | Train Acc: 63.92% | Val Loss: 1.5456 | Val Acc: 59.53% | Sparsity: 98.01%\n",
      "Epoch 4/50 | Train Loss: 7.9609 | Train Acc: 66.99% | Val Loss: 1.4486 | Val Acc: 61.66% | Sparsity: 98.01%\n",
      "Epoch 5/50 | Train Loss: 7.1771 | Train Acc: 69.94% | Val Loss: 1.4311 | Val Acc: 63.29% | Sparsity: 98.01%\n",
      "Epoch 6/50 | Train Loss: 6.5889 | Train Acc: 72.07% | Val Loss: 1.3731 | Val Acc: 64.01% | Sparsity: 98.01%\n",
      "Epoch 7/50 | Train Loss: 6.1054 | Train Acc: 73.96% | Val Loss: 1.3315 | Val Acc: 65.31% | Sparsity: 98.01%\n",
      "Epoch 8/50 | Train Loss: 5.7066 | Train Acc: 75.32% | Val Loss: 1.3650 | Val Acc: 65.15% | Sparsity: 98.01%\n",
      "Epoch 9/50 | Train Loss: 5.4041 | Train Acc: 76.61% | Val Loss: 1.3407 | Val Acc: 64.96% | Sparsity: 98.01%\n",
      "Epoch 10/50 | Train Loss: 5.0914 | Train Acc: 77.92% | Val Loss: 1.3075 | Val Acc: 65.73% | Sparsity: 98.01%\n",
      "Epoch 11/50 | Train Loss: 4.7981 | Train Acc: 79.08% | Val Loss: 1.3174 | Val Acc: 66.72% | Sparsity: 98.01%\n",
      "Epoch 12/50 | Train Loss: 4.5673 | Train Acc: 80.15% | Val Loss: 1.4563 | Val Acc: 65.13% | Sparsity: 98.01%\n",
      "Epoch 13/50 | Train Loss: 4.3548 | Train Acc: 81.13% | Val Loss: 1.3120 | Val Acc: 65.78% | Sparsity: 98.01%\n",
      "Epoch 14/50 | Train Loss: 4.1669 | Train Acc: 81.82% | Val Loss: 1.3024 | Val Acc: 66.49% | Sparsity: 98.01%\n",
      "Epoch 15/50 | Train Loss: 4.0123 | Train Acc: 82.50% | Val Loss: 1.2894 | Val Acc: 67.47% | Sparsity: 98.01%\n",
      "Epoch 16/50 | Train Loss: 3.8282 | Train Acc: 83.55% | Val Loss: 1.2497 | Val Acc: 66.42% | Sparsity: 98.01%\n",
      "Epoch 17/50 | Train Loss: 3.6843 | Train Acc: 84.19% | Val Loss: 1.2380 | Val Acc: 68.59% | Sparsity: 98.01%\n",
      "Epoch 18/50 | Train Loss: 3.5774 | Train Acc: 84.54% | Val Loss: 1.2693 | Val Acc: 67.23% | Sparsity: 98.01%\n",
      "Epoch 19/50 | Train Loss: 3.4457 | Train Acc: 84.96% | Val Loss: 1.2650 | Val Acc: 67.08% | Sparsity: 98.01%\n",
      "Epoch 20/50 | Train Loss: 3.2840 | Train Acc: 85.87% | Val Loss: 1.2704 | Val Acc: 67.24% | Sparsity: 98.01%\n",
      "Epoch 21/50 | Train Loss: 3.2038 | Train Acc: 86.17% | Val Loss: 1.2974 | Val Acc: 66.45% | Sparsity: 98.01%\n",
      "Epoch 22/50 | Train Loss: 3.1140 | Train Acc: 86.58% | Val Loss: 1.2936 | Val Acc: 66.83% | Sparsity: 98.01%\n",
      "Epoch 23/50 | Train Loss: 3.0509 | Train Acc: 87.08% | Val Loss: 1.3544 | Val Acc: 66.29% | Sparsity: 98.01%\n",
      "Epoch 24/50 | Train Loss: 2.9375 | Train Acc: 87.45% | Val Loss: 1.2491 | Val Acc: 68.16% | Sparsity: 98.01%\n",
      "Early stopping triggered at epoch 24. No improvement for 7 epochs.\n",
      "Student model saved before pruning at: pruned_student_retrain_KD_90%.pth\n",
      "Total Training Time: 23m 15s\n",
      "Retraining completed in 23.25 minutes (1394.84 seconds)\n"
     ]
    }
   ],
   "source": [
    "\n",
    "start_time = time.time()\n",
    "pruned_student = retrain_with_KD(\n",
    "    teacher, pruned_student, train_loader, val_loader,\n",
    "    epochs=50, temperature=5.0, alpha=0.7, beta_prob=0.5,patience=7,save_path=\"pruned_student_retrain_KD_90%.pth\"\n",
    ")\n",
    "end_time = time.time()\n",
    "elapsed_time = end_time - start_time\n",
    "\n",
    "print(f\"Retraining completed in {elapsed_time / 60:.2f} minutes ({elapsed_time:.2f} seconds)\")"
   ]
  },
  {
   "cell_type": "code",
   "execution_count": 69,
   "metadata": {},
   "outputs": [
    {
     "name": "stdout",
     "output_type": "stream",
     "text": [
      "Pruned Student Model Test Accuracy(Retrain with KD): 67.06%\n"
     ]
    }
   ],
   "source": [
    "student_accuracy = evaluate(pruned_student, test_loader, device)\n",
    "print(f\"Pruned Student Model Test Accuracy(Retrain with KD): {student_accuracy:.2f}%\")"
   ]
  },
  {
   "cell_type": "code",
   "execution_count": 70,
   "metadata": {},
   "outputs": [
    {
     "data": {
      "text/plain": [
       "<All keys matched successfully>"
      ]
     },
     "execution_count": 70,
     "metadata": {},
     "output_type": "execute_result"
    }
   ],
   "source": [
    "\n",
    "model_path = 'student_before_pruning.pth'\n",
    "# Load the model weights\n",
    "student.load_state_dict(torch.load(model_path, map_location=torch.device('cpu')))"
   ]
  },
  {
   "cell_type": "code",
   "execution_count": 71,
   "metadata": {},
   "outputs": [
    {
     "name": "stdout",
     "output_type": "stream",
     "text": [
      "Calculating Important Scores\n",
      "Accumulation Epoch 1/3\n",
      "Accumulation Epoch 2/3\n",
      "Accumulation Epoch 3/3\n",
      "Total Time take to calculate Important scores: 2m 38s\n",
      "Pruning the model\n",
      "Total Time take to prune the model scores: 0m 0s\n"
     ]
    }
   ],
   "source": [
    "# Pruning\n",
    "print(\"Calculating Important Scores\")\n",
    "start_time = time.time()\n",
    "importance_scores = compute_gradient_importance(\n",
    "    teacher, student, train_loader, device, temperature=3.0, alpha=0.7, accumulation_epochs=3\n",
    ")\n",
    "total_time = time.time() - start_time\n",
    "print(f\"Total Time take to calculate Important scores: {total_time // 60:.0f}m {total_time % 60:.0f}s\")\n",
    "\n",
    "print(\"Pruning the model\")\n",
    "start_time = time.time()\n",
    "\n",
    "pruned_student = gradient_based_global_prune(student, importance_scores, prune_ratio=0.985)\n",
    "\n",
    "total_time = time.time() - start_time\n",
    "print(f\"Total Time take to prune the model scores: {total_time // 60:.0f}m {total_time % 60:.0f}s\")\n",
    "student = student.to(device)\n"
   ]
  },
  {
   "cell_type": "code",
   "execution_count": 72,
   "metadata": {},
   "outputs": [
    {
     "name": "stdout",
     "output_type": "stream",
     "text": [
      "Epoch 1/50 | Train Loss: 7.1997 | Train Acc: 37.82% | Val Loss: 1.8237 | Val Acc: 52.52% | Sparsity: 98.01%\n",
      "Epoch 2/50 | Train Loss: 4.0921 | Train Acc: 59.13% | Val Loss: 1.4799 | Val Acc: 59.35% | Sparsity: 98.01%\n",
      "Epoch 3/50 | Train Loss: 3.3648 | Train Acc: 65.03% | Val Loss: 1.4344 | Val Acc: 60.89% | Sparsity: 98.01%\n",
      "Epoch 4/50 | Train Loss: 2.9779 | Train Acc: 68.72% | Val Loss: 1.3388 | Val Acc: 63.46% | Sparsity: 98.01%\n",
      "Epoch 5/50 | Train Loss: 2.6975 | Train Acc: 71.27% | Val Loss: 1.2737 | Val Acc: 65.56% | Sparsity: 98.01%\n",
      "Epoch 6/50 | Train Loss: 2.4825 | Train Acc: 73.22% | Val Loss: 1.2823 | Val Acc: 64.76% | Sparsity: 98.01%\n",
      "Epoch 7/50 | Train Loss: 2.3231 | Train Acc: 74.94% | Val Loss: 1.3071 | Val Acc: 64.63% | Sparsity: 98.01%\n",
      "Epoch 8/50 | Train Loss: 2.1720 | Train Acc: 76.36% | Val Loss: 1.2874 | Val Acc: 65.63% | Sparsity: 98.01%\n",
      "Epoch 9/50 | Train Loss: 2.0501 | Train Acc: 77.63% | Val Loss: 1.2614 | Val Acc: 65.95% | Sparsity: 98.01%\n",
      "Epoch 10/50 | Train Loss: 1.9562 | Train Acc: 78.50% | Val Loss: 1.2478 | Val Acc: 65.89% | Sparsity: 98.01%\n",
      "Epoch 11/50 | Train Loss: 1.8449 | Train Acc: 80.03% | Val Loss: 1.2893 | Val Acc: 65.31% | Sparsity: 98.01%\n",
      "Epoch 12/50 | Train Loss: 1.7815 | Train Acc: 80.79% | Val Loss: 1.2651 | Val Acc: 65.68% | Sparsity: 98.01%\n",
      "Epoch 13/50 | Train Loss: 1.6870 | Train Acc: 81.81% | Val Loss: 1.2470 | Val Acc: 65.86% | Sparsity: 98.01%\n",
      "Epoch 14/50 | Train Loss: 1.6175 | Train Acc: 82.88% | Val Loss: 1.2374 | Val Acc: 67.55% | Sparsity: 98.01%\n",
      "Epoch 15/50 | Train Loss: 1.5778 | Train Acc: 83.16% | Val Loss: 1.2492 | Val Acc: 66.37% | Sparsity: 98.01%\n",
      "Epoch 16/50 | Train Loss: 1.5165 | Train Acc: 84.02% | Val Loss: 1.2222 | Val Acc: 66.80% | Sparsity: 98.01%\n",
      "Epoch 17/50 | Train Loss: 1.4500 | Train Acc: 84.86% | Val Loss: 1.2579 | Val Acc: 66.51% | Sparsity: 98.01%\n",
      "Epoch 18/50 | Train Loss: 1.4046 | Train Acc: 85.11% | Val Loss: 1.2363 | Val Acc: 66.57% | Sparsity: 98.01%\n",
      "Epoch 19/50 | Train Loss: 1.3535 | Train Acc: 85.80% | Val Loss: 1.2616 | Val Acc: 66.35% | Sparsity: 98.01%\n",
      "Epoch 20/50 | Train Loss: 1.3112 | Train Acc: 86.49% | Val Loss: 1.2562 | Val Acc: 66.22% | Sparsity: 98.01%\n",
      "Epoch 21/50 | Train Loss: 1.2754 | Train Acc: 86.95% | Val Loss: 1.2290 | Val Acc: 67.03% | Sparsity: 98.01%\n",
      "Early stopping triggered at epoch 21. No improvement for 7 epochs.\n",
      "Student model saved before pruning at: pruned_student_retrain_KD_90%.pth\n",
      "Total Training Time: 20m 28s\n",
      "Retraining completed in 20.47 minutes (1228.50 seconds)\n"
     ]
    }
   ],
   "source": [
    "\n",
    "start_time = time.time()\n",
    "pruned_student = retrain_with_KD(\n",
    "    teacher, pruned_student, train_loader, val_loader,\n",
    "    epochs=50, temperature=3.0, alpha=0.7, beta_prob=0.5,patience=7,save_path=\"pruned_student_retrain_KD_90%.pth\"\n",
    ")\n",
    "end_time = time.time()\n",
    "elapsed_time = end_time - start_time\n",
    "\n",
    "print(f\"Retraining completed in {elapsed_time / 60:.2f} minutes ({elapsed_time:.2f} seconds)\")"
   ]
  },
  {
   "cell_type": "code",
   "execution_count": 73,
   "metadata": {},
   "outputs": [
    {
     "name": "stdout",
     "output_type": "stream",
     "text": [
      "Pruned Student Model Test Accuracy(Retrain with KD): 66.32%\n"
     ]
    }
   ],
   "source": [
    "student_accuracy = evaluate(pruned_student, test_loader, device)\n",
    "print(f\"Pruned Student Model Test Accuracy(Retrain with KD): {student_accuracy:.2f}%\")"
   ]
  },
  {
   "cell_type": "code",
   "execution_count": 26,
   "metadata": {},
   "outputs": [
    {
     "data": {
      "text/plain": [
       "<All keys matched successfully>"
      ]
     },
     "execution_count": 26,
     "metadata": {},
     "output_type": "execute_result"
    }
   ],
   "source": [
    "\n",
    "model_path = 'student_before_pruning.pth'\n",
    "# Load the model weights\n",
    "student.load_state_dict(torch.load(model_path, map_location=torch.device('cpu')))"
   ]
  },
  {
   "cell_type": "code",
   "execution_count": 27,
   "metadata": {},
   "outputs": [
    {
     "name": "stdout",
     "output_type": "stream",
     "text": [
      "Calculating Important Scores\n",
      "Accumulation Epoch 1/3\n",
      "Accumulation Epoch 2/3\n",
      "Accumulation Epoch 3/3\n",
      "Total Time take to calculate Important scores: 2m 19s\n",
      "Pruning the model\n",
      "Total Time take to prune the model scores: 0m 0s\n"
     ]
    }
   ],
   "source": [
    "# Pruning\n",
    "print(\"Calculating Important Scores\")\n",
    "start_time = time.time()\n",
    "importance_scores = compute_gradient_importance(\n",
    "    teacher, student, train_loader, device, temperature=3.0, alpha=0.7, accumulation_epochs=3\n",
    ")\n",
    "total_time = time.time() - start_time\n",
    "print(f\"Total Time take to calculate Important scores: {total_time // 60:.0f}m {total_time % 60:.0f}s\")\n",
    "\n",
    "print(\"Pruning the model\")\n",
    "start_time = time.time()\n",
    "\n",
    "pruned_student = gradient_based_global_prune(student, importance_scores, prune_ratio=0.9789)\n",
    "\n",
    "total_time = time.time() - start_time\n",
    "print(f\"Total Time take to prune the model scores: {total_time // 60:.0f}m {total_time % 60:.0f}s\")\n",
    "student = student.to(device)\n"
   ]
  },
  {
   "cell_type": "code",
   "execution_count": 28,
   "metadata": {},
   "outputs": [
    {
     "name": "stdout",
     "output_type": "stream",
     "text": [
      "Sparsity Before Pruning: 97.40%\n"
     ]
    }
   ],
   "source": [
    "# Calculate sparsity\n",
    "sparsity = calculate_sparsity(student)\n",
    "print(f\"Sparsity Before Pruning: {sparsity * 100:.2f}%\")"
   ]
  },
  {
   "cell_type": "code",
   "execution_count": 29,
   "metadata": {},
   "outputs": [
    {
     "name": "stdout",
     "output_type": "stream",
     "text": [
      "Epoch 1/50 | Train Loss: 6.0904 | Train Acc: 45.49% | Val Loss: 1.5284 | Val Acc: 59.35% | Sparsity: 97.40%\n",
      "Epoch 2/50 | Train Loss: 3.3372 | Train Acc: 65.29% | Val Loss: 1.3383 | Val Acc: 63.08% | Sparsity: 97.40%\n",
      "Epoch 3/50 | Train Loss: 2.7229 | Train Acc: 70.53% | Val Loss: 1.2166 | Val Acc: 66.90% | Sparsity: 97.40%\n",
      "Epoch 4/50 | Train Loss: 2.3848 | Train Acc: 73.81% | Val Loss: 1.1921 | Val Acc: 67.17% | Sparsity: 97.40%\n",
      "Epoch 5/50 | Train Loss: 2.1276 | Train Acc: 76.63% | Val Loss: 1.1354 | Val Acc: 69.12% | Sparsity: 97.40%\n",
      "Epoch 6/50 | Train Loss: 1.9232 | Train Acc: 78.67% | Val Loss: 1.0933 | Val Acc: 69.82% | Sparsity: 97.40%\n",
      "Epoch 7/50 | Train Loss: 1.7790 | Train Acc: 80.48% | Val Loss: 1.1426 | Val Acc: 69.28% | Sparsity: 97.40%\n",
      "Epoch 8/50 | Train Loss: 1.6374 | Train Acc: 81.93% | Val Loss: 1.0990 | Val Acc: 69.62% | Sparsity: 97.40%\n",
      "Epoch 9/50 | Train Loss: 1.5176 | Train Acc: 83.29% | Val Loss: 1.1161 | Val Acc: 69.80% | Sparsity: 97.40%\n",
      "Epoch 10/50 | Train Loss: 1.4118 | Train Acc: 84.59% | Val Loss: 1.0678 | Val Acc: 70.31% | Sparsity: 97.40%\n",
      "Epoch 11/50 | Train Loss: 1.3310 | Train Acc: 85.65% | Val Loss: 1.0731 | Val Acc: 70.63% | Sparsity: 97.40%\n",
      "Epoch 12/50 | Train Loss: 1.2497 | Train Acc: 86.44% | Val Loss: 1.0872 | Val Acc: 70.52% | Sparsity: 97.40%\n",
      "Epoch 13/50 | Train Loss: 1.2009 | Train Acc: 87.28% | Val Loss: 1.0842 | Val Acc: 70.44% | Sparsity: 97.40%\n",
      "Epoch 14/50 | Train Loss: 1.1360 | Train Acc: 88.16% | Val Loss: 1.0894 | Val Acc: 70.42% | Sparsity: 97.40%\n",
      "Epoch 15/50 | Train Loss: 1.0871 | Train Acc: 88.58% | Val Loss: 1.0873 | Val Acc: 70.53% | Sparsity: 97.40%\n",
      "Epoch 16/50 | Train Loss: 1.0230 | Train Acc: 89.56% | Val Loss: 1.1182 | Val Acc: 69.50% | Sparsity: 97.40%\n",
      "Epoch 17/50 | Train Loss: 0.9945 | Train Acc: 89.93% | Val Loss: 1.0697 | Val Acc: 70.88% | Sparsity: 97.40%\n",
      "Epoch 18/50 | Train Loss: 0.9501 | Train Acc: 90.49% | Val Loss: 1.0764 | Val Acc: 71.05% | Sparsity: 97.40%\n",
      "Epoch 21/50 | Train Loss: 0.8575 | Train Acc: 91.69% | Val Loss: 1.1025 | Val Acc: 70.02% | Sparsity: 97.40%\n",
      "Epoch 22/50 | Train Loss: 0.8241 | Train Acc: 92.07% | Val Loss: 1.0923 | Val Acc: 70.88% | Sparsity: 97.40%\n",
      "Epoch 23/50 | Train Loss: 0.8220 | Train Acc: 92.17% | Val Loss: 1.0988 | Val Acc: 70.95% | Sparsity: 97.40%\n",
      "Epoch 24/50 | Train Loss: 0.7965 | Train Acc: 92.59% | Val Loss: 1.1148 | Val Acc: 70.49% | Sparsity: 97.40%\n",
      "Epoch 25/50 | Train Loss: 0.7763 | Train Acc: 92.72% | Val Loss: 1.1105 | Val Acc: 70.62% | Sparsity: 97.40%\n",
      "Early stopping triggered at epoch 25. No improvement for 7 epochs.\n",
      "Student model saved before pruning at: pruned_student_retrain_KD_90%.pth\n",
      "Total Training Time: 21m 22s\n",
      "Retraining completed in 21.37 minutes (1282.08 seconds)\n"
     ]
    }
   ],
   "source": [
    "\n",
    "start_time = time.time()\n",
    "pruned_student = retrain_with_KD(\n",
    "    teacher, pruned_student, train_loader, val_loader,\n",
    "    epochs=50, temperature=3.0, alpha=0.7, beta_prob=0.5,patience=7,save_path=\"pruned_student_retrain_KD_90%.pth\"\n",
    ")\n",
    "end_time = time.time()\n",
    "elapsed_time = end_time - start_time\n",
    "\n",
    "print(f\"Retraining completed in {elapsed_time / 60:.2f} minutes ({elapsed_time:.2f} seconds)\")"
   ]
  },
  {
   "cell_type": "code",
   "execution_count": 30,
   "metadata": {},
   "outputs": [
    {
     "name": "stdout",
     "output_type": "stream",
     "text": [
      "Pruned Student Model Test Accuracy(Retrain with KD): 68.33%\n"
     ]
    }
   ],
   "source": [
    "student_accuracy = evaluate(pruned_student, test_loader, device)\n",
    "print(f\"Pruned Student Model Test Accuracy(Retrain with KD): {student_accuracy:.2f}%\")"
   ]
  },
  {
   "cell_type": "code",
   "execution_count": 31,
   "metadata": {},
   "outputs": [
    {
     "data": {
      "text/plain": [
       "<All keys matched successfully>"
      ]
     },
     "execution_count": 31,
     "metadata": {},
     "output_type": "execute_result"
    }
   ],
   "source": [
    "\n",
    "model_path = 'student_before_pruning.pth'\n",
    "# Load the model weights\n",
    "student.load_state_dict(torch.load(model_path, map_location=torch.device('cpu')))"
   ]
  },
  {
   "cell_type": "code",
   "execution_count": 32,
   "metadata": {},
   "outputs": [
    {
     "name": "stdout",
     "output_type": "stream",
     "text": [
      "Calculating Important Scores\n",
      "Accumulation Epoch 1/3\n",
      "Accumulation Epoch 2/3\n",
      "Accumulation Epoch 3/3\n",
      "Total Time take to calculate Important scores: 2m 22s\n",
      "Pruning the model\n",
      "Total Time take to prune the model scores: 0m 0s\n"
     ]
    }
   ],
   "source": [
    "# Pruning\n",
    "print(\"Calculating Important Scores\")\n",
    "start_time = time.time()\n",
    "importance_scores = compute_gradient_importance(\n",
    "    teacher, student, train_loader, device, temperature=5.0, alpha=0.7, accumulation_epochs=3\n",
    ")\n",
    "total_time = time.time() - start_time\n",
    "print(f\"Total Time take to calculate Important scores: {total_time // 60:.0f}m {total_time % 60:.0f}s\")\n",
    "\n",
    "print(\"Pruning the model\")\n",
    "start_time = time.time()\n",
    "\n",
    "pruned_student = gradient_based_global_prune(student, importance_scores, prune_ratio=0.9789)\n",
    "\n",
    "total_time = time.time() - start_time\n",
    "print(f\"Total Time take to prune the model scores: {total_time // 60:.0f}m {total_time % 60:.0f}s\")\n",
    "student = student.to(device)\n"
   ]
  },
  {
   "cell_type": "code",
   "execution_count": 33,
   "metadata": {},
   "outputs": [
    {
     "name": "stdout",
     "output_type": "stream",
     "text": [
      "Sparsity Before Pruning: 97.40%\n"
     ]
    }
   ],
   "source": [
    "# Calculate sparsity\n",
    "sparsity = calculate_sparsity(student)\n",
    "print(f\"Sparsity Before Pruning: {sparsity * 100:.2f}%\")"
   ]
  },
  {
   "cell_type": "code",
   "execution_count": 34,
   "metadata": {},
   "outputs": [
    {
     "name": "stdout",
     "output_type": "stream",
     "text": [
      "Epoch 1/50 | Train Loss: 15.5049 | Train Acc: 45.63% | Val Loss: 2.1400 | Val Acc: 51.76% | Sparsity: 97.40%\n",
      "Epoch 2/50 | Train Loss: 9.1543 | Train Acc: 63.20% | Val Loss: 1.6100 | Val Acc: 60.35% | Sparsity: 97.40%\n",
      "Epoch 3/50 | Train Loss: 7.6077 | Train Acc: 68.13% | Val Loss: 1.4608 | Val Acc: 64.41% | Sparsity: 97.40%\n",
      "Epoch 4/50 | Train Loss: 6.6433 | Train Acc: 71.94% | Val Loss: 1.3390 | Val Acc: 65.79% | Sparsity: 97.40%\n",
      "Epoch 5/50 | Train Loss: 5.9056 | Train Acc: 74.39% | Val Loss: 1.3043 | Val Acc: 66.40% | Sparsity: 97.40%\n",
      "Epoch 6/50 | Train Loss: 5.3353 | Train Acc: 76.52% | Val Loss: 1.3862 | Val Acc: 65.83% | Sparsity: 97.40%\n",
      "Epoch 7/50 | Train Loss: 4.8409 | Train Acc: 78.63% | Val Loss: 1.2509 | Val Acc: 68.31% | Sparsity: 97.40%\n",
      "Epoch 8/50 | Train Loss: 4.4752 | Train Acc: 80.15% | Val Loss: 1.2567 | Val Acc: 67.87% | Sparsity: 97.40%\n",
      "Epoch 9/50 | Train Loss: 4.1774 | Train Acc: 81.19% | Val Loss: 1.2216 | Val Acc: 68.08% | Sparsity: 97.40%\n",
      "Epoch 10/50 | Train Loss: 3.8902 | Train Acc: 82.83% | Val Loss: 1.3736 | Val Acc: 67.32% | Sparsity: 97.40%\n",
      "Epoch 11/50 | Train Loss: 3.6372 | Train Acc: 83.94% | Val Loss: 1.2155 | Val Acc: 68.58% | Sparsity: 97.40%\n",
      "Epoch 12/50 | Train Loss: 3.3970 | Train Acc: 84.91% | Val Loss: 1.1943 | Val Acc: 69.40% | Sparsity: 97.40%\n",
      "Epoch 13/50 | Train Loss: 3.2249 | Train Acc: 85.83% | Val Loss: 1.2088 | Val Acc: 69.28% | Sparsity: 97.40%\n",
      "Epoch 14/50 | Train Loss: 3.0271 | Train Acc: 86.50% | Val Loss: 1.2411 | Val Acc: 69.40% | Sparsity: 97.40%\n",
      "Epoch 15/50 | Train Loss: 2.9112 | Train Acc: 87.20% | Val Loss: 1.1957 | Val Acc: 69.77% | Sparsity: 97.40%\n",
      "Epoch 16/50 | Train Loss: 2.7253 | Train Acc: 88.11% | Val Loss: 1.2083 | Val Acc: 69.91% | Sparsity: 97.40%\n",
      "Epoch 17/50 | Train Loss: 2.5949 | Train Acc: 88.72% | Val Loss: 1.2027 | Val Acc: 69.83% | Sparsity: 97.40%\n",
      "Epoch 18/50 | Train Loss: 2.5048 | Train Acc: 88.90% | Val Loss: 1.3452 | Val Acc: 69.15% | Sparsity: 97.40%\n",
      "Epoch 19/50 | Train Loss: 2.4022 | Train Acc: 89.64% | Val Loss: 1.2187 | Val Acc: 69.12% | Sparsity: 97.40%\n",
      "Epoch 20/50 | Train Loss: 2.3277 | Train Acc: 89.92% | Val Loss: 1.2137 | Val Acc: 69.25% | Sparsity: 97.40%\n",
      "Epoch 21/50 | Train Loss: 2.2361 | Train Acc: 90.50% | Val Loss: 1.1720 | Val Acc: 69.97% | Sparsity: 97.40%\n",
      "Epoch 22/50 | Train Loss: 2.1561 | Train Acc: 90.64% | Val Loss: 1.1662 | Val Acc: 70.26% | Sparsity: 97.40%\n",
      "Epoch 23/50 | Train Loss: 2.0839 | Train Acc: 91.10% | Val Loss: 1.2183 | Val Acc: 69.91% | Sparsity: 97.40%\n",
      "Epoch 24/50 | Train Loss: 2.0281 | Train Acc: 91.41% | Val Loss: 1.2295 | Val Acc: 69.48% | Sparsity: 97.40%\n",
      "Epoch 25/50 | Train Loss: 1.9591 | Train Acc: 91.67% | Val Loss: 1.1947 | Val Acc: 69.47% | Sparsity: 97.40%\n",
      "Epoch 26/50 | Train Loss: 1.9185 | Train Acc: 91.81% | Val Loss: 1.1751 | Val Acc: 69.36% | Sparsity: 97.40%\n",
      "Epoch 27/50 | Train Loss: 1.8799 | Train Acc: 91.98% | Val Loss: 1.1770 | Val Acc: 69.86% | Sparsity: 97.40%\n",
      "Epoch 28/50 | Train Loss: 1.8405 | Train Acc: 92.17% | Val Loss: 1.1856 | Val Acc: 69.81% | Sparsity: 97.40%\n",
      "Epoch 29/50 | Train Loss: 1.7941 | Train Acc: 92.28% | Val Loss: 1.1633 | Val Acc: 69.60% | Sparsity: 97.40%\n",
      "Early stopping triggered at epoch 29. No improvement for 7 epochs.\n",
      "Student model saved before pruning at: pruned_student_retrain_KD_90%.pth\n",
      "Total Training Time: 24m 44s\n",
      "Retraining completed in 24.74 minutes (1484.14 seconds)\n"
     ]
    }
   ],
   "source": [
    "\n",
    "start_time = time.time()\n",
    "pruned_student = retrain_with_KD(\n",
    "    teacher, pruned_student, train_loader, val_loader,\n",
    "    epochs=50, temperature=5.0, alpha=0.7, beta_prob=0.5,patience=7,save_path=\"pruned_student_retrain_KD_90%.pth\"\n",
    ")\n",
    "end_time = time.time()\n",
    "elapsed_time = end_time - start_time\n",
    "\n",
    "print(f\"Retraining completed in {elapsed_time / 60:.2f} minutes ({elapsed_time:.2f} seconds)\")"
   ]
  },
  {
   "cell_type": "code",
   "execution_count": 35,
   "metadata": {},
   "outputs": [
    {
     "name": "stdout",
     "output_type": "stream",
     "text": [
      "Pruned Student Model Test Accuracy(Retrain with KD): 68.66%\n"
     ]
    }
   ],
   "source": [
    "student_accuracy = evaluate(pruned_student, test_loader, device)\n",
    "print(f\"Pruned Student Model Test Accuracy(Retrain with KD): {student_accuracy:.2f}%\")"
   ]
  },
  {
   "cell_type": "markdown",
   "metadata": {},
   "source": [
    "## 90% Sparsity"
   ]
  },
  {
   "cell_type": "code",
   "execution_count": null,
   "metadata": {},
   "outputs": [],
   "source": []
  },
  {
   "cell_type": "code",
   "execution_count": 74,
   "metadata": {},
   "outputs": [
    {
     "data": {
      "text/plain": [
       "<All keys matched successfully>"
      ]
     },
     "execution_count": 74,
     "metadata": {},
     "output_type": "execute_result"
    }
   ],
   "source": [
    "\n",
    "model_path = 'student_before_pruning.pth'\n",
    "# Load the model weights\n",
    "student.load_state_dict(torch.load(model_path, map_location=torch.device('cpu')))"
   ]
  },
  {
   "cell_type": "code",
   "execution_count": 75,
   "metadata": {},
   "outputs": [
    {
     "name": "stdout",
     "output_type": "stream",
     "text": [
      "Calculating Important Scores\n",
      "Accumulation Epoch 1/3\n",
      "Accumulation Epoch 2/3\n",
      "Accumulation Epoch 3/3\n",
      "Total Time take to calculate Important scores: 2m 38s\n",
      "Pruning the model\n",
      "Total Time take to prune the model scores: 0m 0s\n"
     ]
    }
   ],
   "source": [
    "# Pruning\n",
    "print(\"Calculating Important Scores\")\n",
    "start_time = time.time()\n",
    "importance_scores = compute_gradient_importance(\n",
    "    teacher, student, train_loader, device, temperature=5.0, alpha=0.7, accumulation_epochs=3\n",
    ")\n",
    "total_time = time.time() - start_time\n",
    "print(f\"Total Time take to calculate Important scores: {total_time // 60:.0f}m {total_time % 60:.0f}s\")\n",
    "\n",
    "print(\"Pruning the model\")\n",
    "start_time = time.time()\n",
    "\n",
    "pruned_student = gradient_based_global_prune(student, importance_scores, prune_ratio=0.91)\n",
    "\n",
    "total_time = time.time() - start_time\n",
    "print(f\"Total Time take to prune the model scores: {total_time // 60:.0f}m {total_time % 60:.0f}s\")\n",
    "student = student.to(device)\n"
   ]
  },
  {
   "cell_type": "code",
   "execution_count": 76,
   "metadata": {},
   "outputs": [
    {
     "name": "stdout",
     "output_type": "stream",
     "text": [
      "New best model saved with Val Accuracy: 72.30%\n",
      "Epoch 1/100 | Train Loss: 1.0398 | Train Acc: 73.54%\n",
      "Validation Loss: 0.9920 | Validation Acc: 72.30% | Sparsity: 90.55%\n",
      "\n",
      "New best model saved with Val Accuracy: 74.38%\n",
      "Epoch 2/100 | Train Loss: 0.5256 | Train Acc: 84.89%\n",
      "Validation Loss: 0.9011 | Validation Acc: 74.38% | Sparsity: 90.55%\n",
      "\n",
      "New best model saved with Val Accuracy: 74.70%\n",
      "Epoch 3/100 | Train Loss: 0.3809 | Train Acc: 89.05%\n",
      "Validation Loss: 0.8945 | Validation Acc: 74.70% | Sparsity: 90.55%\n",
      "\n",
      "New best model saved with Val Accuracy: 74.90%\n",
      "Epoch 4/100 | Train Loss: 0.2852 | Train Acc: 92.28%\n",
      "Validation Loss: 0.9007 | Validation Acc: 74.90% | Sparsity: 90.55%\n",
      "\n",
      "New best model saved with Val Accuracy: 75.30%\n",
      "Epoch 5/100 | Train Loss: 0.2139 | Train Acc: 94.53%\n",
      "Validation Loss: 0.9062 | Validation Acc: 75.30% | Sparsity: 90.55%\n",
      "\n",
      "Epoch 6/100 | Train Loss: 0.1592 | Train Acc: 96.46%\n",
      "Validation Loss: 0.9210 | Validation Acc: 75.16% | Sparsity: 90.55%\n",
      "\n",
      "Epoch 7/100 | Train Loss: 0.1151 | Train Acc: 97.72%\n",
      "Validation Loss: 0.9472 | Validation Acc: 75.07% | Sparsity: 90.55%\n",
      "\n",
      "Epoch 8/100 | Train Loss: 0.0833 | Train Acc: 98.70%\n",
      "Validation Loss: 0.9834 | Validation Acc: 74.95% | Sparsity: 90.55%\n",
      "\n",
      "Epoch 9/100 | Train Loss: 0.0603 | Train Acc: 99.18%\n",
      "Validation Loss: 1.0166 | Validation Acc: 74.69% | Sparsity: 90.55%\n",
      "\n",
      "Early stopping triggered at epoch 10. No improvement for 5 epochs.\n",
      "Best Validation Accuracy: 75.30% | Best Model Saved at: retrained_student_model_80.pt\n",
      "Retraining completed in 6.26 minutes (375.50 seconds)\n"
     ]
    }
   ],
   "source": [
    "start_time = time.time()\n",
    "retrained_student = retrain_with_sparsity(\n",
    "    pruned_student, train_loader, val_loader,\n",
    "    epochs=100,  save_path='retrained_student_model_80.pt',patience=5\n",
    ")\n",
    "end_time = time.time()\n",
    "elapsed_time = end_time - start_time\n",
    "\n",
    "print(f\"Retraining completed in {elapsed_time / 60:.2f} minutes ({elapsed_time:.2f} seconds)\")"
   ]
  },
  {
   "cell_type": "code",
   "execution_count": 77,
   "metadata": {},
   "outputs": [
    {
     "name": "stdout",
     "output_type": "stream",
     "text": [
      "Pruned Student Model Test Accuracy(Retrain without KD): 73.94%\n"
     ]
    }
   ],
   "source": [
    "student_accuracy = evaluate(retrained_student, test_loader, device)\n",
    "print(f\"Pruned Student Model Test Accuracy(Retrain without KD): {student_accuracy:.2f}%\")"
   ]
  },
  {
   "cell_type": "code",
   "execution_count": 78,
   "metadata": {},
   "outputs": [
    {
     "data": {
      "text/plain": [
       "<All keys matched successfully>"
      ]
     },
     "execution_count": 78,
     "metadata": {},
     "output_type": "execute_result"
    }
   ],
   "source": [
    "\n",
    "model_path = 'student_before_pruning.pth'\n",
    "# Load the model weights\n",
    "student.load_state_dict(torch.load(model_path, map_location=torch.device('cpu')))"
   ]
  },
  {
   "cell_type": "code",
   "execution_count": 79,
   "metadata": {},
   "outputs": [
    {
     "name": "stdout",
     "output_type": "stream",
     "text": [
      "Calculating Important Scores\n",
      "Accumulation Epoch 1/3\n",
      "Accumulation Epoch 2/3\n",
      "Accumulation Epoch 3/3\n",
      "Total Time take to calculate Important scores: 2m 39s\n",
      "Pruning the model\n",
      "Total Time take to prune the model scores: 0m 0s\n"
     ]
    }
   ],
   "source": [
    "# Pruning\n",
    "print(\"Calculating Important Scores\")\n",
    "start_time = time.time()\n",
    "importance_scores = compute_gradient_importance(\n",
    "    teacher, student, train_loader, device, temperature=5.0, alpha=0.7, accumulation_epochs=3\n",
    ")\n",
    "total_time = time.time() - start_time\n",
    "print(f\"Total Time take to calculate Important scores: {total_time // 60:.0f}m {total_time % 60:.0f}s\")\n",
    "\n",
    "print(\"Pruning the model\")\n",
    "start_time = time.time()\n",
    "\n",
    "pruned_student = gradient_based_global_prune(student, importance_scores, prune_ratio=0.91)\n",
    "\n",
    "total_time = time.time() - start_time\n",
    "print(f\"Total Time take to prune the model scores: {total_time // 60:.0f}m {total_time % 60:.0f}s\")\n",
    "student = student.to(device)\n"
   ]
  },
  {
   "cell_type": "code",
   "execution_count": 80,
   "metadata": {},
   "outputs": [
    {
     "name": "stdout",
     "output_type": "stream",
     "text": [
      "Epoch 1/50 | Train Loss: 6.9485 | Train Acc: 71.16% | Val Loss: 1.2721 | Val Acc: 69.37% | Sparsity: 90.55%\n",
      "Epoch 2/50 | Train Loss: 3.7765 | Train Acc: 82.34% | Val Loss: 1.1684 | Val Acc: 72.38% | Sparsity: 90.55%\n",
      "Epoch 3/50 | Train Loss: 2.6318 | Train Acc: 87.53% | Val Loss: 1.0641 | Val Acc: 74.48% | Sparsity: 90.55%\n",
      "Epoch 4/50 | Train Loss: 2.0176 | Train Acc: 90.25% | Val Loss: 0.9707 | Val Acc: 76.32% | Sparsity: 90.55%\n",
      "Epoch 5/50 | Train Loss: 1.5963 | Train Acc: 92.18% | Val Loss: 0.9384 | Val Acc: 76.98% | Sparsity: 90.55%\n",
      "Epoch 6/50 | Train Loss: 1.3288 | Train Acc: 93.34% | Val Loss: 0.8451 | Val Acc: 78.05% | Sparsity: 90.55%\n",
      "Epoch 7/50 | Train Loss: 1.1701 | Train Acc: 94.14% | Val Loss: 0.8461 | Val Acc: 78.16% | Sparsity: 90.55%\n",
      "Epoch 8/50 | Train Loss: 1.0552 | Train Acc: 94.58% | Val Loss: 0.8532 | Val Acc: 78.18% | Sparsity: 90.55%\n",
      "Epoch 9/50 | Train Loss: 0.9872 | Train Acc: 94.80% | Val Loss: 0.8186 | Val Acc: 78.68% | Sparsity: 90.55%\n",
      "Epoch 10/50 | Train Loss: 0.9309 | Train Acc: 95.02% | Val Loss: 0.8308 | Val Acc: 78.84% | Sparsity: 90.55%\n",
      "Epoch 11/50 | Train Loss: 0.8763 | Train Acc: 95.08% | Val Loss: 0.8303 | Val Acc: 78.63% | Sparsity: 90.55%\n",
      "Epoch 12/50 | Train Loss: 0.8334 | Train Acc: 95.34% | Val Loss: 0.8277 | Val Acc: 78.45% | Sparsity: 90.55%\n",
      "Epoch 13/50 | Train Loss: 0.8020 | Train Acc: 95.48% | Val Loss: 0.8035 | Val Acc: 78.73% | Sparsity: 90.55%\n",
      "Epoch 14/50 | Train Loss: 0.7698 | Train Acc: 95.53% | Val Loss: 0.8036 | Val Acc: 78.91% | Sparsity: 90.55%\n",
      "Epoch 15/50 | Train Loss: 0.7509 | Train Acc: 95.56% | Val Loss: 0.8149 | Val Acc: 78.53% | Sparsity: 90.55%\n",
      "Epoch 16/50 | Train Loss: 0.7225 | Train Acc: 95.67% | Val Loss: 0.8161 | Val Acc: 78.98% | Sparsity: 90.55%\n",
      "Epoch 17/50 | Train Loss: 0.7051 | Train Acc: 95.64% | Val Loss: 0.7908 | Val Acc: 78.82% | Sparsity: 90.55%\n",
      "Epoch 18/50 | Train Loss: 0.6864 | Train Acc: 95.78% | Val Loss: 0.8018 | Val Acc: 78.60% | Sparsity: 90.55%\n",
      "Epoch 19/50 | Train Loss: 0.6684 | Train Acc: 95.77% | Val Loss: 0.8098 | Val Acc: 78.30% | Sparsity: 90.55%\n",
      "Epoch 20/50 | Train Loss: 0.6633 | Train Acc: 95.75% | Val Loss: 0.8040 | Val Acc: 78.82% | Sparsity: 90.55%\n",
      "Epoch 21/50 | Train Loss: 0.6528 | Train Acc: 95.75% | Val Loss: 0.7910 | Val Acc: 79.20% | Sparsity: 90.55%\n",
      "Epoch 22/50 | Train Loss: 0.6363 | Train Acc: 95.81% | Val Loss: 0.7928 | Val Acc: 78.44% | Sparsity: 90.55%\n",
      "Epoch 23/50 | Train Loss: 0.6185 | Train Acc: 95.89% | Val Loss: 0.7976 | Val Acc: 78.81% | Sparsity: 90.55%\n",
      "Epoch 24/50 | Train Loss: 0.6091 | Train Acc: 95.81% | Val Loss: 0.8008 | Val Acc: 78.47% | Sparsity: 90.55%\n",
      "Epoch 25/50 | Train Loss: 0.6069 | Train Acc: 95.94% | Val Loss: 0.8067 | Val Acc: 78.97% | Sparsity: 90.55%\n",
      "Epoch 26/50 | Train Loss: 0.6018 | Train Acc: 95.87% | Val Loss: 0.8106 | Val Acc: 78.63% | Sparsity: 90.55%\n",
      "Early stopping triggered at epoch 26. No improvement for 5 epochs.\n",
      "Student model saved before pruning at: pruned_student_retrain_KD_90%.pth\n",
      "Total Training Time: 25m 4s\n",
      "Retraining completed in 25.06 minutes (1503.78 seconds)\n"
     ]
    }
   ],
   "source": [
    "\n",
    "start_time = time.time()\n",
    "pruned_student = retrain_with_KD(\n",
    "    teacher, pruned_student, train_loader, val_loader,\n",
    "    epochs=50, temperature=5.0, alpha=0.7, beta_prob=0.5,patience=5,save_path=\"pruned_student_retrain_KD_90%.pth\"\n",
    ")\n",
    "end_time = time.time()\n",
    "elapsed_time = end_time - start_time\n",
    "\n",
    "print(f\"Retraining completed in {elapsed_time / 60:.2f} minutes ({elapsed_time:.2f} seconds)\")"
   ]
  },
  {
   "cell_type": "code",
   "execution_count": 81,
   "metadata": {},
   "outputs": [
    {
     "name": "stdout",
     "output_type": "stream",
     "text": [
      "Pruned Student Model Test Accuracy(Retrain with KD): 77.29%\n"
     ]
    }
   ],
   "source": [
    "student_accuracy = evaluate(pruned_student, test_loader, device)\n",
    "print(f\"Pruned Student Model Test Accuracy(Retrain with KD): {student_accuracy:.2f}%\")"
   ]
  },
  {
   "cell_type": "code",
   "execution_count": 124,
   "metadata": {},
   "outputs": [
    {
     "data": {
      "text/plain": [
       "<All keys matched successfully>"
      ]
     },
     "execution_count": 124,
     "metadata": {},
     "output_type": "execute_result"
    }
   ],
   "source": [
    "\n",
    "model_path = 'student_before_pruning.pth'\n",
    "# Load the model weights\n",
    "student.load_state_dict(torch.load(model_path, map_location=torch.device('cpu')))"
   ]
  },
  {
   "cell_type": "code",
   "execution_count": 125,
   "metadata": {},
   "outputs": [
    {
     "name": "stdout",
     "output_type": "stream",
     "text": [
      "Calculating Important Scores\n",
      "Accumulation Epoch 1/3\n",
      "Accumulation Epoch 2/3\n",
      "Accumulation Epoch 3/3\n",
      "Total Time take to calculate Important scores: 2m 35s\n",
      "Pruning the model\n",
      "Total Time take to prune the model scores: 0m 0s\n"
     ]
    }
   ],
   "source": [
    "# Pruning\n",
    "print(\"Calculating Important Scores\")\n",
    "start_time = time.time()\n",
    "importance_scores = compute_gradient_importance(\n",
    "    teacher, student, train_loader, device, temperature=3.0, alpha=0.7, accumulation_epochs=3\n",
    ")\n",
    "total_time = time.time() - start_time\n",
    "print(f\"Total Time take to calculate Important scores: {total_time // 60:.0f}m {total_time % 60:.0f}s\")\n",
    "\n",
    "print(\"Pruning the model\")\n",
    "start_time = time.time()\n",
    "\n",
    "pruned_student = gradient_based_global_prune(student, importance_scores, prune_ratio=0.91)\n",
    "\n",
    "total_time = time.time() - start_time\n",
    "print(f\"Total Time take to prune the model scores: {total_time // 60:.0f}m {total_time % 60:.0f}s\")\n",
    "student = student.to(device)\n"
   ]
  },
  {
   "cell_type": "code",
   "execution_count": 126,
   "metadata": {},
   "outputs": [
    {
     "name": "stdout",
     "output_type": "stream",
     "text": [
      "Epoch 1/50 | Train Loss: 1.9187 | Train Acc: 79.16% | Val Loss: 0.9187 | Val Acc: 74.78% | Sparsity: 90.55%\n",
      "Epoch 2/50 | Train Loss: 0.9471 | Train Acc: 88.69% | Val Loss: 0.8491 | Val Acc: 76.40% | Sparsity: 90.55%\n",
      "Epoch 3/50 | Train Loss: 0.6930 | Train Acc: 91.92% | Val Loss: 0.8264 | Val Acc: 77.25% | Sparsity: 90.55%\n",
      "Epoch 4/50 | Train Loss: 0.5672 | Train Acc: 93.78% | Val Loss: 0.8008 | Val Acc: 78.11% | Sparsity: 90.55%\n",
      "Epoch 5/50 | Train Loss: 0.4962 | Train Acc: 94.59% | Val Loss: 0.7930 | Val Acc: 78.20% | Sparsity: 90.55%\n",
      "Epoch 6/50 | Train Loss: 0.4445 | Train Acc: 95.10% | Val Loss: 0.7901 | Val Acc: 78.53% | Sparsity: 90.55%\n",
      "Epoch 7/50 | Train Loss: 0.4066 | Train Acc: 95.68% | Val Loss: 0.7732 | Val Acc: 78.48% | Sparsity: 90.55%\n",
      "Epoch 8/50 | Train Loss: 0.3785 | Train Acc: 95.88% | Val Loss: 0.7806 | Val Acc: 78.60% | Sparsity: 90.55%\n",
      "Epoch 9/50 | Train Loss: 0.3626 | Train Acc: 95.97% | Val Loss: 0.7764 | Val Acc: 78.12% | Sparsity: 90.55%\n",
      "Epoch 10/50 | Train Loss: 0.3467 | Train Acc: 96.28% | Val Loss: 0.7808 | Val Acc: 78.45% | Sparsity: 90.55%\n",
      "Epoch 11/50 | Train Loss: 0.3326 | Train Acc: 96.35% | Val Loss: 0.7744 | Val Acc: 78.46% | Sparsity: 90.55%\n",
      "Epoch 12/50 | Train Loss: 0.3202 | Train Acc: 96.55% | Val Loss: 0.7770 | Val Acc: 78.71% | Sparsity: 90.55%\n",
      "Epoch 13/50 | Train Loss: 0.3093 | Train Acc: 96.62% | Val Loss: 0.7760 | Val Acc: 78.87% | Sparsity: 90.55%\n",
      "Epoch 14/50 | Train Loss: 0.3041 | Train Acc: 96.62% | Val Loss: 0.7776 | Val Acc: 78.42% | Sparsity: 90.55%\n",
      "Epoch 15/50 | Train Loss: 0.2970 | Train Acc: 96.65% | Val Loss: 0.7737 | Val Acc: 78.66% | Sparsity: 90.55%\n",
      "Epoch 16/50 | Train Loss: 0.2885 | Train Acc: 96.69% | Val Loss: 0.7730 | Val Acc: 78.69% | Sparsity: 90.55%\n",
      "Epoch 17/50 | Train Loss: 0.2808 | Train Acc: 96.83% | Val Loss: 0.7906 | Val Acc: 78.80% | Sparsity: 90.55%\n",
      "Epoch 18/50 | Train Loss: 0.2750 | Train Acc: 96.87% | Val Loss: 0.7816 | Val Acc: 78.45% | Sparsity: 90.55%\n",
      "Early stopping triggered at epoch 18. No improvement for 5 epochs.\n",
      "Student model saved before pruning at: pruned_student_retrain_KD_90%.pth\n",
      "Total Training Time: 16m 55s\n",
      "Retraining completed in 16.92 minutes (1015.00 seconds)\n"
     ]
    }
   ],
   "source": [
    "\n",
    "start_time = time.time()\n",
    "pruned_student = retrain_with_KD(\n",
    "    teacher, pruned_student, train_loader, val_loader,\n",
    "    epochs=50, temperature=3.0, alpha=0.7, beta_prob=0.5,patience=5,save_path=\"pruned_student_retrain_KD_90%.pth\"\n",
    ")\n",
    "end_time = time.time()\n",
    "elapsed_time = end_time - start_time\n",
    "\n",
    "print(f\"Retraining completed in {elapsed_time / 60:.2f} minutes ({elapsed_time:.2f} seconds)\")"
   ]
  },
  {
   "cell_type": "code",
   "execution_count": 127,
   "metadata": {},
   "outputs": [
    {
     "name": "stdout",
     "output_type": "stream",
     "text": [
      "Pruned Student Model Test Accuracy(Retrain with KD): 77.40%\n"
     ]
    }
   ],
   "source": [
    "student_accuracy = evaluate(pruned_student, test_loader, device)\n",
    "print(f\"Pruned Student Model Test Accuracy(Retrain with KD): {student_accuracy:.2f}%\")"
   ]
  },
  {
   "cell_type": "markdown",
   "metadata": {},
   "source": [
    "# 80% Sparsity"
   ]
  },
  {
   "cell_type": "code",
   "execution_count": 85,
   "metadata": {},
   "outputs": [
    {
     "data": {
      "text/plain": [
       "<All keys matched successfully>"
      ]
     },
     "execution_count": 85,
     "metadata": {},
     "output_type": "execute_result"
    }
   ],
   "source": [
    "\n",
    "model_path = 'student_before_pruning.pth'\n",
    "# Load the model weights\n",
    "student.load_state_dict(torch.load(model_path, map_location=torch.device('cpu')))"
   ]
  },
  {
   "cell_type": "code",
   "execution_count": 86,
   "metadata": {},
   "outputs": [
    {
     "name": "stdout",
     "output_type": "stream",
     "text": [
      "Calculating Important Scores\n",
      "Accumulation Epoch 1/3\n",
      "Accumulation Epoch 2/3\n",
      "Accumulation Epoch 3/3\n",
      "Total Time take to calculate Important scores: 2m 35s\n",
      "Pruning the model\n",
      "Total Time take to prune the model scores: 0m 0s\n"
     ]
    }
   ],
   "source": [
    "# Pruning\n",
    "print(\"Calculating Important Scores\")\n",
    "start_time = time.time()\n",
    "importance_scores = compute_gradient_importance(\n",
    "    teacher, student, train_loader, device, temperature=5.0, alpha=0.7, accumulation_epochs=3\n",
    ")\n",
    "total_time = time.time() - start_time\n",
    "print(f\"Total Time take to calculate Important scores: {total_time // 60:.0f}m {total_time % 60:.0f}s\")\n",
    "\n",
    "print(\"Pruning the model\")\n",
    "start_time = time.time()\n",
    "\n",
    "pruned_student = gradient_based_global_prune(student, importance_scores, prune_ratio=0.81)\n",
    "\n",
    "total_time = time.time() - start_time\n",
    "print(f\"Total Time take to prune the model scores: {total_time // 60:.0f}m {total_time % 60:.0f}s\")\n",
    "student = student.to(device)\n"
   ]
  },
  {
   "cell_type": "code",
   "execution_count": 87,
   "metadata": {},
   "outputs": [
    {
     "name": "stdout",
     "output_type": "stream",
     "text": [
      "Student Model Test Accuracy After Pruning: 4.25%\n"
     ]
    }
   ],
   "source": [
    "student_accuracy = evaluate(pruned_student, test_loader, device)\n",
    "print(f\"Student Model Test Accuracy After Pruning: {student_accuracy:.2f}%\")"
   ]
  },
  {
   "cell_type": "code",
   "execution_count": 88,
   "metadata": {},
   "outputs": [
    {
     "name": "stdout",
     "output_type": "stream",
     "text": [
      "New best model saved with Val Accuracy: 77.99%\n",
      "Epoch 1/100 | Train Loss: 0.3732 | Train Acc: 91.09%\n",
      "Validation Loss: 0.7697 | Validation Acc: 77.99% | Sparsity: 80.60%\n",
      "\n",
      "New best model saved with Val Accuracy: 78.28%\n",
      "Epoch 2/100 | Train Loss: 0.1882 | Train Acc: 95.16%\n",
      "Validation Loss: 0.7627 | Validation Acc: 78.28% | Sparsity: 80.60%\n",
      "\n",
      "Epoch 3/100 | Train Loss: 0.1164 | Train Acc: 97.46%\n",
      "Validation Loss: 0.7809 | Validation Acc: 78.08% | Sparsity: 80.60%\n",
      "\n",
      "Epoch 4/100 | Train Loss: 0.0695 | Train Acc: 98.86%\n",
      "Validation Loss: 0.8046 | Validation Acc: 78.00% | Sparsity: 80.60%\n",
      "\n",
      "New best model saved with Val Accuracy: 78.40%\n",
      "Epoch 5/100 | Train Loss: 0.0403 | Train Acc: 99.60%\n",
      "Validation Loss: 0.8154 | Validation Acc: 78.40% | Sparsity: 80.60%\n",
      "\n",
      "Epoch 6/100 | Train Loss: 0.0242 | Train Acc: 99.86%\n",
      "Validation Loss: 0.8343 | Validation Acc: 78.30% | Sparsity: 80.60%\n",
      "\n",
      "Epoch 7/100 | Train Loss: 0.0169 | Train Acc: 99.93%\n",
      "Validation Loss: 0.8493 | Validation Acc: 78.13% | Sparsity: 80.60%\n",
      "\n",
      "Epoch 8/100 | Train Loss: 0.0123 | Train Acc: 99.97%\n",
      "Validation Loss: 0.8567 | Validation Acc: 78.22% | Sparsity: 80.60%\n",
      "\n",
      "Epoch 9/100 | Train Loss: 0.0094 | Train Acc: 99.97%\n",
      "Validation Loss: 0.8677 | Validation Acc: 78.29% | Sparsity: 80.60%\n",
      "\n",
      "Early stopping triggered at epoch 10. No improvement for 5 epochs.\n",
      "Best Validation Accuracy: 78.40% | Best Model Saved at: retrained_student_model_80.pt\n",
      "Retraining completed in 6.14 minutes (368.30 seconds)\n"
     ]
    }
   ],
   "source": [
    "start_time = time.time()\n",
    "retrained_student = retrain_with_sparsity(\n",
    "    pruned_student, train_loader, val_loader,\n",
    "    epochs=100,  save_path='retrained_student_model_80.pt',patience=5\n",
    ")\n",
    "end_time = time.time()\n",
    "elapsed_time = end_time - start_time\n",
    "\n",
    "print(f\"Retraining completed in {elapsed_time / 60:.2f} minutes ({elapsed_time:.2f} seconds)\")"
   ]
  },
  {
   "cell_type": "code",
   "execution_count": 89,
   "metadata": {},
   "outputs": [
    {
     "name": "stdout",
     "output_type": "stream",
     "text": [
      "Pruned Student Model Test Accuracy(Retrain without KD): 77.61%\n"
     ]
    }
   ],
   "source": [
    "student_accuracy = evaluate(retrained_student, test_loader, device)\n",
    "print(f\"Pruned Student Model Test Accuracy(Retrain without KD): {student_accuracy:.2f}%\")"
   ]
  },
  {
   "cell_type": "code",
   "execution_count": null,
   "metadata": {},
   "outputs": [],
   "source": [
    "# # Measure inference times\n",
    "# pruned_student_inference_time = measure_inference_time(pruned_student, test_loader, device)\n",
    "# print(f\"Student Model Inference Time(After Pruning): {pruned_student_inference_time * 1000:.2f} ms per batch\")"
   ]
  },
  {
   "cell_type": "code",
   "execution_count": 90,
   "metadata": {},
   "outputs": [
    {
     "data": {
      "text/plain": [
       "<All keys matched successfully>"
      ]
     },
     "execution_count": 90,
     "metadata": {},
     "output_type": "execute_result"
    }
   ],
   "source": [
    "\n",
    "model_path = 'student_before_pruning.pth'\n",
    "# Load the model weights\n",
    "student.load_state_dict(torch.load(model_path, map_location=torch.device('cpu')))"
   ]
  },
  {
   "cell_type": "code",
   "execution_count": 91,
   "metadata": {},
   "outputs": [
    {
     "name": "stdout",
     "output_type": "stream",
     "text": [
      "Calculating Important Scores\n",
      "Accumulation Epoch 1/3\n",
      "Accumulation Epoch 2/3\n",
      "Accumulation Epoch 3/3\n",
      "Total Time take to calculate Important scores: 2m 34s\n",
      "Pruning the model\n",
      "Total Time take to prune the model scores: 0m 0s\n"
     ]
    }
   ],
   "source": [
    "# Pruning\n",
    "print(\"Calculating Important Scores\")\n",
    "start_time = time.time()\n",
    "importance_scores = compute_gradient_importance(\n",
    "    teacher, student, train_loader, device, temperature=5.0, alpha=0.7, accumulation_epochs=3\n",
    ")\n",
    "total_time = time.time() - start_time\n",
    "print(f\"Total Time take to calculate Important scores: {total_time // 60:.0f}m {total_time % 60:.0f}s\")\n",
    "\n",
    "print(\"Pruning the model\")\n",
    "start_time = time.time()\n",
    "\n",
    "pruned_student = gradient_based_global_prune(student, importance_scores, prune_ratio=0.81)\n",
    "\n",
    "total_time = time.time() - start_time\n",
    "print(f\"Total Time take to prune the model scores: {total_time // 60:.0f}m {total_time % 60:.0f}s\")\n",
    "student = student.to(device)\n"
   ]
  },
  {
   "cell_type": "code",
   "execution_count": 92,
   "metadata": {},
   "outputs": [
    {
     "name": "stdout",
     "output_type": "stream",
     "text": [
      "Epoch 1/50 | Train Loss: 2.9960 | Train Acc: 86.69% | Val Loss: 1.0049 | Val Acc: 73.75% | Sparsity: 80.60%\n",
      "Epoch 2/50 | Train Loss: 1.7579 | Train Acc: 91.62% | Val Loss: 0.9158 | Val Acc: 76.43% | Sparsity: 80.60%\n",
      "Epoch 3/50 | Train Loss: 1.2022 | Train Acc: 93.95% | Val Loss: 0.7754 | Val Acc: 79.13% | Sparsity: 80.60%\n",
      "Epoch 4/50 | Train Loss: 0.9645 | Train Acc: 94.92% | Val Loss: 0.7349 | Val Acc: 80.00% | Sparsity: 80.60%\n",
      "Epoch 5/50 | Train Loss: 0.8309 | Train Acc: 95.33% | Val Loss: 0.7231 | Val Acc: 80.38% | Sparsity: 80.60%\n",
      "Epoch 6/50 | Train Loss: 0.7535 | Train Acc: 95.50% | Val Loss: 0.7054 | Val Acc: 80.47% | Sparsity: 80.60%\n",
      "Epoch 7/50 | Train Loss: 0.6964 | Train Acc: 95.62% | Val Loss: 0.7214 | Val Acc: 80.41% | Sparsity: 80.60%\n",
      "Epoch 8/50 | Train Loss: 0.6589 | Train Acc: 95.92% | Val Loss: 0.7297 | Val Acc: 80.42% | Sparsity: 80.60%\n",
      "Epoch 9/50 | Train Loss: 0.6257 | Train Acc: 95.77% | Val Loss: 0.6995 | Val Acc: 80.94% | Sparsity: 80.60%\n",
      "Epoch 10/50 | Train Loss: 0.5995 | Train Acc: 95.87% | Val Loss: 0.7216 | Val Acc: 80.59% | Sparsity: 80.60%\n",
      "Epoch 11/50 | Train Loss: 0.5828 | Train Acc: 95.93% | Val Loss: 0.7028 | Val Acc: 80.91% | Sparsity: 80.60%\n",
      "Epoch 12/50 | Train Loss: 0.5661 | Train Acc: 96.05% | Val Loss: 0.7083 | Val Acc: 80.78% | Sparsity: 80.60%\n",
      "Epoch 13/50 | Train Loss: 0.5492 | Train Acc: 95.90% | Val Loss: 0.6916 | Val Acc: 80.95% | Sparsity: 80.60%\n",
      "Epoch 14/50 | Train Loss: 0.5309 | Train Acc: 96.06% | Val Loss: 0.7025 | Val Acc: 80.86% | Sparsity: 80.60%\n",
      "Epoch 15/50 | Train Loss: 0.5207 | Train Acc: 96.06% | Val Loss: 0.6925 | Val Acc: 80.95% | Sparsity: 80.60%\n",
      "Epoch 16/50 | Train Loss: 0.5103 | Train Acc: 95.98% | Val Loss: 0.6850 | Val Acc: 80.74% | Sparsity: 80.60%\n",
      "Epoch 17/50 | Train Loss: 0.5032 | Train Acc: 96.07% | Val Loss: 0.6928 | Val Acc: 80.92% | Sparsity: 80.60%\n",
      "Epoch 18/50 | Train Loss: 0.4936 | Train Acc: 96.14% | Val Loss: 0.6950 | Val Acc: 80.79% | Sparsity: 80.60%\n",
      "Early stopping triggered at epoch 18. No improvement for 5 epochs.\n",
      "Student model saved before pruning at: pruned_student_retrain_KD_90%.pth\n",
      "Total Training Time: 17m 3s\n",
      "Retraining completed in 17.05 minutes (1023.29 seconds)\n"
     ]
    }
   ],
   "source": [
    "\n",
    "start_time = time.time()\n",
    "pruned_student = retrain_with_KD(\n",
    "    teacher, pruned_student, train_loader, val_loader,\n",
    "    epochs=50, temperature=5.0, alpha=0.7, beta_prob=0.5,patience=5,save_path=\"pruned_student_retrain_KD_90%.pth\"\n",
    ")\n",
    "end_time = time.time()\n",
    "elapsed_time = end_time - start_time\n",
    "\n",
    "print(f\"Retraining completed in {elapsed_time / 60:.2f} minutes ({elapsed_time:.2f} seconds)\")"
   ]
  },
  {
   "cell_type": "code",
   "execution_count": 93,
   "metadata": {},
   "outputs": [
    {
     "name": "stdout",
     "output_type": "stream",
     "text": [
      "Pruned Student Model Test Accuracy(Retrain with KD): 79.54%\n"
     ]
    }
   ],
   "source": [
    "student_accuracy = evaluate(pruned_student, test_loader, device)\n",
    "print(f\"Pruned Student Model Test Accuracy(Retrain with KD): {student_accuracy:.2f}%\")"
   ]
  },
  {
   "cell_type": "code",
   "execution_count": 94,
   "metadata": {},
   "outputs": [
    {
     "data": {
      "text/plain": [
       "<All keys matched successfully>"
      ]
     },
     "execution_count": 94,
     "metadata": {},
     "output_type": "execute_result"
    }
   ],
   "source": [
    "\n",
    "model_path = 'student_before_pruning.pth'\n",
    "# Load the model weights\n",
    "student.load_state_dict(torch.load(model_path, map_location=torch.device('cpu')))"
   ]
  },
  {
   "cell_type": "code",
   "execution_count": 95,
   "metadata": {},
   "outputs": [
    {
     "name": "stdout",
     "output_type": "stream",
     "text": [
      "Calculating Important Scores\n",
      "Accumulation Epoch 1/3\n",
      "Accumulation Epoch 2/3\n",
      "Accumulation Epoch 3/3\n",
      "Total Time take to calculate Important scores: 2m 33s\n",
      "Pruning the model\n",
      "Total Time take to prune the model scores: 0m 0s\n"
     ]
    }
   ],
   "source": [
    "# Pruning\n",
    "print(\"Calculating Important Scores\")\n",
    "start_time = time.time()\n",
    "importance_scores = compute_gradient_importance(\n",
    "    teacher, student, train_loader, device, temperature=3.0, alpha=0.7, accumulation_epochs=3\n",
    ")\n",
    "total_time = time.time() - start_time\n",
    "print(f\"Total Time take to calculate Important scores: {total_time // 60:.0f}m {total_time % 60:.0f}s\")\n",
    "\n",
    "print(\"Pruning the model\")\n",
    "start_time = time.time()\n",
    "\n",
    "pruned_student = gradient_based_global_prune(student, importance_scores, prune_ratio=0.81)\n",
    "\n",
    "total_time = time.time() - start_time\n",
    "print(f\"Total Time take to prune the model scores: {total_time // 60:.0f}m {total_time % 60:.0f}s\")\n",
    "student = student.to(device)\n"
   ]
  },
  {
   "cell_type": "code",
   "execution_count": 96,
   "metadata": {},
   "outputs": [
    {
     "name": "stdout",
     "output_type": "stream",
     "text": [
      "Epoch 1/50 | Train Loss: 0.7143 | Train Acc: 92.15% | Val Loss: 0.7414 | Val Acc: 79.34% | Sparsity: 80.60%\n",
      "Epoch 2/50 | Train Loss: 0.4061 | Train Acc: 95.40% | Val Loss: 0.7104 | Val Acc: 80.21% | Sparsity: 80.60%\n",
      "Epoch 3/50 | Train Loss: 0.3367 | Train Acc: 96.07% | Val Loss: 0.7014 | Val Acc: 80.59% | Sparsity: 80.60%\n",
      "Epoch 4/50 | Train Loss: 0.3030 | Train Acc: 96.46% | Val Loss: 0.6945 | Val Acc: 80.55% | Sparsity: 80.60%\n",
      "Epoch 5/50 | Train Loss: 0.2805 | Train Acc: 96.61% | Val Loss: 0.6896 | Val Acc: 80.62% | Sparsity: 80.60%\n",
      "Epoch 6/50 | Train Loss: 0.2643 | Train Acc: 96.83% | Val Loss: 0.6893 | Val Acc: 80.79% | Sparsity: 80.60%\n",
      "Epoch 7/50 | Train Loss: 0.2529 | Train Acc: 96.94% | Val Loss: 0.6916 | Val Acc: 80.77% | Sparsity: 80.60%\n",
      "Epoch 8/50 | Train Loss: 0.2420 | Train Acc: 96.93% | Val Loss: 0.6885 | Val Acc: 80.86% | Sparsity: 80.60%\n",
      "Epoch 9/50 | Train Loss: 0.2361 | Train Acc: 97.05% | Val Loss: 0.6905 | Val Acc: 80.85% | Sparsity: 80.60%\n",
      "Epoch 10/50 | Train Loss: 0.2288 | Train Acc: 97.09% | Val Loss: 0.6855 | Val Acc: 81.06% | Sparsity: 80.60%\n",
      "Epoch 11/50 | Train Loss: 0.2236 | Train Acc: 97.17% | Val Loss: 0.6901 | Val Acc: 81.13% | Sparsity: 80.60%\n",
      "Epoch 12/50 | Train Loss: 0.2181 | Train Acc: 97.21% | Val Loss: 0.6903 | Val Acc: 81.15% | Sparsity: 80.60%\n",
      "Epoch 13/50 | Train Loss: 0.2129 | Train Acc: 97.18% | Val Loss: 0.6875 | Val Acc: 80.97% | Sparsity: 80.60%\n",
      "Epoch 14/50 | Train Loss: 0.2091 | Train Acc: 97.24% | Val Loss: 0.6919 | Val Acc: 81.04% | Sparsity: 80.60%\n",
      "Epoch 15/50 | Train Loss: 0.2051 | Train Acc: 97.34% | Val Loss: 0.6920 | Val Acc: 80.96% | Sparsity: 80.60%\n",
      "Epoch 16/50 | Train Loss: 0.1990 | Train Acc: 97.37% | Val Loss: 0.6871 | Val Acc: 81.03% | Sparsity: 80.60%\n",
      "Epoch 17/50 | Train Loss: 0.1961 | Train Acc: 97.35% | Val Loss: 0.6870 | Val Acc: 81.15% | Sparsity: 80.60%\n",
      "Early stopping triggered at epoch 17. No improvement for 5 epochs.\n",
      "Student model saved before pruning at: pruned_student_retrain_KD_90%.pth\n",
      "Total Training Time: 16m 28s\n",
      "Retraining completed in 16.46 minutes (987.56 seconds)\n"
     ]
    }
   ],
   "source": [
    "\n",
    "start_time = time.time()\n",
    "pruned_student = retrain_with_KD(\n",
    "    teacher, pruned_student, train_loader, val_loader,\n",
    "    epochs=50, temperature=3.0, alpha=0.7, beta_prob=0.5,patience=5,save_path=\"pruned_student_retrain_KD_90%.pth\"\n",
    ")\n",
    "end_time = time.time()\n",
    "elapsed_time = end_time - start_time\n",
    "\n",
    "print(f\"Retraining completed in {elapsed_time / 60:.2f} minutes ({elapsed_time:.2f} seconds)\")"
   ]
  },
  {
   "cell_type": "code",
   "execution_count": 97,
   "metadata": {},
   "outputs": [
    {
     "name": "stdout",
     "output_type": "stream",
     "text": [
      "Pruned Student Model Test Accuracy(Retrain with KD): 79.44%\n"
     ]
    }
   ],
   "source": [
    "student_accuracy = evaluate(pruned_student, test_loader, device)\n",
    "print(f\"Pruned Student Model Test Accuracy(Retrain with KD): {student_accuracy:.2f}%\")"
   ]
  },
  {
   "cell_type": "markdown",
   "metadata": {},
   "source": [
    "# 75% of Sparsity"
   ]
  },
  {
   "cell_type": "code",
   "execution_count": 98,
   "metadata": {},
   "outputs": [
    {
     "data": {
      "text/plain": [
       "<All keys matched successfully>"
      ]
     },
     "execution_count": 98,
     "metadata": {},
     "output_type": "execute_result"
    }
   ],
   "source": [
    "\n",
    "model_path = 'student_before_pruning.pth'\n",
    "# Load the model weights\n",
    "student.load_state_dict(torch.load(model_path, map_location=torch.device('cpu')))"
   ]
  },
  {
   "cell_type": "code",
   "execution_count": 99,
   "metadata": {},
   "outputs": [
    {
     "name": "stdout",
     "output_type": "stream",
     "text": [
      "Calculating Important Scores\n",
      "Accumulation Epoch 1/3\n",
      "Accumulation Epoch 2/3\n",
      "Accumulation Epoch 3/3\n",
      "Total Time take to calculate Important scores: 2m 39s\n",
      "Pruning the model\n",
      "Total Time take to prune the model scores: 0m 0s\n"
     ]
    }
   ],
   "source": [
    "# Pruning\n",
    "print(\"Calculating Important Scores\")\n",
    "start_time = time.time()\n",
    "importance_scores = compute_gradient_importance(\n",
    "    teacher, student, train_loader, device, temperature=5.0, alpha=0.7, accumulation_epochs=3\n",
    ")\n",
    "total_time = time.time() - start_time\n",
    "print(f\"Total Time take to calculate Important scores: {total_time // 60:.0f}m {total_time % 60:.0f}s\")\n",
    "\n",
    "print(\"Pruning the model\")\n",
    "start_time = time.time()\n",
    "\n",
    "pruned_student = gradient_based_global_prune(student, importance_scores, prune_ratio=0.75062)\n",
    "\n",
    "total_time = time.time() - start_time\n",
    "print(f\"Total Time take to prune the model scores: {total_time // 60:.0f}m {total_time % 60:.0f}s\")\n",
    "student = student.to(device)\n"
   ]
  },
  {
   "cell_type": "code",
   "execution_count": 100,
   "metadata": {},
   "outputs": [
    {
     "name": "stdout",
     "output_type": "stream",
     "text": [
      "Student Model Test Accuracy After Pruning: 5.03%\n"
     ]
    }
   ],
   "source": [
    "student_accuracy = evaluate(pruned_student, test_loader, device)\n",
    "print(f\"Student Model Test Accuracy After Pruning: {student_accuracy:.2f}%\")"
   ]
  },
  {
   "cell_type": "code",
   "execution_count": 101,
   "metadata": {},
   "outputs": [
    {
     "name": "stdout",
     "output_type": "stream",
     "text": [
      "New best model saved with Val Accuracy: 79.50%\n",
      "Epoch 1/100 | Train Loss: 0.2447 | Train Acc: 94.12%\n",
      "Validation Loss: 0.7187 | Validation Acc: 79.50% | Sparsity: 74.69%\n",
      "\n",
      "New best model saved with Val Accuracy: 79.75%\n",
      "Epoch 2/100 | Train Loss: 0.1243 | Train Acc: 97.03%\n",
      "Validation Loss: 0.7251 | Validation Acc: 79.75% | Sparsity: 74.69%\n",
      "\n",
      "Epoch 3/100 | Train Loss: 0.0690 | Train Acc: 98.76%\n",
      "Validation Loss: 0.7488 | Validation Acc: 79.51% | Sparsity: 74.69%\n",
      "\n",
      "Epoch 4/100 | Train Loss: 0.0380 | Train Acc: 99.62%\n",
      "Validation Loss: 0.7638 | Validation Acc: 79.09% | Sparsity: 74.69%\n",
      "\n",
      "Epoch 5/100 | Train Loss: 0.0226 | Train Acc: 99.88%\n",
      "Validation Loss: 0.7743 | Validation Acc: 79.47% | Sparsity: 74.69%\n",
      "\n",
      "Epoch 6/100 | Train Loss: 0.0146 | Train Acc: 99.95%\n",
      "Validation Loss: 0.7903 | Validation Acc: 79.02% | Sparsity: 74.69%\n",
      "\n",
      "Early stopping triggered at epoch 7. No improvement for 5 epochs.\n",
      "Best Validation Accuracy: 79.75% | Best Model Saved at: retrained_student_model_75.pt\n",
      "Retraining completed in 4.35 minutes (260.88 seconds)\n"
     ]
    }
   ],
   "source": [
    "start_time = time.time()\n",
    "retrained_student = retrain_with_sparsity(\n",
    "    pruned_student, train_loader, val_loader,\n",
    "    epochs=100,  save_path='retrained_student_model_75.pt',patience=5\n",
    ")\n",
    "end_time = time.time()\n",
    "elapsed_time = end_time - start_time\n",
    "\n",
    "print(f\"Retraining completed in {elapsed_time / 60:.2f} minutes ({elapsed_time:.2f} seconds)\")"
   ]
  },
  {
   "cell_type": "code",
   "execution_count": 102,
   "metadata": {},
   "outputs": [
    {
     "name": "stdout",
     "output_type": "stream",
     "text": [
      " Retrained Pruned Student Model Test Accuracy: 78.95%\n"
     ]
    }
   ],
   "source": [
    "student_accuracy = evaluate(retrained_student, test_loader, device)\n",
    "print(f\" Retrained Pruned Student Model Test Accuracy: {student_accuracy:.2f}%\")"
   ]
  },
  {
   "cell_type": "code",
   "execution_count": 121,
   "metadata": {},
   "outputs": [
    {
     "name": "stdout",
     "output_type": "stream",
     "text": [
      " Retrained pruned Student Model Inference Time: 1.70 ms per batch\n"
     ]
    }
   ],
   "source": [
    "# # Measure inference times\n",
    "# pruned_student_inference_time = measure_inference_time(retrained_student, test_loader,)\n",
    "# print(f\" Retrained pruned Student Model Inference Time: {pruned_student_inference_time * 1000:.2f} ms per batch\")"
   ]
  },
  {
   "cell_type": "markdown",
   "metadata": {},
   "source": [
    "# Retrain with KD"
   ]
  },
  {
   "cell_type": "code",
   "execution_count": 103,
   "metadata": {},
   "outputs": [
    {
     "data": {
      "text/plain": [
       "<All keys matched successfully>"
      ]
     },
     "execution_count": 103,
     "metadata": {},
     "output_type": "execute_result"
    }
   ],
   "source": [
    "\n",
    "model_path = 'student_before_pruning.pth'\n",
    "# Load the model weights\n",
    "student.load_state_dict(torch.load(model_path, map_location=torch.device('cpu')))"
   ]
  },
  {
   "cell_type": "code",
   "execution_count": 104,
   "metadata": {},
   "outputs": [
    {
     "name": "stdout",
     "output_type": "stream",
     "text": [
      "Calculating Important Scores\n",
      "Accumulation Epoch 1/3\n",
      "Accumulation Epoch 2/3\n",
      "Accumulation Epoch 3/3\n",
      "Total Time take to calculate Important scores: 2m 38s\n",
      "Pruning the model\n",
      "Total Time take to prune the model scores: 0m 0s\n"
     ]
    }
   ],
   "source": [
    "# Pruning\n",
    "print(\"Calculating Important Scores\")\n",
    "start_time = time.time()\n",
    "importance_scores = compute_gradient_importance(\n",
    "    teacher, student, train_loader, device, temperature=5.0, alpha=0.7, accumulation_epochs=3\n",
    ")\n",
    "total_time = time.time() - start_time\n",
    "print(f\"Total Time take to calculate Important scores: {total_time // 60:.0f}m {total_time % 60:.0f}s\")\n",
    "\n",
    "print(\"Pruning the model\")\n",
    "start_time = time.time()\n",
    "\n",
    "pruned_student = gradient_based_global_prune(student, importance_scores, prune_ratio=0.75062)\n",
    "\n",
    "total_time = time.time() - start_time\n",
    "print(f\"Total Time take to prune the model scores: {total_time // 60:.0f}m {total_time % 60:.0f}s\")\n",
    "student = student.to(device)\n"
   ]
  },
  {
   "cell_type": "code",
   "execution_count": 105,
   "metadata": {},
   "outputs": [
    {
     "name": "stdout",
     "output_type": "stream",
     "text": [
      "Epoch 1/50 | Train Loss: 1.6158 | Train Acc: 92.72% | Val Loss: 0.8132 | Val Acc: 77.76% | Sparsity: 74.69%\n",
      "Epoch 2/50 | Train Loss: 1.0973 | Train Acc: 94.54% | Val Loss: 0.7590 | Val Acc: 78.87% | Sparsity: 74.69%\n",
      "Epoch 3/50 | Train Loss: 0.8748 | Train Acc: 95.20% | Val Loss: 0.6990 | Val Acc: 80.46% | Sparsity: 74.69%\n",
      "Epoch 4/50 | Train Loss: 0.7578 | Train Acc: 95.57% | Val Loss: 0.7058 | Val Acc: 80.62% | Sparsity: 74.69%\n",
      "Epoch 5/50 | Train Loss: 0.6786 | Train Acc: 95.64% | Val Loss: 0.7001 | Val Acc: 80.57% | Sparsity: 74.69%\n",
      "Epoch 6/50 | Train Loss: 0.6351 | Train Acc: 95.92% | Val Loss: 0.6910 | Val Acc: 80.79% | Sparsity: 74.69%\n",
      "Epoch 7/50 | Train Loss: 0.6021 | Train Acc: 95.79% | Val Loss: 0.6937 | Val Acc: 80.64% | Sparsity: 74.69%\n",
      "Epoch 8/50 | Train Loss: 0.5724 | Train Acc: 96.00% | Val Loss: 0.6989 | Val Acc: 80.71% | Sparsity: 74.69%\n",
      "Epoch 9/50 | Train Loss: 0.5517 | Train Acc: 95.89% | Val Loss: 0.6941 | Val Acc: 80.98% | Sparsity: 74.69%\n",
      "Epoch 10/50 | Train Loss: 0.5351 | Train Acc: 96.03% | Val Loss: 0.6942 | Val Acc: 80.91% | Sparsity: 74.69%\n",
      "Epoch 11/50 | Train Loss: 0.5173 | Train Acc: 96.04% | Val Loss: 0.6832 | Val Acc: 80.98% | Sparsity: 74.69%\n",
      "Epoch 12/50 | Train Loss: 0.5042 | Train Acc: 96.08% | Val Loss: 0.6771 | Val Acc: 81.11% | Sparsity: 74.69%\n",
      "Epoch 13/50 | Train Loss: 0.4996 | Train Acc: 96.11% | Val Loss: 0.6899 | Val Acc: 81.11% | Sparsity: 74.69%\n",
      "Epoch 14/50 | Train Loss: 0.4800 | Train Acc: 96.23% | Val Loss: 0.6769 | Val Acc: 81.45% | Sparsity: 74.69%\n",
      "Epoch 15/50 | Train Loss: 0.4693 | Train Acc: 96.09% | Val Loss: 0.6823 | Val Acc: 81.15% | Sparsity: 74.69%\n",
      "Epoch 16/50 | Train Loss: 0.4594 | Train Acc: 96.22% | Val Loss: 0.6744 | Val Acc: 81.44% | Sparsity: 74.69%\n",
      "Epoch 17/50 | Train Loss: 0.4555 | Train Acc: 96.14% | Val Loss: 0.6763 | Val Acc: 81.28% | Sparsity: 74.69%\n",
      "Epoch 18/50 | Train Loss: 0.4492 | Train Acc: 96.08% | Val Loss: 0.6871 | Val Acc: 80.98% | Sparsity: 74.69%\n",
      "Epoch 19/50 | Train Loss: 0.4421 | Train Acc: 96.19% | Val Loss: 0.6815 | Val Acc: 81.37% | Sparsity: 74.69%\n",
      "Early stopping triggered at epoch 19. No improvement for 5 epochs.\n",
      "Student model saved before pruning at: pruned_student_retrain_KD_90%.pth\n",
      "Total Training Time: 18m 22s\n",
      "Retraining completed in 18.37 minutes (1102.44 seconds)\n"
     ]
    }
   ],
   "source": [
    "\n",
    "start_time = time.time()\n",
    "pruned_student = retrain_with_KD(\n",
    "    teacher, pruned_student, train_loader, val_loader,\n",
    "    epochs=50, temperature=5.0, alpha=0.7, beta_prob=0.5,patience=5,save_path=\"pruned_student_retrain_KD_90%.pth\"\n",
    ")\n",
    "end_time = time.time()\n",
    "elapsed_time = end_time - start_time\n",
    "\n",
    "print(f\"Retraining completed in {elapsed_time / 60:.2f} minutes ({elapsed_time:.2f} seconds)\")"
   ]
  },
  {
   "cell_type": "code",
   "execution_count": 106,
   "metadata": {},
   "outputs": [
    {
     "name": "stdout",
     "output_type": "stream",
     "text": [
      " Retrained Pruned Student Model Test Accuracy: 80.14%\n"
     ]
    }
   ],
   "source": [
    "student_accuracy = evaluate(pruned_student, test_loader, device)\n",
    "print(f\" Retrained Pruned Student Model Test Accuracy: {student_accuracy:.2f}%\")"
   ]
  },
  {
   "cell_type": "code",
   "execution_count": 126,
   "metadata": {},
   "outputs": [
    {
     "name": "stdout",
     "output_type": "stream",
     "text": [
      " Retrained pruned Student Model Inference Time: 2.00 ms per batch\n"
     ]
    }
   ],
   "source": [
    "# # Measure inference times\n",
    "# pruned_student_inference_time = measure_inference_time(pruned_student, test_loader, device)\n",
    "# print(f\" Retrained pruned Student Model Inference Time: {pruned_student_inference_time * 1000:.2f} ms per batch\")"
   ]
  },
  {
   "cell_type": "code",
   "execution_count": 107,
   "metadata": {},
   "outputs": [
    {
     "data": {
      "text/plain": [
       "<All keys matched successfully>"
      ]
     },
     "execution_count": 107,
     "metadata": {},
     "output_type": "execute_result"
    }
   ],
   "source": [
    "\n",
    "model_path = 'student_before_pruning.pth'\n",
    "# Load the model weights\n",
    "student.load_state_dict(torch.load(model_path, map_location=torch.device('cpu')))"
   ]
  },
  {
   "cell_type": "code",
   "execution_count": 108,
   "metadata": {},
   "outputs": [
    {
     "name": "stdout",
     "output_type": "stream",
     "text": [
      "Calculating Important Scores\n",
      "Accumulation Epoch 1/3\n",
      "Accumulation Epoch 2/3\n",
      "Accumulation Epoch 3/3\n",
      "Total Time take to calculate Important scores: 2m 37s\n",
      "Pruning the model\n",
      "Total Time take to prune the model scores: 0m 0s\n"
     ]
    }
   ],
   "source": [
    "# Pruning\n",
    "print(\"Calculating Important Scores\")\n",
    "start_time = time.time()\n",
    "importance_scores = compute_gradient_importance(\n",
    "    teacher, student, train_loader, device, temperature=3.0, alpha=0.7, accumulation_epochs=3\n",
    ")\n",
    "total_time = time.time() - start_time\n",
    "print(f\"Total Time take to calculate Important scores: {total_time // 60:.0f}m {total_time % 60:.0f}s\")\n",
    "\n",
    "print(\"Pruning the model\")\n",
    "start_time = time.time()\n",
    "\n",
    "pruned_student = gradient_based_global_prune(student, importance_scores, prune_ratio=0.75062)\n",
    "\n",
    "total_time = time.time() - start_time\n",
    "print(f\"Total Time take to prune the model scores: {total_time // 60:.0f}m {total_time % 60:.0f}s\")\n",
    "\n"
   ]
  },
  {
   "cell_type": "code",
   "execution_count": 109,
   "metadata": {},
   "outputs": [
    {
     "name": "stdout",
     "output_type": "stream",
     "text": [
      "Epoch 1/50 | Train Loss: 0.4798 | Train Acc: 94.64% | Val Loss: 0.6811 | Val Acc: 80.65% | Sparsity: 74.69%\n",
      "Epoch 2/50 | Train Loss: 0.3085 | Train Acc: 96.16% | Val Loss: 0.6655 | Val Acc: 81.34% | Sparsity: 74.69%\n",
      "Epoch 3/50 | Train Loss: 0.2684 | Train Acc: 96.77% | Val Loss: 0.6668 | Val Acc: 81.05% | Sparsity: 74.69%\n",
      "Epoch 4/50 | Train Loss: 0.2484 | Train Acc: 96.84% | Val Loss: 0.6574 | Val Acc: 81.38% | Sparsity: 74.69%\n",
      "Epoch 5/50 | Train Loss: 0.2320 | Train Acc: 97.03% | Val Loss: 0.6585 | Val Acc: 81.42% | Sparsity: 74.69%\n",
      "Epoch 6/50 | Train Loss: 0.2246 | Train Acc: 97.10% | Val Loss: 0.6595 | Val Acc: 81.31% | Sparsity: 74.69%\n",
      "Epoch 7/50 | Train Loss: 0.2153 | Train Acc: 97.17% | Val Loss: 0.6613 | Val Acc: 81.30% | Sparsity: 74.69%\n",
      "Epoch 8/50 | Train Loss: 0.2091 | Train Acc: 97.15% | Val Loss: 0.6569 | Val Acc: 81.38% | Sparsity: 74.69%\n",
      "Epoch 9/50 | Train Loss: 0.2035 | Train Acc: 97.29% | Val Loss: 0.6612 | Val Acc: 81.27% | Sparsity: 74.69%\n",
      "Epoch 10/50 | Train Loss: 0.1990 | Train Acc: 97.28% | Val Loss: 0.6613 | Val Acc: 81.39% | Sparsity: 74.69%\n",
      "Early stopping triggered at epoch 10. No improvement for 5 epochs.\n",
      "Student model saved before pruning at: pruned_student_retrain_KD_90%.pth\n",
      "Total Training Time: 9m 30s\n",
      "Retraining completed in 9.50 minutes (569.75 seconds)\n"
     ]
    }
   ],
   "source": [
    "\n",
    "start_time = time.time()\n",
    "pruned_student = retrain_with_KD(\n",
    "    teacher, pruned_student, train_loader, val_loader,\n",
    "    epochs=50, temperature=3.0, alpha=0.7, beta_prob=0.5,patience=5,save_path=\"pruned_student_retrain_KD_90%.pth\"\n",
    ")\n",
    "end_time = time.time()\n",
    "elapsed_time = end_time - start_time\n",
    "\n",
    "print(f\"Retraining completed in {elapsed_time / 60:.2f} minutes ({elapsed_time:.2f} seconds)\")"
   ]
  },
  {
   "cell_type": "code",
   "execution_count": 110,
   "metadata": {},
   "outputs": [
    {
     "name": "stdout",
     "output_type": "stream",
     "text": [
      " Retrained Pruned Student Model Test Accuracy: 79.78%\n"
     ]
    }
   ],
   "source": [
    "student_accuracy = evaluate(pruned_student, test_loader, device)\n",
    "print(f\" Retrained Pruned Student Model Test Accuracy: {student_accuracy:.2f}%\")"
   ]
  },
  {
   "cell_type": "markdown",
   "metadata": {},
   "source": [
    "## 50% Sparsity"
   ]
  },
  {
   "cell_type": "code",
   "execution_count": 111,
   "metadata": {},
   "outputs": [
    {
     "data": {
      "text/plain": [
       "<All keys matched successfully>"
      ]
     },
     "execution_count": 111,
     "metadata": {},
     "output_type": "execute_result"
    }
   ],
   "source": [
    "\n",
    "model_path = 'student_before_pruning.pth'\n",
    "# Load the model weights\n",
    "student.load_state_dict(torch.load(model_path, map_location=torch.device('cpu')))"
   ]
  },
  {
   "cell_type": "code",
   "execution_count": 112,
   "metadata": {},
   "outputs": [
    {
     "name": "stdout",
     "output_type": "stream",
     "text": [
      "Calculating Important Scores\n",
      "Accumulation Epoch 1/3\n",
      "Accumulation Epoch 2/3\n",
      "Accumulation Epoch 3/3\n",
      "Total Time take to calculate Important scores: 2m 38s\n",
      "Pruning the model\n",
      "Total Time take to prune the model scores: 0m 0s\n"
     ]
    }
   ],
   "source": [
    "# Pruning\n",
    "print(\"Calculating Important Scores\")\n",
    "start_time = time.time()\n",
    "importance_scores = compute_gradient_importance(\n",
    "    teacher, student, train_loader, device, temperature=5.0, alpha=0.7, accumulation_epochs=3\n",
    ")\n",
    "total_time = time.time() - start_time\n",
    "print(f\"Total Time take to calculate Important scores: {total_time // 60:.0f}m {total_time % 60:.0f}s\")\n",
    "\n",
    "print(\"Pruning the model\")\n",
    "start_time = time.time()\n",
    "\n",
    "pruned_student = gradient_based_global_prune(student, importance_scores, prune_ratio=0.51)\n",
    "\n",
    "total_time = time.time() - start_time\n",
    "print(f\"Total Time take to prune the model scores: {total_time // 60:.0f}m {total_time % 60:.0f}s\")\n",
    "\n"
   ]
  },
  {
   "cell_type": "code",
   "execution_count": 113,
   "metadata": {},
   "outputs": [
    {
     "name": "stdout",
     "output_type": "stream",
     "text": [
      "Student Model Test Accuracy After Pruning: 71.26%\n"
     ]
    }
   ],
   "source": [
    "student_accuracy = evaluate(pruned_student, test_loader, device)\n",
    "print(f\"Student Model Test Accuracy After Pruning: {student_accuracy:.2f}%\")"
   ]
  },
  {
   "cell_type": "code",
   "execution_count": 114,
   "metadata": {},
   "outputs": [
    {
     "name": "stdout",
     "output_type": "stream",
     "text": [
      "New best model saved with Val Accuracy: 81.03%\n",
      "Epoch 1/200 | Train Loss: 0.1073 | Train Acc: 96.97%\n",
      "Validation Loss: 0.6556 | Validation Acc: 81.03% | Sparsity: 50.75%\n",
      "\n",
      "New best model saved with Val Accuracy: 81.41%\n",
      "Epoch 2/200 | Train Loss: 0.0475 | Train Acc: 99.02%\n",
      "Validation Loss: 0.6619 | Validation Acc: 81.41% | Sparsity: 50.75%\n",
      "\n",
      "Epoch 3/200 | Train Loss: 0.0217 | Train Acc: 99.84%\n",
      "Validation Loss: 0.6825 | Validation Acc: 81.26% | Sparsity: 50.75%\n",
      "\n",
      "New best model saved with Val Accuracy: 81.43%\n",
      "Epoch 4/200 | Train Loss: 0.0130 | Train Acc: 99.94%\n",
      "Validation Loss: 0.6862 | Validation Acc: 81.43% | Sparsity: 50.75%\n",
      "\n",
      "New best model saved with Val Accuracy: 81.55%\n",
      "Epoch 5/200 | Train Loss: 0.0091 | Train Acc: 99.96%\n",
      "Validation Loss: 0.6961 | Validation Acc: 81.55% | Sparsity: 50.75%\n",
      "\n",
      "Epoch 6/200 | Train Loss: 0.0069 | Train Acc: 99.97%\n",
      "Validation Loss: 0.7013 | Validation Acc: 81.42% | Sparsity: 50.75%\n",
      "\n",
      "Epoch 7/200 | Train Loss: 0.0056 | Train Acc: 99.97%\n",
      "Validation Loss: 0.7093 | Validation Acc: 81.27% | Sparsity: 50.75%\n",
      "\n",
      "Epoch 8/200 | Train Loss: 0.0050 | Train Acc: 99.97%\n",
      "Validation Loss: 0.7115 | Validation Acc: 81.27% | Sparsity: 50.75%\n",
      "\n",
      "Epoch 9/200 | Train Loss: 0.0042 | Train Acc: 99.97%\n",
      "Validation Loss: 0.7169 | Validation Acc: 81.26% | Sparsity: 50.75%\n",
      "\n",
      "Early stopping triggered at epoch 10. No improvement for 5 epochs.\n",
      "Best Validation Accuracy: 81.55% | Best Model Saved at: retrained_student_model_50%.pt\n",
      "Retraining completed in 6.27 minutes (376.09 seconds)\n"
     ]
    }
   ],
   "source": [
    "start_time = time.time()\n",
    "retrained_student = retrain_with_sparsity(\n",
    "    pruned_student, train_loader, val_loader,\n",
    "    epochs=200,  save_path='retrained_student_model_50%.pt',patience=5\n",
    ")\n",
    "end_time = time.time()\n",
    "elapsed_time = end_time - start_time\n",
    "\n",
    "print(f\"Retraining completed in {elapsed_time / 60:.2f} minutes ({elapsed_time:.2f} seconds)\")"
   ]
  },
  {
   "cell_type": "code",
   "execution_count": 115,
   "metadata": {},
   "outputs": [
    {
     "name": "stdout",
     "output_type": "stream",
     "text": [
      " Retrained Pruned Student Model Test Accuracy: 80.69%\n"
     ]
    }
   ],
   "source": [
    "student_accuracy = evaluate(pruned_student, test_loader, device)\n",
    "print(f\" Retrained Pruned Student Model Test Accuracy: {student_accuracy:.2f}%\")"
   ]
  },
  {
   "cell_type": "code",
   "execution_count": 116,
   "metadata": {},
   "outputs": [
    {
     "data": {
      "text/plain": [
       "<All keys matched successfully>"
      ]
     },
     "execution_count": 116,
     "metadata": {},
     "output_type": "execute_result"
    }
   ],
   "source": [
    "\n",
    "model_path = 'student_before_pruning.pth'\n",
    "# Load the model weights\n",
    "student.load_state_dict(torch.load(model_path, map_location=torch.device('cpu')))"
   ]
  },
  {
   "cell_type": "code",
   "execution_count": 117,
   "metadata": {},
   "outputs": [
    {
     "name": "stdout",
     "output_type": "stream",
     "text": [
      "Calculating Important Scores\n",
      "Accumulation Epoch 1/3\n",
      "Accumulation Epoch 2/3\n",
      "Accumulation Epoch 3/3\n",
      "Total Time take to calculate Important scores: 2m 37s\n",
      "Pruning the model\n",
      "Total Time take to prune the model scores: 0m 0s\n"
     ]
    }
   ],
   "source": [
    "# Pruning\n",
    "print(\"Calculating Important Scores\")\n",
    "start_time = time.time()\n",
    "importance_scores = compute_gradient_importance(\n",
    "    teacher, student, train_loader, device, temperature=5.0, alpha=0.7, accumulation_epochs=3\n",
    ")\n",
    "total_time = time.time() - start_time\n",
    "print(f\"Total Time take to calculate Important scores: {total_time // 60:.0f}m {total_time % 60:.0f}s\")\n",
    "\n",
    "print(\"Pruning the model\")\n",
    "start_time = time.time()\n",
    "\n",
    "pruned_student = gradient_based_global_prune(student, importance_scores, prune_ratio=0.51)\n",
    "\n",
    "total_time = time.time() - start_time\n",
    "print(f\"Total Time take to prune the model scores: {total_time // 60:.0f}m {total_time % 60:.0f}s\")\n",
    "\n"
   ]
  },
  {
   "cell_type": "code",
   "execution_count": 118,
   "metadata": {},
   "outputs": [
    {
     "name": "stdout",
     "output_type": "stream",
     "text": [
      "Epoch 1/50 | Train Loss: 0.6105 | Train Acc: 96.69% | Val Loss: 0.6596 | Val Acc: 81.30% | Sparsity: 50.75%\n",
      "Epoch 2/50 | Train Loss: 0.5517 | Train Acc: 96.22% | Val Loss: 0.6664 | Val Acc: 81.25% | Sparsity: 50.75%\n",
      "Epoch 3/50 | Train Loss: 0.5220 | Train Acc: 96.14% | Val Loss: 0.6545 | Val Acc: 81.71% | Sparsity: 50.75%\n",
      "Epoch 4/50 | Train Loss: 0.5009 | Train Acc: 96.13% | Val Loss: 0.6610 | Val Acc: 81.18% | Sparsity: 50.75%\n",
      "Epoch 5/50 | Train Loss: 0.4873 | Train Acc: 96.13% | Val Loss: 0.6548 | Val Acc: 81.77% | Sparsity: 50.75%\n",
      "Epoch 6/50 | Train Loss: 0.4668 | Train Acc: 96.20% | Val Loss: 0.6565 | Val Acc: 81.58% | Sparsity: 50.75%\n",
      "Epoch 7/50 | Train Loss: 0.4573 | Train Acc: 96.23% | Val Loss: 0.6532 | Val Acc: 81.57% | Sparsity: 50.75%\n",
      "Epoch 8/50 | Train Loss: 0.4471 | Train Acc: 96.17% | Val Loss: 0.6647 | Val Acc: 81.44% | Sparsity: 50.75%\n",
      "Epoch 9/50 | Train Loss: 0.4367 | Train Acc: 96.23% | Val Loss: 0.6541 | Val Acc: 81.37% | Sparsity: 50.75%\n",
      "Epoch 10/50 | Train Loss: 0.4240 | Train Acc: 96.22% | Val Loss: 0.6510 | Val Acc: 81.58% | Sparsity: 50.75%\n",
      "Early stopping triggered at epoch 10. No improvement for 5 epochs.\n",
      "Student model saved before pruning at: pruned_student_retrain_KD_90%.pth\n",
      "Total Training Time: 9m 45s\n",
      "Retraining completed in 9.75 minutes (584.98 seconds)\n"
     ]
    }
   ],
   "source": [
    "\n",
    "start_time = time.time()\n",
    "pruned_student = retrain_with_KD(\n",
    "    teacher, pruned_student, train_loader, val_loader,\n",
    "    epochs=50, temperature=5.0, alpha=0.7, beta_prob=0.5,patience=5,save_path=\"pruned_student_retrain_KD_90%.pth\"\n",
    ")\n",
    "end_time = time.time()\n",
    "elapsed_time = end_time - start_time\n",
    "\n",
    "print(f\"Retraining completed in {elapsed_time / 60:.2f} minutes ({elapsed_time:.2f} seconds)\")"
   ]
  },
  {
   "cell_type": "code",
   "execution_count": 119,
   "metadata": {},
   "outputs": [
    {
     "name": "stdout",
     "output_type": "stream",
     "text": [
      " Retrained Pruned Student Model Test Accuracy: 80.99%\n"
     ]
    }
   ],
   "source": [
    "student_accuracy = evaluate(pruned_student, test_loader, device)\n",
    "print(f\" Retrained Pruned Student Model Test Accuracy: {student_accuracy:.2f}%\")"
   ]
  },
  {
   "cell_type": "code",
   "execution_count": 120,
   "metadata": {},
   "outputs": [
    {
     "data": {
      "text/plain": [
       "<All keys matched successfully>"
      ]
     },
     "execution_count": 120,
     "metadata": {},
     "output_type": "execute_result"
    }
   ],
   "source": [
    "\n",
    "model_path = 'student_before_pruning.pth'\n",
    "# Load the model weights\n",
    "student.load_state_dict(torch.load(model_path, map_location=torch.device('cpu')))"
   ]
  },
  {
   "cell_type": "code",
   "execution_count": 121,
   "metadata": {},
   "outputs": [
    {
     "name": "stdout",
     "output_type": "stream",
     "text": [
      "Calculating Important Scores\n",
      "Accumulation Epoch 1/3\n",
      "Accumulation Epoch 2/3\n",
      "Accumulation Epoch 3/3\n",
      "Total Time take to calculate Important scores: 2m 33s\n",
      "Pruning the model\n",
      "Total Time take to prune the model scores: 0m 0s\n"
     ]
    }
   ],
   "source": [
    "# Pruning\n",
    "print(\"Calculating Important Scores\")\n",
    "start_time = time.time()\n",
    "importance_scores = compute_gradient_importance(\n",
    "    teacher, student, train_loader, device, temperature=3.0, alpha=0.7, accumulation_epochs=3\n",
    ")\n",
    "total_time = time.time() - start_time\n",
    "print(f\"Total Time take to calculate Important scores: {total_time // 60:.0f}m {total_time % 60:.0f}s\")\n",
    "\n",
    "print(\"Pruning the model\")\n",
    "start_time = time.time()\n",
    "\n",
    "pruned_student = gradient_based_global_prune(student, importance_scores, prune_ratio=0.51)\n",
    "\n",
    "total_time = time.time() - start_time\n",
    "print(f\"Total Time take to prune the model scores: {total_time // 60:.0f}m {total_time % 60:.0f}s\")\n",
    "\n"
   ]
  },
  {
   "cell_type": "code",
   "execution_count": 122,
   "metadata": {},
   "outputs": [
    {
     "name": "stdout",
     "output_type": "stream",
     "text": [
      "Epoch 1/50 | Train Loss: 0.2154 | Train Acc: 96.99% | Val Loss: 0.6328 | Val Acc: 82.10% | Sparsity: 50.75%\n",
      "Epoch 2/50 | Train Loss: 0.1839 | Train Acc: 97.30% | Val Loss: 0.6256 | Val Acc: 82.09% | Sparsity: 50.75%\n",
      "Epoch 3/50 | Train Loss: 0.1727 | Train Acc: 97.38% | Val Loss: 0.6269 | Val Acc: 82.09% | Sparsity: 50.75%\n",
      "Epoch 4/50 | Train Loss: 0.1663 | Train Acc: 97.51% | Val Loss: 0.6323 | Val Acc: 82.06% | Sparsity: 50.75%\n",
      "Epoch 5/50 | Train Loss: 0.1625 | Train Acc: 97.51% | Val Loss: 0.6283 | Val Acc: 82.18% | Sparsity: 50.75%\n",
      "Epoch 6/50 | Train Loss: 0.1593 | Train Acc: 97.50% | Val Loss: 0.6304 | Val Acc: 81.95% | Sparsity: 50.75%\n",
      "Epoch 7/50 | Train Loss: 0.1564 | Train Acc: 97.65% | Val Loss: 0.6323 | Val Acc: 82.17% | Sparsity: 50.75%\n",
      "Epoch 8/50 | Train Loss: 0.1546 | Train Acc: 97.63% | Val Loss: 0.6372 | Val Acc: 82.00% | Sparsity: 50.75%\n",
      "Epoch 9/50 | Train Loss: 0.1526 | Train Acc: 97.53% | Val Loss: 0.6365 | Val Acc: 82.15% | Sparsity: 50.75%\n",
      "Epoch 10/50 | Train Loss: 0.1501 | Train Acc: 97.66% | Val Loss: 0.6344 | Val Acc: 82.06% | Sparsity: 50.75%\n",
      "Early stopping triggered at epoch 10. No improvement for 5 epochs.\n",
      "Student model saved before pruning at: pruned_student_retrain_KD_90%.pth\n",
      "Total Training Time: 9m 29s\n",
      "Retraining completed in 9.48 minutes (569.00 seconds)\n"
     ]
    }
   ],
   "source": [
    "\n",
    "start_time = time.time()\n",
    "pruned_student = retrain_with_KD(\n",
    "    teacher, pruned_student, train_loader, val_loader,\n",
    "    epochs=50, temperature=3.0, alpha=0.7, beta_prob=0.5,patience=5,save_path=\"pruned_student_retrain_KD_90%.pth\"\n",
    ")\n",
    "end_time = time.time()\n",
    "elapsed_time = end_time - start_time\n",
    "\n",
    "print(f\"Retraining completed in {elapsed_time / 60:.2f} minutes ({elapsed_time:.2f} seconds)\")"
   ]
  },
  {
   "cell_type": "code",
   "execution_count": 123,
   "metadata": {},
   "outputs": [
    {
     "name": "stdout",
     "output_type": "stream",
     "text": [
      " Retrained Pruned Student Model Test Accuracy: 81.01%\n"
     ]
    }
   ],
   "source": [
    "student_accuracy = evaluate(pruned_student, test_loader, device)\n",
    "print(f\" Retrained Pruned Student Model Test Accuracy: {student_accuracy:.2f}%\")"
   ]
  },
  {
   "cell_type": "code",
   "execution_count": null,
   "metadata": {},
   "outputs": [],
   "source": []
  }
 ],
 "metadata": {
  "kaggle": {
   "accelerator": "gpu",
   "dataSources": [
    {
     "isSourceIdPinned": false,
     "modelId": 268576,
     "modelInstanceId": 247034,
     "sourceId": 288333,
     "sourceType": "modelInstanceVersion"
    }
   ],
   "dockerImageVersionId": 30919,
   "isGpuEnabled": true,
   "isInternetEnabled": true,
   "language": "python",
   "sourceType": "notebook"
  },
  "kernelspec": {
   "display_name": "Python 3 (ipykernel)",
   "language": "python",
   "name": "python3"
  },
  "language_info": {
   "codemirror_mode": {
    "name": "ipython",
    "version": 3
   },
   "file_extension": ".py",
   "mimetype": "text/x-python",
   "name": "python",
   "nbconvert_exporter": "python",
   "pygments_lexer": "ipython3",
   "version": "3.10.12"
  }
 },
 "nbformat": 4,
 "nbformat_minor": 4
}
